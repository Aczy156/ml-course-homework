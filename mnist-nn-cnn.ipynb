{
 "cells": [
  {
   "cell_type": "markdown",
   "metadata": {
    "papermill": {
     "duration": 0.046353,
     "end_time": "2020-12-02T06:24:16.026004",
     "exception": false,
     "start_time": "2020-12-02T06:24:15.979651",
     "status": "completed"
    },
    "tags": []
   },
   "source": [
    "## prework\n",
    "\n",
    "* import basic dependencies\n",
    "* load data\n",
    "* check data"
   ]
  },
  {
   "cell_type": "code",
   "execution_count": 1,
   "metadata": {
    "_cell_guid": "b1076dfc-b9ad-4769-8c92-a6c4dae69d19",
    "_uuid": "8f2839f25d086af736a60e9eeb907d3b93b6e0e5",
    "execution": {
     "iopub.execute_input": "2020-12-02T06:24:16.123794Z",
     "iopub.status.busy": "2020-12-02T06:24:16.122892Z",
     "iopub.status.idle": "2020-12-02T06:24:16.130400Z",
     "shell.execute_reply": "2020-12-02T06:24:16.129692Z"
    },
    "papermill": {
     "duration": 0.059892,
     "end_time": "2020-12-02T06:24:16.130525",
     "exception": false,
     "start_time": "2020-12-02T06:24:16.070633",
     "status": "completed"
    },
    "tags": []
   },
   "outputs": [
    {
     "name": "stdout",
     "output_type": "stream",
     "text": [
      "/kaggle/input/mnist-numpy/mnist.npz\n"
     ]
    }
   ],
   "source": [
    "# This Python 3 environment comes with many helpful analytics libraries installed\n",
    "# It is defined by the kaggle/python Docker image: https://github.com/kaggle/docker-python\n",
    "# For example, here's several helpful packages to load\n",
    "\n",
    "import numpy as np # linear algebra\n",
    "import pandas as pd # data processing, CSV file I/O (e.g. pd.read_csv)\n",
    "\n",
    "# Input data files are available in the read-only \"../input/\" directory\n",
    "# For example, running this (by clicking run or pressing Shift+Enter) will list all files under the input directory\n",
    "\n",
    "import os\n",
    "for dirname, _, filenames in os.walk('/kaggle/input'):\n",
    "    for filename in filenames:\n",
    "        print(os.path.join(dirname, filename))\n",
    "\n",
    "# You can write up to 20GB to the current directory (/kaggle/working/) that gets preserved as output when you create a version using \"Save & Run All\" \n",
    "# You can also write temporary files to /kaggle/temp/, but they won't be saved outside of the current session"
   ]
  },
  {
   "cell_type": "code",
   "execution_count": 2,
   "metadata": {
    "execution": {
     "iopub.execute_input": "2020-12-02T06:24:16.229622Z",
     "iopub.status.busy": "2020-12-02T06:24:16.228776Z",
     "iopub.status.idle": "2020-12-02T06:24:22.267566Z",
     "shell.execute_reply": "2020-12-02T06:24:22.266385Z"
    },
    "papermill": {
     "duration": 6.089874,
     "end_time": "2020-12-02T06:24:22.267703",
     "exception": false,
     "start_time": "2020-12-02T06:24:16.177829",
     "status": "completed"
    },
    "tags": []
   },
   "outputs": [
    {
     "name": "stdout",
     "output_type": "stream",
     "text": [
      "Downloading data from https://storage.googleapis.com/tensorflow/tf-keras-datasets/mnist.npz\n",
      "11493376/11490434 [==============================] - 0s 0us/step\n"
     ]
    }
   ],
   "source": [
    "from keras.datasets import mnist\n",
    "\n",
    "# load data\n",
    "(X_train, y_train), (X_test, y_test) = mnist.load_data()"
   ]
  },
  {
   "cell_type": "code",
   "execution_count": 3,
   "metadata": {
    "execution": {
     "iopub.execute_input": "2020-12-02T06:24:22.368558Z",
     "iopub.status.busy": "2020-12-02T06:24:22.367516Z",
     "iopub.status.idle": "2020-12-02T06:24:22.683610Z",
     "shell.execute_reply": "2020-12-02T06:24:22.682623Z"
    },
    "papermill": {
     "duration": 0.369221,
     "end_time": "2020-12-02T06:24:22.683760",
     "exception": false,
     "start_time": "2020-12-02T06:24:22.314539",
     "status": "completed"
    },
    "tags": []
   },
   "outputs": [],
   "source": [
    "path = '/kaggle/input/mnist-numpy/mnist.npz'\n",
    "f = np.load(path)\n",
    "train_images, train_labels = f['x_train'], f['y_train']\n",
    "test_images, test_labels = f['x_test'], f['y_test']\n",
    "f.close()"
   ]
  },
  {
   "cell_type": "markdown",
   "metadata": {
    "papermill": {
     "duration": 0.047118,
     "end_time": "2020-12-02T06:24:22.778181",
     "exception": false,
     "start_time": "2020-12-02T06:24:22.731063",
     "status": "completed"
    },
    "tags": []
   },
   "source": [
    "## Data Preprocessing\n",
    "\n",
    "* reshape\n",
    "* transform data type\n",
    "* normalization\n",
    "* label => one-hot encoding"
   ]
  },
  {
   "cell_type": "code",
   "execution_count": 4,
   "metadata": {
    "execution": {
     "iopub.execute_input": "2020-12-02T06:24:22.878467Z",
     "iopub.status.busy": "2020-12-02T06:24:22.877411Z",
     "iopub.status.idle": "2020-12-02T06:24:22.879360Z",
     "shell.execute_reply": "2020-12-02T06:24:22.879994Z"
    },
    "papermill": {
     "duration": 0.054799,
     "end_time": "2020-12-02T06:24:22.880147",
     "exception": false,
     "start_time": "2020-12-02T06:24:22.825348",
     "status": "completed"
    },
    "tags": []
   },
   "outputs": [],
   "source": [
    "from keras.utils import to_categorical"
   ]
  },
  {
   "cell_type": "code",
   "execution_count": 5,
   "metadata": {
    "execution": {
     "iopub.execute_input": "2020-12-02T06:24:22.987599Z",
     "iopub.status.busy": "2020-12-02T06:24:22.986585Z",
     "iopub.status.idle": "2020-12-02T06:24:22.994780Z",
     "shell.execute_reply": "2020-12-02T06:24:22.995923Z"
    },
    "papermill": {
     "duration": 0.068699,
     "end_time": "2020-12-02T06:24:22.996150",
     "exception": false,
     "start_time": "2020-12-02T06:24:22.927451",
     "status": "completed"
    },
    "tags": []
   },
   "outputs": [
    {
     "data": {
      "text/plain": [
       "((60000, 784), (10000, 784))"
      ]
     },
     "execution_count": 5,
     "metadata": {},
     "output_type": "execute_result"
    }
   ],
   "source": [
    "# reshape\n",
    "X_train = X_train.reshape([60000, 784])\n",
    "X_test = X_test.reshape([10000, 784])\n",
    "X_train.shape, X_test.shape"
   ]
  },
  {
   "cell_type": "code",
   "execution_count": 6,
   "metadata": {
    "execution": {
     "iopub.execute_input": "2020-12-02T06:24:23.101169Z",
     "iopub.status.busy": "2020-12-02T06:24:23.100050Z",
     "iopub.status.idle": "2020-12-02T06:24:23.161834Z",
     "shell.execute_reply": "2020-12-02T06:24:23.161185Z"
    },
    "papermill": {
     "duration": 0.115475,
     "end_time": "2020-12-02T06:24:23.161957",
     "exception": false,
     "start_time": "2020-12-02T06:24:23.046482",
     "status": "completed"
    },
    "tags": []
   },
   "outputs": [],
   "source": [
    "# transform np data type\n",
    "X_train = X_train.astype(np.float32)\n",
    "X_test = X_test.astype(np.float32)"
   ]
  },
  {
   "cell_type": "code",
   "execution_count": 7,
   "metadata": {
    "execution": {
     "iopub.execute_input": "2020-12-02T06:24:23.266159Z",
     "iopub.status.busy": "2020-12-02T06:24:23.264584Z",
     "iopub.status.idle": "2020-12-02T06:24:23.339300Z",
     "shell.execute_reply": "2020-12-02T06:24:23.340074Z"
    },
    "papermill": {
     "duration": 0.130154,
     "end_time": "2020-12-02T06:24:23.340267",
     "exception": false,
     "start_time": "2020-12-02T06:24:23.210113",
     "status": "completed"
    },
    "tags": []
   },
   "outputs": [
    {
     "name": "stdout",
     "output_type": "stream",
     "text": [
      "[[0. 0. 0. ... 0. 0. 0.]\n",
      " [0. 0. 0. ... 0. 0. 0.]\n",
      " [0. 0. 0. ... 0. 0. 0.]\n",
      " ...\n",
      " [0. 0. 0. ... 0. 0. 0.]\n",
      " [0. 0. 0. ... 0. 0. 0.]\n",
      " [0. 0. 0. ... 0. 0. 0.]]\n"
     ]
    }
   ],
   "source": [
    "# normalization\n",
    "X_train = X_train/255\n",
    "X_test = X_test/255\n",
    "print(X_train)"
   ]
  },
  {
   "cell_type": "code",
   "execution_count": 8,
   "metadata": {
    "execution": {
     "iopub.execute_input": "2020-12-02T06:24:23.444142Z",
     "iopub.status.busy": "2020-12-02T06:24:23.442996Z",
     "iopub.status.idle": "2020-12-02T06:24:23.448135Z",
     "shell.execute_reply": "2020-12-02T06:24:23.448632Z"
    },
    "papermill": {
     "duration": 0.059141,
     "end_time": "2020-12-02T06:24:23.448794",
     "exception": false,
     "start_time": "2020-12-02T06:24:23.389653",
     "status": "completed"
    },
    "tags": []
   },
   "outputs": [],
   "source": [
    "# one-hot encoding\n",
    "train_labels = to_categorical(y_train)\n",
    "test_labels = to_categorical(y_test)"
   ]
  },
  {
   "cell_type": "markdown",
   "metadata": {
    "papermill": {
     "duration": 0.048767,
     "end_time": "2020-12-02T06:24:23.546442",
     "exception": false,
     "start_time": "2020-12-02T06:24:23.497675",
     "status": "completed"
    },
    "tags": []
   },
   "source": [
    "## Model\n",
    "\n",
    "* build model\n",
    "* compile, summary\n",
    "* fit, evaluate\n",
    "\n",
    "</br></br>\n",
    "\n",
    "* advanced NN model"
   ]
  },
  {
   "cell_type": "code",
   "execution_count": 9,
   "metadata": {
    "execution": {
     "iopub.execute_input": "2020-12-02T06:24:23.650703Z",
     "iopub.status.busy": "2020-12-02T06:24:23.649732Z",
     "iopub.status.idle": "2020-12-02T06:24:23.653244Z",
     "shell.execute_reply": "2020-12-02T06:24:23.652666Z"
    },
    "papermill": {
     "duration": 0.057673,
     "end_time": "2020-12-02T06:24:23.653365",
     "exception": false,
     "start_time": "2020-12-02T06:24:23.595692",
     "status": "completed"
    },
    "tags": []
   },
   "outputs": [],
   "source": [
    "from keras.models import Sequential\n",
    "from keras.layers import Dense, Activation"
   ]
  },
  {
   "cell_type": "code",
   "execution_count": 10,
   "metadata": {
    "execution": {
     "iopub.execute_input": "2020-12-02T06:24:23.758083Z",
     "iopub.status.busy": "2020-12-02T06:24:23.757388Z",
     "iopub.status.idle": "2020-12-02T06:24:26.867074Z",
     "shell.execute_reply": "2020-12-02T06:24:26.866206Z"
    },
    "papermill": {
     "duration": 3.164463,
     "end_time": "2020-12-02T06:24:26.867224",
     "exception": false,
     "start_time": "2020-12-02T06:24:23.702761",
     "status": "completed"
    },
    "tags": []
   },
   "outputs": [],
   "source": [
    "# build simple model\n",
    "model = Sequential()\n",
    "model.add(Dense(10, input_shape=(28*28, )))\n",
    "model.add(Activation('softmax'))"
   ]
  },
  {
   "cell_type": "code",
   "execution_count": 11,
   "metadata": {
    "execution": {
     "iopub.execute_input": "2020-12-02T06:24:26.980686Z",
     "iopub.status.busy": "2020-12-02T06:24:26.979618Z",
     "iopub.status.idle": "2020-12-02T06:24:26.999545Z",
     "shell.execute_reply": "2020-12-02T06:24:27.000372Z"
    },
    "papermill": {
     "duration": 0.084389,
     "end_time": "2020-12-02T06:24:27.000561",
     "exception": false,
     "start_time": "2020-12-02T06:24:26.916172",
     "status": "completed"
    },
    "tags": []
   },
   "outputs": [
    {
     "name": "stdout",
     "output_type": "stream",
     "text": [
      "Model: \"sequential\"\n",
      "_________________________________________________________________\n",
      "Layer (type)                 Output Shape              Param #   \n",
      "=================================================================\n",
      "dense (Dense)                (None, 10)                7850      \n",
      "_________________________________________________________________\n",
      "activation (Activation)      (None, 10)                0         \n",
      "=================================================================\n",
      "Total params: 7,850\n",
      "Trainable params: 7,850\n",
      "Non-trainable params: 0\n",
      "_________________________________________________________________\n"
     ]
    }
   ],
   "source": [
    "# compile\n",
    "model.compile(optimizer='sgd', loss='categorical_crossentropy', metrics=['accuracy'])\n",
    "# summary\n",
    "model.summary()"
   ]
  },
  {
   "cell_type": "code",
   "execution_count": 12,
   "metadata": {
    "execution": {
     "iopub.execute_input": "2020-12-02T06:24:27.108205Z",
     "iopub.status.busy": "2020-12-02T06:24:27.107447Z",
     "iopub.status.idle": "2020-12-02T06:27:59.829928Z",
     "shell.execute_reply": "2020-12-02T06:27:59.829341Z"
    },
    "papermill": {
     "duration": 212.778502,
     "end_time": "2020-12-02T06:27:59.830091",
     "exception": false,
     "start_time": "2020-12-02T06:24:27.051589",
     "status": "completed"
    },
    "tags": []
   },
   "outputs": [
    {
     "name": "stdout",
     "output_type": "stream",
     "text": [
      "Epoch 1/200\n",
      "375/375 [==============================] - 1s 3ms/step - loss: 1.3710 - accuracy: 0.6764 - val_loss: 0.8889 - val_accuracy: 0.8283\n",
      "Epoch 2/200\n",
      "375/375 [==============================] - 1s 4ms/step - loss: 0.7865 - accuracy: 0.8300 - val_loss: 0.6536 - val_accuracy: 0.8618\n",
      "Epoch 3/200\n",
      "375/375 [==============================] - 1s 4ms/step - loss: 0.6391 - accuracy: 0.8510 - val_loss: 0.5591 - val_accuracy: 0.8733\n",
      "Epoch 4/200\n",
      "375/375 [==============================] - 1s 3ms/step - loss: 0.5676 - accuracy: 0.8618 - val_loss: 0.5068 - val_accuracy: 0.8798\n",
      "Epoch 5/200\n",
      "375/375 [==============================] - 1s 3ms/step - loss: 0.5241 - accuracy: 0.8676 - val_loss: 0.4730 - val_accuracy: 0.8849\n",
      "Epoch 6/200\n",
      "375/375 [==============================] - 1s 3ms/step - loss: 0.4943 - accuracy: 0.8728 - val_loss: 0.4490 - val_accuracy: 0.8879\n",
      "Epoch 7/200\n",
      "375/375 [==============================] - 1s 3ms/step - loss: 0.4722 - accuracy: 0.8767 - val_loss: 0.4314 - val_accuracy: 0.8892\n",
      "Epoch 8/200\n",
      "375/375 [==============================] - 1s 4ms/step - loss: 0.4550 - accuracy: 0.8804 - val_loss: 0.4171 - val_accuracy: 0.8938\n",
      "Epoch 9/200\n",
      "375/375 [==============================] - 1s 3ms/step - loss: 0.4412 - accuracy: 0.8825 - val_loss: 0.4057 - val_accuracy: 0.8960\n",
      "Epoch 10/200\n",
      "375/375 [==============================] - 1s 3ms/step - loss: 0.4298 - accuracy: 0.8849 - val_loss: 0.3963 - val_accuracy: 0.8978\n",
      "Epoch 11/200\n",
      "375/375 [==============================] - 1s 3ms/step - loss: 0.4201 - accuracy: 0.8869 - val_loss: 0.3883 - val_accuracy: 0.8992\n",
      "Epoch 12/200\n",
      "375/375 [==============================] - 2s 4ms/step - loss: 0.4119 - accuracy: 0.8885 - val_loss: 0.3814 - val_accuracy: 0.8992\n",
      "Epoch 13/200\n",
      "375/375 [==============================] - 1s 4ms/step - loss: 0.4046 - accuracy: 0.8899 - val_loss: 0.3753 - val_accuracy: 0.9008\n",
      "Epoch 14/200\n",
      "375/375 [==============================] - 1s 3ms/step - loss: 0.3981 - accuracy: 0.8911 - val_loss: 0.3700 - val_accuracy: 0.9022\n",
      "Epoch 15/200\n",
      "375/375 [==============================] - 1s 3ms/step - loss: 0.3925 - accuracy: 0.8922 - val_loss: 0.3652 - val_accuracy: 0.9028\n",
      "Epoch 16/200\n",
      "375/375 [==============================] - 1s 3ms/step - loss: 0.3874 - accuracy: 0.8933 - val_loss: 0.3611 - val_accuracy: 0.9038\n",
      "Epoch 17/200\n",
      "375/375 [==============================] - 1s 3ms/step - loss: 0.3827 - accuracy: 0.8947 - val_loss: 0.3572 - val_accuracy: 0.9037\n",
      "Epoch 18/200\n",
      "375/375 [==============================] - 1s 3ms/step - loss: 0.3785 - accuracy: 0.8955 - val_loss: 0.3537 - val_accuracy: 0.9042\n",
      "Epoch 19/200\n",
      "375/375 [==============================] - 1s 2ms/step - loss: 0.3746 - accuracy: 0.8967 - val_loss: 0.3506 - val_accuracy: 0.9053\n",
      "Epoch 20/200\n",
      "375/375 [==============================] - 1s 3ms/step - loss: 0.3710 - accuracy: 0.8974 - val_loss: 0.3475 - val_accuracy: 0.9059\n",
      "Epoch 21/200\n",
      "375/375 [==============================] - 1s 3ms/step - loss: 0.3678 - accuracy: 0.8982 - val_loss: 0.3449 - val_accuracy: 0.9069\n",
      "Epoch 22/200\n",
      "375/375 [==============================] - 1s 3ms/step - loss: 0.3647 - accuracy: 0.8990 - val_loss: 0.3424 - val_accuracy: 0.9066\n",
      "Epoch 23/200\n",
      "375/375 [==============================] - 1s 3ms/step - loss: 0.3618 - accuracy: 0.8997 - val_loss: 0.3400 - val_accuracy: 0.9072\n",
      "Epoch 24/200\n",
      "375/375 [==============================] - 1s 3ms/step - loss: 0.3591 - accuracy: 0.9001 - val_loss: 0.3379 - val_accuracy: 0.9075\n",
      "Epoch 25/200\n",
      "375/375 [==============================] - 1s 2ms/step - loss: 0.3567 - accuracy: 0.9009 - val_loss: 0.3358 - val_accuracy: 0.9085\n",
      "Epoch 26/200\n",
      "375/375 [==============================] - 1s 3ms/step - loss: 0.3543 - accuracy: 0.9017 - val_loss: 0.3339 - val_accuracy: 0.9087\n",
      "Epoch 27/200\n",
      "375/375 [==============================] - 1s 3ms/step - loss: 0.3521 - accuracy: 0.9022 - val_loss: 0.3321 - val_accuracy: 0.9096\n",
      "Epoch 28/200\n",
      "375/375 [==============================] - 1s 3ms/step - loss: 0.3499 - accuracy: 0.9025 - val_loss: 0.3303 - val_accuracy: 0.9098\n",
      "Epoch 29/200\n",
      "375/375 [==============================] - 1s 3ms/step - loss: 0.3480 - accuracy: 0.9036 - val_loss: 0.3287 - val_accuracy: 0.9106\n",
      "Epoch 30/200\n",
      "375/375 [==============================] - 1s 2ms/step - loss: 0.3461 - accuracy: 0.9037 - val_loss: 0.3271 - val_accuracy: 0.9110\n",
      "Epoch 31/200\n",
      "375/375 [==============================] - 1s 3ms/step - loss: 0.3443 - accuracy: 0.9044 - val_loss: 0.3257 - val_accuracy: 0.9116\n",
      "Epoch 32/200\n",
      "375/375 [==============================] - 1s 2ms/step - loss: 0.3425 - accuracy: 0.9046 - val_loss: 0.3243 - val_accuracy: 0.9118\n",
      "Epoch 33/200\n",
      "375/375 [==============================] - 1s 3ms/step - loss: 0.3409 - accuracy: 0.9057 - val_loss: 0.3230 - val_accuracy: 0.9122\n",
      "Epoch 34/200\n",
      "375/375 [==============================] - 1s 4ms/step - loss: 0.3393 - accuracy: 0.9059 - val_loss: 0.3217 - val_accuracy: 0.9118\n",
      "Epoch 35/200\n",
      "375/375 [==============================] - 1s 3ms/step - loss: 0.3379 - accuracy: 0.9065 - val_loss: 0.3205 - val_accuracy: 0.9122\n",
      "Epoch 36/200\n",
      "375/375 [==============================] - 1s 3ms/step - loss: 0.3364 - accuracy: 0.9068 - val_loss: 0.3194 - val_accuracy: 0.9128\n",
      "Epoch 37/200\n",
      "375/375 [==============================] - 1s 3ms/step - loss: 0.3350 - accuracy: 0.9069 - val_loss: 0.3183 - val_accuracy: 0.9135\n",
      "Epoch 38/200\n",
      "375/375 [==============================] - 1s 3ms/step - loss: 0.3337 - accuracy: 0.9078 - val_loss: 0.3172 - val_accuracy: 0.9132\n",
      "Epoch 39/200\n",
      "375/375 [==============================] - 1s 2ms/step - loss: 0.3324 - accuracy: 0.9079 - val_loss: 0.3163 - val_accuracy: 0.9128\n",
      "Epoch 40/200\n",
      "375/375 [==============================] - 1s 2ms/step - loss: 0.3312 - accuracy: 0.9083 - val_loss: 0.3152 - val_accuracy: 0.9131\n",
      "Epoch 41/200\n",
      "375/375 [==============================] - 1s 2ms/step - loss: 0.3301 - accuracy: 0.9087 - val_loss: 0.3143 - val_accuracy: 0.9134\n",
      "Epoch 42/200\n",
      "375/375 [==============================] - 1s 3ms/step - loss: 0.3289 - accuracy: 0.9091 - val_loss: 0.3135 - val_accuracy: 0.9136\n",
      "Epoch 43/200\n",
      "375/375 [==============================] - 1s 3ms/step - loss: 0.3278 - accuracy: 0.9095 - val_loss: 0.3126 - val_accuracy: 0.9141\n",
      "Epoch 44/200\n",
      "375/375 [==============================] - 1s 3ms/step - loss: 0.3267 - accuracy: 0.9095 - val_loss: 0.3117 - val_accuracy: 0.9137\n",
      "Epoch 45/200\n",
      "375/375 [==============================] - 1s 3ms/step - loss: 0.3257 - accuracy: 0.9099 - val_loss: 0.3109 - val_accuracy: 0.9141\n",
      "Epoch 46/200\n",
      "375/375 [==============================] - 1s 3ms/step - loss: 0.3247 - accuracy: 0.9101 - val_loss: 0.3101 - val_accuracy: 0.9147\n",
      "Epoch 47/200\n",
      "375/375 [==============================] - 1s 3ms/step - loss: 0.3237 - accuracy: 0.9106 - val_loss: 0.3095 - val_accuracy: 0.9143\n",
      "Epoch 48/200\n",
      "375/375 [==============================] - 1s 3ms/step - loss: 0.3228 - accuracy: 0.9106 - val_loss: 0.3087 - val_accuracy: 0.9143\n",
      "Epoch 49/200\n",
      "375/375 [==============================] - 1s 2ms/step - loss: 0.3219 - accuracy: 0.9107 - val_loss: 0.3080 - val_accuracy: 0.9148\n",
      "Epoch 50/200\n",
      "375/375 [==============================] - 1s 3ms/step - loss: 0.3211 - accuracy: 0.9108 - val_loss: 0.3072 - val_accuracy: 0.9149\n",
      "Epoch 51/200\n",
      "375/375 [==============================] - 1s 2ms/step - loss: 0.3202 - accuracy: 0.9108 - val_loss: 0.3065 - val_accuracy: 0.9154\n",
      "Epoch 52/200\n",
      "375/375 [==============================] - 1s 3ms/step - loss: 0.3194 - accuracy: 0.9112 - val_loss: 0.3059 - val_accuracy: 0.9158\n",
      "Epoch 53/200\n",
      "375/375 [==============================] - 1s 3ms/step - loss: 0.3186 - accuracy: 0.9114 - val_loss: 0.3053 - val_accuracy: 0.9153\n",
      "Epoch 54/200\n",
      "375/375 [==============================] - 1s 3ms/step - loss: 0.3178 - accuracy: 0.9118 - val_loss: 0.3047 - val_accuracy: 0.9153\n",
      "Epoch 55/200\n",
      "375/375 [==============================] - 1s 4ms/step - loss: 0.3170 - accuracy: 0.9119 - val_loss: 0.3041 - val_accuracy: 0.9157\n",
      "Epoch 56/200\n",
      "375/375 [==============================] - 1s 3ms/step - loss: 0.3163 - accuracy: 0.9121 - val_loss: 0.3036 - val_accuracy: 0.9158\n",
      "Epoch 57/200\n",
      "375/375 [==============================] - 1s 3ms/step - loss: 0.3155 - accuracy: 0.9121 - val_loss: 0.3030 - val_accuracy: 0.9161\n",
      "Epoch 58/200\n",
      "375/375 [==============================] - 1s 3ms/step - loss: 0.3149 - accuracy: 0.9123 - val_loss: 0.3025 - val_accuracy: 0.9161\n",
      "Epoch 59/200\n",
      "375/375 [==============================] - 1s 3ms/step - loss: 0.3142 - accuracy: 0.9128 - val_loss: 0.3020 - val_accuracy: 0.9163\n",
      "Epoch 60/200\n",
      "375/375 [==============================] - 1s 3ms/step - loss: 0.3135 - accuracy: 0.9130 - val_loss: 0.3014 - val_accuracy: 0.9166\n",
      "Epoch 61/200\n",
      "375/375 [==============================] - 1s 3ms/step - loss: 0.3129 - accuracy: 0.9129 - val_loss: 0.3009 - val_accuracy: 0.9162\n",
      "Epoch 62/200\n",
      "375/375 [==============================] - 1s 3ms/step - loss: 0.3122 - accuracy: 0.9134 - val_loss: 0.3003 - val_accuracy: 0.9164\n",
      "Epoch 63/200\n",
      "375/375 [==============================] - 1s 3ms/step - loss: 0.3116 - accuracy: 0.9137 - val_loss: 0.2999 - val_accuracy: 0.9166\n",
      "Epoch 64/200\n",
      "375/375 [==============================] - 1s 3ms/step - loss: 0.3109 - accuracy: 0.9135 - val_loss: 0.2994 - val_accuracy: 0.9167\n",
      "Epoch 65/200\n",
      "375/375 [==============================] - 1s 3ms/step - loss: 0.3104 - accuracy: 0.9138 - val_loss: 0.2990 - val_accuracy: 0.9165\n",
      "Epoch 66/200\n",
      "375/375 [==============================] - 3s 7ms/step - loss: 0.3098 - accuracy: 0.9141 - val_loss: 0.2985 - val_accuracy: 0.9167\n",
      "Epoch 67/200\n",
      "375/375 [==============================] - 1s 3ms/step - loss: 0.3092 - accuracy: 0.9143 - val_loss: 0.2982 - val_accuracy: 0.9172\n",
      "Epoch 68/200\n",
      "375/375 [==============================] - 1s 3ms/step - loss: 0.3087 - accuracy: 0.9143 - val_loss: 0.2977 - val_accuracy: 0.9170\n",
      "Epoch 69/200\n",
      "375/375 [==============================] - 1s 3ms/step - loss: 0.3081 - accuracy: 0.9146 - val_loss: 0.2973 - val_accuracy: 0.9173\n",
      "Epoch 70/200\n",
      "375/375 [==============================] - 1s 3ms/step - loss: 0.3076 - accuracy: 0.9146 - val_loss: 0.2969 - val_accuracy: 0.9176\n",
      "Epoch 71/200\n",
      "375/375 [==============================] - 1s 3ms/step - loss: 0.3071 - accuracy: 0.9149 - val_loss: 0.2966 - val_accuracy: 0.9174\n",
      "Epoch 72/200\n",
      "375/375 [==============================] - 1s 3ms/step - loss: 0.3066 - accuracy: 0.9149 - val_loss: 0.2961 - val_accuracy: 0.9174\n",
      "Epoch 73/200\n",
      "375/375 [==============================] - 1s 3ms/step - loss: 0.3061 - accuracy: 0.9151 - val_loss: 0.2957 - val_accuracy: 0.9176\n",
      "Epoch 74/200\n",
      "375/375 [==============================] - 1s 3ms/step - loss: 0.3056 - accuracy: 0.9151 - val_loss: 0.2954 - val_accuracy: 0.9181\n",
      "Epoch 75/200\n",
      "375/375 [==============================] - 1s 4ms/step - loss: 0.3051 - accuracy: 0.9151 - val_loss: 0.2949 - val_accuracy: 0.9183\n",
      "Epoch 76/200\n",
      "375/375 [==============================] - 1s 3ms/step - loss: 0.3046 - accuracy: 0.9153 - val_loss: 0.2947 - val_accuracy: 0.9177\n",
      "Epoch 77/200\n",
      "375/375 [==============================] - 1s 2ms/step - loss: 0.3041 - accuracy: 0.9154 - val_loss: 0.2943 - val_accuracy: 0.9180\n",
      "Epoch 78/200\n",
      "375/375 [==============================] - 1s 3ms/step - loss: 0.3037 - accuracy: 0.9158 - val_loss: 0.2939 - val_accuracy: 0.9187\n",
      "Epoch 79/200\n",
      "375/375 [==============================] - 1s 2ms/step - loss: 0.3032 - accuracy: 0.9155 - val_loss: 0.2936 - val_accuracy: 0.9185\n",
      "Epoch 80/200\n",
      "375/375 [==============================] - 1s 3ms/step - loss: 0.3028 - accuracy: 0.9159 - val_loss: 0.2933 - val_accuracy: 0.9182\n",
      "Epoch 81/200\n",
      "375/375 [==============================] - 1s 2ms/step - loss: 0.3024 - accuracy: 0.9161 - val_loss: 0.2929 - val_accuracy: 0.9181\n",
      "Epoch 82/200\n",
      "375/375 [==============================] - 1s 3ms/step - loss: 0.3019 - accuracy: 0.9160 - val_loss: 0.2927 - val_accuracy: 0.9189\n",
      "Epoch 83/200\n",
      "375/375 [==============================] - 1s 3ms/step - loss: 0.3015 - accuracy: 0.9163 - val_loss: 0.2925 - val_accuracy: 0.9189\n",
      "Epoch 84/200\n",
      "375/375 [==============================] - 1s 2ms/step - loss: 0.3011 - accuracy: 0.9164 - val_loss: 0.2921 - val_accuracy: 0.9187\n",
      "Epoch 85/200\n",
      "375/375 [==============================] - 1s 3ms/step - loss: 0.3007 - accuracy: 0.9164 - val_loss: 0.2918 - val_accuracy: 0.9193\n",
      "Epoch 86/200\n",
      "375/375 [==============================] - 1s 3ms/step - loss: 0.3003 - accuracy: 0.9167 - val_loss: 0.2915 - val_accuracy: 0.9187\n",
      "Epoch 87/200\n",
      "375/375 [==============================] - 1s 3ms/step - loss: 0.2999 - accuracy: 0.9167 - val_loss: 0.2912 - val_accuracy: 0.9188\n",
      "Epoch 88/200\n",
      "375/375 [==============================] - 1s 2ms/step - loss: 0.2995 - accuracy: 0.9167 - val_loss: 0.2909 - val_accuracy: 0.9189\n",
      "Epoch 89/200\n",
      "375/375 [==============================] - 1s 2ms/step - loss: 0.2991 - accuracy: 0.9169 - val_loss: 0.2907 - val_accuracy: 0.9190\n",
      "Epoch 90/200\n",
      "375/375 [==============================] - 1s 3ms/step - loss: 0.2988 - accuracy: 0.9168 - val_loss: 0.2905 - val_accuracy: 0.9194\n",
      "Epoch 91/200\n",
      "375/375 [==============================] - 1s 2ms/step - loss: 0.2984 - accuracy: 0.9169 - val_loss: 0.2901 - val_accuracy: 0.9195\n",
      "Epoch 92/200\n",
      "375/375 [==============================] - 1s 2ms/step - loss: 0.2981 - accuracy: 0.9171 - val_loss: 0.2899 - val_accuracy: 0.9194\n",
      "Epoch 93/200\n",
      "375/375 [==============================] - 1s 2ms/step - loss: 0.2977 - accuracy: 0.9171 - val_loss: 0.2897 - val_accuracy: 0.9193\n",
      "Epoch 94/200\n",
      "375/375 [==============================] - 1s 3ms/step - loss: 0.2974 - accuracy: 0.9171 - val_loss: 0.2893 - val_accuracy: 0.9198\n",
      "Epoch 95/200\n",
      "375/375 [==============================] - 1s 3ms/step - loss: 0.2970 - accuracy: 0.9171 - val_loss: 0.2892 - val_accuracy: 0.9200\n",
      "Epoch 96/200\n",
      "375/375 [==============================] - 1s 3ms/step - loss: 0.2967 - accuracy: 0.9173 - val_loss: 0.2890 - val_accuracy: 0.9202\n",
      "Epoch 97/200\n",
      "375/375 [==============================] - 2s 5ms/step - loss: 0.2963 - accuracy: 0.9175 - val_loss: 0.2887 - val_accuracy: 0.9197\n",
      "Epoch 98/200\n",
      "375/375 [==============================] - 1s 3ms/step - loss: 0.2960 - accuracy: 0.9175 - val_loss: 0.2885 - val_accuracy: 0.9201\n",
      "Epoch 99/200\n",
      "375/375 [==============================] - 1s 3ms/step - loss: 0.2957 - accuracy: 0.9176 - val_loss: 0.2881 - val_accuracy: 0.9202\n",
      "Epoch 100/200\n",
      "375/375 [==============================] - 1s 3ms/step - loss: 0.2954 - accuracy: 0.9176 - val_loss: 0.2879 - val_accuracy: 0.9202\n",
      "Epoch 101/200\n",
      "375/375 [==============================] - 1s 3ms/step - loss: 0.2951 - accuracy: 0.9178 - val_loss: 0.2877 - val_accuracy: 0.9202\n",
      "Epoch 102/200\n",
      "375/375 [==============================] - 1s 3ms/step - loss: 0.2948 - accuracy: 0.9177 - val_loss: 0.2876 - val_accuracy: 0.9204\n",
      "Epoch 103/200\n",
      "375/375 [==============================] - 1s 3ms/step - loss: 0.2944 - accuracy: 0.9183 - val_loss: 0.2873 - val_accuracy: 0.9203\n",
      "Epoch 104/200\n",
      "375/375 [==============================] - 1s 2ms/step - loss: 0.2942 - accuracy: 0.9181 - val_loss: 0.2870 - val_accuracy: 0.9203\n",
      "Epoch 105/200\n",
      "375/375 [==============================] - 1s 3ms/step - loss: 0.2938 - accuracy: 0.9181 - val_loss: 0.2869 - val_accuracy: 0.9205\n",
      "Epoch 106/200\n",
      "375/375 [==============================] - 1s 3ms/step - loss: 0.2936 - accuracy: 0.9184 - val_loss: 0.2866 - val_accuracy: 0.9205\n",
      "Epoch 107/200\n",
      "375/375 [==============================] - 1s 3ms/step - loss: 0.2933 - accuracy: 0.9183 - val_loss: 0.2865 - val_accuracy: 0.9202\n",
      "Epoch 108/200\n",
      "375/375 [==============================] - 1s 3ms/step - loss: 0.2930 - accuracy: 0.9189 - val_loss: 0.2862 - val_accuracy: 0.9207\n",
      "Epoch 109/200\n",
      "375/375 [==============================] - 1s 3ms/step - loss: 0.2927 - accuracy: 0.9185 - val_loss: 0.2861 - val_accuracy: 0.9211\n",
      "Epoch 110/200\n",
      "375/375 [==============================] - 1s 3ms/step - loss: 0.2924 - accuracy: 0.9187 - val_loss: 0.2859 - val_accuracy: 0.9210\n",
      "Epoch 111/200\n",
      "375/375 [==============================] - 1s 2ms/step - loss: 0.2922 - accuracy: 0.9187 - val_loss: 0.2856 - val_accuracy: 0.9208\n",
      "Epoch 112/200\n",
      "375/375 [==============================] - 1s 2ms/step - loss: 0.2919 - accuracy: 0.9187 - val_loss: 0.2855 - val_accuracy: 0.9208\n",
      "Epoch 113/200\n",
      "375/375 [==============================] - 1s 2ms/step - loss: 0.2916 - accuracy: 0.9186 - val_loss: 0.2853 - val_accuracy: 0.9211\n",
      "Epoch 114/200\n",
      "375/375 [==============================] - 1s 3ms/step - loss: 0.2913 - accuracy: 0.9191 - val_loss: 0.2852 - val_accuracy: 0.9213\n",
      "Epoch 115/200\n",
      "375/375 [==============================] - 1s 3ms/step - loss: 0.2911 - accuracy: 0.9190 - val_loss: 0.2849 - val_accuracy: 0.9210\n",
      "Epoch 116/200\n",
      "375/375 [==============================] - 1s 3ms/step - loss: 0.2908 - accuracy: 0.9190 - val_loss: 0.2848 - val_accuracy: 0.9212\n",
      "Epoch 117/200\n",
      "375/375 [==============================] - 1s 3ms/step - loss: 0.2906 - accuracy: 0.9191 - val_loss: 0.2846 - val_accuracy: 0.9210\n",
      "Epoch 118/200\n",
      "375/375 [==============================] - 2s 5ms/step - loss: 0.2903 - accuracy: 0.9192 - val_loss: 0.2844 - val_accuracy: 0.9212\n",
      "Epoch 119/200\n",
      "375/375 [==============================] - 1s 3ms/step - loss: 0.2901 - accuracy: 0.9193 - val_loss: 0.2842 - val_accuracy: 0.9214\n",
      "Epoch 120/200\n",
      "375/375 [==============================] - 1s 3ms/step - loss: 0.2898 - accuracy: 0.9195 - val_loss: 0.2841 - val_accuracy: 0.9216\n",
      "Epoch 121/200\n",
      "375/375 [==============================] - 1s 3ms/step - loss: 0.2896 - accuracy: 0.9195 - val_loss: 0.2839 - val_accuracy: 0.9215\n",
      "Epoch 122/200\n",
      "375/375 [==============================] - 1s 4ms/step - loss: 0.2893 - accuracy: 0.9193 - val_loss: 0.2837 - val_accuracy: 0.9214\n",
      "Epoch 123/200\n",
      "375/375 [==============================] - 1s 3ms/step - loss: 0.2891 - accuracy: 0.9196 - val_loss: 0.2836 - val_accuracy: 0.9210\n",
      "Epoch 124/200\n",
      "375/375 [==============================] - 1s 3ms/step - loss: 0.2888 - accuracy: 0.9194 - val_loss: 0.2835 - val_accuracy: 0.9219\n",
      "Epoch 125/200\n",
      "375/375 [==============================] - 1s 3ms/step - loss: 0.2886 - accuracy: 0.9194 - val_loss: 0.2832 - val_accuracy: 0.9218\n",
      "Epoch 126/200\n",
      "375/375 [==============================] - 1s 3ms/step - loss: 0.2884 - accuracy: 0.9195 - val_loss: 0.2831 - val_accuracy: 0.9222\n",
      "Epoch 127/200\n",
      "375/375 [==============================] - 2s 4ms/step - loss: 0.2881 - accuracy: 0.9196 - val_loss: 0.2830 - val_accuracy: 0.9222\n",
      "Epoch 128/200\n",
      "375/375 [==============================] - 1s 3ms/step - loss: 0.2879 - accuracy: 0.9200 - val_loss: 0.2829 - val_accuracy: 0.9217\n",
      "Epoch 129/200\n",
      "375/375 [==============================] - 1s 3ms/step - loss: 0.2877 - accuracy: 0.9198 - val_loss: 0.2827 - val_accuracy: 0.9217\n",
      "Epoch 130/200\n",
      "375/375 [==============================] - 1s 3ms/step - loss: 0.2875 - accuracy: 0.9199 - val_loss: 0.2825 - val_accuracy: 0.9222\n",
      "Epoch 131/200\n",
      "375/375 [==============================] - 1s 3ms/step - loss: 0.2873 - accuracy: 0.9200 - val_loss: 0.2824 - val_accuracy: 0.9222\n",
      "Epoch 132/200\n",
      "375/375 [==============================] - 1s 3ms/step - loss: 0.2871 - accuracy: 0.9203 - val_loss: 0.2822 - val_accuracy: 0.9223\n",
      "Epoch 133/200\n",
      "375/375 [==============================] - 1s 3ms/step - loss: 0.2868 - accuracy: 0.9204 - val_loss: 0.2821 - val_accuracy: 0.9223\n",
      "Epoch 134/200\n",
      "375/375 [==============================] - 1s 3ms/step - loss: 0.2866 - accuracy: 0.9202 - val_loss: 0.2819 - val_accuracy: 0.9219\n",
      "Epoch 135/200\n",
      "375/375 [==============================] - 1s 3ms/step - loss: 0.2865 - accuracy: 0.9202 - val_loss: 0.2818 - val_accuracy: 0.9224\n",
      "Epoch 136/200\n",
      "375/375 [==============================] - 1s 3ms/step - loss: 0.2862 - accuracy: 0.9204 - val_loss: 0.2817 - val_accuracy: 0.9226\n",
      "Epoch 137/200\n",
      "375/375 [==============================] - 1s 3ms/step - loss: 0.2860 - accuracy: 0.9205 - val_loss: 0.2816 - val_accuracy: 0.9226\n",
      "Epoch 138/200\n",
      "375/375 [==============================] - 1s 3ms/step - loss: 0.2858 - accuracy: 0.9206 - val_loss: 0.2815 - val_accuracy: 0.9221\n",
      "Epoch 139/200\n",
      "375/375 [==============================] - 1s 3ms/step - loss: 0.2856 - accuracy: 0.9205 - val_loss: 0.2812 - val_accuracy: 0.9223\n",
      "Epoch 140/200\n",
      "375/375 [==============================] - 1s 2ms/step - loss: 0.2854 - accuracy: 0.9205 - val_loss: 0.2811 - val_accuracy: 0.9223\n",
      "Epoch 141/200\n",
      "375/375 [==============================] - 1s 3ms/step - loss: 0.2852 - accuracy: 0.9205 - val_loss: 0.2810 - val_accuracy: 0.9222\n",
      "Epoch 142/200\n",
      "375/375 [==============================] - 1s 3ms/step - loss: 0.2850 - accuracy: 0.9209 - val_loss: 0.2809 - val_accuracy: 0.9227\n",
      "Epoch 143/200\n",
      "375/375 [==============================] - 1s 3ms/step - loss: 0.2848 - accuracy: 0.9209 - val_loss: 0.2809 - val_accuracy: 0.9229\n",
      "Epoch 144/200\n",
      "375/375 [==============================] - 1s 3ms/step - loss: 0.2847 - accuracy: 0.9206 - val_loss: 0.2807 - val_accuracy: 0.9225\n",
      "Epoch 145/200\n",
      "375/375 [==============================] - 1s 3ms/step - loss: 0.2845 - accuracy: 0.9205 - val_loss: 0.2806 - val_accuracy: 0.9226\n",
      "Epoch 146/200\n",
      "375/375 [==============================] - 1s 3ms/step - loss: 0.2843 - accuracy: 0.9210 - val_loss: 0.2804 - val_accuracy: 0.9222\n",
      "Epoch 147/200\n",
      "375/375 [==============================] - 1s 3ms/step - loss: 0.2841 - accuracy: 0.9208 - val_loss: 0.2803 - val_accuracy: 0.9231\n",
      "Epoch 148/200\n",
      "375/375 [==============================] - 2s 4ms/step - loss: 0.2839 - accuracy: 0.9209 - val_loss: 0.2803 - val_accuracy: 0.9224\n",
      "Epoch 149/200\n",
      "375/375 [==============================] - 1s 3ms/step - loss: 0.2837 - accuracy: 0.9209 - val_loss: 0.2800 - val_accuracy: 0.9229\n",
      "Epoch 150/200\n",
      "375/375 [==============================] - 1s 2ms/step - loss: 0.2836 - accuracy: 0.9210 - val_loss: 0.2799 - val_accuracy: 0.9227\n",
      "Epoch 151/200\n",
      "375/375 [==============================] - 1s 3ms/step - loss: 0.2834 - accuracy: 0.9211 - val_loss: 0.2798 - val_accuracy: 0.9228\n",
      "Epoch 152/200\n",
      "375/375 [==============================] - 1s 3ms/step - loss: 0.2831 - accuracy: 0.9209 - val_loss: 0.2798 - val_accuracy: 0.9224\n",
      "Epoch 153/200\n",
      "375/375 [==============================] - 1s 2ms/step - loss: 0.2830 - accuracy: 0.9214 - val_loss: 0.2796 - val_accuracy: 0.9231\n",
      "Epoch 154/200\n",
      "375/375 [==============================] - 1s 3ms/step - loss: 0.2828 - accuracy: 0.9214 - val_loss: 0.2795 - val_accuracy: 0.9230\n",
      "Epoch 155/200\n",
      "375/375 [==============================] - 1s 3ms/step - loss: 0.2827 - accuracy: 0.9214 - val_loss: 0.2794 - val_accuracy: 0.9231\n",
      "Epoch 156/200\n",
      "375/375 [==============================] - 1s 3ms/step - loss: 0.2825 - accuracy: 0.9213 - val_loss: 0.2793 - val_accuracy: 0.9222\n",
      "Epoch 157/200\n",
      "375/375 [==============================] - 1s 3ms/step - loss: 0.2823 - accuracy: 0.9212 - val_loss: 0.2792 - val_accuracy: 0.9229\n",
      "Epoch 158/200\n",
      "375/375 [==============================] - 1s 3ms/step - loss: 0.2821 - accuracy: 0.9215 - val_loss: 0.2791 - val_accuracy: 0.9231\n",
      "Epoch 159/200\n",
      "375/375 [==============================] - 2s 4ms/step - loss: 0.2820 - accuracy: 0.9217 - val_loss: 0.2790 - val_accuracy: 0.9227\n",
      "Epoch 160/200\n",
      "375/375 [==============================] - 1s 3ms/step - loss: 0.2818 - accuracy: 0.9215 - val_loss: 0.2789 - val_accuracy: 0.9229\n",
      "Epoch 161/200\n",
      "375/375 [==============================] - 1s 2ms/step - loss: 0.2816 - accuracy: 0.9217 - val_loss: 0.2788 - val_accuracy: 0.9227\n",
      "Epoch 162/200\n",
      "375/375 [==============================] - 1s 2ms/step - loss: 0.2815 - accuracy: 0.9217 - val_loss: 0.2786 - val_accuracy: 0.9232\n",
      "Epoch 163/200\n",
      "375/375 [==============================] - 1s 3ms/step - loss: 0.2813 - accuracy: 0.9218 - val_loss: 0.2785 - val_accuracy: 0.9230\n",
      "Epoch 164/200\n",
      "375/375 [==============================] - 1s 2ms/step - loss: 0.2812 - accuracy: 0.9218 - val_loss: 0.2784 - val_accuracy: 0.9233\n",
      "Epoch 165/200\n",
      "375/375 [==============================] - 1s 3ms/step - loss: 0.2810 - accuracy: 0.9220 - val_loss: 0.2784 - val_accuracy: 0.9227\n",
      "Epoch 166/200\n",
      "375/375 [==============================] - 1s 3ms/step - loss: 0.2809 - accuracy: 0.9221 - val_loss: 0.2783 - val_accuracy: 0.9231\n",
      "Epoch 167/200\n",
      "375/375 [==============================] - 1s 3ms/step - loss: 0.2807 - accuracy: 0.9219 - val_loss: 0.2781 - val_accuracy: 0.9232\n",
      "Epoch 168/200\n",
      "375/375 [==============================] - 1s 2ms/step - loss: 0.2806 - accuracy: 0.9218 - val_loss: 0.2781 - val_accuracy: 0.9229\n",
      "Epoch 169/200\n",
      "375/375 [==============================] - 1s 3ms/step - loss: 0.2804 - accuracy: 0.9220 - val_loss: 0.2780 - val_accuracy: 0.9228\n",
      "Epoch 170/200\n",
      "375/375 [==============================] - 1s 3ms/step - loss: 0.2803 - accuracy: 0.9219 - val_loss: 0.2779 - val_accuracy: 0.9227\n",
      "Epoch 171/200\n",
      "375/375 [==============================] - 1s 3ms/step - loss: 0.2801 - accuracy: 0.9219 - val_loss: 0.2779 - val_accuracy: 0.9231\n",
      "Epoch 172/200\n",
      "375/375 [==============================] - 1s 3ms/step - loss: 0.2800 - accuracy: 0.9221 - val_loss: 0.2777 - val_accuracy: 0.9231\n",
      "Epoch 173/200\n",
      "375/375 [==============================] - 1s 2ms/step - loss: 0.2798 - accuracy: 0.9219 - val_loss: 0.2776 - val_accuracy: 0.9232\n",
      "Epoch 174/200\n",
      "375/375 [==============================] - 1s 3ms/step - loss: 0.2796 - accuracy: 0.9218 - val_loss: 0.2776 - val_accuracy: 0.9232\n",
      "Epoch 175/200\n",
      "375/375 [==============================] - 1s 3ms/step - loss: 0.2795 - accuracy: 0.9219 - val_loss: 0.2774 - val_accuracy: 0.9233\n",
      "Epoch 176/200\n",
      "375/375 [==============================] - 1s 2ms/step - loss: 0.2794 - accuracy: 0.9223 - val_loss: 0.2774 - val_accuracy: 0.9229\n",
      "Epoch 177/200\n",
      "375/375 [==============================] - 1s 3ms/step - loss: 0.2792 - accuracy: 0.9220 - val_loss: 0.2772 - val_accuracy: 0.9233\n",
      "Epoch 178/200\n",
      "375/375 [==============================] - 1s 2ms/step - loss: 0.2791 - accuracy: 0.9222 - val_loss: 0.2772 - val_accuracy: 0.9232\n",
      "Epoch 179/200\n",
      "375/375 [==============================] - 1s 3ms/step - loss: 0.2789 - accuracy: 0.9224 - val_loss: 0.2770 - val_accuracy: 0.9232\n",
      "Epoch 180/200\n",
      "375/375 [==============================] - 2s 6ms/step - loss: 0.2788 - accuracy: 0.9222 - val_loss: 0.2770 - val_accuracy: 0.9233\n",
      "Epoch 181/200\n",
      "375/375 [==============================] - 1s 4ms/step - loss: 0.2786 - accuracy: 0.9222 - val_loss: 0.2769 - val_accuracy: 0.9235\n",
      "Epoch 182/200\n",
      "375/375 [==============================] - 1s 3ms/step - loss: 0.2786 - accuracy: 0.9224 - val_loss: 0.2768 - val_accuracy: 0.9233\n",
      "Epoch 183/200\n",
      "375/375 [==============================] - 1s 3ms/step - loss: 0.2784 - accuracy: 0.9222 - val_loss: 0.2767 - val_accuracy: 0.9236\n",
      "Epoch 184/200\n",
      "375/375 [==============================] - 1s 3ms/step - loss: 0.2783 - accuracy: 0.9224 - val_loss: 0.2766 - val_accuracy: 0.9233\n",
      "Epoch 185/200\n",
      "375/375 [==============================] - 1s 3ms/step - loss: 0.2781 - accuracy: 0.9225 - val_loss: 0.2766 - val_accuracy: 0.9233\n",
      "Epoch 186/200\n",
      "375/375 [==============================] - 1s 3ms/step - loss: 0.2780 - accuracy: 0.9224 - val_loss: 0.2765 - val_accuracy: 0.9230\n",
      "Epoch 187/200\n",
      "375/375 [==============================] - 1s 3ms/step - loss: 0.2779 - accuracy: 0.9222 - val_loss: 0.2764 - val_accuracy: 0.9227\n",
      "Epoch 188/200\n",
      "375/375 [==============================] - 1s 3ms/step - loss: 0.2777 - accuracy: 0.9227 - val_loss: 0.2764 - val_accuracy: 0.9236\n",
      "Epoch 189/200\n",
      "375/375 [==============================] - 2s 5ms/step - loss: 0.2776 - accuracy: 0.9224 - val_loss: 0.2763 - val_accuracy: 0.9231\n",
      "Epoch 190/200\n",
      "375/375 [==============================] - 1s 3ms/step - loss: 0.2774 - accuracy: 0.9223 - val_loss: 0.2763 - val_accuracy: 0.9236\n",
      "Epoch 191/200\n",
      "375/375 [==============================] - 1s 2ms/step - loss: 0.2774 - accuracy: 0.9227 - val_loss: 0.2760 - val_accuracy: 0.9232\n",
      "Epoch 192/200\n",
      "375/375 [==============================] - 1s 3ms/step - loss: 0.2772 - accuracy: 0.9226 - val_loss: 0.2760 - val_accuracy: 0.9232\n",
      "Epoch 193/200\n",
      "375/375 [==============================] - 1s 3ms/step - loss: 0.2771 - accuracy: 0.9225 - val_loss: 0.2760 - val_accuracy: 0.9235\n",
      "Epoch 194/200\n",
      "375/375 [==============================] - 1s 3ms/step - loss: 0.2769 - accuracy: 0.9226 - val_loss: 0.2760 - val_accuracy: 0.9233\n",
      "Epoch 195/200\n",
      "375/375 [==============================] - 1s 3ms/step - loss: 0.2768 - accuracy: 0.9226 - val_loss: 0.2758 - val_accuracy: 0.9233\n",
      "Epoch 196/200\n",
      "375/375 [==============================] - 1s 3ms/step - loss: 0.2767 - accuracy: 0.9226 - val_loss: 0.2757 - val_accuracy: 0.9231\n",
      "Epoch 197/200\n",
      "375/375 [==============================] - 1s 3ms/step - loss: 0.2766 - accuracy: 0.9227 - val_loss: 0.2757 - val_accuracy: 0.9231\n",
      "Epoch 198/200\n",
      "375/375 [==============================] - 1s 3ms/step - loss: 0.2764 - accuracy: 0.9228 - val_loss: 0.2756 - val_accuracy: 0.9235\n",
      "Epoch 199/200\n",
      "375/375 [==============================] - 1s 3ms/step - loss: 0.2763 - accuracy: 0.9227 - val_loss: 0.2755 - val_accuracy: 0.9233\n",
      "Epoch 200/200\n",
      "375/375 [==============================] - 1s 3ms/step - loss: 0.2762 - accuracy: 0.9227 - val_loss: 0.2754 - val_accuracy: 0.9233\n"
     ]
    },
    {
     "data": {
      "text/plain": [
       "<tensorflow.python.keras.callbacks.History at 0x7f2bac63b150>"
      ]
     },
     "execution_count": 12,
     "metadata": {},
     "output_type": "execute_result"
    }
   ],
   "source": [
    "# fit\n",
    "model.fit(X_train, train_labels, epochs=200, batch_size=128, verbose=True, validation_split=0.2)"
   ]
  },
  {
   "cell_type": "code",
   "execution_count": 13,
   "metadata": {
    "execution": {
     "iopub.execute_input": "2020-12-02T06:28:02.764805Z",
     "iopub.status.busy": "2020-12-02T06:28:02.763716Z",
     "iopub.status.idle": "2020-12-02T06:28:03.479305Z",
     "shell.execute_reply": "2020-12-02T06:28:03.480338Z"
    },
    "papermill": {
     "duration": 2.165415,
     "end_time": "2020-12-02T06:28:03.480514",
     "exception": false,
     "start_time": "2020-12-02T06:28:01.315099",
     "status": "completed"
    },
    "tags": []
   },
   "outputs": [
    {
     "name": "stdout",
     "output_type": "stream",
     "text": [
      "313/313 [==============================] - 1s 2ms/step - loss: 0.2774 - accuracy: 0.9226\n",
      "test_loss 0.2774392068386078 \n",
      " test_acc 0.9225999712944031\n"
     ]
    }
   ],
   "source": [
    "# evaluate\n",
    "test_loss, test_acc = model.evaluate(X_test, test_labels, verbose=True)\n",
    "print('test_loss', test_loss, '\\n', 'test_acc', test_acc)"
   ]
  },
  {
   "cell_type": "code",
   "execution_count": 14,
   "metadata": {
    "execution": {
     "iopub.execute_input": "2020-12-02T06:28:06.379466Z",
     "iopub.status.busy": "2020-12-02T06:28:06.378376Z",
     "iopub.status.idle": "2020-12-02T06:28:06.410208Z",
     "shell.execute_reply": "2020-12-02T06:28:06.408769Z"
    },
    "papermill": {
     "duration": 1.475654,
     "end_time": "2020-12-02T06:28:06.410333",
     "exception": false,
     "start_time": "2020-12-02T06:28:04.934679",
     "status": "completed"
    },
    "tags": []
   },
   "outputs": [],
   "source": [
    "# advanced NN model\n",
    "model = Sequential()\n",
    "model.add(Dense(128, input_shape=(28*28, ),activation='relu'))\n",
    "model.add(Dense(128, activation='relu'))\n",
    "model.add(Dense(10, activation='softmax'))"
   ]
  },
  {
   "cell_type": "code",
   "execution_count": 15,
   "metadata": {
    "execution": {
     "iopub.execute_input": "2020-12-02T06:28:09.326352Z",
     "iopub.status.busy": "2020-12-02T06:28:09.325287Z",
     "iopub.status.idle": "2020-12-02T06:28:09.343290Z",
     "shell.execute_reply": "2020-12-02T06:28:09.342714Z"
    },
    "papermill": {
     "duration": 1.466627,
     "end_time": "2020-12-02T06:28:09.343413",
     "exception": false,
     "start_time": "2020-12-02T06:28:07.876786",
     "status": "completed"
    },
    "tags": []
   },
   "outputs": [
    {
     "name": "stdout",
     "output_type": "stream",
     "text": [
      "Model: \"sequential_1\"\n",
      "_________________________________________________________________\n",
      "Layer (type)                 Output Shape              Param #   \n",
      "=================================================================\n",
      "dense_1 (Dense)              (None, 128)               100480    \n",
      "_________________________________________________________________\n",
      "dense_2 (Dense)              (None, 128)               16512     \n",
      "_________________________________________________________________\n",
      "dense_3 (Dense)              (None, 10)                1290      \n",
      "=================================================================\n",
      "Total params: 118,282\n",
      "Trainable params: 118,282\n",
      "Non-trainable params: 0\n",
      "_________________________________________________________________\n"
     ]
    }
   ],
   "source": [
    "# compile\n",
    "model.compile(optimizer='sgd', loss='categorical_crossentropy', metrics=['accuracy'])\n",
    "# summary\n",
    "model.summary()"
   ]
  },
  {
   "cell_type": "code",
   "execution_count": 16,
   "metadata": {
    "execution": {
     "iopub.execute_input": "2020-12-02T06:28:12.542420Z",
     "iopub.status.busy": "2020-12-02T06:28:12.541180Z",
     "iopub.status.idle": "2020-12-02T06:32:01.942205Z",
     "shell.execute_reply": "2020-12-02T06:32:01.941626Z"
    },
    "papermill": {
     "duration": 230.889675,
     "end_time": "2020-12-02T06:32:01.942332",
     "exception": false,
     "start_time": "2020-12-02T06:28:11.052657",
     "status": "completed"
    },
    "tags": []
   },
   "outputs": [
    {
     "name": "stdout",
     "output_type": "stream",
     "text": [
      "Epoch 1/200\n",
      "375/375 [==============================] - 1s 3ms/step - loss: 1.4314 - accuracy: 0.6388 - val_loss: 0.7210 - val_accuracy: 0.8337\n",
      "Epoch 2/200\n",
      "375/375 [==============================] - 1s 3ms/step - loss: 0.5834 - accuracy: 0.8517 - val_loss: 0.4526 - val_accuracy: 0.8838\n",
      "Epoch 3/200\n",
      "375/375 [==============================] - 1s 3ms/step - loss: 0.4326 - accuracy: 0.8847 - val_loss: 0.3728 - val_accuracy: 0.8977\n",
      "Epoch 4/200\n",
      "375/375 [==============================] - 1s 3ms/step - loss: 0.3721 - accuracy: 0.8985 - val_loss: 0.3333 - val_accuracy: 0.9069\n",
      "Epoch 5/200\n",
      "375/375 [==============================] - 1s 3ms/step - loss: 0.3375 - accuracy: 0.9062 - val_loss: 0.3087 - val_accuracy: 0.9128\n",
      "Epoch 6/200\n",
      "375/375 [==============================] - 1s 3ms/step - loss: 0.3134 - accuracy: 0.9124 - val_loss: 0.2891 - val_accuracy: 0.9186\n",
      "Epoch 7/200\n",
      "375/375 [==============================] - 1s 3ms/step - loss: 0.2945 - accuracy: 0.9165 - val_loss: 0.2748 - val_accuracy: 0.9220\n",
      "Epoch 8/200\n",
      "375/375 [==============================] - 2s 5ms/step - loss: 0.2789 - accuracy: 0.9205 - val_loss: 0.2633 - val_accuracy: 0.9253\n",
      "Epoch 9/200\n",
      "375/375 [==============================] - 1s 3ms/step - loss: 0.2657 - accuracy: 0.9247 - val_loss: 0.2521 - val_accuracy: 0.9277\n",
      "Epoch 10/200\n",
      "375/375 [==============================] - 1s 3ms/step - loss: 0.2544 - accuracy: 0.9278 - val_loss: 0.2423 - val_accuracy: 0.9305\n",
      "Epoch 11/200\n",
      "375/375 [==============================] - 1s 3ms/step - loss: 0.2442 - accuracy: 0.9310 - val_loss: 0.2351 - val_accuracy: 0.9334\n",
      "Epoch 12/200\n",
      "375/375 [==============================] - 1s 3ms/step - loss: 0.2352 - accuracy: 0.9330 - val_loss: 0.2271 - val_accuracy: 0.9361\n",
      "Epoch 13/200\n",
      "375/375 [==============================] - 1s 3ms/step - loss: 0.2267 - accuracy: 0.9354 - val_loss: 0.2195 - val_accuracy: 0.9386\n",
      "Epoch 14/200\n",
      "375/375 [==============================] - 1s 3ms/step - loss: 0.2191 - accuracy: 0.9377 - val_loss: 0.2136 - val_accuracy: 0.9408\n",
      "Epoch 15/200\n",
      "375/375 [==============================] - 1s 3ms/step - loss: 0.2121 - accuracy: 0.9400 - val_loss: 0.2075 - val_accuracy: 0.9418\n",
      "Epoch 16/200\n",
      "375/375 [==============================] - 1s 3ms/step - loss: 0.2054 - accuracy: 0.9416 - val_loss: 0.2024 - val_accuracy: 0.9432\n",
      "Epoch 17/200\n",
      "375/375 [==============================] - 1s 3ms/step - loss: 0.1993 - accuracy: 0.9431 - val_loss: 0.1978 - val_accuracy: 0.9452\n",
      "Epoch 18/200\n",
      "375/375 [==============================] - 1s 4ms/step - loss: 0.1935 - accuracy: 0.9446 - val_loss: 0.1930 - val_accuracy: 0.9470\n",
      "Epoch 19/200\n",
      "375/375 [==============================] - 1s 3ms/step - loss: 0.1881 - accuracy: 0.9459 - val_loss: 0.1890 - val_accuracy: 0.9487\n",
      "Epoch 20/200\n",
      "375/375 [==============================] - 1s 3ms/step - loss: 0.1829 - accuracy: 0.9476 - val_loss: 0.1860 - val_accuracy: 0.9482\n",
      "Epoch 21/200\n",
      "375/375 [==============================] - 1s 3ms/step - loss: 0.1780 - accuracy: 0.9484 - val_loss: 0.1806 - val_accuracy: 0.9502\n",
      "Epoch 22/200\n",
      "375/375 [==============================] - 2s 4ms/step - loss: 0.1733 - accuracy: 0.9501 - val_loss: 0.1772 - val_accuracy: 0.9506\n",
      "Epoch 23/200\n",
      "375/375 [==============================] - 1s 3ms/step - loss: 0.1690 - accuracy: 0.9514 - val_loss: 0.1739 - val_accuracy: 0.9517\n",
      "Epoch 24/200\n",
      "375/375 [==============================] - 1s 3ms/step - loss: 0.1647 - accuracy: 0.9524 - val_loss: 0.1706 - val_accuracy: 0.9528\n",
      "Epoch 25/200\n",
      "375/375 [==============================] - 1s 3ms/step - loss: 0.1606 - accuracy: 0.9531 - val_loss: 0.1679 - val_accuracy: 0.9536\n",
      "Epoch 26/200\n",
      "375/375 [==============================] - 1s 3ms/step - loss: 0.1567 - accuracy: 0.9546 - val_loss: 0.1659 - val_accuracy: 0.9530\n",
      "Epoch 27/200\n",
      "375/375 [==============================] - 1s 4ms/step - loss: 0.1532 - accuracy: 0.9555 - val_loss: 0.1624 - val_accuracy: 0.9543\n",
      "Epoch 28/200\n",
      "375/375 [==============================] - 2s 4ms/step - loss: 0.1498 - accuracy: 0.9565 - val_loss: 0.1607 - val_accuracy: 0.9542\n",
      "Epoch 29/200\n",
      "375/375 [==============================] - 1s 3ms/step - loss: 0.1467 - accuracy: 0.9572 - val_loss: 0.1569 - val_accuracy: 0.9550\n",
      "Epoch 30/200\n",
      "375/375 [==============================] - 1s 3ms/step - loss: 0.1434 - accuracy: 0.9582 - val_loss: 0.1542 - val_accuracy: 0.9570\n",
      "Epoch 31/200\n",
      "375/375 [==============================] - 1s 3ms/step - loss: 0.1402 - accuracy: 0.9592 - val_loss: 0.1530 - val_accuracy: 0.9563\n",
      "Epoch 32/200\n",
      "375/375 [==============================] - 1s 3ms/step - loss: 0.1373 - accuracy: 0.9601 - val_loss: 0.1504 - val_accuracy: 0.9572\n",
      "Epoch 33/200\n",
      "375/375 [==============================] - 1s 3ms/step - loss: 0.1347 - accuracy: 0.9609 - val_loss: 0.1480 - val_accuracy: 0.9582\n",
      "Epoch 34/200\n",
      "375/375 [==============================] - 1s 3ms/step - loss: 0.1319 - accuracy: 0.9619 - val_loss: 0.1460 - val_accuracy: 0.9585\n",
      "Epoch 35/200\n",
      "375/375 [==============================] - 1s 3ms/step - loss: 0.1293 - accuracy: 0.9622 - val_loss: 0.1446 - val_accuracy: 0.9594\n",
      "Epoch 36/200\n",
      "375/375 [==============================] - 2s 5ms/step - loss: 0.1264 - accuracy: 0.9636 - val_loss: 0.1441 - val_accuracy: 0.9593\n",
      "Epoch 37/200\n",
      "375/375 [==============================] - 1s 3ms/step - loss: 0.1243 - accuracy: 0.9643 - val_loss: 0.1405 - val_accuracy: 0.9609\n",
      "Epoch 38/200\n",
      "375/375 [==============================] - 1s 3ms/step - loss: 0.1218 - accuracy: 0.9654 - val_loss: 0.1400 - val_accuracy: 0.9597\n",
      "Epoch 39/200\n",
      "375/375 [==============================] - 1s 3ms/step - loss: 0.1196 - accuracy: 0.9657 - val_loss: 0.1381 - val_accuracy: 0.9610\n",
      "Epoch 40/200\n",
      "375/375 [==============================] - 1s 3ms/step - loss: 0.1174 - accuracy: 0.9667 - val_loss: 0.1374 - val_accuracy: 0.9613\n",
      "Epoch 41/200\n",
      "375/375 [==============================] - 1s 3ms/step - loss: 0.1152 - accuracy: 0.9666 - val_loss: 0.1353 - val_accuracy: 0.9622\n",
      "Epoch 42/200\n",
      "375/375 [==============================] - 1s 3ms/step - loss: 0.1133 - accuracy: 0.9676 - val_loss: 0.1340 - val_accuracy: 0.9617\n",
      "Epoch 43/200\n",
      "375/375 [==============================] - 1s 3ms/step - loss: 0.1113 - accuracy: 0.9684 - val_loss: 0.1322 - val_accuracy: 0.9625\n",
      "Epoch 44/200\n",
      "375/375 [==============================] - 1s 3ms/step - loss: 0.1093 - accuracy: 0.9689 - val_loss: 0.1309 - val_accuracy: 0.9632\n",
      "Epoch 45/200\n",
      "375/375 [==============================] - 1s 3ms/step - loss: 0.1073 - accuracy: 0.9699 - val_loss: 0.1294 - val_accuracy: 0.9636\n",
      "Epoch 46/200\n",
      "375/375 [==============================] - 1s 4ms/step - loss: 0.1056 - accuracy: 0.9701 - val_loss: 0.1290 - val_accuracy: 0.9641\n",
      "Epoch 47/200\n",
      "375/375 [==============================] - 1s 3ms/step - loss: 0.1037 - accuracy: 0.9709 - val_loss: 0.1266 - val_accuracy: 0.9647\n",
      "Epoch 48/200\n",
      "375/375 [==============================] - 1s 3ms/step - loss: 0.1020 - accuracy: 0.9711 - val_loss: 0.1259 - val_accuracy: 0.9644\n",
      "Epoch 49/200\n",
      "375/375 [==============================] - 1s 3ms/step - loss: 0.1004 - accuracy: 0.9719 - val_loss: 0.1253 - val_accuracy: 0.9647\n",
      "Epoch 50/200\n",
      "375/375 [==============================] - 1s 3ms/step - loss: 0.0988 - accuracy: 0.9723 - val_loss: 0.1243 - val_accuracy: 0.9638\n",
      "Epoch 51/200\n",
      "375/375 [==============================] - 1s 3ms/step - loss: 0.0971 - accuracy: 0.9729 - val_loss: 0.1228 - val_accuracy: 0.9661\n",
      "Epoch 52/200\n",
      "375/375 [==============================] - 1s 3ms/step - loss: 0.0956 - accuracy: 0.9736 - val_loss: 0.1222 - val_accuracy: 0.9658\n",
      "Epoch 53/200\n",
      "375/375 [==============================] - 1s 3ms/step - loss: 0.0941 - accuracy: 0.9737 - val_loss: 0.1216 - val_accuracy: 0.9659\n",
      "Epoch 54/200\n",
      "375/375 [==============================] - 1s 3ms/step - loss: 0.0924 - accuracy: 0.9742 - val_loss: 0.1194 - val_accuracy: 0.9664\n",
      "Epoch 55/200\n",
      "375/375 [==============================] - 1s 3ms/step - loss: 0.0912 - accuracy: 0.9744 - val_loss: 0.1190 - val_accuracy: 0.9664\n",
      "Epoch 56/200\n",
      "375/375 [==============================] - 1s 3ms/step - loss: 0.0898 - accuracy: 0.9752 - val_loss: 0.1182 - val_accuracy: 0.9668\n",
      "Epoch 57/200\n",
      "375/375 [==============================] - 1s 3ms/step - loss: 0.0884 - accuracy: 0.9755 - val_loss: 0.1174 - val_accuracy: 0.9677\n",
      "Epoch 58/200\n",
      "375/375 [==============================] - 1s 4ms/step - loss: 0.0869 - accuracy: 0.9759 - val_loss: 0.1171 - val_accuracy: 0.9670\n",
      "Epoch 59/200\n",
      "375/375 [==============================] - 1s 4ms/step - loss: 0.0858 - accuracy: 0.9761 - val_loss: 0.1154 - val_accuracy: 0.9672\n",
      "Epoch 60/200\n",
      "375/375 [==============================] - 1s 3ms/step - loss: 0.0845 - accuracy: 0.9766 - val_loss: 0.1142 - val_accuracy: 0.9669\n",
      "Epoch 61/200\n",
      "375/375 [==============================] - 1s 3ms/step - loss: 0.0831 - accuracy: 0.9770 - val_loss: 0.1150 - val_accuracy: 0.9670\n",
      "Epoch 62/200\n",
      "375/375 [==============================] - 1s 3ms/step - loss: 0.0821 - accuracy: 0.9773 - val_loss: 0.1139 - val_accuracy: 0.9675\n",
      "Epoch 63/200\n",
      "375/375 [==============================] - 1s 3ms/step - loss: 0.0810 - accuracy: 0.9776 - val_loss: 0.1131 - val_accuracy: 0.9677\n",
      "Epoch 64/200\n",
      "375/375 [==============================] - 1s 3ms/step - loss: 0.0796 - accuracy: 0.9779 - val_loss: 0.1121 - val_accuracy: 0.9677\n",
      "Epoch 65/200\n",
      "375/375 [==============================] - 1s 4ms/step - loss: 0.0785 - accuracy: 0.9783 - val_loss: 0.1113 - val_accuracy: 0.9680\n",
      "Epoch 66/200\n",
      "375/375 [==============================] - 1s 4ms/step - loss: 0.0772 - accuracy: 0.9783 - val_loss: 0.1111 - val_accuracy: 0.9674\n",
      "Epoch 67/200\n",
      "375/375 [==============================] - 1s 3ms/step - loss: 0.0763 - accuracy: 0.9792 - val_loss: 0.1106 - val_accuracy: 0.9685\n",
      "Epoch 68/200\n",
      "375/375 [==============================] - 1s 3ms/step - loss: 0.0753 - accuracy: 0.9793 - val_loss: 0.1096 - val_accuracy: 0.9683\n",
      "Epoch 69/200\n",
      "375/375 [==============================] - 1s 3ms/step - loss: 0.0743 - accuracy: 0.9794 - val_loss: 0.1093 - val_accuracy: 0.9685\n",
      "Epoch 70/200\n",
      "375/375 [==============================] - 1s 3ms/step - loss: 0.0732 - accuracy: 0.9797 - val_loss: 0.1084 - val_accuracy: 0.9685\n",
      "Epoch 71/200\n",
      "375/375 [==============================] - 1s 3ms/step - loss: 0.0722 - accuracy: 0.9805 - val_loss: 0.1080 - val_accuracy: 0.9683\n",
      "Epoch 72/200\n",
      "375/375 [==============================] - 1s 3ms/step - loss: 0.0712 - accuracy: 0.9803 - val_loss: 0.1075 - val_accuracy: 0.9685\n",
      "Epoch 73/200\n",
      "375/375 [==============================] - 1s 3ms/step - loss: 0.0703 - accuracy: 0.9805 - val_loss: 0.1064 - val_accuracy: 0.9685\n",
      "Epoch 74/200\n",
      "375/375 [==============================] - 1s 4ms/step - loss: 0.0693 - accuracy: 0.9808 - val_loss: 0.1069 - val_accuracy: 0.9684\n",
      "Epoch 75/200\n",
      "375/375 [==============================] - 1s 4ms/step - loss: 0.0683 - accuracy: 0.9812 - val_loss: 0.1064 - val_accuracy: 0.9689\n",
      "Epoch 76/200\n",
      "375/375 [==============================] - 1s 4ms/step - loss: 0.0674 - accuracy: 0.9816 - val_loss: 0.1061 - val_accuracy: 0.9692\n",
      "Epoch 77/200\n",
      "375/375 [==============================] - 1s 3ms/step - loss: 0.0665 - accuracy: 0.9817 - val_loss: 0.1050 - val_accuracy: 0.9687\n",
      "Epoch 78/200\n",
      "375/375 [==============================] - 1s 3ms/step - loss: 0.0656 - accuracy: 0.9821 - val_loss: 0.1038 - val_accuracy: 0.9691\n",
      "Epoch 79/200\n",
      "375/375 [==============================] - 1s 3ms/step - loss: 0.0648 - accuracy: 0.9820 - val_loss: 0.1034 - val_accuracy: 0.9695\n",
      "Epoch 80/200\n",
      "375/375 [==============================] - 1s 3ms/step - loss: 0.0638 - accuracy: 0.9826 - val_loss: 0.1033 - val_accuracy: 0.9693\n",
      "Epoch 81/200\n",
      "375/375 [==============================] - 1s 3ms/step - loss: 0.0631 - accuracy: 0.9826 - val_loss: 0.1028 - val_accuracy: 0.9697\n",
      "Epoch 82/200\n",
      "375/375 [==============================] - 1s 3ms/step - loss: 0.0623 - accuracy: 0.9830 - val_loss: 0.1025 - val_accuracy: 0.9697\n",
      "Epoch 83/200\n",
      "375/375 [==============================] - 1s 3ms/step - loss: 0.0614 - accuracy: 0.9833 - val_loss: 0.1024 - val_accuracy: 0.9690\n",
      "Epoch 84/200\n",
      "375/375 [==============================] - 1s 3ms/step - loss: 0.0606 - accuracy: 0.9836 - val_loss: 0.1019 - val_accuracy: 0.9692\n",
      "Epoch 85/200\n",
      "375/375 [==============================] - 1s 3ms/step - loss: 0.0599 - accuracy: 0.9839 - val_loss: 0.1016 - val_accuracy: 0.9691\n",
      "Epoch 86/200\n",
      "375/375 [==============================] - 1s 3ms/step - loss: 0.0591 - accuracy: 0.9839 - val_loss: 0.1010 - val_accuracy: 0.9694\n",
      "Epoch 87/200\n",
      "375/375 [==============================] - 1s 3ms/step - loss: 0.0584 - accuracy: 0.9843 - val_loss: 0.1007 - val_accuracy: 0.9697\n",
      "Epoch 88/200\n",
      "375/375 [==============================] - 1s 4ms/step - loss: 0.0576 - accuracy: 0.9844 - val_loss: 0.1011 - val_accuracy: 0.9696\n",
      "Epoch 89/200\n",
      "375/375 [==============================] - 1s 4ms/step - loss: 0.0569 - accuracy: 0.9848 - val_loss: 0.0996 - val_accuracy: 0.9699\n",
      "Epoch 90/200\n",
      "375/375 [==============================] - 1s 3ms/step - loss: 0.0562 - accuracy: 0.9849 - val_loss: 0.0996 - val_accuracy: 0.9696\n",
      "Epoch 91/200\n",
      "375/375 [==============================] - 1s 3ms/step - loss: 0.0555 - accuracy: 0.9852 - val_loss: 0.0991 - val_accuracy: 0.9698\n",
      "Epoch 92/200\n",
      "375/375 [==============================] - 1s 3ms/step - loss: 0.0547 - accuracy: 0.9854 - val_loss: 0.0998 - val_accuracy: 0.9701\n",
      "Epoch 93/200\n",
      "375/375 [==============================] - 1s 3ms/step - loss: 0.0542 - accuracy: 0.9855 - val_loss: 0.0987 - val_accuracy: 0.9697\n",
      "Epoch 94/200\n",
      "375/375 [==============================] - 2s 5ms/step - loss: 0.0535 - accuracy: 0.9856 - val_loss: 0.0986 - val_accuracy: 0.9703\n",
      "Epoch 95/200\n",
      "375/375 [==============================] - 1s 3ms/step - loss: 0.0528 - accuracy: 0.9859 - val_loss: 0.0981 - val_accuracy: 0.9698\n",
      "Epoch 96/200\n",
      "375/375 [==============================] - 1s 3ms/step - loss: 0.0522 - accuracy: 0.9862 - val_loss: 0.0979 - val_accuracy: 0.9707\n",
      "Epoch 97/200\n",
      "375/375 [==============================] - 1s 3ms/step - loss: 0.0515 - accuracy: 0.9864 - val_loss: 0.0975 - val_accuracy: 0.9707\n",
      "Epoch 98/200\n",
      "375/375 [==============================] - 1s 3ms/step - loss: 0.0509 - accuracy: 0.9867 - val_loss: 0.0974 - val_accuracy: 0.9712\n",
      "Epoch 99/200\n",
      "375/375 [==============================] - 1s 3ms/step - loss: 0.0503 - accuracy: 0.9868 - val_loss: 0.0974 - val_accuracy: 0.9707\n",
      "Epoch 100/200\n",
      "375/375 [==============================] - 1s 3ms/step - loss: 0.0497 - accuracy: 0.9869 - val_loss: 0.0973 - val_accuracy: 0.9707\n",
      "Epoch 101/200\n",
      "375/375 [==============================] - 1s 3ms/step - loss: 0.0491 - accuracy: 0.9874 - val_loss: 0.0966 - val_accuracy: 0.9712\n",
      "Epoch 102/200\n",
      "375/375 [==============================] - 1s 3ms/step - loss: 0.0484 - accuracy: 0.9874 - val_loss: 0.0966 - val_accuracy: 0.9707\n",
      "Epoch 103/200\n",
      "375/375 [==============================] - 1s 3ms/step - loss: 0.0479 - accuracy: 0.9879 - val_loss: 0.0956 - val_accuracy: 0.9710\n",
      "Epoch 104/200\n",
      "375/375 [==============================] - 1s 3ms/step - loss: 0.0473 - accuracy: 0.9877 - val_loss: 0.0957 - val_accuracy: 0.9711\n",
      "Epoch 105/200\n",
      "375/375 [==============================] - 1s 3ms/step - loss: 0.0467 - accuracy: 0.9880 - val_loss: 0.0955 - val_accuracy: 0.9715\n",
      "Epoch 106/200\n",
      "375/375 [==============================] - 1s 3ms/step - loss: 0.0461 - accuracy: 0.9881 - val_loss: 0.0953 - val_accuracy: 0.9711\n",
      "Epoch 107/200\n",
      "375/375 [==============================] - 1s 3ms/step - loss: 0.0455 - accuracy: 0.9884 - val_loss: 0.0953 - val_accuracy: 0.9708\n",
      "Epoch 108/200\n",
      "375/375 [==============================] - 1s 3ms/step - loss: 0.0451 - accuracy: 0.9883 - val_loss: 0.0950 - val_accuracy: 0.9714\n",
      "Epoch 109/200\n",
      "375/375 [==============================] - 1s 3ms/step - loss: 0.0446 - accuracy: 0.9886 - val_loss: 0.0948 - val_accuracy: 0.9713\n",
      "Epoch 110/200\n",
      "375/375 [==============================] - 1s 3ms/step - loss: 0.0439 - accuracy: 0.9889 - val_loss: 0.0957 - val_accuracy: 0.9711\n",
      "Epoch 111/200\n",
      "375/375 [==============================] - 1s 3ms/step - loss: 0.0433 - accuracy: 0.9892 - val_loss: 0.0948 - val_accuracy: 0.9710\n",
      "Epoch 112/200\n",
      "375/375 [==============================] - 1s 3ms/step - loss: 0.0428 - accuracy: 0.9890 - val_loss: 0.0939 - val_accuracy: 0.9720\n",
      "Epoch 113/200\n",
      "375/375 [==============================] - 1s 3ms/step - loss: 0.0424 - accuracy: 0.9894 - val_loss: 0.0942 - val_accuracy: 0.9712\n",
      "Epoch 114/200\n",
      "375/375 [==============================] - 1s 3ms/step - loss: 0.0418 - accuracy: 0.9896 - val_loss: 0.0936 - val_accuracy: 0.9717\n",
      "Epoch 115/200\n",
      "375/375 [==============================] - 1s 4ms/step - loss: 0.0413 - accuracy: 0.9894 - val_loss: 0.0935 - val_accuracy: 0.9718\n",
      "Epoch 116/200\n",
      "375/375 [==============================] - 1s 3ms/step - loss: 0.0407 - accuracy: 0.9901 - val_loss: 0.0934 - val_accuracy: 0.9712\n",
      "Epoch 117/200\n",
      "375/375 [==============================] - 1s 3ms/step - loss: 0.0404 - accuracy: 0.9899 - val_loss: 0.0932 - val_accuracy: 0.9718\n",
      "Epoch 118/200\n",
      "375/375 [==============================] - 1s 4ms/step - loss: 0.0399 - accuracy: 0.9902 - val_loss: 0.0941 - val_accuracy: 0.9725\n",
      "Epoch 119/200\n",
      "375/375 [==============================] - 1s 4ms/step - loss: 0.0394 - accuracy: 0.9902 - val_loss: 0.0924 - val_accuracy: 0.9728\n",
      "Epoch 120/200\n",
      "375/375 [==============================] - 1s 4ms/step - loss: 0.0388 - accuracy: 0.9907 - val_loss: 0.0927 - val_accuracy: 0.9723\n",
      "Epoch 121/200\n",
      "375/375 [==============================] - 1s 3ms/step - loss: 0.0385 - accuracy: 0.9908 - val_loss: 0.0928 - val_accuracy: 0.9722\n",
      "Epoch 122/200\n",
      "375/375 [==============================] - 1s 3ms/step - loss: 0.0380 - accuracy: 0.9910 - val_loss: 0.0925 - val_accuracy: 0.9728\n",
      "Epoch 123/200\n",
      "375/375 [==============================] - 1s 3ms/step - loss: 0.0376 - accuracy: 0.9910 - val_loss: 0.0920 - val_accuracy: 0.9726\n",
      "Epoch 124/200\n",
      "375/375 [==============================] - 2s 4ms/step - loss: 0.0371 - accuracy: 0.9911 - val_loss: 0.0932 - val_accuracy: 0.9731\n",
      "Epoch 125/200\n",
      "375/375 [==============================] - 1s 3ms/step - loss: 0.0366 - accuracy: 0.9911 - val_loss: 0.0920 - val_accuracy: 0.9721\n",
      "Epoch 126/200\n",
      "375/375 [==============================] - 1s 4ms/step - loss: 0.0361 - accuracy: 0.9914 - val_loss: 0.0924 - val_accuracy: 0.9722\n",
      "Epoch 127/200\n",
      "375/375 [==============================] - 1s 4ms/step - loss: 0.0357 - accuracy: 0.9917 - val_loss: 0.0920 - val_accuracy: 0.9724\n",
      "Epoch 128/200\n",
      "375/375 [==============================] - 1s 3ms/step - loss: 0.0355 - accuracy: 0.9918 - val_loss: 0.0920 - val_accuracy: 0.9726\n",
      "Epoch 129/200\n",
      "375/375 [==============================] - 1s 3ms/step - loss: 0.0350 - accuracy: 0.9916 - val_loss: 0.0915 - val_accuracy: 0.9732\n",
      "Epoch 130/200\n",
      "375/375 [==============================] - 1s 3ms/step - loss: 0.0346 - accuracy: 0.9922 - val_loss: 0.0919 - val_accuracy: 0.9728\n",
      "Epoch 131/200\n",
      "375/375 [==============================] - 1s 3ms/step - loss: 0.0342 - accuracy: 0.9920 - val_loss: 0.0917 - val_accuracy: 0.9723\n",
      "Epoch 132/200\n",
      "375/375 [==============================] - 1s 3ms/step - loss: 0.0338 - accuracy: 0.9921 - val_loss: 0.0917 - val_accuracy: 0.9730\n",
      "Epoch 133/200\n",
      "375/375 [==============================] - 1s 3ms/step - loss: 0.0334 - accuracy: 0.9923 - val_loss: 0.0916 - val_accuracy: 0.9732\n",
      "Epoch 134/200\n",
      "375/375 [==============================] - 1s 3ms/step - loss: 0.0330 - accuracy: 0.9925 - val_loss: 0.0916 - val_accuracy: 0.9730\n",
      "Epoch 135/200\n",
      "375/375 [==============================] - 1s 3ms/step - loss: 0.0327 - accuracy: 0.9925 - val_loss: 0.0909 - val_accuracy: 0.9727\n",
      "Epoch 136/200\n",
      "375/375 [==============================] - 1s 3ms/step - loss: 0.0323 - accuracy: 0.9929 - val_loss: 0.0916 - val_accuracy: 0.9728\n",
      "Epoch 137/200\n",
      "375/375 [==============================] - 1s 3ms/step - loss: 0.0318 - accuracy: 0.9927 - val_loss: 0.0913 - val_accuracy: 0.9734\n",
      "Epoch 138/200\n",
      "375/375 [==============================] - 1s 3ms/step - loss: 0.0316 - accuracy: 0.9929 - val_loss: 0.0909 - val_accuracy: 0.9731\n",
      "Epoch 139/200\n",
      "375/375 [==============================] - 1s 3ms/step - loss: 0.0310 - accuracy: 0.9931 - val_loss: 0.0912 - val_accuracy: 0.9730\n",
      "Epoch 140/200\n",
      "375/375 [==============================] - 1s 3ms/step - loss: 0.0307 - accuracy: 0.9933 - val_loss: 0.0910 - val_accuracy: 0.9727\n",
      "Epoch 141/200\n",
      "375/375 [==============================] - 1s 3ms/step - loss: 0.0305 - accuracy: 0.9931 - val_loss: 0.0912 - val_accuracy: 0.9728\n",
      "Epoch 142/200\n",
      "375/375 [==============================] - 1s 3ms/step - loss: 0.0301 - accuracy: 0.9936 - val_loss: 0.0908 - val_accuracy: 0.9729\n",
      "Epoch 143/200\n",
      "375/375 [==============================] - 1s 3ms/step - loss: 0.0297 - accuracy: 0.9934 - val_loss: 0.0911 - val_accuracy: 0.9736\n",
      "Epoch 144/200\n",
      "375/375 [==============================] - 1s 3ms/step - loss: 0.0293 - accuracy: 0.9934 - val_loss: 0.0910 - val_accuracy: 0.9729\n",
      "Epoch 145/200\n",
      "375/375 [==============================] - 1s 3ms/step - loss: 0.0290 - accuracy: 0.9936 - val_loss: 0.0906 - val_accuracy: 0.9730\n",
      "Epoch 146/200\n",
      "375/375 [==============================] - 1s 3ms/step - loss: 0.0286 - accuracy: 0.9937 - val_loss: 0.0911 - val_accuracy: 0.9737\n",
      "Epoch 147/200\n",
      "375/375 [==============================] - 1s 3ms/step - loss: 0.0283 - accuracy: 0.9940 - val_loss: 0.0911 - val_accuracy: 0.9732\n",
      "Epoch 148/200\n",
      "375/375 [==============================] - 1s 3ms/step - loss: 0.0280 - accuracy: 0.9941 - val_loss: 0.0905 - val_accuracy: 0.9730\n",
      "Epoch 149/200\n",
      "375/375 [==============================] - 1s 3ms/step - loss: 0.0276 - accuracy: 0.9941 - val_loss: 0.0909 - val_accuracy: 0.9738\n",
      "Epoch 150/200\n",
      "375/375 [==============================] - 1s 3ms/step - loss: 0.0274 - accuracy: 0.9941 - val_loss: 0.0908 - val_accuracy: 0.9726\n",
      "Epoch 151/200\n",
      "375/375 [==============================] - 1s 3ms/step - loss: 0.0270 - accuracy: 0.9942 - val_loss: 0.0905 - val_accuracy: 0.9732\n",
      "Epoch 152/200\n",
      "375/375 [==============================] - 2s 5ms/step - loss: 0.0267 - accuracy: 0.9945 - val_loss: 0.0908 - val_accuracy: 0.9732\n",
      "Epoch 153/200\n",
      "375/375 [==============================] - 1s 4ms/step - loss: 0.0264 - accuracy: 0.9945 - val_loss: 0.0906 - val_accuracy: 0.9733\n",
      "Epoch 154/200\n",
      "375/375 [==============================] - 1s 3ms/step - loss: 0.0262 - accuracy: 0.9947 - val_loss: 0.0905 - val_accuracy: 0.9740\n",
      "Epoch 155/200\n",
      "375/375 [==============================] - 1s 3ms/step - loss: 0.0257 - accuracy: 0.9947 - val_loss: 0.0903 - val_accuracy: 0.9736\n",
      "Epoch 156/200\n",
      "375/375 [==============================] - 1s 3ms/step - loss: 0.0255 - accuracy: 0.9950 - val_loss: 0.0905 - val_accuracy: 0.9732\n",
      "Epoch 157/200\n",
      "375/375 [==============================] - 1s 3ms/step - loss: 0.0252 - accuracy: 0.9948 - val_loss: 0.0910 - val_accuracy: 0.9735\n",
      "Epoch 158/200\n",
      "375/375 [==============================] - 1s 3ms/step - loss: 0.0249 - accuracy: 0.9949 - val_loss: 0.0908 - val_accuracy: 0.9736\n",
      "Epoch 159/200\n",
      "375/375 [==============================] - 1s 3ms/step - loss: 0.0247 - accuracy: 0.9949 - val_loss: 0.0905 - val_accuracy: 0.9734\n",
      "Epoch 160/200\n",
      "375/375 [==============================] - 1s 3ms/step - loss: 0.0244 - accuracy: 0.9949 - val_loss: 0.0903 - val_accuracy: 0.9737\n",
      "Epoch 161/200\n",
      "375/375 [==============================] - 1s 3ms/step - loss: 0.0242 - accuracy: 0.9951 - val_loss: 0.0909 - val_accuracy: 0.9736\n",
      "Epoch 162/200\n",
      "375/375 [==============================] - 1s 3ms/step - loss: 0.0238 - accuracy: 0.9953 - val_loss: 0.0906 - val_accuracy: 0.9733\n",
      "Epoch 163/200\n",
      "375/375 [==============================] - 1s 3ms/step - loss: 0.0236 - accuracy: 0.9954 - val_loss: 0.0901 - val_accuracy: 0.9737\n",
      "Epoch 164/200\n",
      "375/375 [==============================] - 1s 3ms/step - loss: 0.0233 - accuracy: 0.9955 - val_loss: 0.0917 - val_accuracy: 0.9746\n",
      "Epoch 165/200\n",
      "375/375 [==============================] - 1s 3ms/step - loss: 0.0231 - accuracy: 0.9957 - val_loss: 0.0911 - val_accuracy: 0.9743\n",
      "Epoch 166/200\n",
      "375/375 [==============================] - 1s 3ms/step - loss: 0.0228 - accuracy: 0.9955 - val_loss: 0.0904 - val_accuracy: 0.9735\n",
      "Epoch 167/200\n",
      "375/375 [==============================] - 1s 3ms/step - loss: 0.0226 - accuracy: 0.9956 - val_loss: 0.0910 - val_accuracy: 0.9737\n",
      "Epoch 168/200\n",
      "375/375 [==============================] - 1s 3ms/step - loss: 0.0223 - accuracy: 0.9958 - val_loss: 0.0904 - val_accuracy: 0.9739\n",
      "Epoch 169/200\n",
      "375/375 [==============================] - 1s 3ms/step - loss: 0.0220 - accuracy: 0.9960 - val_loss: 0.0907 - val_accuracy: 0.9738\n",
      "Epoch 170/200\n",
      "375/375 [==============================] - 1s 3ms/step - loss: 0.0218 - accuracy: 0.9960 - val_loss: 0.0908 - val_accuracy: 0.9739\n",
      "Epoch 171/200\n",
      "375/375 [==============================] - 1s 3ms/step - loss: 0.0216 - accuracy: 0.9961 - val_loss: 0.0904 - val_accuracy: 0.9738\n",
      "Epoch 172/200\n",
      "375/375 [==============================] - 1s 3ms/step - loss: 0.0213 - accuracy: 0.9961 - val_loss: 0.0904 - val_accuracy: 0.9743\n",
      "Epoch 173/200\n",
      "375/375 [==============================] - 1s 4ms/step - loss: 0.0210 - accuracy: 0.9964 - val_loss: 0.0906 - val_accuracy: 0.9744\n",
      "Epoch 174/200\n",
      "375/375 [==============================] - 1s 3ms/step - loss: 0.0208 - accuracy: 0.9963 - val_loss: 0.0913 - val_accuracy: 0.9731\n",
      "Epoch 175/200\n",
      "375/375 [==============================] - 1s 3ms/step - loss: 0.0206 - accuracy: 0.9964 - val_loss: 0.0909 - val_accuracy: 0.9743\n",
      "Epoch 176/200\n",
      "375/375 [==============================] - 1s 3ms/step - loss: 0.0203 - accuracy: 0.9965 - val_loss: 0.0906 - val_accuracy: 0.9743\n",
      "Epoch 177/200\n",
      "375/375 [==============================] - 1s 3ms/step - loss: 0.0201 - accuracy: 0.9966 - val_loss: 0.0907 - val_accuracy: 0.9741\n",
      "Epoch 178/200\n",
      "375/375 [==============================] - 1s 3ms/step - loss: 0.0199 - accuracy: 0.9965 - val_loss: 0.0908 - val_accuracy: 0.9742\n",
      "Epoch 179/200\n",
      "375/375 [==============================] - 1s 3ms/step - loss: 0.0197 - accuracy: 0.9968 - val_loss: 0.0912 - val_accuracy: 0.9743\n",
      "Epoch 180/200\n",
      "375/375 [==============================] - 1s 3ms/step - loss: 0.0195 - accuracy: 0.9967 - val_loss: 0.0908 - val_accuracy: 0.9743\n",
      "Epoch 181/200\n",
      "375/375 [==============================] - 2s 6ms/step - loss: 0.0193 - accuracy: 0.9968 - val_loss: 0.0912 - val_accuracy: 0.9743\n",
      "Epoch 182/200\n",
      "375/375 [==============================] - 2s 6ms/step - loss: 0.0191 - accuracy: 0.9968 - val_loss: 0.0906 - val_accuracy: 0.9742\n",
      "Epoch 183/200\n",
      "375/375 [==============================] - 1s 4ms/step - loss: 0.0188 - accuracy: 0.9968 - val_loss: 0.0910 - val_accuracy: 0.9741\n",
      "Epoch 184/200\n",
      "375/375 [==============================] - 2s 4ms/step - loss: 0.0187 - accuracy: 0.9969 - val_loss: 0.0911 - val_accuracy: 0.9743\n",
      "Epoch 185/200\n",
      "375/375 [==============================] - 1s 3ms/step - loss: 0.0185 - accuracy: 0.9970 - val_loss: 0.0911 - val_accuracy: 0.9747\n",
      "Epoch 186/200\n",
      "375/375 [==============================] - 1s 3ms/step - loss: 0.0182 - accuracy: 0.9971 - val_loss: 0.0910 - val_accuracy: 0.9745\n",
      "Epoch 187/200\n",
      "375/375 [==============================] - 1s 3ms/step - loss: 0.0181 - accuracy: 0.9970 - val_loss: 0.0915 - val_accuracy: 0.9739\n",
      "Epoch 188/200\n",
      "375/375 [==============================] - 1s 3ms/step - loss: 0.0179 - accuracy: 0.9972 - val_loss: 0.0920 - val_accuracy: 0.9742\n",
      "Epoch 189/200\n",
      "375/375 [==============================] - 1s 3ms/step - loss: 0.0177 - accuracy: 0.9973 - val_loss: 0.0911 - val_accuracy: 0.9746\n",
      "Epoch 190/200\n",
      "375/375 [==============================] - 1s 4ms/step - loss: 0.0174 - accuracy: 0.9971 - val_loss: 0.0917 - val_accuracy: 0.9743\n",
      "Epoch 191/200\n",
      "375/375 [==============================] - 1s 3ms/step - loss: 0.0172 - accuracy: 0.9974 - val_loss: 0.0914 - val_accuracy: 0.9746\n",
      "Epoch 192/200\n",
      "375/375 [==============================] - 1s 3ms/step - loss: 0.0171 - accuracy: 0.9974 - val_loss: 0.0912 - val_accuracy: 0.9744\n",
      "Epoch 193/200\n",
      "375/375 [==============================] - 1s 3ms/step - loss: 0.0169 - accuracy: 0.9975 - val_loss: 0.0918 - val_accuracy: 0.9750\n",
      "Epoch 194/200\n",
      "375/375 [==============================] - 1s 3ms/step - loss: 0.0167 - accuracy: 0.9974 - val_loss: 0.0919 - val_accuracy: 0.9739\n",
      "Epoch 195/200\n",
      "375/375 [==============================] - 1s 3ms/step - loss: 0.0165 - accuracy: 0.9977 - val_loss: 0.0912 - val_accuracy: 0.9743\n",
      "Epoch 196/200\n",
      "375/375 [==============================] - 1s 3ms/step - loss: 0.0163 - accuracy: 0.9976 - val_loss: 0.0916 - val_accuracy: 0.9747\n",
      "Epoch 197/200\n",
      "375/375 [==============================] - 1s 3ms/step - loss: 0.0162 - accuracy: 0.9976 - val_loss: 0.0921 - val_accuracy: 0.9745\n",
      "Epoch 198/200\n",
      "375/375 [==============================] - 1s 3ms/step - loss: 0.0160 - accuracy: 0.9978 - val_loss: 0.0916 - val_accuracy: 0.9747\n",
      "Epoch 199/200\n",
      "375/375 [==============================] - 1s 3ms/step - loss: 0.0159 - accuracy: 0.9976 - val_loss: 0.0916 - val_accuracy: 0.9747\n",
      "Epoch 200/200\n",
      "375/375 [==============================] - 1s 4ms/step - loss: 0.0157 - accuracy: 0.9977 - val_loss: 0.0920 - val_accuracy: 0.9748\n"
     ]
    },
    {
     "data": {
      "text/plain": [
       "<tensorflow.python.keras.callbacks.History at 0x7f2bac3f5d50>"
      ]
     },
     "execution_count": 16,
     "metadata": {},
     "output_type": "execute_result"
    }
   ],
   "source": [
    "# fit\n",
    "model.fit(X_train, train_labels, epochs=200, batch_size=128, verbose=True, validation_split=0.2)"
   ]
  },
  {
   "cell_type": "code",
   "execution_count": 17,
   "metadata": {
    "execution": {
     "iopub.execute_input": "2020-12-02T06:32:07.913118Z",
     "iopub.status.busy": "2020-12-02T06:32:07.911906Z",
     "iopub.status.idle": "2020-12-02T06:32:08.661244Z",
     "shell.execute_reply": "2020-12-02T06:32:08.662402Z"
    },
    "papermill": {
     "duration": 3.783445,
     "end_time": "2020-12-02T06:32:08.662594",
     "exception": false,
     "start_time": "2020-12-02T06:32:04.879149",
     "status": "completed"
    },
    "tags": []
   },
   "outputs": [
    {
     "name": "stdout",
     "output_type": "stream",
     "text": [
      "313/313 [==============================] - 1s 2ms/step - loss: 0.0794 - accuracy: 0.9759\n",
      "test_loss 0.07939136028289795 \n",
      " test_acc 0.9758999943733215\n"
     ]
    }
   ],
   "source": [
    "# evaluate\n",
    "test_loss, test_acc = model.evaluate(X_test, test_labels, verbose=True)\n",
    "print('test_loss', test_loss, '\\n', 'test_acc', test_acc)"
   ]
  },
  {
   "cell_type": "markdown",
   "metadata": {
    "papermill": {
     "duration": 3.660091,
     "end_time": "2020-12-02T06:32:15.362310",
     "exception": false,
     "start_time": "2020-12-02T06:32:11.702219",
     "status": "completed"
    },
    "tags": []
   },
   "source": [
    "### Advanced CNN"
   ]
  },
  {
   "cell_type": "code",
   "execution_count": 18,
   "metadata": {
    "execution": {
     "iopub.execute_input": "2020-12-02T06:32:21.297399Z",
     "iopub.status.busy": "2020-12-02T06:32:21.295681Z",
     "iopub.status.idle": "2020-12-02T06:32:21.298178Z",
     "shell.execute_reply": "2020-12-02T06:32:21.298702Z"
    },
    "papermill": {
     "duration": 2.940134,
     "end_time": "2020-12-02T06:32:21.298837",
     "exception": false,
     "start_time": "2020-12-02T06:32:18.358703",
     "status": "completed"
    },
    "tags": []
   },
   "outputs": [],
   "source": [
    "# reshape\n",
    "X_train = X_train.reshape(-1, 28, 28, 1)\n",
    "X_test = X_test.reshape(-1, 28, 28, 1)"
   ]
  },
  {
   "cell_type": "code",
   "execution_count": 19,
   "metadata": {
    "execution": {
     "iopub.execute_input": "2020-12-02T06:32:27.519222Z",
     "iopub.status.busy": "2020-12-02T06:32:27.518378Z",
     "iopub.status.idle": "2020-12-02T06:32:27.520864Z",
     "shell.execute_reply": "2020-12-02T06:32:27.521445Z"
    },
    "papermill": {
     "duration": 2.990026,
     "end_time": "2020-12-02T06:32:27.521590",
     "exception": false,
     "start_time": "2020-12-02T06:32:24.531564",
     "status": "completed"
    },
    "tags": []
   },
   "outputs": [],
   "source": [
    "from keras.layers import Conv2D, BatchNormalization, Dropout, Conv2D, MaxPool2D, Conv2D, Flatten, Dense\n",
    "from keras.optimizers import Adam"
   ]
  },
  {
   "cell_type": "code",
   "execution_count": 20,
   "metadata": {
    "execution": {
     "iopub.execute_input": "2020-12-02T06:32:33.390498Z",
     "iopub.status.busy": "2020-12-02T06:32:33.389421Z",
     "iopub.status.idle": "2020-12-02T06:32:33.629198Z",
     "shell.execute_reply": "2020-12-02T06:32:33.628577Z"
    },
    "papermill": {
     "duration": 3.169009,
     "end_time": "2020-12-02T06:32:33.629331",
     "exception": false,
     "start_time": "2020-12-02T06:32:30.460322",
     "status": "completed"
    },
    "tags": []
   },
   "outputs": [],
   "source": [
    "# build advanced advanced CNN model\n",
    "model = Sequential()\n",
    "model.add(Conv2D(filters=32, kernel_size=(3, 3), padding='Same', activation='relu', input_shape=(28, 28, 1)))\n",
    "# add two layers => avoid overfit\n",
    "model.add(BatchNormalization(axis=1)) \n",
    "model.add(Dropout(0.5))\n",
    "model.add(Conv2D(filters=32, kernel_size=(3, 3), padding='Same', activation='relu', input_shape=(28, 28, 1)))\n",
    "model.add(BatchNormalization(axis=1)) \n",
    "\n",
    "model.add(MaxPool2D(pool_size=(2, 2)))\n",
    "\n",
    "model.add(Conv2D(filters=64, kernel_size=(3, 3), padding='Same', activation='relu'))\n",
    "model.add(BatchNormalization(axis=1)) \n",
    "model.add(Dropout(0.5))\n",
    "model.add(Conv2D(filters=64, kernel_size=(3, 3), padding='Same', activation='relu'))\n",
    "model.add(MaxPool2D(pool_size=(2, 2)))\n",
    "\n",
    "model.add(Flatten())\n",
    "model.add(BatchNormalization()) \n",
    "model.add(Dropout(0.5))\n",
    "model.add(Dense(512, activation='relu'))\n",
    "model.add(BatchNormalization()) \n",
    "model.add(Dropout(0.5))\n",
    "model.add(Dense(10, activation='softmax'))"
   ]
  },
  {
   "cell_type": "code",
   "execution_count": 21,
   "metadata": {
    "execution": {
     "iopub.execute_input": "2020-12-02T06:32:40.451529Z",
     "iopub.status.busy": "2020-12-02T06:32:40.450462Z",
     "iopub.status.idle": "2020-12-02T06:32:40.481495Z",
     "shell.execute_reply": "2020-12-02T06:32:40.479969Z"
    },
    "papermill": {
     "duration": 3.24195,
     "end_time": "2020-12-02T06:32:40.481628",
     "exception": false,
     "start_time": "2020-12-02T06:32:37.239678",
     "status": "completed"
    },
    "tags": []
   },
   "outputs": [
    {
     "name": "stdout",
     "output_type": "stream",
     "text": [
      "Model: \"sequential_2\"\n",
      "_________________________________________________________________\n",
      "Layer (type)                 Output Shape              Param #   \n",
      "=================================================================\n",
      "conv2d (Conv2D)              (None, 28, 28, 32)        320       \n",
      "_________________________________________________________________\n",
      "batch_normalization (BatchNo (None, 28, 28, 32)        112       \n",
      "_________________________________________________________________\n",
      "dropout (Dropout)            (None, 28, 28, 32)        0         \n",
      "_________________________________________________________________\n",
      "conv2d_1 (Conv2D)            (None, 28, 28, 32)        9248      \n",
      "_________________________________________________________________\n",
      "batch_normalization_1 (Batch (None, 28, 28, 32)        112       \n",
      "_________________________________________________________________\n",
      "max_pooling2d (MaxPooling2D) (None, 14, 14, 32)        0         \n",
      "_________________________________________________________________\n",
      "conv2d_2 (Conv2D)            (None, 14, 14, 64)        18496     \n",
      "_________________________________________________________________\n",
      "batch_normalization_2 (Batch (None, 14, 14, 64)        56        \n",
      "_________________________________________________________________\n",
      "dropout_1 (Dropout)          (None, 14, 14, 64)        0         \n",
      "_________________________________________________________________\n",
      "conv2d_3 (Conv2D)            (None, 14, 14, 64)        36928     \n",
      "_________________________________________________________________\n",
      "max_pooling2d_1 (MaxPooling2 (None, 7, 7, 64)          0         \n",
      "_________________________________________________________________\n",
      "flatten (Flatten)            (None, 3136)              0         \n",
      "_________________________________________________________________\n",
      "batch_normalization_3 (Batch (None, 3136)              12544     \n",
      "_________________________________________________________________\n",
      "dropout_2 (Dropout)          (None, 3136)              0         \n",
      "_________________________________________________________________\n",
      "dense_4 (Dense)              (None, 512)               1606144   \n",
      "_________________________________________________________________\n",
      "batch_normalization_4 (Batch (None, 512)               2048      \n",
      "_________________________________________________________________\n",
      "dropout_3 (Dropout)          (None, 512)               0         \n",
      "_________________________________________________________________\n",
      "dense_5 (Dense)              (None, 10)                5130      \n",
      "=================================================================\n",
      "Total params: 1,691,138\n",
      "Trainable params: 1,683,702\n",
      "Non-trainable params: 7,436\n",
      "_________________________________________________________________\n"
     ]
    }
   ],
   "source": [
    "# compile\n",
    "model.compile(Adam(), loss='categorical_crossentropy', metrics=['accuracy'])\n",
    "# summary\n",
    "model.summary()"
   ]
  },
  {
   "cell_type": "code",
   "execution_count": 22,
   "metadata": {
    "execution": {
     "iopub.execute_input": "2020-12-02T06:32:47.371181Z",
     "iopub.status.busy": "2020-12-02T06:32:47.369958Z",
     "iopub.status.idle": "2020-12-02T06:33:57.850663Z",
     "shell.execute_reply": "2020-12-02T06:33:57.851272Z"
    },
    "papermill": {
     "duration": 74.320241,
     "end_time": "2020-12-02T06:33:57.851431",
     "exception": false,
     "start_time": "2020-12-02T06:32:43.531190",
     "status": "completed"
    },
    "tags": []
   },
   "outputs": [
    {
     "name": "stdout",
     "output_type": "stream",
     "text": [
      "Epoch 1/15\n",
      "422/422 [==============================] - 5s 11ms/step - loss: 0.3431 - accuracy: 0.8961 - val_loss: 0.1491 - val_accuracy: 0.9682\n",
      "Epoch 2/15\n",
      "422/422 [==============================] - 4s 10ms/step - loss: 0.1165 - accuracy: 0.9633 - val_loss: 0.0515 - val_accuracy: 0.9855\n",
      "Epoch 3/15\n",
      "422/422 [==============================] - 4s 10ms/step - loss: 0.0793 - accuracy: 0.9751 - val_loss: 0.0405 - val_accuracy: 0.9883\n",
      "Epoch 4/15\n",
      "422/422 [==============================] - 4s 10ms/step - loss: 0.0670 - accuracy: 0.9789 - val_loss: 0.0376 - val_accuracy: 0.9897\n",
      "Epoch 5/15\n",
      "422/422 [==============================] - 4s 10ms/step - loss: 0.0578 - accuracy: 0.9814 - val_loss: 0.0414 - val_accuracy: 0.9880\n",
      "Epoch 6/15\n",
      "422/422 [==============================] - 4s 10ms/step - loss: 0.0529 - accuracy: 0.9835 - val_loss: 0.0280 - val_accuracy: 0.9928\n",
      "Epoch 7/15\n",
      "422/422 [==============================] - 5s 11ms/step - loss: 0.0482 - accuracy: 0.9848 - val_loss: 0.0359 - val_accuracy: 0.9900\n",
      "Epoch 8/15\n",
      "422/422 [==============================] - 4s 10ms/step - loss: 0.0428 - accuracy: 0.9861 - val_loss: 0.0287 - val_accuracy: 0.9928\n",
      "Epoch 9/15\n",
      "422/422 [==============================] - 4s 10ms/step - loss: 0.0391 - accuracy: 0.9875 - val_loss: 0.0331 - val_accuracy: 0.9910\n",
      "Epoch 10/15\n",
      "422/422 [==============================] - 4s 10ms/step - loss: 0.0396 - accuracy: 0.9874 - val_loss: 0.0399 - val_accuracy: 0.9890\n",
      "Epoch 11/15\n",
      "422/422 [==============================] - 5s 11ms/step - loss: 0.0383 - accuracy: 0.9884 - val_loss: 0.0391 - val_accuracy: 0.9897\n",
      "Epoch 12/15\n",
      "422/422 [==============================] - 5s 11ms/step - loss: 0.0341 - accuracy: 0.9889 - val_loss: 0.0365 - val_accuracy: 0.9900\n",
      "Epoch 13/15\n",
      "422/422 [==============================] - 4s 10ms/step - loss: 0.0330 - accuracy: 0.9891 - val_loss: 0.0275 - val_accuracy: 0.9938\n",
      "Epoch 14/15\n",
      "422/422 [==============================] - 5s 13ms/step - loss: 0.0322 - accuracy: 0.9894 - val_loss: 0.0295 - val_accuracy: 0.9937\n",
      "Epoch 15/15\n",
      "422/422 [==============================] - 4s 10ms/step - loss: 0.0299 - accuracy: 0.9904 - val_loss: 0.0305 - val_accuracy: 0.9932\n"
     ]
    },
    {
     "data": {
      "text/plain": [
       "<tensorflow.python.keras.callbacks.History at 0x7f2ba4066650>"
      ]
     },
     "execution_count": 22,
     "metadata": {},
     "output_type": "execute_result"
    }
   ],
   "source": [
    "# fit\n",
    "model.fit(X_train, train_labels, epochs=15, batch_size=128, verbose=True, validation_split=0.1)"
   ]
  },
  {
   "cell_type": "code",
   "execution_count": 23,
   "metadata": {
    "execution": {
     "iopub.execute_input": "2020-12-02T06:34:04.993166Z",
     "iopub.status.busy": "2020-12-02T06:34:04.991904Z",
     "iopub.status.idle": "2020-12-02T06:34:06.031660Z",
     "shell.execute_reply": "2020-12-02T06:34:06.030791Z"
    },
    "papermill": {
     "duration": 4.762023,
     "end_time": "2020-12-02T06:34:06.031797",
     "exception": false,
     "start_time": "2020-12-02T06:34:01.269774",
     "status": "completed"
    },
    "tags": []
   },
   "outputs": [
    {
     "name": "stdout",
     "output_type": "stream",
     "text": [
      "313/313 [==============================] - 1s 3ms/step - loss: 0.0198 - accuracy: 0.9936\n",
      "test_loss 0.01979205571115017 \n",
      " test_acc 0.9936000108718872\n"
     ]
    }
   ],
   "source": [
    "# evaluate\n",
    "test_loss, test_acc = model.evaluate(X_test, test_labels, verbose=True)\n",
    "print('test_loss', test_loss, '\\n', 'test_acc', test_acc)"
   ]
  },
  {
   "cell_type": "markdown",
   "metadata": {
    "papermill": {
     "duration": 3.459934,
     "end_time": "2020-12-02T06:34:12.944105",
     "exception": false,
     "start_time": "2020-12-02T06:34:09.484171",
     "status": "completed"
    },
    "tags": []
   },
   "source": [
    "### Add image_generator for data augmentation"
   ]
  },
  {
   "cell_type": "code",
   "execution_count": 24,
   "metadata": {
    "execution": {
     "iopub.execute_input": "2020-12-02T06:34:19.984217Z",
     "iopub.status.busy": "2020-12-02T06:34:19.983447Z",
     "iopub.status.idle": "2020-12-02T06:34:19.988983Z",
     "shell.execute_reply": "2020-12-02T06:34:19.988445Z"
    },
    "papermill": {
     "duration": 3.406309,
     "end_time": "2020-12-02T06:34:19.989161",
     "exception": false,
     "start_time": "2020-12-02T06:34:16.582852",
     "status": "completed"
    },
    "tags": []
   },
   "outputs": [],
   "source": [
    "from keras.preprocessing.image import ImageDataGenerator"
   ]
  },
  {
   "cell_type": "code",
   "execution_count": 25,
   "metadata": {
    "execution": {
     "iopub.execute_input": "2020-12-02T06:34:27.618566Z",
     "iopub.status.busy": "2020-12-02T06:34:27.617809Z",
     "iopub.status.idle": "2020-12-02T06:34:27.635496Z",
     "shell.execute_reply": "2020-12-02T06:34:27.634907Z"
    },
    "papermill": {
     "duration": 4.078437,
     "end_time": "2020-12-02T06:34:27.635630",
     "exception": false,
     "start_time": "2020-12-02T06:34:23.557193",
     "status": "completed"
    },
    "tags": []
   },
   "outputs": [],
   "source": [
    "generator = ImageDataGenerator(rotation_range=10, width_shift_range=0.10, shear_range=0.5, height_shift_range=0.10, zoom_range=0.10)\n",
    "# compile model with data generator\n",
    "model.compile(Adam(), loss='categorical_crossentropy', metrics=['accuracy'])\n",
    "model.optimizer.lr=0.001\n",
    "batches = generator.flow(X_train, train_labels, batch_size=128)"
   ]
  },
  {
   "cell_type": "code",
   "execution_count": 26,
   "metadata": {
    "execution": {
     "iopub.execute_input": "2020-12-02T06:34:34.485204Z",
     "iopub.status.busy": "2020-12-02T06:34:34.484137Z",
     "iopub.status.idle": "2020-12-02T06:35:02.232543Z",
     "shell.execute_reply": "2020-12-02T06:35:02.233831Z"
    },
    "papermill": {
     "duration": 31.210103,
     "end_time": "2020-12-02T06:35:02.234085",
     "exception": false,
     "start_time": "2020-12-02T06:34:31.023982",
     "status": "completed"
    },
    "tags": []
   },
   "outputs": [
    {
     "name": "stdout",
     "output_type": "stream",
     "text": [
      "Epoch 1/15\n",
      "  469/60000 [..............................] - 26s 56ms/step - loss: 0.1132 - accuracy: 0.9662\n",
      "CPU times: user 30 s, sys: 612 ms, total: 30.6 s\n",
      "Wall time: 27.7 s\n"
     ]
    }
   ],
   "source": [
    "# fit\n",
    "%time history = model.fit_generator(generator=batches, steps_per_epoch=batches.n, epochs=15)"
   ]
  },
  {
   "cell_type": "code",
   "execution_count": 27,
   "metadata": {
    "execution": {
     "iopub.execute_input": "2020-12-02T06:35:09.713058Z",
     "iopub.status.busy": "2020-12-02T06:35:09.711852Z",
     "iopub.status.idle": "2020-12-02T06:35:10.894986Z",
     "shell.execute_reply": "2020-12-02T06:35:10.894228Z"
    },
    "papermill": {
     "duration": 5.083772,
     "end_time": "2020-12-02T06:35:10.895164",
     "exception": false,
     "start_time": "2020-12-02T06:35:05.811392",
     "status": "completed"
    },
    "tags": []
   },
   "outputs": [
    {
     "name": "stdout",
     "output_type": "stream",
     "text": [
      "313/313 [==============================] - 1s 3ms/step - loss: 0.0211 - accuracy: 0.9926\n",
      "test_loss 0.0211494080722332 \n",
      " test_acc 0.9926000237464905\n"
     ]
    }
   ],
   "source": [
    "# evaluate\n",
    "test_loss, test_acc = model.evaluate(X_test, test_labels, verbose=True)\n",
    "print('test_loss', test_loss, '\\n', 'test_acc', test_acc)"
   ]
  },
  {
   "cell_type": "markdown",
   "metadata": {
    "papermill": {
     "duration": 3.566496,
     "end_time": "2020-12-02T06:35:18.040643",
     "exception": false,
     "start_time": "2020-12-02T06:35:14.474147",
     "status": "completed"
    },
    "tags": []
   },
   "source": [
    "## 实验五\n",
    "\n",
    "* prework\n",
    "    * hyper-parameters\n",
    "    * Auxiliary function 辅助函数\n",
    "        * 绘制正确图像\n",
    "        * 绘制错误图像\n",
    "\n",
    "* two CNN model 两个基于Keras的CNN\n",
    "    * based on model.Sequential\n",
    "    * Function based model\n",
    "\n",
    "\n"
   ]
  },
  {
   "cell_type": "markdown",
   "metadata": {
    "papermill": {
     "duration": 3.579348,
     "end_time": "2020-12-02T06:35:25.496600",
     "exception": false,
     "start_time": "2020-12-02T06:35:21.917252",
     "status": "completed"
    },
    "tags": []
   },
   "source": [
    "## prework\n",
    "\n",
    "\n",
    "* hyper-parameters\n",
    "* auxiliary function - plot image function"
   ]
  },
  {
   "cell_type": "code",
   "execution_count": 28,
   "metadata": {
    "execution": {
     "iopub.execute_input": "2020-12-02T06:35:33.520981Z",
     "iopub.status.busy": "2020-12-02T06:35:33.518946Z",
     "iopub.status.idle": "2020-12-02T06:35:33.521853Z",
     "shell.execute_reply": "2020-12-02T06:35:33.522443Z"
    },
    "papermill": {
     "duration": 4.383028,
     "end_time": "2020-12-02T06:35:33.522601",
     "exception": false,
     "start_time": "2020-12-02T06:35:29.139573",
     "status": "completed"
    },
    "tags": []
   },
   "outputs": [],
   "source": [
    "# hyper-parameters\n",
    "img_size = 28\n",
    "img_size_flat = 28*28\n",
    "img_shape = (28, 28)\n",
    "img_shape_full = (28, 28, 1)\n",
    "num_classes = 10\n",
    "num_channels = 1"
   ]
  },
  {
   "cell_type": "code",
   "execution_count": 29,
   "metadata": {
    "execution": {
     "iopub.execute_input": "2020-12-02T06:35:41.248126Z",
     "iopub.status.busy": "2020-12-02T06:35:41.247130Z",
     "iopub.status.idle": "2020-12-02T06:35:41.253055Z",
     "shell.execute_reply": "2020-12-02T06:35:41.253588Z"
    },
    "papermill": {
     "duration": 3.681265,
     "end_time": "2020-12-02T06:35:41.253745",
     "exception": false,
     "start_time": "2020-12-02T06:35:37.572480",
     "status": "completed"
    },
    "tags": []
   },
   "outputs": [],
   "source": [
    "import matplotlib.pyplot as plt\n",
    "%matplotlib inline"
   ]
  },
  {
   "cell_type": "code",
   "execution_count": 30,
   "metadata": {
    "execution": {
     "iopub.execute_input": "2020-12-02T06:35:49.225072Z",
     "iopub.status.busy": "2020-12-02T06:35:49.222869Z",
     "iopub.status.idle": "2020-12-02T06:35:49.225831Z",
     "shell.execute_reply": "2020-12-02T06:35:49.226456Z"
    },
    "papermill": {
     "duration": 3.672191,
     "end_time": "2020-12-02T06:35:49.226599",
     "exception": false,
     "start_time": "2020-12-02T06:35:45.554408",
     "status": "completed"
    },
    "tags": []
   },
   "outputs": [],
   "source": [
    "# plot_some images\n",
    "def plot_images(images, cls_true, cls_pred=None):\n",
    "    assert len(images)==9\n",
    "    assert len(cls_true)==9\n",
    "    fig, axes = plt.subplots(3, 3)\n",
    "    fig.subplots_adjust(hspace=0.3, wspace=0.3)\n",
    "    \n",
    "    for i, ax in enumerate(axes.flat):\n",
    "        ax.imshow(images[i].reshape(img_shape), cmap='binary')\n",
    "        if cls_pred is None:\n",
    "            xlabel = 'True:{0}'.format(cls_true[i])\n",
    "        else:\n",
    "            xlabel = 'True:{0}, Pred:{1}'.format(cls_true[i], cls_pred[i])\n",
    "        ax.set_xlabel(xlabel)\n",
    "        ax.set_xticks([])\n",
    "        ax.set_yticks([])\n",
    "    plt.show()\n",
    "    \n",
    "# plot single image\n",
    "def plot_image(image):\n",
    "    plt.imshow(image.reshape(img_shape), interpolation='nearest', cmap='binary')\n",
    "    plt.show()\n",
    "    \n",
    "# plot error example\n",
    "def plot_example_errors(cls_pred, correct):\n",
    "    incorrect = (correct==False)\n",
    "    images = X_test[incorrect]\n",
    "    cls_pred = cls_pred[incorrect]\n",
    "    cls_true = y_test[incorrect]\n",
    "    # plot 0:9\n",
    "    plot_images(images=images[0:9], cls_true=cls_true[0:9], cls_pred=cls_pred[0:9])\n",
    "\n",
    "# def plot_example_errors(cls_pred, correct):\n",
    "#     incorrect = (correct == False)\n",
    "#     images = X_test[incorrect]\n",
    "#     cls_pred = cls_pred[incorrect]\n",
    "#     cls_true = y_test[incorrect]\n",
    "#     plot_images(images=images[0:9], cls_true=cls_true[0:9], cls_pred=cls_pred[0:9])"
   ]
  },
  {
   "cell_type": "markdown",
   "metadata": {
    "papermill": {
     "duration": 3.555543,
     "end_time": "2020-12-02T06:35:56.623497",
     "exception": false,
     "start_time": "2020-12-02T06:35:53.067954",
     "status": "completed"
    },
    "tags": []
   },
   "source": [
    "## Model\n",
    "\n",
    "* build model\n",
    "* compile, summary\n",
    "* fit, evaluate\n",
    "* predict, plot (correctly classified, mis classified) images\n",
    "* save model, load model"
   ]
  },
  {
   "cell_type": "code",
   "execution_count": 31,
   "metadata": {
    "execution": {
     "iopub.execute_input": "2020-12-02T06:36:04.678172Z",
     "iopub.status.busy": "2020-12-02T06:36:04.676819Z",
     "iopub.status.idle": "2020-12-02T06:36:04.680825Z",
     "shell.execute_reply": "2020-12-02T06:36:04.680144Z"
    },
    "papermill": {
     "duration": 4.422041,
     "end_time": "2020-12-02T06:36:04.680946",
     "exception": false,
     "start_time": "2020-12-02T06:36:00.258905",
     "status": "completed"
    },
    "tags": []
   },
   "outputs": [],
   "source": [
    "from keras.models import Sequential\n",
    "from keras.layers import InputLayer, Reshape, Conv2D, MaxPooling2D, Flatten, Dense\n",
    "from keras.optimizers import Adam"
   ]
  },
  {
   "cell_type": "code",
   "execution_count": 32,
   "metadata": {
    "execution": {
     "iopub.execute_input": "2020-12-02T06:36:12.013770Z",
     "iopub.status.busy": "2020-12-02T06:36:12.012665Z",
     "iopub.status.idle": "2020-12-02T06:36:12.071312Z",
     "shell.execute_reply": "2020-12-02T06:36:12.070633Z"
    },
    "papermill": {
     "duration": 3.64924,
     "end_time": "2020-12-02T06:36:12.071465",
     "exception": false,
     "start_time": "2020-12-02T06:36:08.422225",
     "status": "completed"
    },
    "tags": []
   },
   "outputs": [],
   "source": [
    "# model -- 实验五 -- sequential model\n",
    "model = Sequential()\n",
    "\n",
    "# build model\n",
    "model.add(InputLayer(input_shape=(img_size_flat, )))\n",
    "model.add(Reshape(img_shape_full))\n",
    "\n",
    "model.add(Conv2D(kernel_size=5, strides=1, filters=36, padding='same', activation='relu', name='layer_conv1'))\n",
    "model.add(MaxPooling2D(pool_size=2, strides=2))\n",
    "\n",
    "model.add(Conv2D(kernel_size=5, strides=1, filters=36, padding='same', activation='relu', name='layer_conv2'))\n",
    "model.add(MaxPooling2D(pool_size=2, strides=2))\n",
    "\n",
    "model.add(Flatten())\n",
    "model.add(Dense(128, activation='relu'))\n",
    "model.add(Dense(num_classes, activation='softmax'))"
   ]
  },
  {
   "cell_type": "code",
   "execution_count": 33,
   "metadata": {
    "execution": {
     "iopub.execute_input": "2020-12-02T06:36:19.526277Z",
     "iopub.status.busy": "2020-12-02T06:36:19.525206Z",
     "iopub.status.idle": "2020-12-02T06:36:19.539949Z",
     "shell.execute_reply": "2020-12-02T06:36:19.541323Z"
    },
    "papermill": {
     "duration": 3.634135,
     "end_time": "2020-12-02T06:36:19.541669",
     "exception": false,
     "start_time": "2020-12-02T06:36:15.907534",
     "status": "completed"
    },
    "tags": []
   },
   "outputs": [
    {
     "name": "stdout",
     "output_type": "stream",
     "text": [
      "Model: \"sequential_3\"\n",
      "_________________________________________________________________\n",
      "Layer (type)                 Output Shape              Param #   \n",
      "=================================================================\n",
      "reshape (Reshape)            (None, 28, 28, 1)         0         \n",
      "_________________________________________________________________\n",
      "layer_conv1 (Conv2D)         (None, 28, 28, 36)        936       \n",
      "_________________________________________________________________\n",
      "max_pooling2d_2 (MaxPooling2 (None, 14, 14, 36)        0         \n",
      "_________________________________________________________________\n",
      "layer_conv2 (Conv2D)         (None, 14, 14, 36)        32436     \n",
      "_________________________________________________________________\n",
      "max_pooling2d_3 (MaxPooling2 (None, 7, 7, 36)          0         \n",
      "_________________________________________________________________\n",
      "flatten_1 (Flatten)          (None, 1764)              0         \n",
      "_________________________________________________________________\n",
      "dense_6 (Dense)              (None, 128)               225920    \n",
      "_________________________________________________________________\n",
      "dense_7 (Dense)              (None, 10)                1290      \n",
      "=================================================================\n",
      "Total params: 260,582\n",
      "Trainable params: 260,582\n",
      "Non-trainable params: 0\n",
      "_________________________________________________________________\n"
     ]
    }
   ],
   "source": [
    "# compile\n",
    "model.compile(optimizer=Adam(lr=1e-3), loss='categorical_crossentropy', metrics=['accuracy'])\n",
    "model.summary()"
   ]
  },
  {
   "cell_type": "code",
   "execution_count": 34,
   "metadata": {
    "execution": {
     "iopub.execute_input": "2020-12-02T06:36:26.991963Z",
     "iopub.status.busy": "2020-12-02T06:36:26.991143Z",
     "iopub.status.idle": "2020-12-02T06:36:26.994360Z",
     "shell.execute_reply": "2020-12-02T06:36:26.993756Z"
    },
    "papermill": {
     "duration": 3.895432,
     "end_time": "2020-12-02T06:36:26.994482",
     "exception": false,
     "start_time": "2020-12-02T06:36:23.099050",
     "status": "completed"
    },
    "tags": []
   },
   "outputs": [],
   "source": [
    "# 由于前面 数据已经reshape成为图片维度了，\n",
    "# 再输入到此model(inputlayer=(28*28, ))时候要flatten\n",
    "X_train = X_train.reshape(60000, 784)\n",
    "X_test = X_test.reshape(10000, 784)"
   ]
  },
  {
   "cell_type": "code",
   "execution_count": 35,
   "metadata": {
    "execution": {
     "iopub.execute_input": "2020-12-02T06:36:34.113547Z",
     "iopub.status.busy": "2020-12-02T06:36:34.112321Z",
     "iopub.status.idle": "2020-12-02T06:36:38.730182Z",
     "shell.execute_reply": "2020-12-02T06:36:38.729548Z"
    },
    "papermill": {
     "duration": 8.188374,
     "end_time": "2020-12-02T06:36:38.730308",
     "exception": false,
     "start_time": "2020-12-02T06:36:30.541934",
     "status": "completed"
    },
    "tags": []
   },
   "outputs": [
    {
     "name": "stdout",
     "output_type": "stream",
     "text": [
      "430/430 [==============================] - 4s 9ms/step - loss: 0.2021 - accuracy: 0.9400 - val_loss: 0.0630 - val_accuracy: 0.9824\n"
     ]
    },
    {
     "data": {
      "text/plain": [
       "<tensorflow.python.keras.callbacks.History at 0x7f2b8c152290>"
      ]
     },
     "execution_count": 35,
     "metadata": {},
     "output_type": "execute_result"
    }
   ],
   "source": [
    "model.fit(X_train, train_labels, epochs=1, batch_size=128, validation_split=1/12, verbose=True)"
   ]
  },
  {
   "cell_type": "code",
   "execution_count": 36,
   "metadata": {
    "execution": {
     "iopub.execute_input": "2020-12-02T06:36:46.233738Z",
     "iopub.status.busy": "2020-12-02T06:36:46.232197Z",
     "iopub.status.idle": "2020-12-02T06:36:47.160488Z",
     "shell.execute_reply": "2020-12-02T06:36:47.165207Z"
    },
    "papermill": {
     "duration": 4.640244,
     "end_time": "2020-12-02T06:36:47.165433",
     "exception": false,
     "start_time": "2020-12-02T06:36:42.525189",
     "status": "completed"
    },
    "tags": []
   },
   "outputs": [
    {
     "name": "stdout",
     "output_type": "stream",
     "text": [
      "313/313 [==============================] - 1s 3ms/step - loss: 0.0590 - accuracy: 0.9823\n",
      "loss  0.058981817215681076\n",
      "acc  0.9822999835014343\n"
     ]
    }
   ],
   "source": [
    "# evaluate\n",
    "result = model.evaluate(X_test, test_labels, verbose=True)\n",
    "print('loss ', result[0])\n",
    "print('acc ', result[1])"
   ]
  },
  {
   "cell_type": "code",
   "execution_count": 37,
   "metadata": {
    "execution": {
     "iopub.execute_input": "2020-12-02T06:36:54.763573Z",
     "iopub.status.busy": "2020-12-02T06:36:54.762419Z",
     "iopub.status.idle": "2020-12-02T06:36:55.707936Z",
     "shell.execute_reply": "2020-12-02T06:36:55.708594Z"
    },
    "papermill": {
     "duration": 4.643852,
     "end_time": "2020-12-02T06:36:55.708766",
     "exception": false,
     "start_time": "2020-12-02T06:36:51.064914",
     "status": "completed"
    },
    "tags": []
   },
   "outputs": [
    {
     "data": {
      "image/png": "[encoded data removed]",
      "text/plain": [
       "<Figure size 432x288 with 9 Axes>"
      ]
     },
     "metadata": {},
     "output_type": "display_data"
    }
   ],
   "source": [
    "# predict\n",
    "predict = model.predict(X_test)\n",
    "predict = np.argmax(predict, axis=1)\n",
    "\n",
    "# visualize correctly classified sample\n",
    "plot_images(X_test[0:9], y_test[0:9], predict[0:9])"
   ]
  },
  {
   "cell_type": "code",
   "execution_count": 38,
   "metadata": {
    "execution": {
     "iopub.execute_input": "2020-12-02T06:37:03.321880Z",
     "iopub.status.busy": "2020-12-02T06:37:03.320724Z",
     "iopub.status.idle": "2020-12-02T06:37:04.297210Z",
     "shell.execute_reply": "2020-12-02T06:37:04.296556Z"
    },
    "papermill": {
     "duration": 4.62955,
     "end_time": "2020-12-02T06:37:04.297358",
     "exception": false,
     "start_time": "2020-12-02T06:36:59.667808",
     "status": "completed"
    },
    "tags": []
   },
   "outputs": [
    {
     "data": {
      "image/png": "[encoded data removed]",
      "text/plain": [
       "<Figure size 432x288 with 9 Axes>"
      ]
     },
     "metadata": {},
     "output_type": "display_data"
    }
   ],
   "source": [
    "# visualize misclassified sample\n",
    "y_pred = model.predict(X_test)\n",
    "cls_pred = np.argmax(y_pred, axis=1)\n",
    "correct = (cls_pred==y_test)\n",
    "plot_example_errors(cls_pred, correct=correct)"
   ]
  },
  {
   "cell_type": "code",
   "execution_count": 39,
   "metadata": {
    "execution": {
     "iopub.execute_input": "2020-12-02T06:37:12.410432Z",
     "iopub.status.busy": "2020-12-02T06:37:12.409414Z",
     "iopub.status.idle": "2020-12-02T06:37:12.411506Z",
     "shell.execute_reply": "2020-12-02T06:37:12.412045Z"
    },
    "papermill": {
     "duration": 4.388516,
     "end_time": "2020-12-02T06:37:12.412212",
     "exception": false,
     "start_time": "2020-12-02T06:37:08.023696",
     "status": "completed"
    },
    "tags": []
   },
   "outputs": [],
   "source": [
    "from keras.models import Model\n",
    "from keras.layers import Input, Reshape, Conv2D, MaxPooling2D, Flatten, Dense\n",
    "from keras import backend as K"
   ]
  },
  {
   "cell_type": "code",
   "execution_count": 40,
   "metadata": {
    "execution": {
     "iopub.execute_input": "2020-12-02T06:37:19.653121Z",
     "iopub.status.busy": "2020-12-02T06:37:19.649886Z",
     "iopub.status.idle": "2020-12-02T06:37:19.706763Z",
     "shell.execute_reply": "2020-12-02T06:37:19.705536Z"
    },
    "papermill": {
     "duration": 3.660217,
     "end_time": "2020-12-02T06:37:19.706889",
     "exception": false,
     "start_time": "2020-12-02T06:37:16.046672",
     "status": "completed"
    },
    "tags": []
   },
   "outputs": [],
   "source": [
    "# model -- 实验五 -- function based model\n",
    "inputs = Input(shape=(img_size_flat, ))\n",
    "net = inputs\n",
    "net = Reshape(img_shape_full)(net)\n",
    "\n",
    "net = Conv2D(kernel_size=5, strides=1, filters=16, padding='same', activation='relu', name='layer_conv1')(net)\n",
    "net = MaxPooling2D(pool_size=2, strides=2)(net)\n",
    "\n",
    "net = Conv2D(kernel_size=5, strides=1, filters=36, padding='same', activation='relu', name='layer_conv2')(net)\n",
    "net = MaxPooling2D(pool_size=2, strides=2)(net)\n",
    "\n",
    "net = Flatten()(net)\n",
    "net = Dense(128, activation='relu')(net)\n",
    "net = Dense(num_classes, activation='softmax')(net)\n",
    "\n",
    "outputs = net\n",
    "\n",
    "# then use keras.models.Model to build model\n",
    "model2 = Model(inputs=inputs, outputs=outputs)"
   ]
  },
  {
   "cell_type": "code",
   "execution_count": 41,
   "metadata": {
    "execution": {
     "iopub.execute_input": "2020-12-02T06:37:27.258972Z",
     "iopub.status.busy": "2020-12-02T06:37:27.257618Z",
     "iopub.status.idle": "2020-12-02T06:37:27.275067Z",
     "shell.execute_reply": "2020-12-02T06:37:27.275925Z"
    },
    "papermill": {
     "duration": 3.64629,
     "end_time": "2020-12-02T06:37:27.276171",
     "exception": false,
     "start_time": "2020-12-02T06:37:23.629881",
     "status": "completed"
    },
    "tags": []
   },
   "outputs": [
    {
     "name": "stdout",
     "output_type": "stream",
     "text": [
      "Model: \"functional_1\"\n",
      "_________________________________________________________________\n",
      "Layer (type)                 Output Shape              Param #   \n",
      "=================================================================\n",
      "input_2 (InputLayer)         [(None, 784)]             0         \n",
      "_________________________________________________________________\n",
      "reshape_1 (Reshape)          (None, 28, 28, 1)         0         \n",
      "_________________________________________________________________\n",
      "layer_conv1 (Conv2D)         (None, 28, 28, 16)        416       \n",
      "_________________________________________________________________\n",
      "max_pooling2d_4 (MaxPooling2 (None, 14, 14, 16)        0         \n",
      "_________________________________________________________________\n",
      "layer_conv2 (Conv2D)         (None, 14, 14, 36)        14436     \n",
      "_________________________________________________________________\n",
      "max_pooling2d_5 (MaxPooling2 (None, 7, 7, 36)          0         \n",
      "_________________________________________________________________\n",
      "flatten_2 (Flatten)          (None, 1764)              0         \n",
      "_________________________________________________________________\n",
      "dense_8 (Dense)              (None, 128)               225920    \n",
      "_________________________________________________________________\n",
      "dense_9 (Dense)              (None, 10)                1290      \n",
      "=================================================================\n",
      "Total params: 242,062\n",
      "Trainable params: 242,062\n",
      "Non-trainable params: 0\n",
      "_________________________________________________________________\n"
     ]
    }
   ],
   "source": [
    "# compile\n",
    "model2.compile(optimizer='rmsprop', loss='categorical_crossentropy', metrics=['accuracy'])\n",
    "# summary\n",
    "model2.summary()"
   ]
  },
  {
   "cell_type": "code",
   "execution_count": 42,
   "metadata": {
    "execution": {
     "iopub.execute_input": "2020-12-02T06:37:34.784796Z",
     "iopub.status.busy": "2020-12-02T06:37:34.783773Z",
     "iopub.status.idle": "2020-12-02T06:37:38.460218Z",
     "shell.execute_reply": "2020-12-02T06:37:38.461366Z"
    },
    "papermill": {
     "duration": 7.58735,
     "end_time": "2020-12-02T06:37:38.461567",
     "exception": false,
     "start_time": "2020-12-02T06:37:30.874217",
     "status": "completed"
    },
    "tags": []
   },
   "outputs": [
    {
     "name": "stdout",
     "output_type": "stream",
     "text": [
      "430/430 [==============================] - 3s 7ms/step - loss: 0.2035 - accuracy: 0.9379 - val_loss: 0.0589 - val_accuracy: 0.9828\n"
     ]
    },
    {
     "data": {
      "text/plain": [
       "<tensorflow.python.keras.callbacks.History at 0x7f2b80450850>"
      ]
     },
     "execution_count": 42,
     "metadata": {},
     "output_type": "execute_result"
    }
   ],
   "source": [
    "# fit\n",
    "model2.fit(X_train, train_labels, batch_size=128, epochs=1, validation_split=1/12, verbose=True)"
   ]
  },
  {
   "cell_type": "code",
   "execution_count": 43,
   "metadata": {
    "execution": {
     "iopub.execute_input": "2020-12-02T06:37:46.731956Z",
     "iopub.status.busy": "2020-12-02T06:37:46.730471Z",
     "iopub.status.idle": "2020-12-02T06:37:47.503401Z",
     "shell.execute_reply": "2020-12-02T06:37:47.504724Z"
    },
    "papermill": {
     "duration": 4.965489,
     "end_time": "2020-12-02T06:37:47.504884",
     "exception": false,
     "start_time": "2020-12-02T06:37:42.539395",
     "status": "completed"
    },
    "tags": []
   },
   "outputs": [
    {
     "name": "stdout",
     "output_type": "stream",
     "text": [
      "313/313 [==============================] - 1s 2ms/step - loss: 0.0548 - accuracy: 0.9819\n",
      "loss 0.05484490841627121\n",
      "accuracy 0.9818999767303467\n"
     ]
    }
   ],
   "source": [
    "# evaluate\n",
    "result = model2.evaluate(X_test, test_labels, verbose=True)\n",
    "print(model2.metrics_names[0], result[0])\n",
    "print(model2.metrics_names[1], result[1])"
   ]
  },
  {
   "cell_type": "code",
   "execution_count": 44,
   "metadata": {
    "execution": {
     "iopub.execute_input": "2020-12-02T06:37:55.033549Z",
     "iopub.status.busy": "2020-12-02T06:37:55.032334Z",
     "iopub.status.idle": "2020-12-02T06:37:55.842548Z",
     "shell.execute_reply": "2020-12-02T06:37:55.841868Z"
    },
    "papermill": {
     "duration": 4.680317,
     "end_time": "2020-12-02T06:37:55.842696",
     "exception": false,
     "start_time": "2020-12-02T06:37:51.162379",
     "status": "completed"
    },
    "tags": []
   },
   "outputs": [
    {
     "data": {
      "image/png": "[encoded data removed]",
      "text/plain": [
       "<Figure size 432x288 with 9 Axes>"
      ]
     },
     "metadata": {},
     "output_type": "display_data"
    }
   ],
   "source": [
    "# predict\n",
    "predict = model2.predict(X_test)\n",
    "predict = np.argmax(predict, axis=1)\n",
    "\n",
    "# visualize correctly classified sample\n",
    "plot_images(X_test[0:9], y_test[0:9], predict[0:9])"
   ]
  },
  {
   "cell_type": "code",
   "execution_count": 45,
   "metadata": {
    "execution": {
     "iopub.execute_input": "2020-12-02T06:38:03.183936Z",
     "iopub.status.busy": "2020-12-02T06:38:03.182686Z",
     "iopub.status.idle": "2020-12-02T06:38:03.917407Z",
     "shell.execute_reply": "2020-12-02T06:38:03.916690Z"
    },
    "papermill": {
     "duration": 4.363885,
     "end_time": "2020-12-02T06:38:03.917545",
     "exception": false,
     "start_time": "2020-12-02T06:37:59.553660",
     "status": "completed"
    },
    "tags": []
   },
   "outputs": [
    {
     "data": {
      "image/png": "[encoded data removed]",
      "text/plain": [
       "<Figure size 432x288 with 9 Axes>"
      ]
     },
     "metadata": {},
     "output_type": "display_data"
    }
   ],
   "source": [
    "# visualize misclassified sample\n",
    "y_pred = model.predict(X_test)\n",
    "cls_pred = np.argmax(y_pred, axis=1)\n",
    "correct = (cls_pred==y_test)\n",
    "plot_example_errors(cls_pred, correct=correct)"
   ]
  },
  {
   "cell_type": "markdown",
   "metadata": {
    "papermill": {
     "duration": 3.618034,
     "end_time": "2020-12-02T06:38:11.500407",
     "exception": false,
     "start_time": "2020-12-02T06:38:07.882373",
     "status": "completed"
    },
    "tags": []
   },
   "source": [
    "save model & load model"
   ]
  },
  {
   "cell_type": "code",
   "execution_count": 46,
   "metadata": {
    "execution": {
     "iopub.execute_input": "2020-12-02T06:38:19.671795Z",
     "iopub.status.busy": "2020-12-02T06:38:19.670590Z",
     "iopub.status.idle": "2020-12-02T06:38:19.672773Z",
     "shell.execute_reply": "2020-12-02T06:38:19.673543Z"
    },
    "papermill": {
     "duration": 3.927558,
     "end_time": "2020-12-02T06:38:19.673700",
     "exception": false,
     "start_time": "2020-12-02T06:38:15.746142",
     "status": "completed"
    },
    "tags": []
   },
   "outputs": [],
   "source": [
    "from keras.models import load_model\n",
    "import math"
   ]
  },
  {
   "cell_type": "code",
   "execution_count": 47,
   "metadata": {
    "execution": {
     "iopub.execute_input": "2020-12-02T06:38:27.293391Z",
     "iopub.status.busy": "2020-12-02T06:38:27.292359Z",
     "iopub.status.idle": "2020-12-02T06:38:28.945673Z",
     "shell.execute_reply": "2020-12-02T06:38:28.944895Z"
    },
    "papermill": {
     "duration": 5.626061,
     "end_time": "2020-12-02T06:38:28.945812",
     "exception": false,
     "start_time": "2020-12-02T06:38:23.319751",
     "status": "completed"
    },
    "tags": []
   },
   "outputs": [
    {
     "name": "stdout",
     "output_type": "stream",
     "text": [
      "Model: \"sequential_3\"\n",
      "_________________________________________________________________\n",
      "Layer (type)                 Output Shape              Param #   \n",
      "=================================================================\n",
      "reshape (Reshape)            (None, 28, 28, 1)         0         \n",
      "_________________________________________________________________\n",
      "layer_conv1 (Conv2D)         (None, 28, 28, 36)        936       \n",
      "_________________________________________________________________\n",
      "max_pooling2d_2 (MaxPooling2 (None, 14, 14, 36)        0         \n",
      "_________________________________________________________________\n",
      "layer_conv2 (Conv2D)         (None, 14, 14, 36)        32436     \n",
      "_________________________________________________________________\n",
      "max_pooling2d_3 (MaxPooling2 (None, 7, 7, 36)          0         \n",
      "_________________________________________________________________\n",
      "flatten_1 (Flatten)          (None, 1764)              0         \n",
      "_________________________________________________________________\n",
      "dense_6 (Dense)              (None, 128)               225920    \n",
      "_________________________________________________________________\n",
      "dense_7 (Dense)              (None, 10)                1290      \n",
      "=================================================================\n",
      "Total params: 260,582\n",
      "Trainable params: 260,582\n",
      "Non-trainable params: 0\n",
      "_________________________________________________________________\n"
     ]
    }
   ],
   "source": [
    "# save model\n",
    "path_model = 'model2.pkl'\n",
    "model2.save(path_model)\n",
    "\n",
    "# del model\n",
    "del model2\n",
    "\n",
    "# load mdoel\n",
    "model3 = load_model('/kaggle/working/model2.pkl')\n",
    "model.summary()"
   ]
  },
  {
   "cell_type": "code",
   "execution_count": 48,
   "metadata": {
    "execution": {
     "iopub.execute_input": "2020-12-02T06:38:36.221474Z",
     "iopub.status.busy": "2020-12-02T06:38:36.195257Z",
     "iopub.status.idle": "2020-12-02T06:38:38.110129Z",
     "shell.execute_reply": "2020-12-02T06:38:38.109044Z"
    },
    "papermill": {
     "duration": 5.540328,
     "end_time": "2020-12-02T06:38:38.110265",
     "exception": false,
     "start_time": "2020-12-02T06:38:32.569937",
     "status": "completed"
    },
    "tags": []
   },
   "outputs": [
    {
     "data": {
      "image/png": "[encoded data removed]",
      "text/plain": [
       "<Figure size 432x288 with 9 Axes>"
      ]
     },
     "metadata": {},
     "output_type": "display_data"
    }
   ],
   "source": [
    "# predict (use loaded model)\n",
    "predict = model3.predict(X_test)\n",
    "predict = np.argmax(predict, axis=1)\n",
    "plot_images(X_test[0:9], y_test[0:9], predict[0:9])"
   ]
  },
  {
   "cell_type": "code",
   "execution_count": 49,
   "metadata": {
    "execution": {
     "iopub.execute_input": "2020-12-02T06:38:46.134757Z",
     "iopub.status.busy": "2020-12-02T06:38:46.133399Z",
     "iopub.status.idle": "2020-12-02T06:38:46.135706Z",
     "shell.execute_reply": "2020-12-02T06:38:46.136380Z"
    },
    "papermill": {
     "duration": 3.992367,
     "end_time": "2020-12-02T06:38:46.136528",
     "exception": false,
     "start_time": "2020-12-02T06:38:42.144161",
     "status": "completed"
    },
    "tags": []
   },
   "outputs": [],
   "source": [
    "# output conv-weights layer function\n",
    "def plot_conv_weights(weights, input_channel=0):\n",
    "    # get params\n",
    "    w_min = np.min(weights)\n",
    "    w_max = np.max(weights)\n",
    "    num_filters = weights.shape[3]\n",
    "    \n",
    "    # plot-prework\n",
    "    num_grids = math.ceil(math.sqrt(num_filters))\n",
    "    fig, axes = plt.subplots(num_grids, num_grids)\n",
    "    for i, ax in enumerate(axes.flat):\n",
    "        if i < num_filters:\n",
    "            img = weights[:, :, input_channel, i]\n",
    "            ax.imshow(img, vmin=w_min, vmax=w_max, interpolation='nearest', cmap='seismic')\n",
    "        ax.set_xticks([])\n",
    "        ax.set_yticks([])\n",
    "    plt.show()\n",
    "    \n",
    "# output conv-output \n",
    "def plot_conv_output(values):\n",
    "    # get params\n",
    "    num_filters = values.shape[3]\n",
    "    \n",
    "    # plot-prework\n",
    "    num_grids = math.ceil(math.sqrt(num_filters))\n",
    "    fig, axes = plt.subplots(num_grids, num_grids)\n",
    "    for i, ax in enumerate(axes.flat):\n",
    "        if i < num_filters:\n",
    "            img = values[0, :, :, i]\n",
    "            ax.imshow(img, interpolation='nearest', cmap='binary')\n",
    "        ax.set_xticks([])\n",
    "        ax.set_yticks([])\n",
    "    plt.show()"
   ]
  },
  {
   "cell_type": "code",
   "execution_count": 50,
   "metadata": {
    "execution": {
     "iopub.execute_input": "2020-12-02T06:38:54.370074Z",
     "iopub.status.busy": "2020-12-02T06:38:54.368911Z",
     "iopub.status.idle": "2020-12-02T06:38:54.382281Z",
     "shell.execute_reply": "2020-12-02T06:38:54.381689Z"
    },
    "papermill": {
     "duration": 3.670631,
     "end_time": "2020-12-02T06:38:54.382411",
     "exception": false,
     "start_time": "2020-12-02T06:38:50.711780",
     "status": "completed"
    },
    "tags": []
   },
   "outputs": [
    {
     "name": "stdout",
     "output_type": "stream",
     "text": [
      "Model: \"functional_1\"\n",
      "_________________________________________________________________\n",
      "Layer (type)                 Output Shape              Param #   \n",
      "=================================================================\n",
      "input_2 (InputLayer)         [(None, 784)]             0         \n",
      "_________________________________________________________________\n",
      "reshape_1 (Reshape)          (None, 28, 28, 1)         0         \n",
      "_________________________________________________________________\n",
      "layer_conv1 (Conv2D)         (None, 28, 28, 16)        416       \n",
      "_________________________________________________________________\n",
      "max_pooling2d_4 (MaxPooling2 (None, 14, 14, 16)        0         \n",
      "_________________________________________________________________\n",
      "layer_conv2 (Conv2D)         (None, 14, 14, 36)        14436     \n",
      "_________________________________________________________________\n",
      "max_pooling2d_5 (MaxPooling2 (None, 7, 7, 36)          0         \n",
      "_________________________________________________________________\n",
      "flatten_2 (Flatten)          (None, 1764)              0         \n",
      "_________________________________________________________________\n",
      "dense_8 (Dense)              (None, 128)               225920    \n",
      "_________________________________________________________________\n",
      "dense_9 (Dense)              (None, 10)                1290      \n",
      "=================================================================\n",
      "Total params: 242,062\n",
      "Trainable params: 242,062\n",
      "Non-trainable params: 0\n",
      "_________________________________________________________________\n"
     ]
    }
   ],
   "source": [
    "# summary\n",
    "model3.summary()"
   ]
  },
  {
   "cell_type": "code",
   "execution_count": 51,
   "metadata": {
    "execution": {
     "iopub.execute_input": "2020-12-02T06:39:02.048462Z",
     "iopub.status.busy": "2020-12-02T06:39:02.047282Z",
     "iopub.status.idle": "2020-12-02T06:39:04.148418Z",
     "shell.execute_reply": "2020-12-02T06:39:04.147312Z"
    },
    "papermill": {
     "duration": 6.052155,
     "end_time": "2020-12-02T06:39:04.148602",
     "exception": false,
     "start_time": "2020-12-02T06:38:58.096447",
     "status": "completed"
    },
    "tags": []
   },
   "outputs": [
    {
     "data": {
      "image/png": "[encoded data removed]",
      "text/plain": [
       "<Figure size 432x288 with 16 Axes>"
      ]
     },
     "metadata": {},
     "output_type": "display_data"
    },
    {
     "data": {
      "image/png": "[encoded data removed]",
      "text/plain": [
       "<Figure size 432x288 with 36 Axes>"
      ]
     },
     "metadata": {},
     "output_type": "display_data"
    }
   ],
   "source": [
    "# get layer and output intermediate layer\n",
    "# select by summary output\n",
    "\n",
    "# get layers\n",
    "layer_input = model3.layers[0]\n",
    "layer_conv1 = model3.layers[2]\n",
    "layer_conv2 = model3.layers[4]\n",
    "\n",
    "# get weights\n",
    "weights_conv1 = layer_conv1.get_weights()[0]\n",
    "plot_conv_weights(weights=weights_conv1, input_channel=0)\n",
    "weights_conv2 = layer_conv2.get_weights()[0]\n",
    "plot_conv_weights(weights=weights_conv2, input_channel=0)"
   ]
  },
  {
   "cell_type": "code",
   "execution_count": 52,
   "metadata": {
    "execution": {
     "iopub.execute_input": "2020-12-02T06:39:11.773627Z",
     "iopub.status.busy": "2020-12-02T06:39:11.772224Z",
     "iopub.status.idle": "2020-12-02T06:39:11.934406Z",
     "shell.execute_reply": "2020-12-02T06:39:11.933682Z"
    },
    "papermill": {
     "duration": 4.123652,
     "end_time": "2020-12-02T06:39:11.934547",
     "exception": false,
     "start_time": "2020-12-02T06:39:07.810895",
     "status": "completed"
    },
    "tags": []
   },
   "outputs": [
    {
     "data": {
      "image/png": "[encoded data removed]",
      "text/plain": [
       "<Figure size 432x288 with 1 Axes>"
      ]
     },
     "metadata": {
      "needs_background": "light"
     },
     "output_type": "display_data"
    }
   ],
   "source": [
    "# input images\n",
    "image1 = X_test[0]\n",
    "plot_image(image1)"
   ]
  },
  {
   "cell_type": "code",
   "execution_count": 53,
   "metadata": {
    "execution": {
     "iopub.execute_input": "2020-12-02T06:39:19.342073Z",
     "iopub.status.busy": "2020-12-02T06:39:19.341003Z",
     "iopub.status.idle": "2020-12-02T06:39:20.229887Z",
     "shell.execute_reply": "2020-12-02T06:39:20.228626Z"
    },
    "papermill": {
     "duration": 4.636331,
     "end_time": "2020-12-02T06:39:20.230058",
     "exception": false,
     "start_time": "2020-12-02T06:39:15.593727",
     "status": "completed"
    },
    "tags": []
   },
   "outputs": [
    {
     "name": "stdout",
     "output_type": "stream",
     "text": [
      "(1, 28, 28, 16)\n"
     ]
    },
    {
     "data": {
      "image/png": "[encoded data removed]",
      "text/plain": [
       "<Figure size 432x288 with 16 Axes>"
      ]
     },
     "metadata": {},
     "output_type": "display_data"
    }
   ],
   "source": [
    "# output conv1 layer\n",
    "output_conv1 = K.function(inputs=[layer_input.input], outputs=[layer_conv1.output])\n",
    "layer_output1 = output_conv1(np.array([image1]))[0]\n",
    "print(layer_output1.shape)\n",
    "plot_conv_output(values=layer_output1)"
   ]
  },
  {
   "cell_type": "code",
   "execution_count": 54,
   "metadata": {
    "execution": {
     "iopub.execute_input": "2020-12-02T06:39:28.464989Z",
     "iopub.status.busy": "2020-12-02T06:39:28.463713Z",
     "iopub.status.idle": "2020-12-02T06:39:29.960576Z",
     "shell.execute_reply": "2020-12-02T06:39:29.961230Z"
    },
    "papermill": {
     "duration": 5.245627,
     "end_time": "2020-12-02T06:39:29.961394",
     "exception": false,
     "start_time": "2020-12-02T06:39:24.715767",
     "status": "completed"
    },
    "tags": []
   },
   "outputs": [
    {
     "name": "stdout",
     "output_type": "stream",
     "text": [
      "(1, 14, 14, 36)\n"
     ]
    },
    {
     "data": {
      "image/png": "[encoded data removed]",
      "text/plain": [
       "<Figure size 432x288 with 36 Axes>"
      ]
     },
     "metadata": {},
     "output_type": "display_data"
    }
   ],
   "source": [
    "# output conv2 layer\n",
    "output_conv2 = Model(inputs=layer_input.input, outputs=layer_conv2.output)\n",
    "layer_output2 = output_conv2.predict(np.array([image1]))\n",
    "print(layer_output2.shape)\n",
    "plot_conv_output(values=layer_output2)"
   ]
  },
  {
   "cell_type": "code",
   "execution_count": null,
   "metadata": {
    "papermill": {
     "duration": 4.193553,
     "end_time": "2020-12-02T06:39:38.126407",
     "exception": false,
     "start_time": "2020-12-02T06:39:33.932854",
     "status": "completed"
    },
    "tags": []
   },
   "outputs": [],
   "source": []
  }
 ],
 "metadata": {
  "kernelspec": {
   "display_name": "Python 3",
   "language": "python",
   "name": "python3"
  },
  "language_info": {
   "codemirror_mode": {
    "name": "ipython",
    "version": 3
   },
   "file_extension": ".py",
   "mimetype": "text/x-python",
   "name": "python",
   "nbconvert_exporter": "python",
   "pygments_lexer": "ipython3",
   "version": "3.7.6"
  },
  "papermill": {
   "duration": 932.823165,
   "end_time": "2020-12-02T06:39:44.157733",
   "environment_variables": {},
   "exception": null,
   "input_path": "__notebook__.ipynb",
   "output_path": "__notebook__.ipynb",
   "parameters": {},
   "start_time": "2020-12-02T06:24:11.334568",
   "version": "2.1.0"
  }
 },
 "nbformat": 4,
 "nbformat_minor": 4
}
