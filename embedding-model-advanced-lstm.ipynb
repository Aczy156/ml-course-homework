{
 "cells": [
  {
   "cell_type": "markdown",
   "metadata": {
    "papermill": {
     "duration": 0.025616,
     "end_time": "2020-12-16T00:27:19.616073",
     "exception": false,
     "start_time": "2020-12-16T00:27:19.590457",
     "status": "completed"
    },
    "tags": []
   },
   "source": [
    "## prework\n",
    "\n",
    "* import basic dependencies\n",
    "* get data -- keras.dataset imdb(IMDB电影评论情感分类数据集)"
   ]
  },
  {
   "cell_type": "code",
   "execution_count": 1,
   "metadata": {
    "_cell_guid": "b1076dfc-b9ad-4769-8c92-a6c4dae69d19",
    "_uuid": "8f2839f25d086af736a60e9eeb907d3b93b6e0e5",
    "execution": {
     "iopub.execute_input": "2020-12-16T00:27:19.671849Z",
     "iopub.status.busy": "2020-12-16T00:27:19.670932Z",
     "iopub.status.idle": "2020-12-16T00:27:19.674464Z",
     "shell.execute_reply": "2020-12-16T00:27:19.673879Z"
    },
    "papermill": {
     "duration": 0.034292,
     "end_time": "2020-12-16T00:27:19.674588",
     "exception": false,
     "start_time": "2020-12-16T00:27:19.640296",
     "status": "completed"
    },
    "tags": []
   },
   "outputs": [],
   "source": [
    "# This Python 3 environment comes with many helpful analytics libraries installed\n",
    "# It is defined by the kaggle/python Docker image: https://github.com/kaggle/docker-python\n",
    "# For example, here's several helpful packages to load\n",
    "\n",
    "import numpy as np # linear algebra\n",
    "import pandas as pd # data processing, CSV file I/O (e.g. pd.read_csv)\n",
    "\n",
    "# Input data files are available in the read-only \"../input/\" directory\n",
    "# For example, running this (by clicking run or pressing Shift+Enter) will list all files under the input directory\n",
    "\n",
    "import os\n",
    "for dirname, _, filenames in os.walk('/kaggle/input'):\n",
    "    for filename in filenames:\n",
    "        print(os.path.join(dirname, filename))\n",
    "\n",
    "# You can write up to 20GB to the current directory (/kaggle/working/) that gets preserved as output when you create a version using \"Save & Run All\" \n",
    "# You can also write temporary files to /kaggle/temp/, but they won't be saved outside of the current session"
   ]
  },
  {
   "cell_type": "code",
   "execution_count": 2,
   "metadata": {
    "execution": {
     "iopub.execute_input": "2020-12-16T00:27:19.731921Z",
     "iopub.status.busy": "2020-12-16T00:27:19.731007Z",
     "iopub.status.idle": "2020-12-16T00:27:20.785391Z",
     "shell.execute_reply": "2020-12-16T00:27:20.784332Z"
    },
    "papermill": {
     "duration": 1.086195,
     "end_time": "2020-12-16T00:27:20.785510",
     "exception": false,
     "start_time": "2020-12-16T00:27:19.699315",
     "status": "completed"
    },
    "tags": []
   },
   "outputs": [],
   "source": [
    "import matplotlib.pyplot as plt\n",
    "%matplotlib inline\n",
    "import seaborn as sns"
   ]
  },
  {
   "cell_type": "code",
   "execution_count": 3,
   "metadata": {
    "execution": {
     "iopub.execute_input": "2020-12-16T00:27:20.840533Z",
     "iopub.status.busy": "2020-12-16T00:27:20.839500Z",
     "iopub.status.idle": "2020-12-16T00:27:20.843735Z",
     "shell.execute_reply": "2020-12-16T00:27:20.844426Z"
    },
    "papermill": {
     "duration": 0.032655,
     "end_time": "2020-12-16T00:27:20.844574",
     "exception": false,
     "start_time": "2020-12-16T00:27:20.811919",
     "status": "completed"
    },
    "tags": []
   },
   "outputs": [],
   "source": [
    "# hyper-parameters\n",
    "maxlen = 20\n",
    "max_features = 10000 \n",
    "embedding_dim = 8"
   ]
  },
  {
   "cell_type": "code",
   "execution_count": 4,
   "metadata": {
    "execution": {
     "iopub.execute_input": "2020-12-16T00:27:20.897468Z",
     "iopub.status.busy": "2020-12-16T00:27:20.896460Z",
     "iopub.status.idle": "2020-12-16T00:27:36.463573Z",
     "shell.execute_reply": "2020-12-16T00:27:36.464055Z"
    },
    "papermill": {
     "duration": 15.595241,
     "end_time": "2020-12-16T00:27:36.464237",
     "exception": false,
     "start_time": "2020-12-16T00:27:20.868996",
     "status": "completed"
    },
    "tags": []
   },
   "outputs": [
    {
     "name": "stdout",
     "output_type": "stream",
     "text": [
      "Downloading data from https://storage.googleapis.com/tensorflow/tf-keras-datasets/imdb.npz\n",
      "17465344/17464789 [==============================] - 0s 0us/step\n"
     ]
    },
    {
     "data": {
      "text/plain": [
       "((25000,), (25000,), (25000,), (25000,))"
      ]
     },
     "execution_count": 4,
     "metadata": {},
     "output_type": "execute_result"
    }
   ],
   "source": [
    "# get data -- imdb(movie review)\n",
    "from keras.datasets import imdb\n",
    "\n",
    "(x_train, y_train), (x_test, y_test) = imdb.load_data(num_words=max_features)\n",
    "x_train.shape, x_test.shape, y_train.shape, y_test.shape"
   ]
  },
  {
   "cell_type": "markdown",
   "metadata": {
    "papermill": {
     "duration": 0.035373,
     "end_time": "2020-12-16T00:27:36.527310",
     "exception": false,
     "start_time": "2020-12-16T00:27:36.491937",
     "status": "completed"
    },
    "tags": []
   },
   "source": [
    "## data preprocessing\n",
    "\n",
    "* hyper-parameters\n",
    "    * max_length\n",
    "    * embedding_dim\n",
    "* build dict\n",
    "    * word level 单词级别\n",
    "    * characters level 字符级别\n",
    "* one-hot encoding\n",
    "* transform to model input data"
   ]
  },
  {
   "cell_type": "code",
   "execution_count": 5,
   "metadata": {
    "execution": {
     "iopub.execute_input": "2020-12-16T00:27:36.588848Z",
     "iopub.status.busy": "2020-12-16T00:27:36.587823Z",
     "iopub.status.idle": "2020-12-16T00:27:36.592237Z",
     "shell.execute_reply": "2020-12-16T00:27:36.591553Z"
    },
    "papermill": {
     "duration": 0.036701,
     "end_time": "2020-12-16T00:27:36.592352",
     "exception": false,
     "start_time": "2020-12-16T00:27:36.555651",
     "status": "completed"
    },
    "tags": []
   },
   "outputs": [],
   "source": [
    "import string\n",
    "\n",
    "from keras.preprocessing.sequence import pad_sequences"
   ]
  },
  {
   "cell_type": "code",
   "execution_count": 6,
   "metadata": {
    "execution": {
     "iopub.execute_input": "2020-12-16T00:27:36.653338Z",
     "iopub.status.busy": "2020-12-16T00:27:36.652303Z",
     "iopub.status.idle": "2020-12-16T00:27:36.654828Z",
     "shell.execute_reply": "2020-12-16T00:27:36.655354Z"
    },
    "papermill": {
     "duration": 0.034857,
     "end_time": "2020-12-16T00:27:36.655493",
     "exception": false,
     "start_time": "2020-12-16T00:27:36.620636",
     "status": "completed"
    },
    "tags": []
   },
   "outputs": [],
   "source": [
    "# hyper-parameters\n",
    "word_max_length = 10 # select top 10 in words-dict\n",
    "character_max_length = 50 # select top 50 in characters-dict"
   ]
  },
  {
   "cell_type": "code",
   "execution_count": 7,
   "metadata": {
    "_cell_guid": "79c7e3d0-c299-4dcb-8224-4455121ee9b0",
    "_uuid": "d629ff2d2480ee46fbb7e2d37f6b5fab8052498a",
    "execution": {
     "iopub.execute_input": "2020-12-16T00:27:36.715322Z",
     "iopub.status.busy": "2020-12-16T00:27:36.714349Z",
     "iopub.status.idle": "2020-12-16T00:27:36.718516Z",
     "shell.execute_reply": "2020-12-16T00:27:36.719091Z"
    },
    "papermill": {
     "duration": 0.035384,
     "end_time": "2020-12-16T00:27:36.719272",
     "exception": false,
     "start_time": "2020-12-16T00:27:36.683888",
     "status": "completed"
    },
    "tags": []
   },
   "outputs": [],
   "source": [
    "# sample data\n",
    "samples = ['The cat sat on the mat.', 'The dog ate my homework.', 'a panda is sleeping.']"
   ]
  },
  {
   "cell_type": "code",
   "execution_count": 8,
   "metadata": {
    "execution": {
     "iopub.execute_input": "2020-12-16T00:27:36.778865Z",
     "iopub.status.busy": "2020-12-16T00:27:36.777881Z",
     "iopub.status.idle": "2020-12-16T00:27:36.785493Z",
     "shell.execute_reply": "2020-12-16T00:27:36.786401Z"
    },
    "papermill": {
     "duration": 0.039578,
     "end_time": "2020-12-16T00:27:36.786595",
     "exception": false,
     "start_time": "2020-12-16T00:27:36.747017",
     "status": "completed"
    },
    "tags": []
   },
   "outputs": [
    {
     "name": "stdout",
     "output_type": "stream",
     "text": [
      "{'The': 1, 'cat': 2, 'sat': 3, 'on': 4, 'the': 5, 'mat.': 6, 'dog': 7, 'ate': 8, 'my': 9, 'homework.': 10, 'a': 11, 'panda': 12, 'is': 13, 'sleeping.': 14}\n"
     ]
    }
   ],
   "source": [
    "# build dict -- word level\n",
    "words_token_index = {}\n",
    "for sample in samples:\n",
    "    for word in sample.split():\n",
    "        if word not in words_token_index:\n",
    "            words_token_index[word] = len(words_token_index) + 1\n",
    "\n",
    "# visualize index dict\n",
    "print(words_token_index)"
   ]
  },
  {
   "cell_type": "code",
   "execution_count": 9,
   "metadata": {
    "execution": {
     "iopub.execute_input": "2020-12-16T00:27:36.848055Z",
     "iopub.status.busy": "2020-12-16T00:27:36.847437Z",
     "iopub.status.idle": "2020-12-16T00:27:36.856089Z",
     "shell.execute_reply": "2020-12-16T00:27:36.857070Z"
    },
    "papermill": {
     "duration": 0.040748,
     "end_time": "2020-12-16T00:27:36.857292",
     "exception": false,
     "start_time": "2020-12-16T00:27:36.816544",
     "status": "completed"
    },
    "tags": []
   },
   "outputs": [
    {
     "name": "stdout",
     "output_type": "stream",
     "text": [
      "[0. 0. 0. 0. 0. 0. 0. 0. 0. 0. 0. 0. 0. 0. 1.]\n"
     ]
    }
   ],
   "source": [
    "results = np.zeros((len(samples), word_max_length, max(words_token_index.values())+1))\n",
    "for i, sample in enumerate(samples):\n",
    "    for j, word in list(enumerate(sample.split()))[:word_max_length]:\n",
    "        index = words_token_index.get(word)\n",
    "        results[i, j, index] = 1.\n",
    "\n",
    "# visualize encoding output\n",
    "print(results[2, 3]) # test word 'sleeping' => the last one"
   ]
  },
  {
   "cell_type": "code",
   "execution_count": 10,
   "metadata": {
    "execution": {
     "iopub.execute_input": "2020-12-16T00:27:36.921667Z",
     "iopub.status.busy": "2020-12-16T00:27:36.920925Z",
     "iopub.status.idle": "2020-12-16T00:27:36.924406Z",
     "shell.execute_reply": "2020-12-16T00:27:36.924984Z"
    },
    "papermill": {
     "duration": 0.038743,
     "end_time": "2020-12-16T00:27:36.925157",
     "exception": false,
     "start_time": "2020-12-16T00:27:36.886414",
     "status": "completed"
    },
    "tags": []
   },
   "outputs": [
    {
     "name": "stdout",
     "output_type": "stream",
     "text": [
      "{'0': 1, '1': 2, '2': 3, '3': 4, '4': 5, '5': 6, '6': 7, '7': 8, '8': 9, '9': 10, 'a': 11, 'b': 12, 'c': 13, 'd': 14, 'e': 15, 'f': 16, 'g': 17, 'h': 18, 'i': 19, 'j': 20, 'k': 21, 'l': 22, 'm': 23, 'n': 24, 'o': 25, 'p': 26, 'q': 27, 'r': 28, 's': 29, 't': 30, 'u': 31, 'v': 32, 'w': 33, 'x': 34, 'y': 35, 'z': 36, 'A': 37, 'B': 38, 'C': 39, 'D': 40, 'E': 41, 'F': 42, 'G': 43, 'H': 44, 'I': 45, 'J': 46, 'K': 47, 'L': 48, 'M': 49, 'N': 50, 'O': 51, 'P': 52, 'Q': 53, 'R': 54, 'S': 55, 'T': 56, 'U': 57, 'V': 58, 'W': 59, 'X': 60, 'Y': 61, 'Z': 62, '!': 63, '\"': 64, '#': 65, '$': 66, '%': 67, '&': 68, \"'\": 69, '(': 70, ')': 71, '*': 72, '+': 73, ',': 74, '-': 75, '.': 76, '/': 77, ':': 78, ';': 79, '<': 80, '=': 81, '>': 82, '?': 83, '@': 84, '[': 85, '\\\\': 86, ']': 87, '^': 88, '_': 89, '`': 90, '{': 91, '|': 92, '}': 93, '~': 94, ' ': 95, '\\t': 96, '\\n': 97, '\\r': 98, '\\x0b': 99, '\\x0c': 100}\n"
     ]
    }
   ],
   "source": [
    "# build dict -- characters level\n",
    "characters = string.printable\n",
    "characters_token_index = dict(zip(characters, range(1, len(characters) + 1)))\n",
    "print(characters_token_index)"
   ]
  },
  {
   "cell_type": "code",
   "execution_count": 11,
   "metadata": {
    "execution": {
     "iopub.execute_input": "2020-12-16T00:27:36.995833Z",
     "iopub.status.busy": "2020-12-16T00:27:36.995008Z",
     "iopub.status.idle": "2020-12-16T00:27:36.998300Z",
     "shell.execute_reply": "2020-12-16T00:27:36.998828Z"
    },
    "papermill": {
     "duration": 0.043243,
     "end_time": "2020-12-16T00:27:36.998992",
     "exception": false,
     "start_time": "2020-12-16T00:27:36.955749",
     "status": "completed"
    },
    "tags": []
   },
   "outputs": [
    {
     "name": "stdout",
     "output_type": "stream",
     "text": [
      "[0. 0. 0. 0. 0. 0. 0. 0. 0. 0. 0. 1. 0. 0. 0. 0. 0. 0. 0. 0. 0. 0. 0. 0.\n",
      " 0. 0. 0. 0. 0. 0. 0. 0. 0. 0. 0. 0. 0. 0. 0. 0. 0. 0. 0. 0. 0. 0. 0. 0.\n",
      " 0. 0. 0. 0. 0. 0. 0. 0. 0. 0. 0. 0. 0. 0. 0. 0. 0. 0. 0. 0. 0. 0. 0. 0.\n",
      " 0. 0. 0. 0. 0. 0. 0. 0. 0. 0. 0. 0. 0. 0. 0. 0. 0. 0. 0. 0. 0. 0. 0. 0.\n",
      " 0. 0. 0. 0. 0.]\n"
     ]
    }
   ],
   "source": [
    "results = np.zeros((len(samples), character_max_length, max(characters_token_index.values())+1))\n",
    "for i, sample in enumerate(samples):\n",
    "    for j, character in enumerate(sample[:character_max_length]):\n",
    "        index = characters_token_index.get(character)\n",
    "        results[i, j, index] = 1.\n",
    "\n",
    "# visualize encoding output\n",
    "print(results[2, 0]) # test character 'a' => 12th(11 index)"
   ]
  },
  {
   "cell_type": "markdown",
   "metadata": {
    "papermill": {
     "duration": 0.029187,
     "end_time": "2020-12-16T00:27:37.057561",
     "exception": false,
     "start_time": "2020-12-16T00:27:37.028374",
     "status": "completed"
    },
    "tags": []
   },
   "source": [
    "### then process IMDB dataset\n",
    "\n",
    "* imdb parameters\n",
    "    * maxlen\n",
    "* pad_sequences"
   ]
  },
  {
   "cell_type": "code",
   "execution_count": 12,
   "metadata": {
    "execution": {
     "iopub.execute_input": "2020-12-16T00:27:37.130001Z",
     "iopub.status.busy": "2020-12-16T00:27:37.129037Z",
     "iopub.status.idle": "2020-12-16T00:27:37.769549Z",
     "shell.execute_reply": "2020-12-16T00:27:37.768973Z"
    },
    "papermill": {
     "duration": 0.682943,
     "end_time": "2020-12-16T00:27:37.769661",
     "exception": false,
     "start_time": "2020-12-16T00:27:37.086718",
     "status": "completed"
    },
    "tags": []
   },
   "outputs": [
    {
     "data": {
      "text/plain": [
       "((25000, 20), (25000, 20))"
      ]
     },
     "execution_count": 12,
     "metadata": {},
     "output_type": "execute_result"
    }
   ],
   "source": [
    "# pad_sequences\n",
    "x_train = pad_sequences(x_train, maxlen=maxlen)\n",
    "x_test = pad_sequences(x_test, maxlen=maxlen)\n",
    "x_train.shape, x_test.shape"
   ]
  },
  {
   "cell_type": "markdown",
   "metadata": {
    "papermill": {
     "duration": 0.029409,
     "end_time": "2020-12-16T00:27:37.829027",
     "exception": false,
     "start_time": "2020-12-16T00:27:37.799618",
     "status": "completed"
    },
    "tags": []
   },
   "source": [
    "## Model\n",
    "\n",
    "* load keras dependencies\n",
    "* hyper-parameters\n",
    "* build model\n",
    "* compile, summary\n",
    "* fit, predict, evaluate\n"
   ]
  },
  {
   "cell_type": "code",
   "execution_count": 13,
   "metadata": {
    "execution": {
     "iopub.execute_input": "2020-12-16T00:27:37.894576Z",
     "iopub.status.busy": "2020-12-16T00:27:37.893807Z",
     "iopub.status.idle": "2020-12-16T00:27:37.897245Z",
     "shell.execute_reply": "2020-12-16T00:27:37.896569Z"
    },
    "papermill": {
     "duration": 0.038159,
     "end_time": "2020-12-16T00:27:37.897360",
     "exception": false,
     "start_time": "2020-12-16T00:27:37.859201",
     "status": "completed"
    },
    "tags": []
   },
   "outputs": [],
   "source": [
    "from keras.models import Sequential\n",
    "from keras.layers import Embedding, Flatten, Dense\n",
    "from keras.optimizers import RMSprop"
   ]
  },
  {
   "cell_type": "code",
   "execution_count": 14,
   "metadata": {
    "execution": {
     "iopub.execute_input": "2020-12-16T00:27:37.967949Z",
     "iopub.status.busy": "2020-12-16T00:27:37.967336Z",
     "iopub.status.idle": "2020-12-16T00:27:38.113677Z",
     "shell.execute_reply": "2020-12-16T00:27:38.113052Z"
    },
    "papermill": {
     "duration": 0.185842,
     "end_time": "2020-12-16T00:27:38.113789",
     "exception": false,
     "start_time": "2020-12-16T00:27:37.927947",
     "status": "completed"
    },
    "tags": []
   },
   "outputs": [
    {
     "name": "stdout",
     "output_type": "stream",
     "text": [
      "Model: \"sequential\"\n",
      "_________________________________________________________________\n",
      "Layer (type)                 Output Shape              Param #   \n",
      "=================================================================\n",
      "embedding (Embedding)        (None, 20, 8)             80000     \n",
      "_________________________________________________________________\n",
      "flatten (Flatten)            (None, 160)               0         \n",
      "_________________________________________________________________\n",
      "dense (Dense)                (None, 1)                 161       \n",
      "=================================================================\n",
      "Total params: 80,161\n",
      "Trainable params: 80,161\n",
      "Non-trainable params: 0\n",
      "_________________________________________________________________\n"
     ]
    }
   ],
   "source": [
    "# build model\n",
    "model = Sequential()\n",
    "\n",
    "model.add(Embedding(input_dim=max_features, output_dim=embedding_dim, input_length=maxlen))\n",
    "model.add(Flatten())\n",
    "model.add(Dense(1, activation='sigmoid'))\n",
    "\n",
    "model.compile(optimizer=RMSprop(learning_rate=0.001, rho=0.9, momentum=0.0, epsilon=1e-07), loss='binary_crossentropy', metrics=['acc'])\n",
    "model.summary()"
   ]
  },
  {
   "cell_type": "code",
   "execution_count": 15,
   "metadata": {
    "execution": {
     "iopub.execute_input": "2020-12-16T00:27:38.179542Z",
     "iopub.status.busy": "2020-12-16T00:27:38.178617Z",
     "iopub.status.idle": "2020-12-16T00:27:38.181453Z",
     "shell.execute_reply": "2020-12-16T00:27:38.181908Z"
    },
    "papermill": {
     "duration": 0.037908,
     "end_time": "2020-12-16T00:27:38.182045",
     "exception": false,
     "start_time": "2020-12-16T00:27:38.144137",
     "status": "completed"
    },
    "tags": []
   },
   "outputs": [],
   "source": [
    "# train hyper-parameters\n",
    "# epochs = 10\n",
    "epochs = 50"
   ]
  },
  {
   "cell_type": "code",
   "execution_count": 16,
   "metadata": {
    "execution": {
     "iopub.execute_input": "2020-12-16T00:27:38.249820Z",
     "iopub.status.busy": "2020-12-16T00:27:38.248997Z",
     "iopub.status.idle": "2020-12-16T00:28:19.651976Z",
     "shell.execute_reply": "2020-12-16T00:28:19.651412Z"
    },
    "papermill": {
     "duration": 41.439481,
     "end_time": "2020-12-16T00:28:19.652091",
     "exception": false,
     "start_time": "2020-12-16T00:27:38.212610",
     "status": "completed"
    },
    "tags": []
   },
   "outputs": [
    {
     "name": "stdout",
     "output_type": "stream",
     "text": [
      "Epoch 1/50\n",
      "625/625 [==============================] - 1s 2ms/step - loss: 0.6656 - acc: 0.6273 - val_loss: 0.6084 - val_acc: 0.7038\n",
      "Epoch 2/50\n",
      "625/625 [==============================] - 1s 1ms/step - loss: 0.5319 - acc: 0.7559 - val_loss: 0.5188 - val_acc: 0.7334\n",
      "Epoch 3/50\n",
      "625/625 [==============================] - 1s 1ms/step - loss: 0.4573 - acc: 0.7886 - val_loss: 0.4993 - val_acc: 0.7458\n",
      "Epoch 4/50\n",
      "625/625 [==============================] - 1s 1ms/step - loss: 0.4211 - acc: 0.8059 - val_loss: 0.4897 - val_acc: 0.7542\n",
      "Epoch 5/50\n",
      "625/625 [==============================] - 1s 1ms/step - loss: 0.3970 - acc: 0.8216 - val_loss: 0.4900 - val_acc: 0.7598\n",
      "Epoch 6/50\n",
      "625/625 [==============================] - 1s 1ms/step - loss: 0.3775 - acc: 0.8342 - val_loss: 0.4924 - val_acc: 0.7596\n",
      "Epoch 7/50\n",
      "625/625 [==============================] - 1s 1ms/step - loss: 0.3597 - acc: 0.8415 - val_loss: 0.4963 - val_acc: 0.7592\n",
      "Epoch 8/50\n",
      "625/625 [==============================] - 1s 1ms/step - loss: 0.3433 - acc: 0.8528 - val_loss: 0.5017 - val_acc: 0.7572\n",
      "Epoch 9/50\n",
      "625/625 [==============================] - 1s 1ms/step - loss: 0.3270 - acc: 0.8607 - val_loss: 0.5084 - val_acc: 0.7548\n",
      "Epoch 10/50\n",
      "625/625 [==============================] - 1s 1ms/step - loss: 0.3111 - acc: 0.8699 - val_loss: 0.5143 - val_acc: 0.7538\n",
      "Epoch 11/50\n",
      "625/625 [==============================] - 1s 1ms/step - loss: 0.2954 - acc: 0.8781 - val_loss: 0.5223 - val_acc: 0.7506\n",
      "Epoch 12/50\n",
      "625/625 [==============================] - 1s 1ms/step - loss: 0.2797 - acc: 0.8889 - val_loss: 0.5302 - val_acc: 0.7478\n",
      "Epoch 13/50\n",
      "625/625 [==============================] - 1s 1ms/step - loss: 0.2645 - acc: 0.8953 - val_loss: 0.5391 - val_acc: 0.7466\n",
      "Epoch 14/50\n",
      "625/625 [==============================] - 1s 1ms/step - loss: 0.2498 - acc: 0.9034 - val_loss: 0.5494 - val_acc: 0.7436\n",
      "Epoch 15/50\n",
      "625/625 [==============================] - 1s 1ms/step - loss: 0.2355 - acc: 0.9112 - val_loss: 0.5613 - val_acc: 0.7430\n",
      "Epoch 16/50\n",
      "625/625 [==============================] - 1s 1ms/step - loss: 0.2218 - acc: 0.9179 - val_loss: 0.5728 - val_acc: 0.7388\n",
      "Epoch 17/50\n",
      "625/625 [==============================] - 1s 1ms/step - loss: 0.2090 - acc: 0.9229 - val_loss: 0.5855 - val_acc: 0.7350\n",
      "Epoch 18/50\n",
      "625/625 [==============================] - 1s 1ms/step - loss: 0.1965 - acc: 0.9287 - val_loss: 0.5996 - val_acc: 0.7316\n",
      "Epoch 19/50\n",
      "625/625 [==============================] - 1s 1ms/step - loss: 0.1851 - acc: 0.9338 - val_loss: 0.6139 - val_acc: 0.7286\n",
      "Epoch 20/50\n",
      "625/625 [==============================] - 1s 1ms/step - loss: 0.1745 - acc: 0.9378 - val_loss: 0.6274 - val_acc: 0.7276\n",
      "Epoch 21/50\n",
      "625/625 [==============================] - 1s 1ms/step - loss: 0.1640 - acc: 0.9430 - val_loss: 0.6439 - val_acc: 0.7268\n",
      "Epoch 22/50\n",
      "625/625 [==============================] - 1s 1ms/step - loss: 0.1547 - acc: 0.9462 - val_loss: 0.6609 - val_acc: 0.7274\n",
      "Epoch 23/50\n",
      "625/625 [==============================] - 1s 1ms/step - loss: 0.1458 - acc: 0.9493 - val_loss: 0.6764 - val_acc: 0.7252\n",
      "Epoch 24/50\n",
      "625/625 [==============================] - 1s 1ms/step - loss: 0.1375 - acc: 0.9527 - val_loss: 0.6935 - val_acc: 0.7246\n",
      "Epoch 25/50\n",
      "625/625 [==============================] - 1s 1ms/step - loss: 0.1298 - acc: 0.9560 - val_loss: 0.7110 - val_acc: 0.7208\n",
      "Epoch 26/50\n",
      "625/625 [==============================] - 1s 1ms/step - loss: 0.1228 - acc: 0.9582 - val_loss: 0.7299 - val_acc: 0.7174\n",
      "Epoch 27/50\n",
      "625/625 [==============================] - 1s 1ms/step - loss: 0.1161 - acc: 0.9603 - val_loss: 0.7474 - val_acc: 0.7182\n",
      "Epoch 28/50\n",
      "625/625 [==============================] - 1s 1ms/step - loss: 0.1100 - acc: 0.9629 - val_loss: 0.7657 - val_acc: 0.7166\n",
      "Epoch 29/50\n",
      "625/625 [==============================] - 1s 1ms/step - loss: 0.1038 - acc: 0.9650 - val_loss: 0.7854 - val_acc: 0.7156\n",
      "Epoch 30/50\n",
      "625/625 [==============================] - 1s 1ms/step - loss: 0.0987 - acc: 0.9661 - val_loss: 0.8048 - val_acc: 0.7152\n",
      "Epoch 31/50\n",
      "625/625 [==============================] - 1s 1ms/step - loss: 0.0938 - acc: 0.9679 - val_loss: 0.8232 - val_acc: 0.7138\n",
      "Epoch 32/50\n",
      "625/625 [==============================] - 1s 1ms/step - loss: 0.0887 - acc: 0.9700 - val_loss: 0.8427 - val_acc: 0.7110\n",
      "Epoch 33/50\n",
      "625/625 [==============================] - 1s 1ms/step - loss: 0.0845 - acc: 0.9719 - val_loss: 0.8634 - val_acc: 0.7124\n",
      "Epoch 34/50\n",
      "625/625 [==============================] - 1s 1ms/step - loss: 0.0801 - acc: 0.9740 - val_loss: 0.8826 - val_acc: 0.7122\n",
      "Epoch 35/50\n",
      "625/625 [==============================] - 1s 1ms/step - loss: 0.0763 - acc: 0.9757 - val_loss: 0.9040 - val_acc: 0.7106\n",
      "Epoch 36/50\n",
      "625/625 [==============================] - 1s 1ms/step - loss: 0.0727 - acc: 0.9765 - val_loss: 0.9228 - val_acc: 0.7074\n",
      "Epoch 37/50\n",
      "625/625 [==============================] - 1s 1ms/step - loss: 0.0692 - acc: 0.9783 - val_loss: 0.9447 - val_acc: 0.7048\n",
      "Epoch 38/50\n",
      "625/625 [==============================] - 1s 1ms/step - loss: 0.0661 - acc: 0.9793 - val_loss: 0.9653 - val_acc: 0.7032\n",
      "Epoch 39/50\n",
      "625/625 [==============================] - 1s 1ms/step - loss: 0.0629 - acc: 0.9804 - val_loss: 0.9873 - val_acc: 0.7014\n",
      "Epoch 40/50\n",
      "625/625 [==============================] - 1s 1ms/step - loss: 0.0603 - acc: 0.9810 - val_loss: 1.0093 - val_acc: 0.6992\n",
      "Epoch 41/50\n",
      "625/625 [==============================] - 1s 1ms/step - loss: 0.0573 - acc: 0.9828 - val_loss: 1.0297 - val_acc: 0.6998\n",
      "Epoch 42/50\n",
      "625/625 [==============================] - 1s 1ms/step - loss: 0.0545 - acc: 0.9835 - val_loss: 1.0500 - val_acc: 0.6992\n",
      "Epoch 43/50\n",
      "625/625 [==============================] - 1s 1ms/step - loss: 0.0521 - acc: 0.9841 - val_loss: 1.0724 - val_acc: 0.6966\n",
      "Epoch 44/50\n",
      "625/625 [==============================] - 1s 1ms/step - loss: 0.0499 - acc: 0.9851 - val_loss: 1.0946 - val_acc: 0.6960\n",
      "Epoch 45/50\n",
      "625/625 [==============================] - 1s 1ms/step - loss: 0.0478 - acc: 0.9855 - val_loss: 1.1163 - val_acc: 0.6966\n",
      "Epoch 46/50\n",
      "625/625 [==============================] - 1s 1ms/step - loss: 0.0455 - acc: 0.9863 - val_loss: 1.1413 - val_acc: 0.6952\n",
      "Epoch 47/50\n",
      "625/625 [==============================] - 1s 1ms/step - loss: 0.0435 - acc: 0.9869 - val_loss: 1.1623 - val_acc: 0.6924\n",
      "Epoch 48/50\n",
      "625/625 [==============================] - 1s 1ms/step - loss: 0.0418 - acc: 0.9877 - val_loss: 1.1848 - val_acc: 0.6930\n",
      "Epoch 49/50\n",
      "625/625 [==============================] - 1s 1ms/step - loss: 0.0401 - acc: 0.9887 - val_loss: 1.2090 - val_acc: 0.6908\n",
      "Epoch 50/50\n",
      "625/625 [==============================] - 1s 1ms/step - loss: 0.0383 - acc: 0.9891 - val_loss: 1.2310 - val_acc: 0.6894\n"
     ]
    },
    {
     "data": {
      "text/plain": [
       "<tensorflow.python.keras.callbacks.History at 0x7f9634b589d0>"
      ]
     },
     "execution_count": 16,
     "metadata": {},
     "output_type": "execute_result"
    }
   ],
   "source": [
    "# fit\n",
    "model.fit(x_train, y_train, epochs=epochs, batch_size=32, validation_split=0.2)"
   ]
  },
  {
   "cell_type": "code",
   "execution_count": 17,
   "metadata": {
    "execution": {
     "iopub.execute_input": "2020-12-16T00:28:20.226383Z",
     "iopub.status.busy": "2020-12-16T00:28:20.224946Z",
     "iopub.status.idle": "2020-12-16T00:28:20.901454Z",
     "shell.execute_reply": "2020-12-16T00:28:20.900722Z"
    },
    "papermill": {
     "duration": 0.964924,
     "end_time": "2020-12-16T00:28:20.901578",
     "exception": false,
     "start_time": "2020-12-16T00:28:19.936654",
     "status": "completed"
    },
    "tags": []
   },
   "outputs": [
    {
     "name": "stdout",
     "output_type": "stream",
     "text": [
      "782/782 [==============================] - 1s 805us/step - loss: 1.2437 - acc: 0.6850\n",
      "test_loss: 1.2436516284942627 \n",
      "test_acc: 0.6849600076675415\n"
     ]
    }
   ],
   "source": [
    "test_loss, test_acc = model.evaluate(x_test, y_test, verbose=True)\n",
    "print('test_loss:', test_loss, '\\ntest_acc:',test_acc)"
   ]
  },
  {
   "cell_type": "markdown",
   "metadata": {
    "papermill": {
     "duration": 0.287177,
     "end_time": "2020-12-16T00:28:21.478798",
     "exception": false,
     "start_time": "2020-12-16T00:28:21.191621",
     "status": "completed"
    },
    "tags": []
   },
   "source": [
    "## SimpleRNN\n",
    "短期信息\n",
    "\n",
    "* import dependencies\n",
    "* build model\n",
    "* compile, fit\n",
    "* evalute, plot"
   ]
  },
  {
   "cell_type": "code",
   "execution_count": 18,
   "metadata": {
    "execution": {
     "iopub.execute_input": "2020-12-16T00:28:22.057861Z",
     "iopub.status.busy": "2020-12-16T00:28:22.057193Z",
     "iopub.status.idle": "2020-12-16T00:28:22.060365Z",
     "shell.execute_reply": "2020-12-16T00:28:22.059845Z"
    },
    "papermill": {
     "duration": 0.29563,
     "end_time": "2020-12-16T00:28:22.060487",
     "exception": false,
     "start_time": "2020-12-16T00:28:21.764857",
     "status": "completed"
    },
    "tags": []
   },
   "outputs": [],
   "source": [
    "from keras.models import Sequential\n",
    "from keras.layers import Embedding, SimpleRNN, Dense"
   ]
  },
  {
   "cell_type": "code",
   "execution_count": 19,
   "metadata": {
    "execution": {
     "iopub.execute_input": "2020-12-16T00:28:22.641098Z",
     "iopub.status.busy": "2020-12-16T00:28:22.640424Z",
     "iopub.status.idle": "2020-12-16T00:28:22.745202Z",
     "shell.execute_reply": "2020-12-16T00:28:22.746144Z"
    },
    "papermill": {
     "duration": 0.400208,
     "end_time": "2020-12-16T00:28:22.746353",
     "exception": false,
     "start_time": "2020-12-16T00:28:22.346145",
     "status": "completed"
    },
    "tags": []
   },
   "outputs": [
    {
     "name": "stdout",
     "output_type": "stream",
     "text": [
      "Model: \"sequential_1\"\n",
      "_________________________________________________________________\n",
      "Layer (type)                 Output Shape              Param #   \n",
      "=================================================================\n",
      "embedding_1 (Embedding)      (None, None, 32)          320000    \n",
      "_________________________________________________________________\n",
      "simple_rnn (SimpleRNN)       (None, 32)                2080      \n",
      "_________________________________________________________________\n",
      "dense_1 (Dense)              (None, 1)                 33        \n",
      "=================================================================\n",
      "Total params: 322,113\n",
      "Trainable params: 322,113\n",
      "Non-trainable params: 0\n",
      "_________________________________________________________________\n"
     ]
    }
   ],
   "source": [
    "# build model\n",
    "model = Sequential()\n",
    "model.add(Embedding(max_features, 32))\n",
    "model.add(SimpleRNN(32))\n",
    "model.add(Dense(1, activation='sigmoid'))\n",
    "\n",
    "model.compile(optimizer='rmsprop' ,loss='binary_crossentropy', metrics=['acc'])\n",
    "model.summary()"
   ]
  },
  {
   "cell_type": "code",
   "execution_count": 20,
   "metadata": {
    "execution": {
     "iopub.execute_input": "2020-12-16T00:28:23.332538Z",
     "iopub.status.busy": "2020-12-16T00:28:23.331517Z",
     "iopub.status.idle": "2020-12-16T00:28:36.466526Z",
     "shell.execute_reply": "2020-12-16T00:28:36.467075Z"
    },
    "papermill": {
     "duration": 13.429753,
     "end_time": "2020-12-16T00:28:36.467266",
     "exception": false,
     "start_time": "2020-12-16T00:28:23.037513",
     "status": "completed"
    },
    "tags": []
   },
   "outputs": [
    {
     "name": "stdout",
     "output_type": "stream",
     "text": [
      "Epoch 1/10\n",
      "157/157 [==============================] - 1s 8ms/step - loss: 0.5866 - acc: 0.6735 - val_loss: 0.5368 - val_acc: 0.7266\n",
      "Epoch 2/10\n",
      "157/157 [==============================] - 1s 7ms/step - loss: 0.4313 - acc: 0.8004 - val_loss: 0.4922 - val_acc: 0.7548\n",
      "Epoch 3/10\n",
      "157/157 [==============================] - 1s 7ms/step - loss: 0.3502 - acc: 0.8485 - val_loss: 0.5338 - val_acc: 0.7394\n",
      "Epoch 4/10\n",
      "157/157 [==============================] - 1s 8ms/step - loss: 0.2710 - acc: 0.8903 - val_loss: 0.5793 - val_acc: 0.7344\n",
      "Epoch 5/10\n",
      "157/157 [==============================] - 1s 8ms/step - loss: 0.1906 - acc: 0.9279 - val_loss: 0.7002 - val_acc: 0.7196\n",
      "Epoch 6/10\n",
      "157/157 [==============================] - 1s 8ms/step - loss: 0.1202 - acc: 0.9582 - val_loss: 0.8152 - val_acc: 0.7074\n",
      "Epoch 7/10\n",
      "157/157 [==============================] - 1s 7ms/step - loss: 0.0718 - acc: 0.9768 - val_loss: 0.9318 - val_acc: 0.7066\n",
      "Epoch 8/10\n",
      "157/157 [==============================] - 1s 7ms/step - loss: 0.0402 - acc: 0.9888 - val_loss: 1.0466 - val_acc: 0.6888\n",
      "Epoch 9/10\n",
      "157/157 [==============================] - 1s 7ms/step - loss: 0.0206 - acc: 0.9948 - val_loss: 1.2168 - val_acc: 0.7000\n",
      "Epoch 10/10\n",
      "157/157 [==============================] - 1s 8ms/step - loss: 0.0118 - acc: 0.9973 - val_loss: 1.3737 - val_acc: 0.6750\n"
     ]
    }
   ],
   "source": [
    "# fit\n",
    "history = model.fit(x_train, y_train, epochs=10, batch_size=128, validation_split=0.2)"
   ]
  },
  {
   "cell_type": "code",
   "execution_count": 21,
   "metadata": {
    "execution": {
     "iopub.execute_input": "2020-12-16T00:28:37.216178Z",
     "iopub.status.busy": "2020-12-16T00:28:37.215478Z",
     "iopub.status.idle": "2020-12-16T00:28:37.219645Z",
     "shell.execute_reply": "2020-12-16T00:28:37.220254Z"
    },
    "papermill": {
     "duration": 0.37338,
     "end_time": "2020-12-16T00:28:37.220396",
     "exception": false,
     "start_time": "2020-12-16T00:28:36.847016",
     "status": "completed"
    },
    "tags": []
   },
   "outputs": [
    {
     "name": "stdout",
     "output_type": "stream",
     "text": [
      "Train accuracy:  [0.6735000014305115, 0.80035001039505, 0.8484500050544739, 0.890250027179718, 0.9278500080108643, 0.9582499861717224, 0.9768499732017517, 0.9888499975204468, 0.9947999715805054, 0.9973499774932861]\n",
      "Train loss: [0.5866233706474304, 0.43133997917175293, 0.3501887917518616, 0.27102696895599365, 0.1905575841665268, 0.12015842646360397, 0.07181470096111298, 0.04017270356416702, 0.020589912310242653, 0.011756732128560543]\n",
      "Validation accuracy:  [0.7265999913215637, 0.754800021648407, 0.7394000291824341, 0.7343999743461609, 0.7196000218391418, 0.7074000239372253, 0.70660001039505, 0.6887999773025513, 0.699999988079071, 0.675000011920929]\n",
      "Validation loss:  [0.5368485450744629, 0.49215981364250183, 0.5337677001953125, 0.5793411731719971, 0.7002029418945312, 0.8152105808258057, 0.931757926940918, 1.0465610027313232, 1.2167528867721558, 1.3737224340438843]\n"
     ]
    }
   ],
   "source": [
    "acc = history.history['acc']\n",
    "val_acc = history.history['val_acc']\n",
    "loss = history.history['loss']\n",
    "val_loss = history.history['val_loss']\n",
    "print('Train accuracy: ', acc)\n",
    "print('Train loss:', loss)\n",
    "print('Validation accuracy: ', val_acc)\n",
    "print('Validation loss: ', val_loss)"
   ]
  },
  {
   "cell_type": "code",
   "execution_count": 22,
   "metadata": {
    "execution": {
     "iopub.execute_input": "2020-12-16T00:28:37.961492Z",
     "iopub.status.busy": "2020-12-16T00:28:37.960825Z",
     "iopub.status.idle": "2020-12-16T00:28:38.332578Z",
     "shell.execute_reply": "2020-12-16T00:28:38.332057Z"
    },
    "papermill": {
     "duration": 0.753403,
     "end_time": "2020-12-16T00:28:38.332694",
     "exception": false,
     "start_time": "2020-12-16T00:28:37.579291",
     "status": "completed"
    },
    "tags": []
   },
   "outputs": [
    {
     "data": {
      "image/png": "[encoded data removed]",
      "text/plain": [
       "<Figure size 432x288 with 1 Axes>"
      ]
     },
     "metadata": {
      "needs_background": "light"
     },
     "output_type": "display_data"
    },
    {
     "data": {
      "image/png": "[encoded data removed]",
      "text/plain": [
       "<Figure size 432x288 with 1 Axes>"
      ]
     },
     "metadata": {
      "needs_background": "light"
     },
     "output_type": "display_data"
    }
   ],
   "source": [
    "# plot\n",
    "epochs = range(len(acc))\n",
    "\n",
    "plt.plot(epochs, acc, 'bo', label='Training acc')\n",
    "plt.plot(epochs, val_acc, 'b', label='Validation acc')\n",
    "plt.title('Training and validation accuracy')\n",
    "plt.legend()\n",
    "\n",
    "plt.figure()\n",
    "\n",
    "plt.plot(epochs, loss, 'bo', label='Training acc')\n",
    "plt.plot(epochs, val_loss, 'b', label='Validation acc')\n",
    "plt.title('Training and validation loss')\n",
    "plt.legend()\n",
    "\n",
    "plt.show()"
   ]
  },
  {
   "cell_type": "markdown",
   "metadata": {
    "papermill": {
     "duration": 0.381234,
     "end_time": "2020-12-16T00:28:39.079037",
     "exception": false,
     "start_time": "2020-12-16T00:28:38.697803",
     "status": "completed"
    },
    "tags": []
   },
   "source": [
    "## LSTM unit\n",
    "\n",
    "* hyper-parameters\n",
    "* import dependencies\n",
    "* build model \n",
    "* compile, summary\n",
    "* fit, evalute, plot"
   ]
  },
  {
   "cell_type": "code",
   "execution_count": 23,
   "metadata": {
    "execution": {
     "iopub.execute_input": "2020-12-16T00:28:39.824538Z",
     "iopub.status.busy": "2020-12-16T00:28:39.823383Z",
     "iopub.status.idle": "2020-12-16T00:28:39.827091Z",
     "shell.execute_reply": "2020-12-16T00:28:39.825575Z"
    },
    "papermill": {
     "duration": 0.384033,
     "end_time": "2020-12-16T00:28:39.827281",
     "exception": false,
     "start_time": "2020-12-16T00:28:39.443248",
     "status": "completed"
    },
    "tags": []
   },
   "outputs": [],
   "source": [
    "from keras.layers import LSTM"
   ]
  },
  {
   "cell_type": "code",
   "execution_count": 24,
   "metadata": {
    "execution": {
     "iopub.execute_input": "2020-12-16T00:28:40.574882Z",
     "iopub.status.busy": "2020-12-16T00:28:40.574015Z",
     "iopub.status.idle": "2020-12-16T00:28:40.576232Z",
     "shell.execute_reply": "2020-12-16T00:28:40.576766Z"
    },
    "papermill": {
     "duration": 0.368609,
     "end_time": "2020-12-16T00:28:40.576902",
     "exception": false,
     "start_time": "2020-12-16T00:28:40.208293",
     "status": "completed"
    },
    "tags": []
   },
   "outputs": [],
   "source": [
    "# hyper-parameters\n",
    "max_features = 10000\n",
    "maxlen = 500\n",
    "batch_size = 32\n",
    "\n",
    "# load data\n",
    "# 前面已经加载过，同时是按照相同的超参数进行加载的。"
   ]
  },
  {
   "cell_type": "code",
   "execution_count": 25,
   "metadata": {
    "execution": {
     "iopub.execute_input": "2020-12-16T00:28:41.331146Z",
     "iopub.status.busy": "2020-12-16T00:28:41.330476Z",
     "iopub.status.idle": "2020-12-16T00:28:41.577891Z",
     "shell.execute_reply": "2020-12-16T00:28:41.576926Z"
    },
    "papermill": {
     "duration": 0.623887,
     "end_time": "2020-12-16T00:28:41.578022",
     "exception": false,
     "start_time": "2020-12-16T00:28:40.954135",
     "status": "completed"
    },
    "tags": []
   },
   "outputs": [
    {
     "name": "stdout",
     "output_type": "stream",
     "text": [
      "Model: \"sequential_2\"\n",
      "_________________________________________________________________\n",
      "Layer (type)                 Output Shape              Param #   \n",
      "=================================================================\n",
      "embedding_2 (Embedding)      (None, None, 32)          320000    \n",
      "_________________________________________________________________\n",
      "lstm (LSTM)                  (None, 32)                8320      \n",
      "_________________________________________________________________\n",
      "dense_2 (Dense)              (None, 1)                 33        \n",
      "=================================================================\n",
      "Total params: 328,353\n",
      "Trainable params: 328,353\n",
      "Non-trainable params: 0\n",
      "_________________________________________________________________\n"
     ]
    }
   ],
   "source": [
    "# build model\n",
    "model = Sequential()\n",
    "model.add(Embedding(max_features, 32))\n",
    "model.add(LSTM(32))\n",
    "model.add(Dense(1, activation='sigmoid'))\n",
    "\n",
    "model.compile(optimizer='rmsprop', loss='binary_crossentropy', metrics=['acc'])\n",
    "model.summary()"
   ]
  },
  {
   "cell_type": "code",
   "execution_count": 26,
   "metadata": {
    "execution": {
     "iopub.execute_input": "2020-12-16T00:28:42.327382Z",
     "iopub.status.busy": "2020-12-16T00:28:42.326364Z",
     "iopub.status.idle": "2020-12-16T00:29:07.649254Z",
     "shell.execute_reply": "2020-12-16T00:29:07.648653Z"
    },
    "papermill": {
     "duration": 25.698703,
     "end_time": "2020-12-16T00:29:07.649387",
     "exception": false,
     "start_time": "2020-12-16T00:28:41.950684",
     "status": "completed"
    },
    "tags": []
   },
   "outputs": [
    {
     "name": "stdout",
     "output_type": "stream",
     "text": [
      "Epoch 1/10\n",
      "157/157 [==============================] - 3s 17ms/step - loss: 0.5847 - acc: 0.6880 - val_loss: 0.5202 - val_acc: 0.7374\n",
      "Epoch 2/10\n",
      "157/157 [==============================] - 2s 15ms/step - loss: 0.4447 - acc: 0.7902 - val_loss: 0.5123 - val_acc: 0.7494\n",
      "Epoch 3/10\n",
      "157/157 [==============================] - 2s 15ms/step - loss: 0.3968 - acc: 0.8214 - val_loss: 0.4903 - val_acc: 0.7492\n",
      "Epoch 4/10\n",
      "157/157 [==============================] - 2s 14ms/step - loss: 0.3700 - acc: 0.8374 - val_loss: 0.5150 - val_acc: 0.7418\n",
      "Epoch 5/10\n",
      "157/157 [==============================] - 2s 14ms/step - loss: 0.3521 - acc: 0.8457 - val_loss: 0.5092 - val_acc: 0.7488\n",
      "Epoch 6/10\n",
      "157/157 [==============================] - 2s 14ms/step - loss: 0.3366 - acc: 0.8565 - val_loss: 0.5248 - val_acc: 0.7486\n",
      "Epoch 7/10\n",
      "157/157 [==============================] - 2s 14ms/step - loss: 0.3234 - acc: 0.8611 - val_loss: 0.5417 - val_acc: 0.7464\n",
      "Epoch 8/10\n",
      "157/157 [==============================] - 2s 15ms/step - loss: 0.3100 - acc: 0.8688 - val_loss: 0.5327 - val_acc: 0.7472\n",
      "Epoch 9/10\n",
      "157/157 [==============================] - 2s 15ms/step - loss: 0.2959 - acc: 0.8755 - val_loss: 0.6244 - val_acc: 0.7394\n",
      "Epoch 10/10\n",
      "157/157 [==============================] - 2s 15ms/step - loss: 0.2811 - acc: 0.8824 - val_loss: 0.6089 - val_acc: 0.7400\n"
     ]
    }
   ],
   "source": [
    "# fit\n",
    "history = model.fit(x_train, y_train, epochs=10, batch_size=128, validation_split=0.2)"
   ]
  },
  {
   "cell_type": "code",
   "execution_count": 27,
   "metadata": {
    "execution": {
     "iopub.execute_input": "2020-12-16T00:29:08.656183Z",
     "iopub.status.busy": "2020-12-16T00:29:08.655380Z",
     "iopub.status.idle": "2020-12-16T00:29:08.660500Z",
     "shell.execute_reply": "2020-12-16T00:29:08.659866Z"
    },
    "papermill": {
     "duration": 0.509813,
     "end_time": "2020-12-16T00:29:08.660618",
     "exception": false,
     "start_time": "2020-12-16T00:29:08.150805",
     "status": "completed"
    },
    "tags": []
   },
   "outputs": [
    {
     "name": "stdout",
     "output_type": "stream",
     "text": [
      "Train accuracy:  [0.6880499720573425, 0.7901999950408936, 0.8214499950408936, 0.8373500108718872, 0.8456500172615051, 0.8565000295639038, 0.8611000180244446, 0.8687999844551086, 0.8755499720573425, 0.8824499845504761]\n",
      "Train loss: [0.5847411155700684, 0.4446776509284973, 0.39679625630378723, 0.3700365126132965, 0.3520793914794922, 0.33655211329460144, 0.32337117195129395, 0.3100030720233917, 0.2958836555480957, 0.281078964471817]\n",
      "Validation accuracy:  [0.7373999953269958, 0.7494000196456909, 0.7491999864578247, 0.7418000102043152, 0.7487999796867371, 0.7486000061035156, 0.746399998664856, 0.7472000122070312, 0.7394000291824341, 0.7400000095367432]\n",
      "Validation loss:  [0.5201529860496521, 0.5122795701026917, 0.4903121590614319, 0.5150447487831116, 0.5092180967330933, 0.5247985124588013, 0.5417156219482422, 0.5327207446098328, 0.6243939995765686, 0.6088996529579163]\n"
     ]
    }
   ],
   "source": [
    "acc = history.history['acc']\n",
    "val_acc = history.history['val_acc']\n",
    "loss = history.history['loss']\n",
    "val_loss = history.history['val_loss']\n",
    "print('Train accuracy: ', acc)\n",
    "print('Train loss:', loss)\n",
    "print('Validation accuracy: ', val_acc)\n",
    "print('Validation loss: ', val_loss)"
   ]
  },
  {
   "cell_type": "code",
   "execution_count": 28,
   "metadata": {
    "execution": {
     "iopub.execute_input": "2020-12-16T00:29:09.667050Z",
     "iopub.status.busy": "2020-12-16T00:29:09.666031Z",
     "iopub.status.idle": "2020-12-16T00:29:10.002416Z",
     "shell.execute_reply": "2020-12-16T00:29:10.001715Z"
    },
    "papermill": {
     "duration": 0.839942,
     "end_time": "2020-12-16T00:29:10.002533",
     "exception": false,
     "start_time": "2020-12-16T00:29:09.162591",
     "status": "completed"
    },
    "tags": []
   },
   "outputs": [
    {
     "data": {
      "image/png": "[encoded data removed]",
      "text/plain": [
       "<Figure size 432x288 with 1 Axes>"
      ]
     },
     "metadata": {
      "needs_background": "light"
     },
     "output_type": "display_data"
    },
    {
     "data": {
      "image/png": "[encoded data removed]",
      "text/plain": [
       "<Figure size 432x288 with 1 Axes>"
      ]
     },
     "metadata": {
      "needs_background": "light"
     },
     "output_type": "display_data"
    }
   ],
   "source": [
    "# plot\n",
    "epochs = range(len(acc))\n",
    "\n",
    "plt.plot(epochs, acc, 'bo', label='Training acc')\n",
    "plt.plot(epochs, val_acc, 'b', label='Validation acc')\n",
    "plt.title('Training and validation accuracy')\n",
    "plt.legend()\n",
    "\n",
    "plt.figure()\n",
    "\n",
    "plt.plot(epochs, loss, 'bo', label='Training acc')\n",
    "plt.plot(epochs, val_loss, 'b', label='Validation acc')\n",
    "plt.title('Training and validation loss')\n",
    "plt.legend()\n",
    "\n",
    "plt.show()"
   ]
  },
  {
   "cell_type": "markdown",
   "metadata": {
    "papermill": {
     "duration": 0.507302,
     "end_time": "2020-12-16T00:29:11.055212",
     "exception": false,
     "start_time": "2020-12-16T00:29:10.547910",
     "status": "completed"
    },
    "tags": []
   },
   "source": [
    "## Adavnaced model (Add LSTM unit)\n",
    "\n",
    "* add lstm unit\n",
    "* build model\n",
    "* compile, summary\n",
    "* fit, evalute"
   ]
  },
  {
   "cell_type": "code",
   "execution_count": 29,
   "metadata": {
    "execution": {
     "iopub.execute_input": "2020-12-16T00:29:12.071998Z",
     "iopub.status.busy": "2020-12-16T00:29:12.071363Z",
     "iopub.status.idle": "2020-12-16T00:29:12.074194Z",
     "shell.execute_reply": "2020-12-16T00:29:12.074732Z"
    },
    "papermill": {
     "duration": 0.516001,
     "end_time": "2020-12-16T00:29:12.074887",
     "exception": false,
     "start_time": "2020-12-16T00:29:11.558886",
     "status": "completed"
    },
    "tags": []
   },
   "outputs": [],
   "source": [
    "from keras.layers import LSTM, Dropout\n",
    "from keras.optimizers import Adam"
   ]
  },
  {
   "cell_type": "code",
   "execution_count": 30,
   "metadata": {
    "execution": {
     "iopub.execute_input": "2020-12-16T00:29:13.112663Z",
     "iopub.status.busy": "2020-12-16T00:29:13.111948Z",
     "iopub.status.idle": "2020-12-16T00:29:13.734305Z",
     "shell.execute_reply": "2020-12-16T00:29:13.733255Z"
    },
    "papermill": {
     "duration": 1.158439,
     "end_time": "2020-12-16T00:29:13.734434",
     "exception": false,
     "start_time": "2020-12-16T00:29:12.575995",
     "status": "completed"
    },
    "tags": []
   },
   "outputs": [
    {
     "name": "stdout",
     "output_type": "stream",
     "text": [
      "Model: \"sequential_3\"\n",
      "_________________________________________________________________\n",
      "Layer (type)                 Output Shape              Param #   \n",
      "=================================================================\n",
      "embedding_3 (Embedding)      (None, 500, 8)            80000     \n",
      "_________________________________________________________________\n",
      "lstm_1 (LSTM)                (None, 500, 128)          70144     \n",
      "_________________________________________________________________\n",
      "lstm_2 (LSTM)                (None, 64)                49408     \n",
      "_________________________________________________________________\n",
      "dense_3 (Dense)              (None, 100)               6500      \n",
      "_________________________________________________________________\n",
      "dropout (Dropout)            (None, 100)               0         \n",
      "_________________________________________________________________\n",
      "dense_4 (Dense)              (None, 1)                 101       \n",
      "=================================================================\n",
      "Total params: 206,153\n",
      "Trainable params: 206,153\n",
      "Non-trainable params: 0\n",
      "_________________________________________________________________\n"
     ]
    }
   ],
   "source": [
    "model = Sequential()\n",
    "\n",
    "model.add(Embedding(input_dim=max_features, output_dim=embedding_dim, input_length=maxlen))\n",
    "model.add(LSTM(128, dropout=0.5, recurrent_dropout=0.5, return_sequences=True))\n",
    "model.add(LSTM(64, dropout=0.5, recurrent_dropout=0.5, return_sequences=False))\n",
    "model.add(Dense(100, activation='relu'))\n",
    "model.add(Dropout(0.5))\n",
    "model.add(Dense(1, activation='sigmoid'))\n",
    "\n",
    "model.compile(loss='categorical_crossentropy', optimizer=Adam(lr=0.005), metrics=['accuracy'])\n",
    "model.summary()"
   ]
  },
  {
   "cell_type": "code",
   "execution_count": 31,
   "metadata": {
    "execution": {
     "iopub.execute_input": "2020-12-16T00:29:14.761583Z",
     "iopub.status.busy": "2020-12-16T00:29:14.760492Z",
     "iopub.status.idle": "2020-12-16T00:39:41.883371Z",
     "shell.execute_reply": "2020-12-16T00:39:41.883897Z"
    },
    "papermill": {
     "duration": 627.639182,
     "end_time": "2020-12-16T00:39:41.884038",
     "exception": false,
     "start_time": "2020-12-16T00:29:14.244856",
     "status": "completed"
    },
    "tags": []
   },
   "outputs": [
    {
     "name": "stdout",
     "output_type": "stream",
     "text": [
      "Epoch 1/20\n",
      "625/625 [==============================] - 31s 50ms/step - loss: 5.9789e-08 - accuracy: 0.5015 - val_loss: 5.8866e-08 - val_accuracy: 0.5058\n",
      "Epoch 2/20\n",
      "625/625 [==============================] - 31s 49ms/step - loss: 5.9789e-08 - accuracy: 0.5025 - val_loss: 5.8866e-08 - val_accuracy: 0.5058\n",
      "Epoch 3/20\n",
      "625/625 [==============================] - 31s 50ms/step - loss: 5.9789e-08 - accuracy: 0.4938 - val_loss: 5.8866e-08 - val_accuracy: 0.5058\n",
      "Epoch 4/20\n",
      "625/625 [==============================] - 31s 49ms/step - loss: 5.9789e-08 - accuracy: 0.5016 - val_loss: 5.8866e-08 - val_accuracy: 0.5058\n",
      "Epoch 5/20\n",
      "625/625 [==============================] - 31s 50ms/step - loss: 5.9789e-08 - accuracy: 0.4998 - val_loss: 5.8866e-08 - val_accuracy: 0.5058\n",
      "Epoch 6/20\n",
      "625/625 [==============================] - 31s 49ms/step - loss: 5.9789e-08 - accuracy: 0.4974 - val_loss: 5.8866e-08 - val_accuracy: 0.5058\n",
      "Epoch 7/20\n",
      "625/625 [==============================] - 31s 50ms/step - loss: 5.9789e-08 - accuracy: 0.5015 - val_loss: 5.8866e-08 - val_accuracy: 0.5058\n",
      "Epoch 8/20\n",
      "625/625 [==============================] - 31s 49ms/step - loss: 5.9789e-08 - accuracy: 0.4954 - val_loss: 5.8866e-08 - val_accuracy: 0.5058\n",
      "Epoch 9/20\n",
      "625/625 [==============================] - 31s 50ms/step - loss: 5.9789e-08 - accuracy: 0.4974 - val_loss: 5.8866e-08 - val_accuracy: 0.5058\n",
      "Epoch 10/20\n",
      "625/625 [==============================] - 31s 50ms/step - loss: 5.9789e-08 - accuracy: 0.4973 - val_loss: 5.8866e-08 - val_accuracy: 0.5058\n",
      "Epoch 11/20\n",
      "625/625 [==============================] - 31s 50ms/step - loss: 5.9789e-08 - accuracy: 0.5051 - val_loss: 5.8866e-08 - val_accuracy: 0.5058\n",
      "Epoch 12/20\n",
      "625/625 [==============================] - 31s 50ms/step - loss: 5.9789e-08 - accuracy: 0.5011 - val_loss: 5.8866e-08 - val_accuracy: 0.5058\n",
      "Epoch 13/20\n",
      "625/625 [==============================] - 31s 50ms/step - loss: 5.9789e-08 - accuracy: 0.4969 - val_loss: 5.8866e-08 - val_accuracy: 0.5058\n",
      "Epoch 14/20\n",
      "625/625 [==============================] - 31s 50ms/step - loss: 5.9789e-08 - accuracy: 0.5031 - val_loss: 5.8866e-08 - val_accuracy: 0.5058\n",
      "Epoch 15/20\n",
      "625/625 [==============================] - 31s 50ms/step - loss: 5.9789e-08 - accuracy: 0.5013 - val_loss: 5.8866e-08 - val_accuracy: 0.5058\n",
      "Epoch 16/20\n",
      "625/625 [==============================] - 31s 50ms/step - loss: 5.9789e-08 - accuracy: 0.4972 - val_loss: 5.8866e-08 - val_accuracy: 0.5058\n",
      "Epoch 17/20\n",
      "625/625 [==============================] - 31s 50ms/step - loss: 5.9789e-08 - accuracy: 0.4974 - val_loss: 5.8866e-08 - val_accuracy: 0.5058\n",
      "Epoch 18/20\n",
      "625/625 [==============================] - 32s 51ms/step - loss: 5.9789e-08 - accuracy: 0.5028 - val_loss: 5.8866e-08 - val_accuracy: 0.5058\n",
      "Epoch 19/20\n",
      "625/625 [==============================] - 31s 50ms/step - loss: 5.9789e-08 - accuracy: 0.4951 - val_loss: 5.8866e-08 - val_accuracy: 0.5058\n",
      "Epoch 20/20\n",
      "625/625 [==============================] - 31s 50ms/step - loss: 5.9789e-08 - accuracy: 0.4985 - val_loss: 5.8866e-08 - val_accuracy: 0.5058\n"
     ]
    },
    {
     "data": {
      "text/plain": [
       "<tensorflow.python.keras.callbacks.History at 0x7f96370ad350>"
      ]
     },
     "execution_count": 31,
     "metadata": {},
     "output_type": "execute_result"
    }
   ],
   "source": [
    "# fit\n",
    "model.fit(x_train, y_train, epochs=20, batch_size=32, validation_split=0.2)"
   ]
  },
  {
   "cell_type": "code",
   "execution_count": 32,
   "metadata": {
    "execution": {
     "iopub.execute_input": "2020-12-16T00:39:48.038386Z",
     "iopub.status.busy": "2020-12-16T00:39:48.037719Z",
     "iopub.status.idle": "2020-12-16T00:39:54.185924Z",
     "shell.execute_reply": "2020-12-16T00:39:54.185100Z"
    },
    "papermill": {
     "duration": 9.223458,
     "end_time": "2020-12-16T00:39:54.186069",
     "exception": false,
     "start_time": "2020-12-16T00:39:44.962611",
     "status": "completed"
    },
    "tags": []
   },
   "outputs": [
    {
     "name": "stdout",
     "output_type": "stream",
     "text": [
      "782/782 [==============================] - 6s 8ms/step - loss: 5.9605e-08 - accuracy: 0.5044\n",
      "test_loss: 5.960464477539063e-08 \n",
      "test_acc: 0.5044000148773193\n"
     ]
    }
   ],
   "source": [
    "test_loss, test_acc = model.evaluate(x_test, y_test, verbose=True)\n",
    "print('test_loss:', test_loss, '\\ntest_acc:',test_acc)"
   ]
  },
  {
   "cell_type": "code",
   "execution_count": null,
   "metadata": {
    "papermill": {
     "duration": 3.108942,
     "end_time": "2020-12-16T00:40:00.500834",
     "exception": false,
     "start_time": "2020-12-16T00:39:57.391892",
     "status": "completed"
    },
    "tags": []
   },
   "outputs": [],
   "source": []
  }
 ],
 "metadata": {
  "kernelspec": {
   "display_name": "Python 3",
   "language": "python",
   "name": "python3"
  },
  "language_info": {
   "codemirror_mode": {
    "name": "ipython",
    "version": 3
   },
   "file_extension": ".py",
   "mimetype": "text/x-python",
   "name": "python",
   "nbconvert_exporter": "python",
   "pygments_lexer": "ipython3",
   "version": "3.7.6"
  },
  "papermill": {
   "duration": 769.311018,
   "end_time": "2020-12-16T00:40:03.813060",
   "environment_variables": {},
   "exception": null,
   "input_path": "__notebook__.ipynb",
   "output_path": "__notebook__.ipynb",
   "parameters": {},
   "start_time": "2020-12-16T00:27:14.502042",
   "version": "2.1.0"
  }
 },
 "nbformat": 4,
 "nbformat_minor": 4
}
