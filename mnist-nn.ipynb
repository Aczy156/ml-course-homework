{
 "cells": [
  {
   "cell_type": "markdown",
   "metadata": {
    "papermill": {
     "duration": 0.023239,
     "end_time": "2020-11-24T16:11:53.737384",
     "exception": false,
     "start_time": "2020-11-24T16:11:53.714145",
     "status": "completed"
    },
    "tags": []
   },
   "source": [
    "## prework\n",
    "\n",
    "* import basic dependencies\n",
    "* load data\n",
    "* check data"
   ]
  },
  {
   "cell_type": "code",
   "execution_count": 1,
   "metadata": {
    "_cell_guid": "b1076dfc-b9ad-4769-8c92-a6c4dae69d19",
    "_uuid": "8f2839f25d086af736a60e9eeb907d3b93b6e0e5",
    "execution": {
     "iopub.execute_input": "2020-11-24T16:11:53.788613Z",
     "iopub.status.busy": "2020-11-24T16:11:53.787867Z",
     "iopub.status.idle": "2020-11-24T16:11:53.796464Z",
     "shell.execute_reply": "2020-11-24T16:11:53.795886Z"
    },
    "papermill": {
     "duration": 0.0374,
     "end_time": "2020-11-24T16:11:53.796590",
     "exception": false,
     "start_time": "2020-11-24T16:11:53.759190",
     "status": "completed"
    },
    "tags": []
   },
   "outputs": [
    {
     "name": "stdout",
     "output_type": "stream",
     "text": [
      "/kaggle/input/mnist-numpy/mnist.npz\n"
     ]
    }
   ],
   "source": [
    "# This Python 3 environment comes with many helpful analytics libraries installed\n",
    "# It is defined by the kaggle/python Docker image: https://github.com/kaggle/docker-python\n",
    "# For example, here's several helpful packages to load\n",
    "\n",
    "import numpy as np # linear algebra\n",
    "import pandas as pd # data processing, CSV file I/O (e.g. pd.read_csv)\n",
    "\n",
    "# Input data files are available in the read-only \"../input/\" directory\n",
    "# For example, running this (by clicking run or pressing Shift+Enter) will list all files under the input directory\n",
    "\n",
    "import os\n",
    "for dirname, _, filenames in os.walk('/kaggle/input'):\n",
    "    for filename in filenames:\n",
    "        print(os.path.join(dirname, filename))\n",
    "\n",
    "# You can write up to 20GB to the current directory (/kaggle/working/) that gets preserved as output when you create a version using \"Save & Run All\" \n",
    "# You can also write temporary files to /kaggle/temp/, but they won't be saved outside of the current session"
   ]
  },
  {
   "cell_type": "code",
   "execution_count": 2,
   "metadata": {
    "execution": {
     "iopub.execute_input": "2020-11-24T16:11:53.850410Z",
     "iopub.status.busy": "2020-11-24T16:11:53.849735Z",
     "iopub.status.idle": "2020-11-24T16:12:00.030220Z",
     "shell.execute_reply": "2020-11-24T16:12:00.028824Z"
    },
    "papermill": {
     "duration": 6.209495,
     "end_time": "2020-11-24T16:12:00.030357",
     "exception": false,
     "start_time": "2020-11-24T16:11:53.820862",
     "status": "completed"
    },
    "tags": []
   },
   "outputs": [
    {
     "name": "stdout",
     "output_type": "stream",
     "text": [
      "Downloading data from https://storage.googleapis.com/tensorflow/tf-keras-datasets/mnist.npz\n",
      "11493376/11490434 [==============================] - 0s 0us/step\n"
     ]
    }
   ],
   "source": [
    "from keras.datasets import mnist\n",
    "\n",
    "# load data\n",
    "(X_train, y_train), (X_test, y_test) = mnist.load_data()"
   ]
  },
  {
   "cell_type": "code",
   "execution_count": 3,
   "metadata": {
    "execution": {
     "iopub.execute_input": "2020-11-24T16:12:00.084648Z",
     "iopub.status.busy": "2020-11-24T16:12:00.083911Z",
     "iopub.status.idle": "2020-11-24T16:12:00.405000Z",
     "shell.execute_reply": "2020-11-24T16:12:00.403824Z"
    },
    "papermill": {
     "duration": 0.350699,
     "end_time": "2020-11-24T16:12:00.405145",
     "exception": false,
     "start_time": "2020-11-24T16:12:00.054446",
     "status": "completed"
    },
    "tags": []
   },
   "outputs": [],
   "source": [
    "path = '/kaggle/input/mnist-numpy/mnist.npz'\n",
    "f = np.load(path)\n",
    "train_images, train_labels = f['x_train'], f['y_train']\n",
    "test_images, test_labels = f['x_test'], f['y_test']\n",
    "f.close()"
   ]
  },
  {
   "cell_type": "markdown",
   "metadata": {
    "papermill": {
     "duration": 0.023147,
     "end_time": "2020-11-24T16:12:00.452124",
     "exception": false,
     "start_time": "2020-11-24T16:12:00.428977",
     "status": "completed"
    },
    "tags": []
   },
   "source": [
    "## Data Preprocessing\n",
    "\n",
    "* reshape\n",
    "* transform data type\n",
    "* normalization\n",
    "* label => one-hot encoding"
   ]
  },
  {
   "cell_type": "code",
   "execution_count": 4,
   "metadata": {
    "execution": {
     "iopub.execute_input": "2020-11-24T16:12:00.506571Z",
     "iopub.status.busy": "2020-11-24T16:12:00.504649Z",
     "iopub.status.idle": "2020-11-24T16:12:00.507325Z",
     "shell.execute_reply": "2020-11-24T16:12:00.507844Z"
    },
    "papermill": {
     "duration": 0.032178,
     "end_time": "2020-11-24T16:12:00.507988",
     "exception": false,
     "start_time": "2020-11-24T16:12:00.475810",
     "status": "completed"
    },
    "tags": []
   },
   "outputs": [],
   "source": [
    "from keras.utils import to_categorical"
   ]
  },
  {
   "cell_type": "code",
   "execution_count": 5,
   "metadata": {
    "execution": {
     "iopub.execute_input": "2020-11-24T16:12:00.565825Z",
     "iopub.status.busy": "2020-11-24T16:12:00.565015Z",
     "iopub.status.idle": "2020-11-24T16:12:00.569147Z",
     "shell.execute_reply": "2020-11-24T16:12:00.569659Z"
    },
    "papermill": {
     "duration": 0.038002,
     "end_time": "2020-11-24T16:12:00.569793",
     "exception": false,
     "start_time": "2020-11-24T16:12:00.531791",
     "status": "completed"
    },
    "tags": []
   },
   "outputs": [
    {
     "data": {
      "text/plain": [
       "((60000, 784), (10000, 784))"
      ]
     },
     "execution_count": 5,
     "metadata": {},
     "output_type": "execute_result"
    }
   ],
   "source": [
    "# reshape\n",
    "X_train = X_train.reshape([60000, 784])\n",
    "X_test = X_test.reshape([10000, 784])\n",
    "X_train.shape, X_test.shape"
   ]
  },
  {
   "cell_type": "code",
   "execution_count": 6,
   "metadata": {
    "execution": {
     "iopub.execute_input": "2020-11-24T16:12:00.623990Z",
     "iopub.status.busy": "2020-11-24T16:12:00.623301Z",
     "iopub.status.idle": "2020-11-24T16:12:00.685861Z",
     "shell.execute_reply": "2020-11-24T16:12:00.685155Z"
    },
    "papermill": {
     "duration": 0.091484,
     "end_time": "2020-11-24T16:12:00.686001",
     "exception": false,
     "start_time": "2020-11-24T16:12:00.594517",
     "status": "completed"
    },
    "tags": []
   },
   "outputs": [],
   "source": [
    "# transform np data type\n",
    "X_train = X_train.astype(np.float32)\n",
    "X_test = X_test.astype(np.float32)"
   ]
  },
  {
   "cell_type": "code",
   "execution_count": 7,
   "metadata": {
    "execution": {
     "iopub.execute_input": "2020-11-24T16:12:00.741970Z",
     "iopub.status.busy": "2020-11-24T16:12:00.740692Z",
     "iopub.status.idle": "2020-11-24T16:12:00.816242Z",
     "shell.execute_reply": "2020-11-24T16:12:00.816858Z"
    },
    "papermill": {
     "duration": 0.105365,
     "end_time": "2020-11-24T16:12:00.817014",
     "exception": false,
     "start_time": "2020-11-24T16:12:00.711649",
     "status": "completed"
    },
    "tags": []
   },
   "outputs": [
    {
     "name": "stdout",
     "output_type": "stream",
     "text": [
      "[[0. 0. 0. ... 0. 0. 0.]\n",
      " [0. 0. 0. ... 0. 0. 0.]\n",
      " [0. 0. 0. ... 0. 0. 0.]\n",
      " ...\n",
      " [0. 0. 0. ... 0. 0. 0.]\n",
      " [0. 0. 0. ... 0. 0. 0.]\n",
      " [0. 0. 0. ... 0. 0. 0.]]\n"
     ]
    }
   ],
   "source": [
    "# normalization\n",
    "X_train = X_train/255\n",
    "X_test = X_test/255\n",
    "print(X_train)"
   ]
  },
  {
   "cell_type": "code",
   "execution_count": 8,
   "metadata": {
    "execution": {
     "iopub.execute_input": "2020-11-24T16:12:00.874565Z",
     "iopub.status.busy": "2020-11-24T16:12:00.873465Z",
     "iopub.status.idle": "2020-11-24T16:12:00.879191Z",
     "shell.execute_reply": "2020-11-24T16:12:00.879684Z"
    },
    "papermill": {
     "duration": 0.037512,
     "end_time": "2020-11-24T16:12:00.879818",
     "exception": false,
     "start_time": "2020-11-24T16:12:00.842306",
     "status": "completed"
    },
    "tags": []
   },
   "outputs": [],
   "source": [
    "# one-hot encoding\n",
    "train_labels = to_categorical(y_train)\n",
    "test_labels = to_categorical(y_test)"
   ]
  },
  {
   "cell_type": "markdown",
   "metadata": {
    "papermill": {
     "duration": 0.024969,
     "end_time": "2020-11-24T16:12:00.929031",
     "exception": false,
     "start_time": "2020-11-24T16:12:00.904062",
     "status": "completed"
    },
    "tags": []
   },
   "source": [
    "## Model\n",
    "\n",
    "* build model\n",
    "* compile, summary\n",
    "* fit, evaluate\n",
    "\n",
    "</br></br>\n",
    "\n",
    "* advanced NN model"
   ]
  },
  {
   "cell_type": "code",
   "execution_count": 9,
   "metadata": {
    "execution": {
     "iopub.execute_input": "2020-11-24T16:12:00.984383Z",
     "iopub.status.busy": "2020-11-24T16:12:00.983738Z",
     "iopub.status.idle": "2020-11-24T16:12:00.987622Z",
     "shell.execute_reply": "2020-11-24T16:12:00.987019Z"
    },
    "papermill": {
     "duration": 0.033621,
     "end_time": "2020-11-24T16:12:00.987740",
     "exception": false,
     "start_time": "2020-11-24T16:12:00.954119",
     "status": "completed"
    },
    "tags": []
   },
   "outputs": [],
   "source": [
    "from keras.models import Sequential\n",
    "from keras.layers import Dense, Activation"
   ]
  },
  {
   "cell_type": "code",
   "execution_count": 10,
   "metadata": {
    "execution": {
     "iopub.execute_input": "2020-11-24T16:12:01.043649Z",
     "iopub.status.busy": "2020-11-24T16:12:01.042938Z",
     "iopub.status.idle": "2020-11-24T16:12:04.267383Z",
     "shell.execute_reply": "2020-11-24T16:12:04.265681Z"
    },
    "papermill": {
     "duration": 3.254404,
     "end_time": "2020-11-24T16:12:04.267517",
     "exception": false,
     "start_time": "2020-11-24T16:12:01.013113",
     "status": "completed"
    },
    "tags": []
   },
   "outputs": [],
   "source": [
    "# build simple model\n",
    "model = Sequential()\n",
    "model.add(Dense(10, input_shape=(28*28, )))\n",
    "model.add(Activation('softmax'))"
   ]
  },
  {
   "cell_type": "code",
   "execution_count": 11,
   "metadata": {
    "execution": {
     "iopub.execute_input": "2020-11-24T16:12:04.332837Z",
     "iopub.status.busy": "2020-11-24T16:12:04.331827Z",
     "iopub.status.idle": "2020-11-24T16:12:04.342232Z",
     "shell.execute_reply": "2020-11-24T16:12:04.342927Z"
    },
    "papermill": {
     "duration": 0.049173,
     "end_time": "2020-11-24T16:12:04.343098",
     "exception": false,
     "start_time": "2020-11-24T16:12:04.293925",
     "status": "completed"
    },
    "tags": []
   },
   "outputs": [
    {
     "name": "stdout",
     "output_type": "stream",
     "text": [
      "Model: \"sequential\"\n",
      "_________________________________________________________________\n",
      "Layer (type)                 Output Shape              Param #   \n",
      "=================================================================\n",
      "dense (Dense)                (None, 10)                7850      \n",
      "_________________________________________________________________\n",
      "activation (Activation)      (None, 10)                0         \n",
      "=================================================================\n",
      "Total params: 7,850\n",
      "Trainable params: 7,850\n",
      "Non-trainable params: 0\n",
      "_________________________________________________________________\n"
     ]
    }
   ],
   "source": [
    "# compile\n",
    "model.compile(optimizer='sgd', loss='categorical_crossentropy', metrics=['accuracy'])\n",
    "# summary\n",
    "model.summary()"
   ]
  },
  {
   "cell_type": "code",
   "execution_count": 12,
   "metadata": {
    "execution": {
     "iopub.execute_input": "2020-11-24T16:12:04.403612Z",
     "iopub.status.busy": "2020-11-24T16:12:04.402904Z",
     "iopub.status.idle": "2020-11-24T16:15:18.014244Z",
     "shell.execute_reply": "2020-11-24T16:15:18.014744Z"
    },
    "papermill": {
     "duration": 193.643272,
     "end_time": "2020-11-24T16:15:18.014899",
     "exception": false,
     "start_time": "2020-11-24T16:12:04.371627",
     "status": "completed"
    },
    "tags": []
   },
   "outputs": [
    {
     "name": "stdout",
     "output_type": "stream",
     "text": [
      "Epoch 1/200\n",
      "375/375 [==============================] - 1s 3ms/step - loss: 1.3824 - accuracy: 0.6680 - val_loss: 0.8981 - val_accuracy: 0.8270\n",
      "Epoch 2/200\n",
      "375/375 [==============================] - 1s 3ms/step - loss: 0.7923 - accuracy: 0.8297 - val_loss: 0.6586 - val_accuracy: 0.8564\n",
      "Epoch 3/200\n",
      "375/375 [==============================] - 1s 3ms/step - loss: 0.6419 - accuracy: 0.8510 - val_loss: 0.5625 - val_accuracy: 0.8705\n",
      "Epoch 4/200\n",
      "375/375 [==============================] - 1s 2ms/step - loss: 0.5695 - accuracy: 0.8614 - val_loss: 0.5095 - val_accuracy: 0.8783\n",
      "Epoch 5/200\n",
      "375/375 [==============================] - 1s 2ms/step - loss: 0.5254 - accuracy: 0.8682 - val_loss: 0.4756 - val_accuracy: 0.8823\n",
      "Epoch 6/200\n",
      "375/375 [==============================] - 1s 2ms/step - loss: 0.4953 - accuracy: 0.8734 - val_loss: 0.4514 - val_accuracy: 0.8863\n",
      "Epoch 7/200\n",
      "375/375 [==============================] - 1s 2ms/step - loss: 0.4730 - accuracy: 0.8776 - val_loss: 0.4332 - val_accuracy: 0.8894\n",
      "Epoch 8/200\n",
      "375/375 [==============================] - 1s 2ms/step - loss: 0.4556 - accuracy: 0.8800 - val_loss: 0.4193 - val_accuracy: 0.8910\n",
      "Epoch 9/200\n",
      "375/375 [==============================] - 1s 2ms/step - loss: 0.4418 - accuracy: 0.8824 - val_loss: 0.4077 - val_accuracy: 0.8923\n",
      "Epoch 10/200\n",
      "375/375 [==============================] - 1s 3ms/step - loss: 0.4302 - accuracy: 0.8842 - val_loss: 0.3979 - val_accuracy: 0.8947\n",
      "Epoch 11/200\n",
      "375/375 [==============================] - 1s 3ms/step - loss: 0.4205 - accuracy: 0.8862 - val_loss: 0.3898 - val_accuracy: 0.8965\n",
      "Epoch 12/200\n",
      "375/375 [==============================] - 1s 2ms/step - loss: 0.4121 - accuracy: 0.8877 - val_loss: 0.3828 - val_accuracy: 0.8978\n",
      "Epoch 13/200\n",
      "375/375 [==============================] - 1s 2ms/step - loss: 0.4048 - accuracy: 0.8900 - val_loss: 0.3767 - val_accuracy: 0.9001\n",
      "Epoch 14/200\n",
      "375/375 [==============================] - 1s 3ms/step - loss: 0.3983 - accuracy: 0.8911 - val_loss: 0.3715 - val_accuracy: 0.9004\n",
      "Epoch 15/200\n",
      "375/375 [==============================] - 1s 2ms/step - loss: 0.3926 - accuracy: 0.8925 - val_loss: 0.3666 - val_accuracy: 0.9020\n",
      "Epoch 16/200\n",
      "375/375 [==============================] - 1s 2ms/step - loss: 0.3875 - accuracy: 0.8936 - val_loss: 0.3622 - val_accuracy: 0.9028\n",
      "Epoch 17/200\n",
      "375/375 [==============================] - 1s 2ms/step - loss: 0.3828 - accuracy: 0.8948 - val_loss: 0.3584 - val_accuracy: 0.9031\n",
      "Epoch 18/200\n",
      "375/375 [==============================] - 1s 2ms/step - loss: 0.3785 - accuracy: 0.8957 - val_loss: 0.3550 - val_accuracy: 0.9043\n",
      "Epoch 19/200\n",
      "375/375 [==============================] - 1s 2ms/step - loss: 0.3746 - accuracy: 0.8967 - val_loss: 0.3516 - val_accuracy: 0.9049\n",
      "Epoch 20/200\n",
      "375/375 [==============================] - 1s 2ms/step - loss: 0.3711 - accuracy: 0.8974 - val_loss: 0.3487 - val_accuracy: 0.9052\n",
      "Epoch 21/200\n",
      "375/375 [==============================] - 1s 2ms/step - loss: 0.3677 - accuracy: 0.8982 - val_loss: 0.3460 - val_accuracy: 0.9060\n",
      "Epoch 22/200\n",
      "375/375 [==============================] - 1s 2ms/step - loss: 0.3647 - accuracy: 0.8989 - val_loss: 0.3434 - val_accuracy: 0.9071\n",
      "Epoch 23/200\n",
      "375/375 [==============================] - 1s 2ms/step - loss: 0.3618 - accuracy: 0.8997 - val_loss: 0.3411 - val_accuracy: 0.9069\n",
      "Epoch 24/200\n",
      "375/375 [==============================] - 1s 2ms/step - loss: 0.3591 - accuracy: 0.9003 - val_loss: 0.3388 - val_accuracy: 0.9080\n",
      "Epoch 25/200\n",
      "375/375 [==============================] - 1s 2ms/step - loss: 0.3566 - accuracy: 0.9008 - val_loss: 0.3367 - val_accuracy: 0.9092\n",
      "Epoch 26/200\n",
      "375/375 [==============================] - 1s 3ms/step - loss: 0.3542 - accuracy: 0.9019 - val_loss: 0.3348 - val_accuracy: 0.9086\n",
      "Epoch 27/200\n",
      "375/375 [==============================] - 1s 3ms/step - loss: 0.3520 - accuracy: 0.9022 - val_loss: 0.3329 - val_accuracy: 0.9093\n",
      "Epoch 28/200\n",
      "375/375 [==============================] - 1s 3ms/step - loss: 0.3498 - accuracy: 0.9026 - val_loss: 0.3314 - val_accuracy: 0.9098\n",
      "Epoch 29/200\n",
      "375/375 [==============================] - 1s 2ms/step - loss: 0.3479 - accuracy: 0.9032 - val_loss: 0.3295 - val_accuracy: 0.9096\n",
      "Epoch 30/200\n",
      "375/375 [==============================] - 1s 2ms/step - loss: 0.3460 - accuracy: 0.9038 - val_loss: 0.3279 - val_accuracy: 0.9106\n",
      "Epoch 31/200\n",
      "375/375 [==============================] - 1s 3ms/step - loss: 0.3442 - accuracy: 0.9043 - val_loss: 0.3265 - val_accuracy: 0.9103\n",
      "Epoch 32/200\n",
      "375/375 [==============================] - 1s 3ms/step - loss: 0.3425 - accuracy: 0.9048 - val_loss: 0.3251 - val_accuracy: 0.9107\n",
      "Epoch 33/200\n",
      "375/375 [==============================] - 1s 2ms/step - loss: 0.3408 - accuracy: 0.9050 - val_loss: 0.3239 - val_accuracy: 0.9112\n",
      "Epoch 34/200\n",
      "375/375 [==============================] - 1s 2ms/step - loss: 0.3393 - accuracy: 0.9053 - val_loss: 0.3226 - val_accuracy: 0.9113\n",
      "Epoch 35/200\n",
      "375/375 [==============================] - 1s 2ms/step - loss: 0.3378 - accuracy: 0.9058 - val_loss: 0.3213 - val_accuracy: 0.9120\n",
      "Epoch 36/200\n",
      "375/375 [==============================] - 1s 2ms/step - loss: 0.3363 - accuracy: 0.9060 - val_loss: 0.3202 - val_accuracy: 0.9122\n",
      "Epoch 37/200\n",
      "375/375 [==============================] - 1s 3ms/step - loss: 0.3349 - accuracy: 0.9065 - val_loss: 0.3191 - val_accuracy: 0.9126\n",
      "Epoch 38/200\n",
      "375/375 [==============================] - 1s 3ms/step - loss: 0.3336 - accuracy: 0.9066 - val_loss: 0.3180 - val_accuracy: 0.9126\n",
      "Epoch 39/200\n",
      "375/375 [==============================] - 1s 2ms/step - loss: 0.3324 - accuracy: 0.9070 - val_loss: 0.3170 - val_accuracy: 0.9129\n",
      "Epoch 40/200\n",
      "375/375 [==============================] - 1s 2ms/step - loss: 0.3311 - accuracy: 0.9079 - val_loss: 0.3161 - val_accuracy: 0.9135\n",
      "Epoch 41/200\n",
      "375/375 [==============================] - 1s 3ms/step - loss: 0.3300 - accuracy: 0.9078 - val_loss: 0.3150 - val_accuracy: 0.9133\n",
      "Epoch 42/200\n",
      "375/375 [==============================] - 1s 2ms/step - loss: 0.3288 - accuracy: 0.9081 - val_loss: 0.3142 - val_accuracy: 0.9136\n",
      "Epoch 43/200\n",
      "375/375 [==============================] - 1s 4ms/step - loss: 0.3277 - accuracy: 0.9084 - val_loss: 0.3132 - val_accuracy: 0.9137\n",
      "Epoch 44/200\n",
      "375/375 [==============================] - 1s 2ms/step - loss: 0.3267 - accuracy: 0.9087 - val_loss: 0.3124 - val_accuracy: 0.9142\n",
      "Epoch 45/200\n",
      "375/375 [==============================] - 1s 2ms/step - loss: 0.3256 - accuracy: 0.9092 - val_loss: 0.3116 - val_accuracy: 0.9143\n",
      "Epoch 46/200\n",
      "375/375 [==============================] - 1s 2ms/step - loss: 0.3247 - accuracy: 0.9093 - val_loss: 0.3108 - val_accuracy: 0.9141\n",
      "Epoch 47/200\n",
      "375/375 [==============================] - 1s 2ms/step - loss: 0.3237 - accuracy: 0.9095 - val_loss: 0.3101 - val_accuracy: 0.9141\n",
      "Epoch 48/200\n",
      "375/375 [==============================] - 1s 3ms/step - loss: 0.3227 - accuracy: 0.9097 - val_loss: 0.3093 - val_accuracy: 0.9149\n",
      "Epoch 49/200\n",
      "375/375 [==============================] - 1s 2ms/step - loss: 0.3218 - accuracy: 0.9100 - val_loss: 0.3085 - val_accuracy: 0.9153\n",
      "Epoch 50/200\n",
      "375/375 [==============================] - 1s 2ms/step - loss: 0.3210 - accuracy: 0.9106 - val_loss: 0.3080 - val_accuracy: 0.9155\n",
      "Epoch 51/200\n",
      "375/375 [==============================] - 1s 2ms/step - loss: 0.3201 - accuracy: 0.9104 - val_loss: 0.3071 - val_accuracy: 0.9149\n",
      "Epoch 52/200\n",
      "375/375 [==============================] - 1s 2ms/step - loss: 0.3193 - accuracy: 0.9109 - val_loss: 0.3066 - val_accuracy: 0.9153\n",
      "Epoch 53/200\n",
      "375/375 [==============================] - 1s 2ms/step - loss: 0.3184 - accuracy: 0.9109 - val_loss: 0.3059 - val_accuracy: 0.9155\n",
      "Epoch 54/200\n",
      "375/375 [==============================] - 1s 2ms/step - loss: 0.3177 - accuracy: 0.9111 - val_loss: 0.3053 - val_accuracy: 0.9158\n",
      "Epoch 55/200\n",
      "375/375 [==============================] - 1s 2ms/step - loss: 0.3169 - accuracy: 0.9116 - val_loss: 0.3048 - val_accuracy: 0.9158\n",
      "Epoch 56/200\n",
      "375/375 [==============================] - 1s 2ms/step - loss: 0.3162 - accuracy: 0.9117 - val_loss: 0.3042 - val_accuracy: 0.9161\n",
      "Epoch 57/200\n",
      "375/375 [==============================] - 1s 2ms/step - loss: 0.3155 - accuracy: 0.9117 - val_loss: 0.3036 - val_accuracy: 0.9164\n",
      "Epoch 58/200\n",
      "375/375 [==============================] - 1s 2ms/step - loss: 0.3147 - accuracy: 0.9119 - val_loss: 0.3030 - val_accuracy: 0.9166\n",
      "Epoch 59/200\n",
      "375/375 [==============================] - 1s 2ms/step - loss: 0.3141 - accuracy: 0.9125 - val_loss: 0.3025 - val_accuracy: 0.9167\n",
      "Epoch 60/200\n",
      "375/375 [==============================] - 1s 3ms/step - loss: 0.3134 - accuracy: 0.9126 - val_loss: 0.3020 - val_accuracy: 0.9169\n",
      "Epoch 61/200\n",
      "375/375 [==============================] - 1s 2ms/step - loss: 0.3128 - accuracy: 0.9129 - val_loss: 0.3015 - val_accuracy: 0.9168\n",
      "Epoch 62/200\n",
      "375/375 [==============================] - 1s 3ms/step - loss: 0.3121 - accuracy: 0.9129 - val_loss: 0.3010 - val_accuracy: 0.9169\n",
      "Epoch 63/200\n",
      "375/375 [==============================] - 1s 3ms/step - loss: 0.3115 - accuracy: 0.9130 - val_loss: 0.3005 - val_accuracy: 0.9174\n",
      "Epoch 64/200\n",
      "375/375 [==============================] - 1s 2ms/step - loss: 0.3109 - accuracy: 0.9133 - val_loss: 0.3001 - val_accuracy: 0.9169\n",
      "Epoch 65/200\n",
      "375/375 [==============================] - 1s 2ms/step - loss: 0.3103 - accuracy: 0.9134 - val_loss: 0.2996 - val_accuracy: 0.9173\n",
      "Epoch 66/200\n",
      "375/375 [==============================] - 1s 2ms/step - loss: 0.3097 - accuracy: 0.9136 - val_loss: 0.2991 - val_accuracy: 0.9180\n",
      "Epoch 67/200\n",
      "375/375 [==============================] - 1s 2ms/step - loss: 0.3091 - accuracy: 0.9136 - val_loss: 0.2988 - val_accuracy: 0.9176\n",
      "Epoch 68/200\n",
      "375/375 [==============================] - 1s 2ms/step - loss: 0.3086 - accuracy: 0.9138 - val_loss: 0.2984 - val_accuracy: 0.9175\n",
      "Epoch 69/200\n",
      "375/375 [==============================] - 1s 2ms/step - loss: 0.3081 - accuracy: 0.9142 - val_loss: 0.2979 - val_accuracy: 0.9177\n",
      "Epoch 70/200\n",
      "375/375 [==============================] - 1s 2ms/step - loss: 0.3075 - accuracy: 0.9144 - val_loss: 0.2975 - val_accuracy: 0.9175\n",
      "Epoch 71/200\n",
      "375/375 [==============================] - 1s 2ms/step - loss: 0.3070 - accuracy: 0.9146 - val_loss: 0.2971 - val_accuracy: 0.9174\n",
      "Epoch 72/200\n",
      "375/375 [==============================] - 1s 3ms/step - loss: 0.3065 - accuracy: 0.9145 - val_loss: 0.2966 - val_accuracy: 0.9178\n",
      "Epoch 73/200\n",
      "375/375 [==============================] - 1s 2ms/step - loss: 0.3060 - accuracy: 0.9147 - val_loss: 0.2964 - val_accuracy: 0.9178\n",
      "Epoch 74/200\n",
      "375/375 [==============================] - 1s 2ms/step - loss: 0.3055 - accuracy: 0.9149 - val_loss: 0.2959 - val_accuracy: 0.9185\n",
      "Epoch 75/200\n",
      "375/375 [==============================] - 1s 2ms/step - loss: 0.3050 - accuracy: 0.9151 - val_loss: 0.2956 - val_accuracy: 0.9180\n",
      "Epoch 76/200\n",
      "375/375 [==============================] - 1s 2ms/step - loss: 0.3045 - accuracy: 0.9153 - val_loss: 0.2953 - val_accuracy: 0.9180\n",
      "Epoch 77/200\n",
      "375/375 [==============================] - 1s 3ms/step - loss: 0.3041 - accuracy: 0.9151 - val_loss: 0.2949 - val_accuracy: 0.9182\n",
      "Epoch 78/200\n",
      "375/375 [==============================] - 1s 3ms/step - loss: 0.3036 - accuracy: 0.9151 - val_loss: 0.2946 - val_accuracy: 0.9183\n",
      "Epoch 79/200\n",
      "375/375 [==============================] - 1s 2ms/step - loss: 0.3032 - accuracy: 0.9155 - val_loss: 0.2942 - val_accuracy: 0.9185\n",
      "Epoch 80/200\n",
      "375/375 [==============================] - 1s 2ms/step - loss: 0.3027 - accuracy: 0.9155 - val_loss: 0.2940 - val_accuracy: 0.9183\n",
      "Epoch 81/200\n",
      "375/375 [==============================] - 1s 2ms/step - loss: 0.3023 - accuracy: 0.9159 - val_loss: 0.2936 - val_accuracy: 0.9184\n",
      "Epoch 82/200\n",
      "375/375 [==============================] - 1s 2ms/step - loss: 0.3018 - accuracy: 0.9161 - val_loss: 0.2933 - val_accuracy: 0.9187\n",
      "Epoch 83/200\n",
      "375/375 [==============================] - 1s 3ms/step - loss: 0.3015 - accuracy: 0.9159 - val_loss: 0.2929 - val_accuracy: 0.9187\n",
      "Epoch 84/200\n",
      "375/375 [==============================] - 1s 3ms/step - loss: 0.3010 - accuracy: 0.9162 - val_loss: 0.2927 - val_accuracy: 0.9192\n",
      "Epoch 85/200\n",
      "375/375 [==============================] - 1s 2ms/step - loss: 0.3006 - accuracy: 0.9163 - val_loss: 0.2924 - val_accuracy: 0.9183\n",
      "Epoch 86/200\n",
      "375/375 [==============================] - 1s 2ms/step - loss: 0.3002 - accuracy: 0.9163 - val_loss: 0.2921 - val_accuracy: 0.9187\n",
      "Epoch 87/200\n",
      "375/375 [==============================] - 1s 2ms/step - loss: 0.2999 - accuracy: 0.9165 - val_loss: 0.2917 - val_accuracy: 0.9192\n",
      "Epoch 88/200\n",
      "375/375 [==============================] - 1s 2ms/step - loss: 0.2995 - accuracy: 0.9168 - val_loss: 0.2915 - val_accuracy: 0.9185\n",
      "Epoch 89/200\n",
      "375/375 [==============================] - 1s 2ms/step - loss: 0.2991 - accuracy: 0.9168 - val_loss: 0.2913 - val_accuracy: 0.9185\n",
      "Epoch 90/200\n",
      "375/375 [==============================] - 1s 3ms/step - loss: 0.2987 - accuracy: 0.9169 - val_loss: 0.2910 - val_accuracy: 0.9187\n",
      "Epoch 91/200\n",
      "375/375 [==============================] - 1s 3ms/step - loss: 0.2984 - accuracy: 0.9170 - val_loss: 0.2907 - val_accuracy: 0.9191\n",
      "Epoch 92/200\n",
      "375/375 [==============================] - 1s 2ms/step - loss: 0.2980 - accuracy: 0.9170 - val_loss: 0.2904 - val_accuracy: 0.9193\n",
      "Epoch 93/200\n",
      "375/375 [==============================] - 1s 2ms/step - loss: 0.2976 - accuracy: 0.9173 - val_loss: 0.2902 - val_accuracy: 0.9192\n",
      "Epoch 94/200\n",
      "375/375 [==============================] - 1s 3ms/step - loss: 0.2973 - accuracy: 0.9173 - val_loss: 0.2899 - val_accuracy: 0.9195\n",
      "Epoch 95/200\n",
      "375/375 [==============================] - 2s 4ms/step - loss: 0.2970 - accuracy: 0.9176 - val_loss: 0.2897 - val_accuracy: 0.9187\n",
      "Epoch 96/200\n",
      "375/375 [==============================] - 1s 3ms/step - loss: 0.2966 - accuracy: 0.9175 - val_loss: 0.2894 - val_accuracy: 0.9193\n",
      "Epoch 97/200\n",
      "375/375 [==============================] - 1s 2ms/step - loss: 0.2963 - accuracy: 0.9176 - val_loss: 0.2891 - val_accuracy: 0.9193\n",
      "Epoch 98/200\n",
      "375/375 [==============================] - 1s 2ms/step - loss: 0.2959 - accuracy: 0.9180 - val_loss: 0.2889 - val_accuracy: 0.9194\n",
      "Epoch 99/200\n",
      "375/375 [==============================] - 1s 2ms/step - loss: 0.2956 - accuracy: 0.9183 - val_loss: 0.2887 - val_accuracy: 0.9190\n",
      "Epoch 100/200\n",
      "375/375 [==============================] - 1s 2ms/step - loss: 0.2953 - accuracy: 0.9181 - val_loss: 0.2886 - val_accuracy: 0.9188\n",
      "Epoch 101/200\n",
      "375/375 [==============================] - 1s 2ms/step - loss: 0.2950 - accuracy: 0.9181 - val_loss: 0.2882 - val_accuracy: 0.9195\n",
      "Epoch 102/200\n",
      "375/375 [==============================] - 1s 2ms/step - loss: 0.2947 - accuracy: 0.9182 - val_loss: 0.2881 - val_accuracy: 0.9193\n",
      "Epoch 103/200\n",
      "375/375 [==============================] - 1s 2ms/step - loss: 0.2944 - accuracy: 0.9181 - val_loss: 0.2878 - val_accuracy: 0.9197\n",
      "Epoch 104/200\n",
      "375/375 [==============================] - 1s 2ms/step - loss: 0.2941 - accuracy: 0.9183 - val_loss: 0.2876 - val_accuracy: 0.9205\n",
      "Epoch 105/200\n",
      "375/375 [==============================] - 1s 3ms/step - loss: 0.2938 - accuracy: 0.9186 - val_loss: 0.2874 - val_accuracy: 0.9197\n",
      "Epoch 106/200\n",
      "375/375 [==============================] - 1s 3ms/step - loss: 0.2935 - accuracy: 0.9189 - val_loss: 0.2872 - val_accuracy: 0.9200\n",
      "Epoch 107/200\n",
      "375/375 [==============================] - 1s 2ms/step - loss: 0.2932 - accuracy: 0.9185 - val_loss: 0.2870 - val_accuracy: 0.9201\n",
      "Epoch 108/200\n",
      "375/375 [==============================] - 1s 2ms/step - loss: 0.2929 - accuracy: 0.9188 - val_loss: 0.2868 - val_accuracy: 0.9199\n",
      "Epoch 109/200\n",
      "375/375 [==============================] - 1s 3ms/step - loss: 0.2926 - accuracy: 0.9189 - val_loss: 0.2866 - val_accuracy: 0.9197\n",
      "Epoch 110/200\n",
      "375/375 [==============================] - 1s 3ms/step - loss: 0.2923 - accuracy: 0.9190 - val_loss: 0.2864 - val_accuracy: 0.9201\n",
      "Epoch 111/200\n",
      "375/375 [==============================] - 1s 2ms/step - loss: 0.2920 - accuracy: 0.9189 - val_loss: 0.2863 - val_accuracy: 0.9200\n",
      "Epoch 112/200\n",
      "375/375 [==============================] - 1s 2ms/step - loss: 0.2918 - accuracy: 0.9189 - val_loss: 0.2860 - val_accuracy: 0.9206\n",
      "Epoch 113/200\n",
      "375/375 [==============================] - 1s 2ms/step - loss: 0.2915 - accuracy: 0.9193 - val_loss: 0.2858 - val_accuracy: 0.9200\n",
      "Epoch 114/200\n",
      "375/375 [==============================] - 1s 2ms/step - loss: 0.2913 - accuracy: 0.9193 - val_loss: 0.2856 - val_accuracy: 0.9203\n",
      "Epoch 115/200\n",
      "375/375 [==============================] - 1s 3ms/step - loss: 0.2910 - accuracy: 0.9193 - val_loss: 0.2856 - val_accuracy: 0.9200\n",
      "Epoch 116/200\n",
      "375/375 [==============================] - 1s 2ms/step - loss: 0.2907 - accuracy: 0.9194 - val_loss: 0.2853 - val_accuracy: 0.9203\n",
      "Epoch 117/200\n",
      "375/375 [==============================] - 1s 3ms/step - loss: 0.2905 - accuracy: 0.9195 - val_loss: 0.2852 - val_accuracy: 0.9207\n",
      "Epoch 118/200\n",
      "375/375 [==============================] - 1s 3ms/step - loss: 0.2902 - accuracy: 0.9195 - val_loss: 0.2849 - val_accuracy: 0.9204\n",
      "Epoch 119/200\n",
      "375/375 [==============================] - 1s 3ms/step - loss: 0.2900 - accuracy: 0.9193 - val_loss: 0.2847 - val_accuracy: 0.9208\n",
      "Epoch 120/200\n",
      "375/375 [==============================] - 1s 3ms/step - loss: 0.2898 - accuracy: 0.9195 - val_loss: 0.2846 - val_accuracy: 0.9206\n",
      "Epoch 121/200\n",
      "375/375 [==============================] - 1s 3ms/step - loss: 0.2895 - accuracy: 0.9196 - val_loss: 0.2845 - val_accuracy: 0.9208\n",
      "Epoch 122/200\n",
      "375/375 [==============================] - 1s 3ms/step - loss: 0.2893 - accuracy: 0.9198 - val_loss: 0.2843 - val_accuracy: 0.9208\n",
      "Epoch 123/200\n",
      "375/375 [==============================] - 1s 3ms/step - loss: 0.2890 - accuracy: 0.9198 - val_loss: 0.2841 - val_accuracy: 0.9207\n",
      "Epoch 124/200\n",
      "375/375 [==============================] - 1s 3ms/step - loss: 0.2888 - accuracy: 0.9197 - val_loss: 0.2839 - val_accuracy: 0.9208\n",
      "Epoch 125/200\n",
      "375/375 [==============================] - 1s 2ms/step - loss: 0.2886 - accuracy: 0.9196 - val_loss: 0.2838 - val_accuracy: 0.9208\n",
      "Epoch 126/200\n",
      "375/375 [==============================] - 1s 2ms/step - loss: 0.2884 - accuracy: 0.9200 - val_loss: 0.2836 - val_accuracy: 0.9208\n",
      "Epoch 127/200\n",
      "375/375 [==============================] - 1s 2ms/step - loss: 0.2881 - accuracy: 0.9199 - val_loss: 0.2835 - val_accuracy: 0.9212\n",
      "Epoch 128/200\n",
      "375/375 [==============================] - 1s 4ms/step - loss: 0.2879 - accuracy: 0.9203 - val_loss: 0.2834 - val_accuracy: 0.9212\n",
      "Epoch 129/200\n",
      "375/375 [==============================] - 1s 3ms/step - loss: 0.2876 - accuracy: 0.9201 - val_loss: 0.2832 - val_accuracy: 0.9209\n",
      "Epoch 130/200\n",
      "375/375 [==============================] - 1s 2ms/step - loss: 0.2874 - accuracy: 0.9200 - val_loss: 0.2830 - val_accuracy: 0.9209\n",
      "Epoch 131/200\n",
      "375/375 [==============================] - 1s 2ms/step - loss: 0.2872 - accuracy: 0.9200 - val_loss: 0.2829 - val_accuracy: 0.9210\n",
      "Epoch 132/200\n",
      "375/375 [==============================] - 1s 2ms/step - loss: 0.2870 - accuracy: 0.9201 - val_loss: 0.2827 - val_accuracy: 0.9209\n",
      "Epoch 133/200\n",
      "375/375 [==============================] - 1s 2ms/step - loss: 0.2868 - accuracy: 0.9204 - val_loss: 0.2826 - val_accuracy: 0.9210\n",
      "Epoch 134/200\n",
      "375/375 [==============================] - 1s 2ms/step - loss: 0.2866 - accuracy: 0.9201 - val_loss: 0.2824 - val_accuracy: 0.9208\n",
      "Epoch 135/200\n",
      "375/375 [==============================] - 1s 2ms/step - loss: 0.2864 - accuracy: 0.9205 - val_loss: 0.2823 - val_accuracy: 0.9212\n",
      "Epoch 136/200\n",
      "375/375 [==============================] - 1s 2ms/step - loss: 0.2861 - accuracy: 0.9204 - val_loss: 0.2821 - val_accuracy: 0.9208\n",
      "Epoch 137/200\n",
      "375/375 [==============================] - 1s 2ms/step - loss: 0.2860 - accuracy: 0.9207 - val_loss: 0.2820 - val_accuracy: 0.9211\n",
      "Epoch 138/200\n",
      "375/375 [==============================] - 1s 2ms/step - loss: 0.2857 - accuracy: 0.9205 - val_loss: 0.2819 - val_accuracy: 0.9219\n",
      "Epoch 139/200\n",
      "375/375 [==============================] - 1s 2ms/step - loss: 0.2856 - accuracy: 0.9206 - val_loss: 0.2818 - val_accuracy: 0.9212\n",
      "Epoch 140/200\n",
      "375/375 [==============================] - 1s 3ms/step - loss: 0.2854 - accuracy: 0.9204 - val_loss: 0.2816 - val_accuracy: 0.9213\n",
      "Epoch 141/200\n",
      "375/375 [==============================] - 1s 2ms/step - loss: 0.2852 - accuracy: 0.9209 - val_loss: 0.2815 - val_accuracy: 0.9208\n",
      "Epoch 142/200\n",
      "375/375 [==============================] - 1s 2ms/step - loss: 0.2850 - accuracy: 0.9208 - val_loss: 0.2814 - val_accuracy: 0.9216\n",
      "Epoch 143/200\n",
      "375/375 [==============================] - 1s 3ms/step - loss: 0.2848 - accuracy: 0.9209 - val_loss: 0.2813 - val_accuracy: 0.9216\n",
      "Epoch 144/200\n",
      "375/375 [==============================] - 1s 3ms/step - loss: 0.2846 - accuracy: 0.9209 - val_loss: 0.2812 - val_accuracy: 0.9215\n",
      "Epoch 145/200\n",
      "375/375 [==============================] - 1s 2ms/step - loss: 0.2844 - accuracy: 0.9208 - val_loss: 0.2811 - val_accuracy: 0.9217\n",
      "Epoch 146/200\n",
      "375/375 [==============================] - 1s 2ms/step - loss: 0.2842 - accuracy: 0.9208 - val_loss: 0.2809 - val_accuracy: 0.9212\n",
      "Epoch 147/200\n",
      "375/375 [==============================] - 1s 2ms/step - loss: 0.2840 - accuracy: 0.9211 - val_loss: 0.2808 - val_accuracy: 0.9217\n",
      "Epoch 148/200\n",
      "375/375 [==============================] - 1s 2ms/step - loss: 0.2838 - accuracy: 0.9210 - val_loss: 0.2806 - val_accuracy: 0.9217\n",
      "Epoch 149/200\n",
      "375/375 [==============================] - 1s 2ms/step - loss: 0.2836 - accuracy: 0.9212 - val_loss: 0.2806 - val_accuracy: 0.9217\n",
      "Epoch 150/200\n",
      "375/375 [==============================] - 1s 2ms/step - loss: 0.2835 - accuracy: 0.9211 - val_loss: 0.2805 - val_accuracy: 0.9217\n",
      "Epoch 151/200\n",
      "375/375 [==============================] - 1s 2ms/step - loss: 0.2833 - accuracy: 0.9211 - val_loss: 0.2803 - val_accuracy: 0.9215\n",
      "Epoch 152/200\n",
      "375/375 [==============================] - 2s 4ms/step - loss: 0.2831 - accuracy: 0.9214 - val_loss: 0.2802 - val_accuracy: 0.9217\n",
      "Epoch 153/200\n",
      "375/375 [==============================] - 1s 2ms/step - loss: 0.2829 - accuracy: 0.9214 - val_loss: 0.2801 - val_accuracy: 0.9221\n",
      "Epoch 154/200\n",
      "375/375 [==============================] - 1s 2ms/step - loss: 0.2827 - accuracy: 0.9211 - val_loss: 0.2800 - val_accuracy: 0.9221\n",
      "Epoch 155/200\n",
      "375/375 [==============================] - 1s 2ms/step - loss: 0.2826 - accuracy: 0.9215 - val_loss: 0.2798 - val_accuracy: 0.9221\n",
      "Epoch 156/200\n",
      "375/375 [==============================] - 1s 3ms/step - loss: 0.2825 - accuracy: 0.9214 - val_loss: 0.2797 - val_accuracy: 0.9219\n",
      "Epoch 157/200\n",
      "375/375 [==============================] - 1s 3ms/step - loss: 0.2823 - accuracy: 0.9214 - val_loss: 0.2796 - val_accuracy: 0.9218\n",
      "Epoch 158/200\n",
      "375/375 [==============================] - 1s 2ms/step - loss: 0.2821 - accuracy: 0.9214 - val_loss: 0.2795 - val_accuracy: 0.9221\n",
      "Epoch 159/200\n",
      "375/375 [==============================] - 1s 3ms/step - loss: 0.2819 - accuracy: 0.9216 - val_loss: 0.2794 - val_accuracy: 0.9221\n",
      "Epoch 160/200\n",
      "375/375 [==============================] - 1s 2ms/step - loss: 0.2818 - accuracy: 0.9217 - val_loss: 0.2793 - val_accuracy: 0.9222\n",
      "Epoch 161/200\n",
      "375/375 [==============================] - 1s 3ms/step - loss: 0.2816 - accuracy: 0.9216 - val_loss: 0.2791 - val_accuracy: 0.9218\n",
      "Epoch 162/200\n",
      "375/375 [==============================] - 1s 4ms/step - loss: 0.2814 - accuracy: 0.9219 - val_loss: 0.2791 - val_accuracy: 0.9219\n",
      "Epoch 163/200\n",
      "375/375 [==============================] - 1s 3ms/step - loss: 0.2813 - accuracy: 0.9215 - val_loss: 0.2790 - val_accuracy: 0.9218\n",
      "Epoch 164/200\n",
      "375/375 [==============================] - 1s 2ms/step - loss: 0.2811 - accuracy: 0.9218 - val_loss: 0.2789 - val_accuracy: 0.9224\n",
      "Epoch 165/200\n",
      "375/375 [==============================] - 1s 2ms/step - loss: 0.2810 - accuracy: 0.9218 - val_loss: 0.2788 - val_accuracy: 0.9220\n",
      "Epoch 166/200\n",
      "375/375 [==============================] - 1s 2ms/step - loss: 0.2808 - accuracy: 0.9220 - val_loss: 0.2788 - val_accuracy: 0.9219\n",
      "Epoch 167/200\n",
      "375/375 [==============================] - 1s 2ms/step - loss: 0.2806 - accuracy: 0.9218 - val_loss: 0.2787 - val_accuracy: 0.9223\n",
      "Epoch 168/200\n",
      "375/375 [==============================] - 1s 2ms/step - loss: 0.2805 - accuracy: 0.9220 - val_loss: 0.2785 - val_accuracy: 0.9222\n",
      "Epoch 169/200\n",
      "375/375 [==============================] - 1s 2ms/step - loss: 0.2803 - accuracy: 0.9221 - val_loss: 0.2785 - val_accuracy: 0.9224\n",
      "Epoch 170/200\n",
      "375/375 [==============================] - 1s 3ms/step - loss: 0.2802 - accuracy: 0.9221 - val_loss: 0.2783 - val_accuracy: 0.9218\n",
      "Epoch 171/200\n",
      "375/375 [==============================] - 1s 2ms/step - loss: 0.2800 - accuracy: 0.9220 - val_loss: 0.2783 - val_accuracy: 0.9218\n",
      "Epoch 172/200\n",
      "375/375 [==============================] - 1s 2ms/step - loss: 0.2799 - accuracy: 0.9220 - val_loss: 0.2782 - val_accuracy: 0.9223\n",
      "Epoch 173/200\n",
      "375/375 [==============================] - 1s 2ms/step - loss: 0.2797 - accuracy: 0.9222 - val_loss: 0.2781 - val_accuracy: 0.9232\n",
      "Epoch 174/200\n",
      "375/375 [==============================] - 1s 3ms/step - loss: 0.2796 - accuracy: 0.9222 - val_loss: 0.2780 - val_accuracy: 0.9222\n",
      "Epoch 175/200\n",
      "375/375 [==============================] - 1s 3ms/step - loss: 0.2794 - accuracy: 0.9223 - val_loss: 0.2779 - val_accuracy: 0.9223\n",
      "Epoch 176/200\n",
      "375/375 [==============================] - 1s 3ms/step - loss: 0.2793 - accuracy: 0.9224 - val_loss: 0.2778 - val_accuracy: 0.9223\n",
      "Epoch 177/200\n",
      "375/375 [==============================] - 1s 3ms/step - loss: 0.2791 - accuracy: 0.9221 - val_loss: 0.2776 - val_accuracy: 0.9222\n",
      "Epoch 178/200\n",
      "375/375 [==============================] - 1s 2ms/step - loss: 0.2790 - accuracy: 0.9225 - val_loss: 0.2777 - val_accuracy: 0.9225\n",
      "Epoch 179/200\n",
      "375/375 [==============================] - 1s 2ms/step - loss: 0.2789 - accuracy: 0.9225 - val_loss: 0.2775 - val_accuracy: 0.9225\n",
      "Epoch 180/200\n",
      "375/375 [==============================] - 1s 2ms/step - loss: 0.2787 - accuracy: 0.9225 - val_loss: 0.2775 - val_accuracy: 0.9224\n",
      "Epoch 181/200\n",
      "375/375 [==============================] - 1s 2ms/step - loss: 0.2786 - accuracy: 0.9226 - val_loss: 0.2774 - val_accuracy: 0.9223\n",
      "Epoch 182/200\n",
      "375/375 [==============================] - 1s 2ms/step - loss: 0.2785 - accuracy: 0.9225 - val_loss: 0.2773 - val_accuracy: 0.9224\n",
      "Epoch 183/200\n",
      "375/375 [==============================] - 1s 2ms/step - loss: 0.2783 - accuracy: 0.9227 - val_loss: 0.2772 - val_accuracy: 0.9225\n",
      "Epoch 184/200\n",
      "375/375 [==============================] - 1s 2ms/step - loss: 0.2782 - accuracy: 0.9226 - val_loss: 0.2771 - val_accuracy: 0.9225\n",
      "Epoch 185/200\n",
      "375/375 [==============================] - 1s 2ms/step - loss: 0.2781 - accuracy: 0.9225 - val_loss: 0.2770 - val_accuracy: 0.9226\n",
      "Epoch 186/200\n",
      "375/375 [==============================] - 1s 3ms/step - loss: 0.2779 - accuracy: 0.9226 - val_loss: 0.2770 - val_accuracy: 0.9225\n",
      "Epoch 187/200\n",
      "375/375 [==============================] - 1s 2ms/step - loss: 0.2778 - accuracy: 0.9229 - val_loss: 0.2769 - val_accuracy: 0.9224\n",
      "Epoch 188/200\n",
      "375/375 [==============================] - 1s 2ms/step - loss: 0.2776 - accuracy: 0.9230 - val_loss: 0.2768 - val_accuracy: 0.9227\n",
      "Epoch 189/200\n",
      "375/375 [==============================] - 1s 2ms/step - loss: 0.2775 - accuracy: 0.9231 - val_loss: 0.2768 - val_accuracy: 0.9229\n",
      "Epoch 190/200\n",
      "375/375 [==============================] - 1s 2ms/step - loss: 0.2774 - accuracy: 0.9229 - val_loss: 0.2766 - val_accuracy: 0.9228\n",
      "Epoch 191/200\n",
      "375/375 [==============================] - 1s 2ms/step - loss: 0.2773 - accuracy: 0.9231 - val_loss: 0.2766 - val_accuracy: 0.9227\n",
      "Epoch 192/200\n",
      "375/375 [==============================] - 1s 2ms/step - loss: 0.2771 - accuracy: 0.9229 - val_loss: 0.2764 - val_accuracy: 0.9232\n",
      "Epoch 193/200\n",
      "375/375 [==============================] - 1s 2ms/step - loss: 0.2770 - accuracy: 0.9228 - val_loss: 0.2764 - val_accuracy: 0.9229\n",
      "Epoch 194/200\n",
      "375/375 [==============================] - 1s 2ms/step - loss: 0.2769 - accuracy: 0.9229 - val_loss: 0.2763 - val_accuracy: 0.9227\n",
      "Epoch 195/200\n",
      "375/375 [==============================] - 1s 2ms/step - loss: 0.2767 - accuracy: 0.9228 - val_loss: 0.2763 - val_accuracy: 0.9229\n",
      "Epoch 196/200\n",
      "375/375 [==============================] - 1s 3ms/step - loss: 0.2766 - accuracy: 0.9231 - val_loss: 0.2762 - val_accuracy: 0.9227\n",
      "Epoch 197/200\n",
      "375/375 [==============================] - 1s 4ms/step - loss: 0.2765 - accuracy: 0.9231 - val_loss: 0.2761 - val_accuracy: 0.9232\n",
      "Epoch 198/200\n",
      "375/375 [==============================] - 1s 3ms/step - loss: 0.2764 - accuracy: 0.9230 - val_loss: 0.2760 - val_accuracy: 0.9227\n",
      "Epoch 199/200\n",
      "375/375 [==============================] - 1s 2ms/step - loss: 0.2763 - accuracy: 0.9235 - val_loss: 0.2760 - val_accuracy: 0.9229\n",
      "Epoch 200/200\n",
      "375/375 [==============================] - 1s 2ms/step - loss: 0.2762 - accuracy: 0.9232 - val_loss: 0.2759 - val_accuracy: 0.9229\n"
     ]
    },
    {
     "data": {
      "text/plain": [
       "<tensorflow.python.keras.callbacks.History at 0x7fc8e05f9090>"
      ]
     },
     "execution_count": 12,
     "metadata": {},
     "output_type": "execute_result"
    }
   ],
   "source": [
    "# fit\n",
    "model.fit(X_train, train_labels, epochs=200, batch_size=128, verbose=True, validation_split=0.2)"
   ]
  },
  {
   "cell_type": "code",
   "execution_count": 13,
   "metadata": {
    "execution": {
     "iopub.execute_input": "2020-11-24T16:15:20.470517Z",
     "iopub.status.busy": "2020-11-24T16:15:20.469480Z",
     "iopub.status.idle": "2020-11-24T16:15:21.119504Z",
     "shell.execute_reply": "2020-11-24T16:15:21.118866Z"
    },
    "papermill": {
     "duration": 1.879344,
     "end_time": "2020-11-24T16:15:21.119631",
     "exception": false,
     "start_time": "2020-11-24T16:15:19.240287",
     "status": "completed"
    },
    "tags": []
   },
   "outputs": [
    {
     "name": "stdout",
     "output_type": "stream",
     "text": [
      "313/313 [==============================] - 1s 2ms/step - loss: 0.2775 - accuracy: 0.9228\n",
      "test_loss 0.2774983048439026 \n",
      " test_acc 0.9228000044822693\n"
     ]
    }
   ],
   "source": [
    "# evaluate\n",
    "test_loss, test_acc = model.evaluate(X_test, test_labels, verbose=True)\n",
    "print('test_loss', test_loss, '\\n', 'test_acc', test_acc)"
   ]
  },
  {
   "cell_type": "code",
   "execution_count": 14,
   "metadata": {
    "execution": {
     "iopub.execute_input": "2020-11-24T16:15:23.504639Z",
     "iopub.status.busy": "2020-11-24T16:15:23.503899Z",
     "iopub.status.idle": "2020-11-24T16:15:23.534038Z",
     "shell.execute_reply": "2020-11-24T16:15:23.533004Z"
    },
    "papermill": {
     "duration": 1.227682,
     "end_time": "2020-11-24T16:15:23.534150",
     "exception": false,
     "start_time": "2020-11-24T16:15:22.306468",
     "status": "completed"
    },
    "tags": []
   },
   "outputs": [],
   "source": [
    "# advanced NN model\n",
    "model = Sequential()\n",
    "model.add(Dense(128, input_shape=(28*28, ),activation='relu'))\n",
    "model.add(Dense(128, activation='relu'))\n",
    "model.add(Dense(10, activation='softmax'))"
   ]
  },
  {
   "cell_type": "code",
   "execution_count": 15,
   "metadata": {
    "execution": {
     "iopub.execute_input": "2020-11-24T16:15:26.176862Z",
     "iopub.status.busy": "2020-11-24T16:15:26.175735Z",
     "iopub.status.idle": "2020-11-24T16:15:26.199355Z",
     "shell.execute_reply": "2020-11-24T16:15:26.200000Z"
    },
    "papermill": {
     "duration": 1.468403,
     "end_time": "2020-11-24T16:15:26.200292",
     "exception": false,
     "start_time": "2020-11-24T16:15:24.731889",
     "status": "completed"
    },
    "tags": []
   },
   "outputs": [
    {
     "name": "stdout",
     "output_type": "stream",
     "text": [
      "Model: \"sequential_1\"\n",
      "_________________________________________________________________\n",
      "Layer (type)                 Output Shape              Param #   \n",
      "=================================================================\n",
      "dense_1 (Dense)              (None, 128)               100480    \n",
      "_________________________________________________________________\n",
      "dense_2 (Dense)              (None, 128)               16512     \n",
      "_________________________________________________________________\n",
      "dense_3 (Dense)              (None, 10)                1290      \n",
      "=================================================================\n",
      "Total params: 118,282\n",
      "Trainable params: 118,282\n",
      "Non-trainable params: 0\n",
      "_________________________________________________________________\n"
     ]
    }
   ],
   "source": [
    "# compile\n",
    "model.compile(optimizer='sgd', loss='categorical_crossentropy', metrics=['accuracy'])\n",
    "# summary\n",
    "model.summary()"
   ]
  },
  {
   "cell_type": "code",
   "execution_count": 16,
   "metadata": {
    "execution": {
     "iopub.execute_input": "2020-11-24T16:15:29.004735Z",
     "iopub.status.busy": "2020-11-24T16:15:29.003671Z",
     "iopub.status.idle": "2020-11-24T16:19:03.238836Z",
     "shell.execute_reply": "2020-11-24T16:19:03.238289Z"
    },
    "papermill": {
     "duration": 215.53104,
     "end_time": "2020-11-24T16:19:03.238967",
     "exception": false,
     "start_time": "2020-11-24T16:15:27.707927",
     "status": "completed"
    },
    "tags": []
   },
   "outputs": [
    {
     "name": "stdout",
     "output_type": "stream",
     "text": [
      "Epoch 1/200\n",
      "375/375 [==============================] - 1s 3ms/step - loss: 1.4514 - accuracy: 0.6569 - val_loss: 0.7409 - val_accuracy: 0.8436\n",
      "Epoch 2/200\n",
      "375/375 [==============================] - 1s 3ms/step - loss: 0.5846 - accuracy: 0.8572 - val_loss: 0.4451 - val_accuracy: 0.8850\n",
      "Epoch 3/200\n",
      "375/375 [==============================] - 1s 3ms/step - loss: 0.4299 - accuracy: 0.8837 - val_loss: 0.3683 - val_accuracy: 0.8975\n",
      "Epoch 4/200\n",
      "375/375 [==============================] - 1s 3ms/step - loss: 0.3734 - accuracy: 0.8955 - val_loss: 0.3316 - val_accuracy: 0.9060\n",
      "Epoch 5/200\n",
      "375/375 [==============================] - 1s 3ms/step - loss: 0.3416 - accuracy: 0.9035 - val_loss: 0.3087 - val_accuracy: 0.9108\n",
      "Epoch 6/200\n",
      "375/375 [==============================] - 1s 3ms/step - loss: 0.3195 - accuracy: 0.9091 - val_loss: 0.2920 - val_accuracy: 0.9142\n",
      "Epoch 7/200\n",
      "375/375 [==============================] - 1s 3ms/step - loss: 0.3022 - accuracy: 0.9136 - val_loss: 0.2786 - val_accuracy: 0.9195\n",
      "Epoch 8/200\n",
      "375/375 [==============================] - 1s 4ms/step - loss: 0.2879 - accuracy: 0.9176 - val_loss: 0.2682 - val_accuracy: 0.9215\n",
      "Epoch 9/200\n",
      "375/375 [==============================] - 1s 3ms/step - loss: 0.2756 - accuracy: 0.9209 - val_loss: 0.2575 - val_accuracy: 0.9258\n",
      "Epoch 10/200\n",
      "375/375 [==============================] - 1s 3ms/step - loss: 0.2647 - accuracy: 0.9247 - val_loss: 0.2489 - val_accuracy: 0.9285\n",
      "Epoch 11/200\n",
      "375/375 [==============================] - 1s 3ms/step - loss: 0.2547 - accuracy: 0.9275 - val_loss: 0.2413 - val_accuracy: 0.9306\n",
      "Epoch 12/200\n",
      "375/375 [==============================] - 1s 3ms/step - loss: 0.2458 - accuracy: 0.9297 - val_loss: 0.2341 - val_accuracy: 0.9329\n",
      "Epoch 13/200\n",
      "375/375 [==============================] - 1s 3ms/step - loss: 0.2370 - accuracy: 0.9321 - val_loss: 0.2262 - val_accuracy: 0.9350\n",
      "Epoch 14/200\n",
      "375/375 [==============================] - 1s 3ms/step - loss: 0.2293 - accuracy: 0.9345 - val_loss: 0.2203 - val_accuracy: 0.9362\n",
      "Epoch 15/200\n",
      "375/375 [==============================] - 1s 3ms/step - loss: 0.2219 - accuracy: 0.9370 - val_loss: 0.2160 - val_accuracy: 0.9387\n",
      "Epoch 16/200\n",
      "375/375 [==============================] - 1s 3ms/step - loss: 0.2152 - accuracy: 0.9384 - val_loss: 0.2090 - val_accuracy: 0.9399\n",
      "Epoch 17/200\n",
      "375/375 [==============================] - 1s 3ms/step - loss: 0.2087 - accuracy: 0.9405 - val_loss: 0.2045 - val_accuracy: 0.9411\n",
      "Epoch 18/200\n",
      "375/375 [==============================] - 1s 3ms/step - loss: 0.2027 - accuracy: 0.9427 - val_loss: 0.1988 - val_accuracy: 0.9438\n",
      "Epoch 19/200\n",
      "375/375 [==============================] - 1s 3ms/step - loss: 0.1967 - accuracy: 0.9441 - val_loss: 0.1954 - val_accuracy: 0.9437\n",
      "Epoch 20/200\n",
      "375/375 [==============================] - 1s 3ms/step - loss: 0.1913 - accuracy: 0.9458 - val_loss: 0.1918 - val_accuracy: 0.9452\n",
      "Epoch 21/200\n",
      "375/375 [==============================] - 1s 3ms/step - loss: 0.1863 - accuracy: 0.9470 - val_loss: 0.1860 - val_accuracy: 0.9467\n",
      "Epoch 22/200\n",
      "375/375 [==============================] - 1s 3ms/step - loss: 0.1812 - accuracy: 0.9489 - val_loss: 0.1834 - val_accuracy: 0.9481\n",
      "Epoch 23/200\n",
      "375/375 [==============================] - 1s 3ms/step - loss: 0.1766 - accuracy: 0.9503 - val_loss: 0.1786 - val_accuracy: 0.9488\n",
      "Epoch 24/200\n",
      "375/375 [==============================] - 1s 3ms/step - loss: 0.1720 - accuracy: 0.9509 - val_loss: 0.1751 - val_accuracy: 0.9494\n",
      "Epoch 25/200\n",
      "375/375 [==============================] - 1s 3ms/step - loss: 0.1676 - accuracy: 0.9531 - val_loss: 0.1724 - val_accuracy: 0.9503\n",
      "Epoch 26/200\n",
      "375/375 [==============================] - 1s 2ms/step - loss: 0.1635 - accuracy: 0.9541 - val_loss: 0.1689 - val_accuracy: 0.9511\n",
      "Epoch 27/200\n",
      "375/375 [==============================] - 1s 3ms/step - loss: 0.1595 - accuracy: 0.9553 - val_loss: 0.1662 - val_accuracy: 0.9518\n",
      "Epoch 28/200\n",
      "375/375 [==============================] - 1s 2ms/step - loss: 0.1559 - accuracy: 0.9561 - val_loss: 0.1627 - val_accuracy: 0.9531\n",
      "Epoch 29/200\n",
      "375/375 [==============================] - 2s 6ms/step - loss: 0.1523 - accuracy: 0.9571 - val_loss: 0.1599 - val_accuracy: 0.9538\n",
      "Epoch 30/200\n",
      "375/375 [==============================] - 1s 4ms/step - loss: 0.1489 - accuracy: 0.9576 - val_loss: 0.1576 - val_accuracy: 0.9550\n",
      "Epoch 31/200\n",
      "375/375 [==============================] - 1s 3ms/step - loss: 0.1456 - accuracy: 0.9590 - val_loss: 0.1546 - val_accuracy: 0.9550\n",
      "Epoch 32/200\n",
      "375/375 [==============================] - 1s 3ms/step - loss: 0.1424 - accuracy: 0.9598 - val_loss: 0.1525 - val_accuracy: 0.9563\n",
      "Epoch 33/200\n",
      "375/375 [==============================] - 1s 3ms/step - loss: 0.1393 - accuracy: 0.9609 - val_loss: 0.1505 - val_accuracy: 0.9563\n",
      "Epoch 34/200\n",
      "375/375 [==============================] - 1s 2ms/step - loss: 0.1364 - accuracy: 0.9616 - val_loss: 0.1478 - val_accuracy: 0.9582\n",
      "Epoch 35/200\n",
      "375/375 [==============================] - 1s 3ms/step - loss: 0.1335 - accuracy: 0.9622 - val_loss: 0.1462 - val_accuracy: 0.9588\n",
      "Epoch 36/200\n",
      "375/375 [==============================] - 1s 3ms/step - loss: 0.1306 - accuracy: 0.9632 - val_loss: 0.1448 - val_accuracy: 0.9588\n",
      "Epoch 37/200\n",
      "375/375 [==============================] - 1s 2ms/step - loss: 0.1282 - accuracy: 0.9642 - val_loss: 0.1427 - val_accuracy: 0.9590\n",
      "Epoch 38/200\n",
      "375/375 [==============================] - 1s 3ms/step - loss: 0.1255 - accuracy: 0.9649 - val_loss: 0.1400 - val_accuracy: 0.9608\n",
      "Epoch 39/200\n",
      "375/375 [==============================] - 1s 3ms/step - loss: 0.1231 - accuracy: 0.9658 - val_loss: 0.1386 - val_accuracy: 0.9608\n",
      "Epoch 40/200\n",
      "375/375 [==============================] - 1s 2ms/step - loss: 0.1208 - accuracy: 0.9662 - val_loss: 0.1363 - val_accuracy: 0.9619\n",
      "Epoch 41/200\n",
      "375/375 [==============================] - 1s 2ms/step - loss: 0.1184 - accuracy: 0.9668 - val_loss: 0.1351 - val_accuracy: 0.9622\n",
      "Epoch 42/200\n",
      "375/375 [==============================] - 1s 3ms/step - loss: 0.1163 - accuracy: 0.9680 - val_loss: 0.1339 - val_accuracy: 0.9621\n",
      "Epoch 43/200\n",
      "375/375 [==============================] - 1s 3ms/step - loss: 0.1141 - accuracy: 0.9681 - val_loss: 0.1320 - val_accuracy: 0.9629\n",
      "Epoch 44/200\n",
      "375/375 [==============================] - 1s 2ms/step - loss: 0.1119 - accuracy: 0.9690 - val_loss: 0.1318 - val_accuracy: 0.9627\n",
      "Epoch 45/200\n",
      "375/375 [==============================] - 1s 3ms/step - loss: 0.1098 - accuracy: 0.9694 - val_loss: 0.1288 - val_accuracy: 0.9641\n",
      "Epoch 46/200\n",
      "375/375 [==============================] - 1s 2ms/step - loss: 0.1078 - accuracy: 0.9702 - val_loss: 0.1280 - val_accuracy: 0.9634\n",
      "Epoch 47/200\n",
      "375/375 [==============================] - 1s 2ms/step - loss: 0.1060 - accuracy: 0.9707 - val_loss: 0.1280 - val_accuracy: 0.9646\n",
      "Epoch 48/200\n",
      "375/375 [==============================] - 1s 3ms/step - loss: 0.1041 - accuracy: 0.9713 - val_loss: 0.1250 - val_accuracy: 0.9653\n",
      "Epoch 49/200\n",
      "375/375 [==============================] - 1s 2ms/step - loss: 0.1023 - accuracy: 0.9717 - val_loss: 0.1242 - val_accuracy: 0.9653\n",
      "Epoch 50/200\n",
      "375/375 [==============================] - 1s 3ms/step - loss: 0.1004 - accuracy: 0.9723 - val_loss: 0.1233 - val_accuracy: 0.9655\n",
      "Epoch 51/200\n",
      "375/375 [==============================] - 1s 3ms/step - loss: 0.0988 - accuracy: 0.9728 - val_loss: 0.1215 - val_accuracy: 0.9665\n",
      "Epoch 52/200\n",
      "375/375 [==============================] - 1s 3ms/step - loss: 0.0972 - accuracy: 0.9732 - val_loss: 0.1200 - val_accuracy: 0.9663\n",
      "Epoch 53/200\n",
      "375/375 [==============================] - 1s 3ms/step - loss: 0.0956 - accuracy: 0.9736 - val_loss: 0.1197 - val_accuracy: 0.9672\n",
      "Epoch 54/200\n",
      "375/375 [==============================] - 1s 3ms/step - loss: 0.0939 - accuracy: 0.9741 - val_loss: 0.1182 - val_accuracy: 0.9668\n",
      "Epoch 55/200\n",
      "375/375 [==============================] - 1s 3ms/step - loss: 0.0922 - accuracy: 0.9741 - val_loss: 0.1177 - val_accuracy: 0.9674\n",
      "Epoch 56/200\n",
      "375/375 [==============================] - 1s 3ms/step - loss: 0.0907 - accuracy: 0.9753 - val_loss: 0.1167 - val_accuracy: 0.9675\n",
      "Epoch 57/200\n",
      "375/375 [==============================] - 1s 3ms/step - loss: 0.0893 - accuracy: 0.9758 - val_loss: 0.1153 - val_accuracy: 0.9681\n",
      "Epoch 58/200\n",
      "375/375 [==============================] - 1s 3ms/step - loss: 0.0879 - accuracy: 0.9758 - val_loss: 0.1145 - val_accuracy: 0.9674\n",
      "Epoch 59/200\n",
      "375/375 [==============================] - 1s 2ms/step - loss: 0.0866 - accuracy: 0.9761 - val_loss: 0.1133 - val_accuracy: 0.9683\n",
      "Epoch 60/200\n",
      "375/375 [==============================] - 1s 4ms/step - loss: 0.0851 - accuracy: 0.9765 - val_loss: 0.1128 - val_accuracy: 0.9682\n",
      "Epoch 61/200\n",
      "375/375 [==============================] - 2s 5ms/step - loss: 0.0837 - accuracy: 0.9767 - val_loss: 0.1124 - val_accuracy: 0.9686\n",
      "Epoch 62/200\n",
      "375/375 [==============================] - 2s 4ms/step - loss: 0.0825 - accuracy: 0.9775 - val_loss: 0.1108 - val_accuracy: 0.9688\n",
      "Epoch 63/200\n",
      "375/375 [==============================] - 1s 3ms/step - loss: 0.0812 - accuracy: 0.9778 - val_loss: 0.1102 - val_accuracy: 0.9687\n",
      "Epoch 64/200\n",
      "375/375 [==============================] - 1s 4ms/step - loss: 0.0799 - accuracy: 0.9779 - val_loss: 0.1098 - val_accuracy: 0.9681\n",
      "Epoch 65/200\n",
      "375/375 [==============================] - 1s 3ms/step - loss: 0.0789 - accuracy: 0.9786 - val_loss: 0.1089 - val_accuracy: 0.9692\n",
      "Epoch 66/200\n",
      "375/375 [==============================] - 1s 3ms/step - loss: 0.0776 - accuracy: 0.9789 - val_loss: 0.1082 - val_accuracy: 0.9685\n",
      "Epoch 67/200\n",
      "375/375 [==============================] - 1s 3ms/step - loss: 0.0764 - accuracy: 0.9793 - val_loss: 0.1068 - val_accuracy: 0.9693\n",
      "Epoch 68/200\n",
      "375/375 [==============================] - 1s 3ms/step - loss: 0.0752 - accuracy: 0.9794 - val_loss: 0.1065 - val_accuracy: 0.9694\n",
      "Epoch 69/200\n",
      "375/375 [==============================] - 1s 3ms/step - loss: 0.0741 - accuracy: 0.9799 - val_loss: 0.1068 - val_accuracy: 0.9697\n",
      "Epoch 70/200\n",
      "375/375 [==============================] - 1s 3ms/step - loss: 0.0730 - accuracy: 0.9804 - val_loss: 0.1053 - val_accuracy: 0.9699\n",
      "Epoch 71/200\n",
      "375/375 [==============================] - 1s 3ms/step - loss: 0.0720 - accuracy: 0.9806 - val_loss: 0.1051 - val_accuracy: 0.9692\n",
      "Epoch 72/200\n",
      "375/375 [==============================] - 1s 3ms/step - loss: 0.0708 - accuracy: 0.9808 - val_loss: 0.1048 - val_accuracy: 0.9700\n",
      "Epoch 73/200\n",
      "375/375 [==============================] - 1s 2ms/step - loss: 0.0698 - accuracy: 0.9815 - val_loss: 0.1039 - val_accuracy: 0.9699\n",
      "Epoch 74/200\n",
      "375/375 [==============================] - 1s 2ms/step - loss: 0.0688 - accuracy: 0.9814 - val_loss: 0.1038 - val_accuracy: 0.9704\n",
      "Epoch 75/200\n",
      "375/375 [==============================] - 1s 2ms/step - loss: 0.0679 - accuracy: 0.9817 - val_loss: 0.1025 - val_accuracy: 0.9701\n",
      "Epoch 76/200\n",
      "375/375 [==============================] - 1s 3ms/step - loss: 0.0669 - accuracy: 0.9822 - val_loss: 0.1025 - val_accuracy: 0.9709\n",
      "Epoch 77/200\n",
      "375/375 [==============================] - 1s 3ms/step - loss: 0.0659 - accuracy: 0.9827 - val_loss: 0.1025 - val_accuracy: 0.9703\n",
      "Epoch 78/200\n",
      "375/375 [==============================] - 1s 2ms/step - loss: 0.0651 - accuracy: 0.9827 - val_loss: 0.1009 - val_accuracy: 0.9707\n",
      "Epoch 79/200\n",
      "375/375 [==============================] - 1s 3ms/step - loss: 0.0641 - accuracy: 0.9832 - val_loss: 0.1006 - val_accuracy: 0.9698\n",
      "Epoch 80/200\n",
      "375/375 [==============================] - 1s 3ms/step - loss: 0.0632 - accuracy: 0.9831 - val_loss: 0.1005 - val_accuracy: 0.9707\n",
      "Epoch 81/200\n",
      "375/375 [==============================] - 1s 3ms/step - loss: 0.0624 - accuracy: 0.9838 - val_loss: 0.0997 - val_accuracy: 0.9710\n",
      "Epoch 82/200\n",
      "375/375 [==============================] - 1s 2ms/step - loss: 0.0615 - accuracy: 0.9837 - val_loss: 0.0998 - val_accuracy: 0.9708\n",
      "Epoch 83/200\n",
      "375/375 [==============================] - 1s 3ms/step - loss: 0.0608 - accuracy: 0.9840 - val_loss: 0.0986 - val_accuracy: 0.9715\n",
      "Epoch 84/200\n",
      "375/375 [==============================] - 1s 3ms/step - loss: 0.0599 - accuracy: 0.9844 - val_loss: 0.0982 - val_accuracy: 0.9721\n",
      "Epoch 85/200\n",
      "375/375 [==============================] - 1s 3ms/step - loss: 0.0591 - accuracy: 0.9845 - val_loss: 0.0980 - val_accuracy: 0.9715\n",
      "Epoch 86/200\n",
      "375/375 [==============================] - 1s 3ms/step - loss: 0.0583 - accuracy: 0.9847 - val_loss: 0.0977 - val_accuracy: 0.9714\n",
      "Epoch 87/200\n",
      "375/375 [==============================] - 1s 3ms/step - loss: 0.0576 - accuracy: 0.9849 - val_loss: 0.0972 - val_accuracy: 0.9720\n",
      "Epoch 88/200\n",
      "375/375 [==============================] - 1s 2ms/step - loss: 0.0568 - accuracy: 0.9851 - val_loss: 0.0972 - val_accuracy: 0.9716\n",
      "Epoch 89/200\n",
      "375/375 [==============================] - 1s 3ms/step - loss: 0.0561 - accuracy: 0.9854 - val_loss: 0.0962 - val_accuracy: 0.9722\n",
      "Epoch 90/200\n",
      "375/375 [==============================] - 1s 3ms/step - loss: 0.0553 - accuracy: 0.9855 - val_loss: 0.0961 - val_accuracy: 0.9720\n",
      "Epoch 91/200\n",
      "375/375 [==============================] - 1s 3ms/step - loss: 0.0546 - accuracy: 0.9856 - val_loss: 0.0961 - val_accuracy: 0.9720\n",
      "Epoch 92/200\n",
      "375/375 [==============================] - 1s 3ms/step - loss: 0.0539 - accuracy: 0.9859 - val_loss: 0.0952 - val_accuracy: 0.9725\n",
      "Epoch 93/200\n",
      "375/375 [==============================] - 1s 4ms/step - loss: 0.0532 - accuracy: 0.9862 - val_loss: 0.0951 - val_accuracy: 0.9722\n",
      "Epoch 94/200\n",
      "375/375 [==============================] - 1s 3ms/step - loss: 0.0524 - accuracy: 0.9863 - val_loss: 0.0951 - val_accuracy: 0.9718\n",
      "Epoch 95/200\n",
      "375/375 [==============================] - 2s 5ms/step - loss: 0.0518 - accuracy: 0.9866 - val_loss: 0.0942 - val_accuracy: 0.9724\n",
      "Epoch 96/200\n",
      "375/375 [==============================] - 1s 3ms/step - loss: 0.0511 - accuracy: 0.9868 - val_loss: 0.0940 - val_accuracy: 0.9723\n",
      "Epoch 97/200\n",
      "375/375 [==============================] - 1s 3ms/step - loss: 0.0505 - accuracy: 0.9868 - val_loss: 0.0939 - val_accuracy: 0.9725\n",
      "Epoch 98/200\n",
      "375/375 [==============================] - 1s 3ms/step - loss: 0.0498 - accuracy: 0.9873 - val_loss: 0.0935 - val_accuracy: 0.9728\n",
      "Epoch 99/200\n",
      "375/375 [==============================] - 1s 3ms/step - loss: 0.0492 - accuracy: 0.9875 - val_loss: 0.0935 - val_accuracy: 0.9724\n",
      "Epoch 100/200\n",
      "375/375 [==============================] - 1s 3ms/step - loss: 0.0486 - accuracy: 0.9874 - val_loss: 0.0930 - val_accuracy: 0.9726\n",
      "Epoch 101/200\n",
      "375/375 [==============================] - 1s 3ms/step - loss: 0.0479 - accuracy: 0.9878 - val_loss: 0.0933 - val_accuracy: 0.9729\n",
      "Epoch 102/200\n",
      "375/375 [==============================] - 1s 3ms/step - loss: 0.0474 - accuracy: 0.9879 - val_loss: 0.0931 - val_accuracy: 0.9728\n",
      "Epoch 103/200\n",
      "375/375 [==============================] - 1s 3ms/step - loss: 0.0468 - accuracy: 0.9880 - val_loss: 0.0924 - val_accuracy: 0.9730\n",
      "Epoch 104/200\n",
      "375/375 [==============================] - 1s 3ms/step - loss: 0.0462 - accuracy: 0.9884 - val_loss: 0.0918 - val_accuracy: 0.9732\n",
      "Epoch 105/200\n",
      "375/375 [==============================] - 1s 3ms/step - loss: 0.0455 - accuracy: 0.9888 - val_loss: 0.0929 - val_accuracy: 0.9722\n",
      "Epoch 106/200\n",
      "375/375 [==============================] - 1s 3ms/step - loss: 0.0449 - accuracy: 0.9888 - val_loss: 0.0929 - val_accuracy: 0.9728\n",
      "Epoch 107/200\n",
      "375/375 [==============================] - 1s 3ms/step - loss: 0.0445 - accuracy: 0.9889 - val_loss: 0.0916 - val_accuracy: 0.9728\n",
      "Epoch 108/200\n",
      "375/375 [==============================] - 1s 3ms/step - loss: 0.0439 - accuracy: 0.9893 - val_loss: 0.0915 - val_accuracy: 0.9729\n",
      "Epoch 109/200\n",
      "375/375 [==============================] - 1s 3ms/step - loss: 0.0433 - accuracy: 0.9893 - val_loss: 0.0917 - val_accuracy: 0.9732\n",
      "Epoch 110/200\n",
      "375/375 [==============================] - 1s 3ms/step - loss: 0.0429 - accuracy: 0.9895 - val_loss: 0.0913 - val_accuracy: 0.9728\n",
      "Epoch 111/200\n",
      "375/375 [==============================] - 1s 3ms/step - loss: 0.0424 - accuracy: 0.9895 - val_loss: 0.0909 - val_accuracy: 0.9735\n",
      "Epoch 112/200\n",
      "375/375 [==============================] - 1s 3ms/step - loss: 0.0418 - accuracy: 0.9900 - val_loss: 0.0909 - val_accuracy: 0.9728\n",
      "Epoch 113/200\n",
      "375/375 [==============================] - 1s 3ms/step - loss: 0.0413 - accuracy: 0.9901 - val_loss: 0.0907 - val_accuracy: 0.9739\n",
      "Epoch 114/200\n",
      "375/375 [==============================] - 1s 3ms/step - loss: 0.0407 - accuracy: 0.9905 - val_loss: 0.0912 - val_accuracy: 0.9725\n",
      "Epoch 115/200\n",
      "375/375 [==============================] - 1s 3ms/step - loss: 0.0403 - accuracy: 0.9903 - val_loss: 0.0902 - val_accuracy: 0.9730\n",
      "Epoch 116/200\n",
      "375/375 [==============================] - 1s 4ms/step - loss: 0.0398 - accuracy: 0.9904 - val_loss: 0.0910 - val_accuracy: 0.9732\n",
      "Epoch 117/200\n",
      "375/375 [==============================] - 1s 2ms/step - loss: 0.0394 - accuracy: 0.9909 - val_loss: 0.0901 - val_accuracy: 0.9737\n",
      "Epoch 118/200\n",
      "375/375 [==============================] - 1s 3ms/step - loss: 0.0388 - accuracy: 0.9909 - val_loss: 0.0902 - val_accuracy: 0.9731\n",
      "Epoch 119/200\n",
      "375/375 [==============================] - 1s 3ms/step - loss: 0.0384 - accuracy: 0.9909 - val_loss: 0.0906 - val_accuracy: 0.9728\n",
      "Epoch 120/200\n",
      "375/375 [==============================] - 1s 3ms/step - loss: 0.0379 - accuracy: 0.9912 - val_loss: 0.0896 - val_accuracy: 0.9741\n",
      "Epoch 121/200\n",
      "375/375 [==============================] - 1s 2ms/step - loss: 0.0375 - accuracy: 0.9911 - val_loss: 0.0897 - val_accuracy: 0.9730\n",
      "Epoch 122/200\n",
      "375/375 [==============================] - 1s 3ms/step - loss: 0.0370 - accuracy: 0.9914 - val_loss: 0.0902 - val_accuracy: 0.9728\n",
      "Epoch 123/200\n",
      "375/375 [==============================] - 1s 3ms/step - loss: 0.0365 - accuracy: 0.9914 - val_loss: 0.0888 - val_accuracy: 0.9734\n",
      "Epoch 124/200\n",
      "375/375 [==============================] - 1s 3ms/step - loss: 0.0362 - accuracy: 0.9914 - val_loss: 0.0894 - val_accuracy: 0.9733\n",
      "Epoch 125/200\n",
      "375/375 [==============================] - 2s 5ms/step - loss: 0.0357 - accuracy: 0.9918 - val_loss: 0.0894 - val_accuracy: 0.9728\n",
      "Epoch 126/200\n",
      "375/375 [==============================] - 1s 4ms/step - loss: 0.0354 - accuracy: 0.9919 - val_loss: 0.0887 - val_accuracy: 0.9737\n",
      "Epoch 127/200\n",
      "375/375 [==============================] - 1s 3ms/step - loss: 0.0349 - accuracy: 0.9921 - val_loss: 0.0888 - val_accuracy: 0.9742\n",
      "Epoch 128/200\n",
      "375/375 [==============================] - 1s 3ms/step - loss: 0.0345 - accuracy: 0.9918 - val_loss: 0.0883 - val_accuracy: 0.9738\n",
      "Epoch 129/200\n",
      "375/375 [==============================] - 1s 3ms/step - loss: 0.0341 - accuracy: 0.9926 - val_loss: 0.0887 - val_accuracy: 0.9731\n",
      "Epoch 130/200\n",
      "375/375 [==============================] - 1s 2ms/step - loss: 0.0337 - accuracy: 0.9927 - val_loss: 0.0883 - val_accuracy: 0.9738\n",
      "Epoch 131/200\n",
      "375/375 [==============================] - 1s 4ms/step - loss: 0.0334 - accuracy: 0.9925 - val_loss: 0.0880 - val_accuracy: 0.9736\n",
      "Epoch 132/200\n",
      "375/375 [==============================] - 1s 3ms/step - loss: 0.0329 - accuracy: 0.9926 - val_loss: 0.0884 - val_accuracy: 0.9735\n",
      "Epoch 133/200\n",
      "375/375 [==============================] - 1s 3ms/step - loss: 0.0325 - accuracy: 0.9928 - val_loss: 0.0883 - val_accuracy: 0.9736\n",
      "Epoch 134/200\n",
      "375/375 [==============================] - 1s 3ms/step - loss: 0.0322 - accuracy: 0.9927 - val_loss: 0.0886 - val_accuracy: 0.9737\n",
      "Epoch 135/200\n",
      "375/375 [==============================] - 1s 3ms/step - loss: 0.0318 - accuracy: 0.9930 - val_loss: 0.0887 - val_accuracy: 0.9734\n",
      "Epoch 136/200\n",
      "375/375 [==============================] - 1s 3ms/step - loss: 0.0314 - accuracy: 0.9933 - val_loss: 0.0881 - val_accuracy: 0.9736\n",
      "Epoch 137/200\n",
      "375/375 [==============================] - 1s 3ms/step - loss: 0.0310 - accuracy: 0.9932 - val_loss: 0.0881 - val_accuracy: 0.9741\n",
      "Epoch 138/200\n",
      "375/375 [==============================] - 1s 3ms/step - loss: 0.0307 - accuracy: 0.9935 - val_loss: 0.0884 - val_accuracy: 0.9729\n",
      "Epoch 139/200\n",
      "375/375 [==============================] - 1s 2ms/step - loss: 0.0304 - accuracy: 0.9935 - val_loss: 0.0877 - val_accuracy: 0.9737\n",
      "Epoch 140/200\n",
      "375/375 [==============================] - 1s 3ms/step - loss: 0.0300 - accuracy: 0.9938 - val_loss: 0.0881 - val_accuracy: 0.9732\n",
      "Epoch 141/200\n",
      "375/375 [==============================] - 1s 3ms/step - loss: 0.0296 - accuracy: 0.9939 - val_loss: 0.0875 - val_accuracy: 0.9741\n",
      "Epoch 142/200\n",
      "375/375 [==============================] - 1s 3ms/step - loss: 0.0293 - accuracy: 0.9938 - val_loss: 0.0881 - val_accuracy: 0.9737\n",
      "Epoch 143/200\n",
      "375/375 [==============================] - 1s 3ms/step - loss: 0.0290 - accuracy: 0.9940 - val_loss: 0.0880 - val_accuracy: 0.9737\n",
      "Epoch 144/200\n",
      "375/375 [==============================] - 1s 3ms/step - loss: 0.0286 - accuracy: 0.9944 - val_loss: 0.0882 - val_accuracy: 0.9740\n",
      "Epoch 145/200\n",
      "375/375 [==============================] - 1s 3ms/step - loss: 0.0283 - accuracy: 0.9942 - val_loss: 0.0878 - val_accuracy: 0.9737\n",
      "Epoch 146/200\n",
      "375/375 [==============================] - 1s 3ms/step - loss: 0.0279 - accuracy: 0.9942 - val_loss: 0.0882 - val_accuracy: 0.9747\n",
      "Epoch 147/200\n",
      "375/375 [==============================] - 1s 3ms/step - loss: 0.0276 - accuracy: 0.9945 - val_loss: 0.0881 - val_accuracy: 0.9741\n",
      "Epoch 148/200\n",
      "375/375 [==============================] - 1s 3ms/step - loss: 0.0273 - accuracy: 0.9945 - val_loss: 0.0888 - val_accuracy: 0.9739\n",
      "Epoch 149/200\n",
      "375/375 [==============================] - 1s 3ms/step - loss: 0.0271 - accuracy: 0.9947 - val_loss: 0.0875 - val_accuracy: 0.9742\n",
      "Epoch 150/200\n",
      "375/375 [==============================] - 1s 3ms/step - loss: 0.0268 - accuracy: 0.9947 - val_loss: 0.0875 - val_accuracy: 0.9738\n",
      "Epoch 151/200\n",
      "375/375 [==============================] - 1s 3ms/step - loss: 0.0264 - accuracy: 0.9948 - val_loss: 0.0877 - val_accuracy: 0.9744\n",
      "Epoch 152/200\n",
      "375/375 [==============================] - 1s 3ms/step - loss: 0.0261 - accuracy: 0.9950 - val_loss: 0.0883 - val_accuracy: 0.9737\n",
      "Epoch 153/200\n",
      "375/375 [==============================] - 1s 3ms/step - loss: 0.0258 - accuracy: 0.9953 - val_loss: 0.0878 - val_accuracy: 0.9742\n",
      "Epoch 154/200\n",
      "375/375 [==============================] - 1s 3ms/step - loss: 0.0255 - accuracy: 0.9953 - val_loss: 0.0874 - val_accuracy: 0.9743\n",
      "Epoch 155/200\n",
      "375/375 [==============================] - 1s 3ms/step - loss: 0.0253 - accuracy: 0.9951 - val_loss: 0.0878 - val_accuracy: 0.9743\n",
      "Epoch 156/200\n",
      "375/375 [==============================] - 2s 4ms/step - loss: 0.0250 - accuracy: 0.9952 - val_loss: 0.0883 - val_accuracy: 0.9743\n",
      "Epoch 157/200\n",
      "375/375 [==============================] - 1s 4ms/step - loss: 0.0247 - accuracy: 0.9956 - val_loss: 0.0874 - val_accuracy: 0.9741\n",
      "Epoch 158/200\n",
      "375/375 [==============================] - 1s 3ms/step - loss: 0.0245 - accuracy: 0.9956 - val_loss: 0.0877 - val_accuracy: 0.9740\n",
      "Epoch 159/200\n",
      "375/375 [==============================] - 1s 3ms/step - loss: 0.0242 - accuracy: 0.9955 - val_loss: 0.0874 - val_accuracy: 0.9745\n",
      "Epoch 160/200\n",
      "375/375 [==============================] - 1s 3ms/step - loss: 0.0239 - accuracy: 0.9956 - val_loss: 0.0876 - val_accuracy: 0.9745\n",
      "Epoch 161/200\n",
      "375/375 [==============================] - 1s 3ms/step - loss: 0.0237 - accuracy: 0.9956 - val_loss: 0.0873 - val_accuracy: 0.9746\n",
      "Epoch 162/200\n",
      "375/375 [==============================] - 1s 3ms/step - loss: 0.0234 - accuracy: 0.9956 - val_loss: 0.0878 - val_accuracy: 0.9748\n",
      "Epoch 163/200\n",
      "375/375 [==============================] - 1s 3ms/step - loss: 0.0231 - accuracy: 0.9958 - val_loss: 0.0881 - val_accuracy: 0.9745\n",
      "Epoch 164/200\n",
      "375/375 [==============================] - 1s 3ms/step - loss: 0.0228 - accuracy: 0.9961 - val_loss: 0.0878 - val_accuracy: 0.9743\n",
      "Epoch 165/200\n",
      "375/375 [==============================] - 1s 3ms/step - loss: 0.0225 - accuracy: 0.9960 - val_loss: 0.0872 - val_accuracy: 0.9747\n",
      "Epoch 166/200\n",
      "375/375 [==============================] - 1s 3ms/step - loss: 0.0223 - accuracy: 0.9961 - val_loss: 0.0881 - val_accuracy: 0.9742\n",
      "Epoch 167/200\n",
      "375/375 [==============================] - 1s 3ms/step - loss: 0.0221 - accuracy: 0.9961 - val_loss: 0.0880 - val_accuracy: 0.9746\n",
      "Epoch 168/200\n",
      "375/375 [==============================] - 1s 2ms/step - loss: 0.0218 - accuracy: 0.9961 - val_loss: 0.0880 - val_accuracy: 0.9748\n",
      "Epoch 169/200\n",
      "375/375 [==============================] - 1s 2ms/step - loss: 0.0216 - accuracy: 0.9962 - val_loss: 0.0880 - val_accuracy: 0.9748\n",
      "Epoch 170/200\n",
      "375/375 [==============================] - 1s 2ms/step - loss: 0.0214 - accuracy: 0.9962 - val_loss: 0.0876 - val_accuracy: 0.9752\n",
      "Epoch 171/200\n",
      "375/375 [==============================] - 1s 3ms/step - loss: 0.0211 - accuracy: 0.9963 - val_loss: 0.0878 - val_accuracy: 0.9749\n",
      "Epoch 172/200\n",
      "375/375 [==============================] - 1s 4ms/step - loss: 0.0209 - accuracy: 0.9964 - val_loss: 0.0877 - val_accuracy: 0.9747\n",
      "Epoch 173/200\n",
      "375/375 [==============================] - 1s 3ms/step - loss: 0.0207 - accuracy: 0.9964 - val_loss: 0.0874 - val_accuracy: 0.9748\n",
      "Epoch 174/200\n",
      "375/375 [==============================] - 1s 4ms/step - loss: 0.0205 - accuracy: 0.9965 - val_loss: 0.0878 - val_accuracy: 0.9749\n",
      "Epoch 175/200\n",
      "375/375 [==============================] - 1s 3ms/step - loss: 0.0202 - accuracy: 0.9964 - val_loss: 0.0879 - val_accuracy: 0.9748\n",
      "Epoch 176/200\n",
      "375/375 [==============================] - 1s 3ms/step - loss: 0.0200 - accuracy: 0.9966 - val_loss: 0.0888 - val_accuracy: 0.9748\n",
      "Epoch 177/200\n",
      "375/375 [==============================] - 1s 3ms/step - loss: 0.0198 - accuracy: 0.9967 - val_loss: 0.0881 - val_accuracy: 0.9746\n",
      "Epoch 178/200\n",
      "375/375 [==============================] - 1s 3ms/step - loss: 0.0196 - accuracy: 0.9966 - val_loss: 0.0877 - val_accuracy: 0.9753\n",
      "Epoch 179/200\n",
      "375/375 [==============================] - 1s 3ms/step - loss: 0.0194 - accuracy: 0.9967 - val_loss: 0.0877 - val_accuracy: 0.9750\n",
      "Epoch 180/200\n",
      "375/375 [==============================] - 1s 3ms/step - loss: 0.0191 - accuracy: 0.9968 - val_loss: 0.0882 - val_accuracy: 0.9749\n",
      "Epoch 181/200\n",
      "375/375 [==============================] - 1s 3ms/step - loss: 0.0190 - accuracy: 0.9968 - val_loss: 0.0881 - val_accuracy: 0.9746\n",
      "Epoch 182/200\n",
      "375/375 [==============================] - 1s 3ms/step - loss: 0.0188 - accuracy: 0.9969 - val_loss: 0.0884 - val_accuracy: 0.9747\n",
      "Epoch 183/200\n",
      "375/375 [==============================] - 1s 4ms/step - loss: 0.0186 - accuracy: 0.9970 - val_loss: 0.0881 - val_accuracy: 0.9749\n",
      "Epoch 184/200\n",
      "375/375 [==============================] - 1s 3ms/step - loss: 0.0183 - accuracy: 0.9969 - val_loss: 0.0880 - val_accuracy: 0.9750\n",
      "Epoch 185/200\n",
      "375/375 [==============================] - 1s 3ms/step - loss: 0.0181 - accuracy: 0.9971 - val_loss: 0.0889 - val_accuracy: 0.9745\n",
      "Epoch 186/200\n",
      "375/375 [==============================] - 2s 4ms/step - loss: 0.0179 - accuracy: 0.9971 - val_loss: 0.0888 - val_accuracy: 0.9747\n",
      "Epoch 187/200\n",
      "375/375 [==============================] - 1s 3ms/step - loss: 0.0178 - accuracy: 0.9972 - val_loss: 0.0881 - val_accuracy: 0.9747\n",
      "Epoch 188/200\n",
      "375/375 [==============================] - 1s 3ms/step - loss: 0.0176 - accuracy: 0.9972 - val_loss: 0.0885 - val_accuracy: 0.9748\n",
      "Epoch 189/200\n",
      "375/375 [==============================] - 1s 3ms/step - loss: 0.0174 - accuracy: 0.9973 - val_loss: 0.0886 - val_accuracy: 0.9753\n",
      "Epoch 190/200\n",
      "375/375 [==============================] - 1s 3ms/step - loss: 0.0173 - accuracy: 0.9973 - val_loss: 0.0888 - val_accuracy: 0.9747\n",
      "Epoch 191/200\n",
      "375/375 [==============================] - 1s 3ms/step - loss: 0.0171 - accuracy: 0.9973 - val_loss: 0.0885 - val_accuracy: 0.9750\n",
      "Epoch 192/200\n",
      "375/375 [==============================] - 1s 3ms/step - loss: 0.0169 - accuracy: 0.9973 - val_loss: 0.0886 - val_accuracy: 0.9752\n",
      "Epoch 193/200\n",
      "375/375 [==============================] - 1s 3ms/step - loss: 0.0167 - accuracy: 0.9974 - val_loss: 0.0885 - val_accuracy: 0.9753\n",
      "Epoch 194/200\n",
      "375/375 [==============================] - 1s 3ms/step - loss: 0.0165 - accuracy: 0.9975 - val_loss: 0.0889 - val_accuracy: 0.9748\n",
      "Epoch 195/200\n",
      "375/375 [==============================] - 1s 3ms/step - loss: 0.0164 - accuracy: 0.9974 - val_loss: 0.0889 - val_accuracy: 0.9746\n",
      "Epoch 196/200\n",
      "375/375 [==============================] - 1s 3ms/step - loss: 0.0161 - accuracy: 0.9975 - val_loss: 0.0891 - val_accuracy: 0.9749\n",
      "Epoch 197/200\n",
      "375/375 [==============================] - 1s 3ms/step - loss: 0.0160 - accuracy: 0.9976 - val_loss: 0.0889 - val_accuracy: 0.9753\n",
      "Epoch 198/200\n",
      "375/375 [==============================] - 1s 2ms/step - loss: 0.0159 - accuracy: 0.9976 - val_loss: 0.0894 - val_accuracy: 0.9753\n",
      "Epoch 199/200\n",
      "375/375 [==============================] - 1s 3ms/step - loss: 0.0157 - accuracy: 0.9975 - val_loss: 0.0886 - val_accuracy: 0.9755\n",
      "Epoch 200/200\n",
      "375/375 [==============================] - 1s 3ms/step - loss: 0.0155 - accuracy: 0.9976 - val_loss: 0.0889 - val_accuracy: 0.9747\n"
     ]
    },
    {
     "data": {
      "text/plain": [
       "<tensorflow.python.keras.callbacks.History at 0x7fc8e036c050>"
      ]
     },
     "execution_count": 16,
     "metadata": {},
     "output_type": "execute_result"
    }
   ],
   "source": [
    "# fit\n",
    "model.fit(X_train, train_labels, epochs=200, batch_size=128, verbose=True, validation_split=0.2)"
   ]
  },
  {
   "cell_type": "code",
   "execution_count": 17,
   "metadata": {
    "execution": {
     "iopub.execute_input": "2020-11-24T16:19:08.525683Z",
     "iopub.status.busy": "2020-11-24T16:19:08.524534Z",
     "iopub.status.idle": "2020-11-24T16:19:09.289949Z",
     "shell.execute_reply": "2020-11-24T16:19:09.291023Z"
    },
    "papermill": {
     "duration": 3.47167,
     "end_time": "2020-11-24T16:19:09.291204",
     "exception": false,
     "start_time": "2020-11-24T16:19:05.819534",
     "status": "completed"
    },
    "tags": []
   },
   "outputs": [
    {
     "name": "stdout",
     "output_type": "stream",
     "text": [
      "313/313 [==============================] - 1s 2ms/step - loss: 0.0775 - accuracy: 0.9766\n",
      "test_loss 0.07749566435813904 \n",
      " test_acc 0.9765999913215637\n"
     ]
    }
   ],
   "source": [
    "# evaluate\n",
    "test_loss, test_acc = model.evaluate(X_test, test_labels, verbose=True)\n",
    "print('test_loss', test_loss, '\\n', 'test_acc', test_acc)"
   ]
  },
  {
   "cell_type": "markdown",
   "metadata": {
    "papermill": {
     "duration": 2.525182,
     "end_time": "2020-11-24T16:19:14.421009",
     "exception": false,
     "start_time": "2020-11-24T16:19:11.895827",
     "status": "completed"
    },
    "tags": []
   },
   "source": [
    "### Advanced CNN"
   ]
  },
  {
   "cell_type": "code",
   "execution_count": 18,
   "metadata": {
    "execution": {
     "iopub.execute_input": "2020-11-24T16:19:19.838330Z",
     "iopub.status.busy": "2020-11-24T16:19:19.836499Z",
     "iopub.status.idle": "2020-11-24T16:19:19.839010Z",
     "shell.execute_reply": "2020-11-24T16:19:19.839522Z"
    },
    "papermill": {
     "duration": 2.53335,
     "end_time": "2020-11-24T16:19:19.839655",
     "exception": false,
     "start_time": "2020-11-24T16:19:17.306305",
     "status": "completed"
    },
    "tags": []
   },
   "outputs": [],
   "source": [
    "# reshape\n",
    "X_train = X_train.reshape(-1, 28, 28, 1)\n",
    "X_test = X_test.reshape(-1, 28, 28, 1)"
   ]
  },
  {
   "cell_type": "code",
   "execution_count": 19,
   "metadata": {
    "execution": {
     "iopub.execute_input": "2020-11-24T16:19:25.221228Z",
     "iopub.status.busy": "2020-11-24T16:19:25.219707Z",
     "iopub.status.idle": "2020-11-24T16:19:25.221960Z",
     "shell.execute_reply": "2020-11-24T16:19:25.222518Z"
    },
    "papermill": {
     "duration": 2.513276,
     "end_time": "2020-11-24T16:19:25.222660",
     "exception": false,
     "start_time": "2020-11-24T16:19:22.709384",
     "status": "completed"
    },
    "tags": []
   },
   "outputs": [],
   "source": [
    "from keras.layers import Conv2D, BatchNormalization, Dropout, Conv2D, MaxPool2D, Conv2D, Flatten, Dense\n",
    "from keras.optimizers import Adam"
   ]
  },
  {
   "cell_type": "code",
   "execution_count": 20,
   "metadata": {
    "execution": {
     "iopub.execute_input": "2020-11-24T16:19:30.466861Z",
     "iopub.status.busy": "2020-11-24T16:19:30.465860Z",
     "iopub.status.idle": "2020-11-24T16:19:30.694110Z",
     "shell.execute_reply": "2020-11-24T16:19:30.693097Z"
    },
    "papermill": {
     "duration": 2.834317,
     "end_time": "2020-11-24T16:19:30.694271",
     "exception": false,
     "start_time": "2020-11-24T16:19:27.859954",
     "status": "completed"
    },
    "tags": []
   },
   "outputs": [],
   "source": [
    "# build advanced advanced CNN model\n",
    "model = Sequential()\n",
    "model.add(Conv2D(filters=32, kernel_size=(3, 3), padding='Same', activation='relu', input_shape=(28, 28, 1)))\n",
    "# add two layers => avoid overfit\n",
    "model.add(BatchNormalization(axis=1)) \n",
    "model.add(Dropout(0.5))\n",
    "model.add(Conv2D(filters=32, kernel_size=(3, 3), padding='Same', activation='relu', input_shape=(28, 28, 1)))\n",
    "model.add(BatchNormalization(axis=1)) \n",
    "\n",
    "model.add(MaxPool2D(pool_size=(2, 2)))\n",
    "\n",
    "model.add(Conv2D(filters=64, kernel_size=(3, 3), padding='Same', activation='relu'))\n",
    "model.add(BatchNormalization(axis=1)) \n",
    "model.add(Dropout(0.5))\n",
    "model.add(Conv2D(filters=64, kernel_size=(3, 3), padding='Same', activation='relu'))\n",
    "model.add(MaxPool2D(pool_size=(2, 2)))\n",
    "\n",
    "model.add(Flatten())\n",
    "model.add(BatchNormalization()) \n",
    "model.add(Dropout(0.5))\n",
    "model.add(Dense(512, activation='relu'))\n",
    "model.add(BatchNormalization()) \n",
    "model.add(Dropout(0.5))\n",
    "model.add(Dense(10, activation='softmax'))"
   ]
  },
  {
   "cell_type": "code",
   "execution_count": 21,
   "metadata": {
    "execution": {
     "iopub.execute_input": "2020-11-24T16:19:36.203964Z",
     "iopub.status.busy": "2020-11-24T16:19:36.202843Z",
     "iopub.status.idle": "2020-11-24T16:19:36.226970Z",
     "shell.execute_reply": "2020-11-24T16:19:36.226404Z"
    },
    "papermill": {
     "duration": 2.536715,
     "end_time": "2020-11-24T16:19:36.227080",
     "exception": false,
     "start_time": "2020-11-24T16:19:33.690365",
     "status": "completed"
    },
    "tags": []
   },
   "outputs": [
    {
     "name": "stdout",
     "output_type": "stream",
     "text": [
      "Model: \"sequential_2\"\n",
      "_________________________________________________________________\n",
      "Layer (type)                 Output Shape              Param #   \n",
      "=================================================================\n",
      "conv2d (Conv2D)              (None, 28, 28, 32)        320       \n",
      "_________________________________________________________________\n",
      "batch_normalization (BatchNo (None, 28, 28, 32)        112       \n",
      "_________________________________________________________________\n",
      "dropout (Dropout)            (None, 28, 28, 32)        0         \n",
      "_________________________________________________________________\n",
      "conv2d_1 (Conv2D)            (None, 28, 28, 32)        9248      \n",
      "_________________________________________________________________\n",
      "batch_normalization_1 (Batch (None, 28, 28, 32)        112       \n",
      "_________________________________________________________________\n",
      "max_pooling2d (MaxPooling2D) (None, 14, 14, 32)        0         \n",
      "_________________________________________________________________\n",
      "conv2d_2 (Conv2D)            (None, 14, 14, 64)        18496     \n",
      "_________________________________________________________________\n",
      "batch_normalization_2 (Batch (None, 14, 14, 64)        56        \n",
      "_________________________________________________________________\n",
      "dropout_1 (Dropout)          (None, 14, 14, 64)        0         \n",
      "_________________________________________________________________\n",
      "conv2d_3 (Conv2D)            (None, 14, 14, 64)        36928     \n",
      "_________________________________________________________________\n",
      "max_pooling2d_1 (MaxPooling2 (None, 7, 7, 64)          0         \n",
      "_________________________________________________________________\n",
      "flatten (Flatten)            (None, 3136)              0         \n",
      "_________________________________________________________________\n",
      "batch_normalization_3 (Batch (None, 3136)              12544     \n",
      "_________________________________________________________________\n",
      "dropout_2 (Dropout)          (None, 3136)              0         \n",
      "_________________________________________________________________\n",
      "dense_4 (Dense)              (None, 512)               1606144   \n",
      "_________________________________________________________________\n",
      "batch_normalization_4 (Batch (None, 512)               2048      \n",
      "_________________________________________________________________\n",
      "dropout_3 (Dropout)          (None, 512)               0         \n",
      "_________________________________________________________________\n",
      "dense_5 (Dense)              (None, 10)                5130      \n",
      "=================================================================\n",
      "Total params: 1,691,138\n",
      "Trainable params: 1,683,702\n",
      "Non-trainable params: 7,436\n",
      "_________________________________________________________________\n"
     ]
    }
   ],
   "source": [
    "# compile\n",
    "model.compile(Adam(), loss='categorical_crossentropy', metrics=['accuracy'])\n",
    "# summary\n",
    "model.summary()"
   ]
  },
  {
   "cell_type": "code",
   "execution_count": 22,
   "metadata": {
    "execution": {
     "iopub.execute_input": "2020-11-24T16:19:41.803224Z",
     "iopub.status.busy": "2020-11-24T16:19:41.801952Z",
     "iopub.status.idle": "2020-11-24T16:20:51.679648Z",
     "shell.execute_reply": "2020-11-24T16:20:51.604776Z"
    },
    "papermill": {
     "duration": 72.792571,
     "end_time": "2020-11-24T16:20:51.679815",
     "exception": false,
     "start_time": "2020-11-24T16:19:38.887244",
     "status": "completed"
    },
    "tags": []
   },
   "outputs": [
    {
     "name": "stdout",
     "output_type": "stream",
     "text": [
      "Epoch 1/15\n",
      "422/422 [==============================] - 5s 11ms/step - loss: 0.3526 - accuracy: 0.8938 - val_loss: 1.3417 - val_accuracy: 0.5328\n",
      "Epoch 2/15\n",
      "422/422 [==============================] - 4s 11ms/step - loss: 0.1087 - accuracy: 0.9659 - val_loss: 0.0696 - val_accuracy: 0.9795\n",
      "Epoch 3/15\n",
      "422/422 [==============================] - 4s 10ms/step - loss: 0.0778 - accuracy: 0.9751 - val_loss: 0.0569 - val_accuracy: 0.9835\n",
      "Epoch 4/15\n",
      "422/422 [==============================] - 4s 10ms/step - loss: 0.0616 - accuracy: 0.9797 - val_loss: 0.0388 - val_accuracy: 0.9880\n",
      "Epoch 5/15\n",
      "422/422 [==============================] - 4s 10ms/step - loss: 0.0577 - accuracy: 0.9824 - val_loss: 0.0426 - val_accuracy: 0.9878\n",
      "Epoch 6/15\n",
      "422/422 [==============================] - 4s 10ms/step - loss: 0.0504 - accuracy: 0.9840 - val_loss: 0.0437 - val_accuracy: 0.9865\n",
      "Epoch 7/15\n",
      "422/422 [==============================] - 5s 11ms/step - loss: 0.0487 - accuracy: 0.9849 - val_loss: 0.0323 - val_accuracy: 0.9910\n",
      "Epoch 8/15\n",
      "422/422 [==============================] - 4s 10ms/step - loss: 0.0453 - accuracy: 0.9856 - val_loss: 0.0339 - val_accuracy: 0.9910\n",
      "Epoch 9/15\n",
      "422/422 [==============================] - 4s 10ms/step - loss: 0.0408 - accuracy: 0.9867 - val_loss: 0.0283 - val_accuracy: 0.9930\n",
      "Epoch 10/15\n",
      "422/422 [==============================] - 4s 10ms/step - loss: 0.0384 - accuracy: 0.9877 - val_loss: 0.0290 - val_accuracy: 0.9915\n",
      "Epoch 11/15\n",
      "422/422 [==============================] - 4s 10ms/step - loss: 0.0360 - accuracy: 0.9881 - val_loss: 0.0301 - val_accuracy: 0.9922\n",
      "Epoch 12/15\n",
      "422/422 [==============================] - 4s 11ms/step - loss: 0.0343 - accuracy: 0.9885 - val_loss: 0.0276 - val_accuracy: 0.9927\n",
      "Epoch 13/15\n",
      "422/422 [==============================] - 4s 10ms/step - loss: 0.0364 - accuracy: 0.9879 - val_loss: 0.0310 - val_accuracy: 0.9917\n",
      "Epoch 14/15\n",
      "422/422 [==============================] - 4s 10ms/step - loss: 0.0319 - accuracy: 0.9894 - val_loss: 0.0252 - val_accuracy: 0.9935\n",
      "Epoch 15/15\n",
      "422/422 [==============================] - 4s 10ms/step - loss: 0.0313 - accuracy: 0.9899 - val_loss: 0.0265 - val_accuracy: 0.9930\n"
     ]
    },
    {
     "data": {
      "text/plain": [
       "<tensorflow.python.keras.callbacks.History at 0x7fc8d8027110>"
      ]
     },
     "execution_count": 22,
     "metadata": {},
     "output_type": "execute_result"
    }
   ],
   "source": [
    "\n",
    "model.fit(X_train, train_labels, epochs=15, batch_size=128, verbose=True, validation_split=0.1)"
   ]
  },
  {
   "cell_type": "code",
   "execution_count": 23,
   "metadata": {
    "execution": {
     "iopub.execute_input": "2020-11-24T16:20:57.748280Z",
     "iopub.status.busy": "2020-11-24T16:20:57.747224Z",
     "iopub.status.idle": "2020-11-24T16:20:58.835216Z",
     "shell.execute_reply": "2020-11-24T16:20:58.835903Z"
    },
    "papermill": {
     "duration": 4.273876,
     "end_time": "2020-11-24T16:20:58.836092",
     "exception": false,
     "start_time": "2020-11-24T16:20:54.562216",
     "status": "completed"
    },
    "tags": []
   },
   "outputs": [
    {
     "name": "stdout",
     "output_type": "stream",
     "text": [
      "313/313 [==============================] - 1s 3ms/step - loss: 0.0223 - accuracy: 0.9932\n",
      "test_loss 0.02232465147972107 \n",
      " test_acc 0.9932000041007996\n"
     ]
    }
   ],
   "source": [
    "# evaluate\n",
    "test_loss, test_acc = model.evaluate(X_test, test_labels, verbose=True)\n",
    "print('test_loss', test_loss, '\\n', 'test_acc', test_acc)"
   ]
  },
  {
   "cell_type": "markdown",
   "metadata": {
    "papermill": {
     "duration": 2.942402,
     "end_time": "2020-11-24T16:21:04.978522",
     "exception": false,
     "start_time": "2020-11-24T16:21:02.036120",
     "status": "completed"
    },
    "tags": []
   },
   "source": [
    "### Add image_generator for data augmentation"
   ]
  },
  {
   "cell_type": "code",
   "execution_count": 24,
   "metadata": {
    "execution": {
     "iopub.execute_input": "2020-11-24T16:21:11.054460Z",
     "iopub.status.busy": "2020-11-24T16:21:11.053674Z",
     "iopub.status.idle": "2020-11-24T16:21:11.059151Z",
     "shell.execute_reply": "2020-11-24T16:21:11.058547Z"
    },
    "papermill": {
     "duration": 2.919438,
     "end_time": "2020-11-24T16:21:11.059308",
     "exception": false,
     "start_time": "2020-11-24T16:21:08.139870",
     "status": "completed"
    },
    "tags": []
   },
   "outputs": [],
   "source": [
    "from keras.preprocessing.image import ImageDataGenerator"
   ]
  },
  {
   "cell_type": "code",
   "execution_count": 25,
   "metadata": {
    "execution": {
     "iopub.execute_input": "2020-11-24T16:21:17.011607Z",
     "iopub.status.busy": "2020-11-24T16:21:17.010701Z",
     "iopub.status.idle": "2020-11-24T16:21:17.029665Z",
     "shell.execute_reply": "2020-11-24T16:21:17.028955Z"
    },
    "papermill": {
     "duration": 3.025671,
     "end_time": "2020-11-24T16:21:17.029797",
     "exception": false,
     "start_time": "2020-11-24T16:21:14.004126",
     "status": "completed"
    },
    "tags": []
   },
   "outputs": [],
   "source": [
    "generator = ImageDataGenerator(rotation_range=10, width_shift_range=0.10, shear_range=0.5, height_shift_range=0.10, zoom_range=0.10)\n",
    "# compile model with data generator\n",
    "model.compile(Adam(), loss='categorical_crossentropy', metrics=['accuracy'])\n",
    "model.optimizer.lr=0.001\n",
    "batches = generator.flow(X_train, train_labels, batch_size=128)"
   ]
  },
  {
   "cell_type": "code",
   "execution_count": 26,
   "metadata": {
    "execution": {
     "iopub.execute_input": "2020-11-24T16:21:23.112813Z",
     "iopub.status.busy": "2020-11-24T16:21:23.111853Z",
     "iopub.status.idle": "2020-11-24T16:21:47.549620Z",
     "shell.execute_reply": "2020-11-24T16:21:47.550248Z"
    },
    "papermill": {
     "duration": 27.362417,
     "end_time": "2020-11-24T16:21:47.550403",
     "exception": false,
     "start_time": "2020-11-24T16:21:20.187986",
     "status": "completed"
    },
    "tags": []
   },
   "outputs": [
    {
     "name": "stdout",
     "output_type": "stream",
     "text": [
      "Epoch 1/15\n",
      "  469/60000 [..............................] - 23s 49ms/step - loss: 0.1087 - accuracy: 0.9671\n",
      "CPU times: user 26.7 s, sys: 526 ms, total: 27.2 s\n",
      "Wall time: 24.4 s\n"
     ]
    }
   ],
   "source": [
    "# fit\n",
    "%time history = model.fit_generator(generator=batches, steps_per_epoch=batches.n, epochs=15)"
   ]
  },
  {
   "cell_type": "code",
   "execution_count": 27,
   "metadata": {
    "execution": {
     "iopub.execute_input": "2020-11-24T16:21:53.816628Z",
     "iopub.status.busy": "2020-11-24T16:21:53.815135Z",
     "iopub.status.idle": "2020-11-24T16:21:54.891951Z",
     "shell.execute_reply": "2020-11-24T16:21:54.892510Z"
    },
    "papermill": {
     "duration": 4.321458,
     "end_time": "2020-11-24T16:21:54.892653",
     "exception": false,
     "start_time": "2020-11-24T16:21:50.571195",
     "status": "completed"
    },
    "tags": []
   },
   "outputs": [
    {
     "name": "stdout",
     "output_type": "stream",
     "text": [
      "313/313 [==============================] - 1s 3ms/step - loss: 0.0162 - accuracy: 0.9939\n",
      "test_loss 0.016232000663876534 \n",
      " test_acc 0.9939000010490417\n"
     ]
    }
   ],
   "source": [
    "# evaluate\n",
    "test_loss, test_acc = model.evaluate(X_test, test_labels, verbose=True)\n",
    "print('test_loss', test_loss, '\\n', 'test_acc', test_acc)"
   ]
  },
  {
   "cell_type": "code",
   "execution_count": null,
   "metadata": {
    "papermill": {
     "duration": 3.002736,
     "end_time": "2020-11-24T16:22:00.853301",
     "exception": false,
     "start_time": "2020-11-24T16:21:57.850565",
     "status": "completed"
    },
    "tags": []
   },
   "outputs": [],
   "source": []
  }
 ],
 "metadata": {
  "kernelspec": {
   "display_name": "Python 3",
   "language": "python",
   "name": "python3"
  },
  "language_info": {
   "codemirror_mode": {
    "name": "ipython",
    "version": 3
   },
   "file_extension": ".py",
   "mimetype": "text/x-python",
   "name": "python",
   "nbconvert_exporter": "python",
   "pygments_lexer": "ipython3",
   "version": "3.7.6"
  },
  "papermill": {
   "duration": 616.342758,
   "end_time": "2020-11-24T16:22:05.360629",
   "environment_variables": {},
   "exception": null,
   "input_path": "__notebook__.ipynb",
   "output_path": "__notebook__.ipynb",
   "parameters": {},
   "start_time": "2020-11-24T16:11:49.017871",
   "version": "2.1.0"
  }
 },
 "nbformat": 4,
 "nbformat_minor": 4
}
