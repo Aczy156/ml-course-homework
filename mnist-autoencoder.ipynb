{
 "cells": [
  {
   "cell_type": "markdown",
   "metadata": {
    "papermill": {
     "duration": 0.022605,
     "end_time": "2020-12-18T06:37:59.771644",
     "exception": false,
     "start_time": "2020-12-18T06:37:59.749039",
     "status": "completed"
    },
    "tags": []
   },
   "source": [
    "## prework\n",
    "\n",
    "* import basic dependencies\n",
    "* load data [keras.datasets mnist]\n",
    "* check data"
   ]
  },
  {
   "cell_type": "code",
   "execution_count": 1,
   "metadata": {
    "_cell_guid": "b1076dfc-b9ad-4769-8c92-a6c4dae69d19",
    "_uuid": "8f2839f25d086af736a60e9eeb907d3b93b6e0e5",
    "execution": {
     "iopub.execute_input": "2020-12-18T06:37:59.823455Z",
     "iopub.status.busy": "2020-12-18T06:37:59.822808Z",
     "iopub.status.idle": "2020-12-18T06:37:59.833318Z",
     "shell.execute_reply": "2020-12-18T06:37:59.832759Z"
    },
    "papermill": {
     "duration": 0.039669,
     "end_time": "2020-12-18T06:37:59.833416",
     "exception": false,
     "start_time": "2020-12-18T06:37:59.793747",
     "status": "completed"
    },
    "tags": []
   },
   "outputs": [
    {
     "name": "stdout",
     "output_type": "stream",
     "text": [
      "/kaggle/input/mnist-numpy/mnist.npz\n"
     ]
    }
   ],
   "source": [
    "# This Python 3 environment comes with many helpful analytics libraries installed\n",
    "# It is defined by the kaggle/python Docker image: https://github.com/kaggle/docker-python\n",
    "# For example, here's several helpful packages to load\n",
    "\n",
    "import numpy as np # linear algebra\n",
    "import pandas as pd # data processing, CSV file I/O (e.g. pd.read_csv)\n",
    "\n",
    "# Input data files are available in the read-only \"../input/\" directory\n",
    "# For example, running this (by clicking run or pressing Shift+Enter) will list all files under the input directory\n",
    "\n",
    "import os\n",
    "for dirname, _, filenames in os.walk('/kaggle/input'):\n",
    "    for filename in filenames:\n",
    "        print(os.path.join(dirname, filename))\n",
    "\n",
    "# You can write up to 20GB to the current directory (/kaggle/working/) that gets preserved as output when you create a version using \"Save & Run All\" \n",
    "# You can also write temporary files to /kaggle/temp/, but they won't be saved outside of the current session"
   ]
  },
  {
   "cell_type": "code",
   "execution_count": 2,
   "metadata": {
    "_cell_guid": "79c7e3d0-c299-4dcb-8224-4455121ee9b0",
    "_uuid": "d629ff2d2480ee46fbb7e2d37f6b5fab8052498a",
    "execution": {
     "iopub.execute_input": "2020-12-18T06:37:59.885407Z",
     "iopub.status.busy": "2020-12-18T06:37:59.884651Z",
     "iopub.status.idle": "2020-12-18T06:38:00.784512Z",
     "shell.execute_reply": "2020-12-18T06:38:00.783325Z"
    },
    "papermill": {
     "duration": 0.928145,
     "end_time": "2020-12-18T06:38:00.784647",
     "exception": false,
     "start_time": "2020-12-18T06:37:59.856502",
     "status": "completed"
    },
    "tags": []
   },
   "outputs": [],
   "source": [
    "# import basic dependencies\n",
    "import matplotlib.pyplot as plt\n",
    "%matplotlib inline\n",
    "import seaborn as sns"
   ]
  },
  {
   "cell_type": "code",
   "execution_count": 3,
   "metadata": {
    "execution": {
     "iopub.execute_input": "2020-12-18T06:38:00.835363Z",
     "iopub.status.busy": "2020-12-18T06:38:00.834600Z",
     "iopub.status.idle": "2020-12-18T06:38:06.259291Z",
     "shell.execute_reply": "2020-12-18T06:38:06.258754Z"
    },
    "papermill": {
     "duration": 5.451939,
     "end_time": "2020-12-18T06:38:06.259402",
     "exception": false,
     "start_time": "2020-12-18T06:38:00.807463",
     "status": "completed"
    },
    "tags": []
   },
   "outputs": [
    {
     "name": "stdout",
     "output_type": "stream",
     "text": [
      "Downloading data from https://storage.googleapis.com/tensorflow/tf-keras-datasets/mnist.npz\n",
      "11493376/11490434 [==============================] - 0s 0us/step\n"
     ]
    },
    {
     "data": {
      "text/plain": [
       "((60000, 28, 28), (10000,), (10000, 28, 28), (10000,))"
      ]
     },
     "execution_count": 3,
     "metadata": {},
     "output_type": "execute_result"
    }
   ],
   "source": [
    "# load data from keras.datasets\n",
    "from keras.datasets import mnist\n",
    "\n",
    "(x_train, _), (x_test, _) = mnist.load_data()\n",
    "x_train.shape, _.shape, x_test.shape, _.shape"
   ]
  },
  {
   "cell_type": "markdown",
   "metadata": {
    "papermill": {
     "duration": 0.024363,
     "end_time": "2020-12-18T06:38:06.308723",
     "exception": false,
     "start_time": "2020-12-18T06:38:06.284360",
     "status": "completed"
    },
    "tags": []
   },
   "source": [
    "## Data preprocessing and data\n",
    "\n",
    "* normalization\n",
    "* two kinds of data preprocessing\n",
    "    * reshape => flatten to vector\n",
    "    * reshape to images shape [three dim] \n",
    "* data augmentatioin - add gauss noise"
   ]
  },
  {
   "cell_type": "code",
   "execution_count": 4,
   "metadata": {
    "execution": {
     "iopub.execute_input": "2020-12-18T06:38:06.362445Z",
     "iopub.status.busy": "2020-12-18T06:38:06.361719Z",
     "iopub.status.idle": "2020-12-18T06:38:06.445461Z",
     "shell.execute_reply": "2020-12-18T06:38:06.444901Z"
    },
    "papermill": {
     "duration": 0.112112,
     "end_time": "2020-12-18T06:38:06.445585",
     "exception": false,
     "start_time": "2020-12-18T06:38:06.333473",
     "status": "completed"
    },
    "tags": []
   },
   "outputs": [],
   "source": [
    "# normalization\n",
    "x_train = x_train.astype('float32') / 255.\n",
    "x_test = x_test.astype('float32') / 255."
   ]
  },
  {
   "cell_type": "code",
   "execution_count": 5,
   "metadata": {
    "execution": {
     "iopub.execute_input": "2020-12-18T06:38:06.503406Z",
     "iopub.status.busy": "2020-12-18T06:38:06.502716Z",
     "iopub.status.idle": "2020-12-18T06:38:06.508373Z",
     "shell.execute_reply": "2020-12-18T06:38:06.507777Z"
    },
    "papermill": {
     "duration": 0.036524,
     "end_time": "2020-12-18T06:38:06.508477",
     "exception": false,
     "start_time": "2020-12-18T06:38:06.471953",
     "status": "completed"
    },
    "tags": []
   },
   "outputs": [
    {
     "data": {
      "text/plain": [
       "((60000, 784), (10000, 784))"
      ]
     },
     "execution_count": 5,
     "metadata": {},
     "output_type": "execute_result"
    }
   ],
   "source": [
    "# reshape => flatten\n",
    "autoencoder_x_train = x_train.reshape((len(x_train), np.prod(x_train.shape[1:])))\n",
    "autoencoder_x_test = x_test.reshape((len(x_test), np.prod(x_test.shape[1:])))\n",
    "autoencoder_x_train.shape, autoencoder_x_test.shape"
   ]
  },
  {
   "cell_type": "code",
   "execution_count": 6,
   "metadata": {
    "execution": {
     "iopub.execute_input": "2020-12-18T06:38:06.567005Z",
     "iopub.status.busy": "2020-12-18T06:38:06.565559Z",
     "iopub.status.idle": "2020-12-18T06:38:06.569307Z",
     "shell.execute_reply": "2020-12-18T06:38:06.569760Z"
    },
    "papermill": {
     "duration": 0.03627,
     "end_time": "2020-12-18T06:38:06.569905",
     "exception": false,
     "start_time": "2020-12-18T06:38:06.533635",
     "status": "completed"
    },
    "tags": []
   },
   "outputs": [
    {
     "data": {
      "text/plain": [
       "((60000, 28, 28, 1), (10000, 28, 28, 1))"
      ]
     },
     "execution_count": 6,
     "metadata": {},
     "output_type": "execute_result"
    }
   ],
   "source": [
    "# cnn_autoencoder => reshape to image shape\n",
    "cnn_autoencoder_x_train = np.reshape(x_train, (len(x_train),28, 28, 1))\n",
    "cnn_autoencoder_x_test = np.reshape(x_test, (len(x_test), 28, 28, 1))\n",
    "cnn_autoencoder_x_train.shape, cnn_autoencoder_x_test.shape"
   ]
  },
  {
   "cell_type": "markdown",
   "metadata": {
    "papermill": {
     "duration": 0.029429,
     "end_time": "2020-12-18T06:38:06.625052",
     "exception": false,
     "start_time": "2020-12-18T06:38:06.595623",
     "status": "completed"
    },
    "tags": []
   },
   "source": [
    "### augmentation"
   ]
  },
  {
   "cell_type": "code",
   "execution_count": 7,
   "metadata": {
    "execution": {
     "iopub.execute_input": "2020-12-18T06:38:06.684338Z",
     "iopub.status.busy": "2020-12-18T06:38:06.683368Z",
     "iopub.status.idle": "2020-12-18T06:38:09.433721Z",
     "shell.execute_reply": "2020-12-18T06:38:09.434351Z"
    },
    "papermill": {
     "duration": 2.783361,
     "end_time": "2020-12-18T06:38:09.434505",
     "exception": false,
     "start_time": "2020-12-18T06:38:06.651144",
     "status": "completed"
    },
    "tags": []
   },
   "outputs": [
    {
     "data": {
      "text/plain": [
       "((60000, 28, 28), (10000, 28, 28))"
      ]
     },
     "execution_count": 7,
     "metadata": {},
     "output_type": "execute_result"
    }
   ],
   "source": [
    "# add gauss noise\n",
    "noise_factor = 0.5\n",
    "x_train_noisy = x_train + noise_factor * np.random.normal(loc=0.0, scale=1.0, size=x_train.shape)\n",
    "x_test_noisy = x_test + noise_factor * np.random.normal(loc=0.0, scale=1.0, size=x_test.shape)\n",
    "x_train_noisy = np.clip(x_train_noisy, 0., 1.)\n",
    "x_test_noisy = np.clip(x_test_noisy, 0., 1.)\n",
    "x_train_noisy.shape, x_test_noisy.shape"
   ]
  },
  {
   "cell_type": "markdown",
   "metadata": {
    "papermill": {
     "duration": 0.026625,
     "end_time": "2020-12-18T06:38:09.488434",
     "exception": false,
     "start_time": "2020-12-18T06:38:09.461809",
     "status": "completed"
    },
    "tags": []
   },
   "source": [
    "## Model -- Basic AutoEncoder\n",
    "\n",
    "* hyper-parameters\n",
    "* import keras dependencies\n",
    "* build auto-encoder model\n",
    "* build saparate model\n",
    "    * extract encoder\n",
    "    * extract decoder\n",
    "    * build decoder model\n",
    "    * compile, summary\n",
    "* combine to validate, predict\n",
    "* plot for check\n"
   ]
  },
  {
   "cell_type": "code",
   "execution_count": 8,
   "metadata": {
    "execution": {
     "iopub.execute_input": "2020-12-18T06:38:09.544341Z",
     "iopub.status.busy": "2020-12-18T06:38:09.543526Z",
     "iopub.status.idle": "2020-12-18T06:38:09.546784Z",
     "shell.execute_reply": "2020-12-18T06:38:09.546271Z"
    },
    "papermill": {
     "duration": 0.032779,
     "end_time": "2020-12-18T06:38:09.546877",
     "exception": false,
     "start_time": "2020-12-18T06:38:09.514098",
     "status": "completed"
    },
    "tags": []
   },
   "outputs": [],
   "source": [
    "# hyper-parameters\n",
    "encoding_dim = 32\n",
    "epochs = 50\n",
    "batch_size=256"
   ]
  },
  {
   "cell_type": "code",
   "execution_count": 9,
   "metadata": {
    "execution": {
     "iopub.execute_input": "2020-12-18T06:38:09.604419Z",
     "iopub.status.busy": "2020-12-18T06:38:09.603287Z",
     "iopub.status.idle": "2020-12-18T06:38:09.608508Z",
     "shell.execute_reply": "2020-12-18T06:38:09.609063Z"
    },
    "papermill": {
     "duration": 0.036028,
     "end_time": "2020-12-18T06:38:09.609201",
     "exception": false,
     "start_time": "2020-12-18T06:38:09.573173",
     "status": "completed"
    },
    "tags": []
   },
   "outputs": [],
   "source": [
    "from keras.models import Model\n",
    "from keras.layers import Input, Dense"
   ]
  },
  {
   "cell_type": "code",
   "execution_count": 10,
   "metadata": {
    "execution": {
     "iopub.execute_input": "2020-12-18T06:38:09.668983Z",
     "iopub.status.busy": "2020-12-18T06:38:09.668378Z",
     "iopub.status.idle": "2020-12-18T06:38:12.541566Z",
     "shell.execute_reply": "2020-12-18T06:38:12.540824Z"
    },
    "papermill": {
     "duration": 2.904753,
     "end_time": "2020-12-18T06:38:12.541703",
     "exception": false,
     "start_time": "2020-12-18T06:38:09.636950",
     "status": "completed"
    },
    "tags": []
   },
   "outputs": [],
   "source": [
    "# build encoder\n",
    "input_img = Input(shape=(784, ), name='autoencoder_input')\n",
    "encoded = Dense(encoding_dim, activation='relu', name='encoder')(input_img) # encode\n",
    "decoded = Dense(784, activation='sigmoid', name='decoder')(encoded) # decode\n",
    "autoencoder = Model(inputs=input_img, outputs=decoded)"
   ]
  },
  {
   "cell_type": "code",
   "execution_count": 11,
   "metadata": {
    "execution": {
     "iopub.execute_input": "2020-12-18T06:38:12.610109Z",
     "iopub.status.busy": "2020-12-18T06:38:12.609080Z",
     "iopub.status.idle": "2020-12-18T06:38:12.621397Z",
     "shell.execute_reply": "2020-12-18T06:38:12.621906Z"
    },
    "papermill": {
     "duration": 0.053025,
     "end_time": "2020-12-18T06:38:12.622021",
     "exception": false,
     "start_time": "2020-12-18T06:38:12.568996",
     "status": "completed"
    },
    "tags": []
   },
   "outputs": [
    {
     "name": "stdout",
     "output_type": "stream",
     "text": [
      "Model: \"functional_1\"\n",
      "_________________________________________________________________\n",
      "Layer (type)                 Output Shape              Param #   \n",
      "=================================================================\n",
      "autoencoder_input (InputLaye [(None, 784)]             0         \n",
      "_________________________________________________________________\n",
      "encoder (Dense)              (None, 32)                25120     \n",
      "_________________________________________________________________\n",
      "decoder (Dense)              (None, 784)               25872     \n",
      "=================================================================\n",
      "Total params: 50,992\n",
      "Trainable params: 50,992\n",
      "Non-trainable params: 0\n",
      "_________________________________________________________________\n"
     ]
    }
   ],
   "source": [
    "# compile and summary\n",
    "autoencoder.compile(optimizer='adadelta', loss='binary_crossentropy')\n",
    "autoencoder.summary()"
   ]
  },
  {
   "cell_type": "code",
   "execution_count": 12,
   "metadata": {
    "execution": {
     "iopub.execute_input": "2020-12-18T06:38:12.679242Z",
     "iopub.status.busy": "2020-12-18T06:38:12.678627Z",
     "iopub.status.idle": "2020-12-18T06:38:51.875326Z",
     "shell.execute_reply": "2020-12-18T06:38:51.874778Z"
    },
    "papermill": {
     "duration": 39.22685,
     "end_time": "2020-12-18T06:38:51.875444",
     "exception": false,
     "start_time": "2020-12-18T06:38:12.648594",
     "status": "completed"
    },
    "tags": []
   },
   "outputs": [
    {
     "name": "stdout",
     "output_type": "stream",
     "text": [
      "Epoch 1/50\n",
      "235/235 [==============================] - 1s 4ms/step - loss: 0.6934 - val_loss: 0.6933\n",
      "Epoch 2/50\n",
      "235/235 [==============================] - 1s 4ms/step - loss: 0.6932 - val_loss: 0.6931\n",
      "Epoch 3/50\n",
      "235/235 [==============================] - 1s 3ms/step - loss: 0.6930 - val_loss: 0.6930\n",
      "Epoch 4/50\n",
      "235/235 [==============================] - 1s 3ms/step - loss: 0.6929 - val_loss: 0.6928\n",
      "Epoch 5/50\n",
      "235/235 [==============================] - 1s 3ms/step - loss: 0.6927 - val_loss: 0.6926\n",
      "Epoch 6/50\n",
      "235/235 [==============================] - 1s 5ms/step - loss: 0.6925 - val_loss: 0.6925\n",
      "Epoch 7/50\n",
      "235/235 [==============================] - 1s 3ms/step - loss: 0.6924 - val_loss: 0.6923\n",
      "Epoch 8/50\n",
      "235/235 [==============================] - 1s 3ms/step - loss: 0.6922 - val_loss: 0.6922\n",
      "Epoch 9/50\n",
      "235/235 [==============================] - 1s 3ms/step - loss: 0.6921 - val_loss: 0.6920\n",
      "Epoch 10/50\n",
      "235/235 [==============================] - 1s 3ms/step - loss: 0.6919 - val_loss: 0.6918\n",
      "Epoch 11/50\n",
      "235/235 [==============================] - 1s 3ms/step - loss: 0.6917 - val_loss: 0.6917\n",
      "Epoch 12/50\n",
      "235/235 [==============================] - 1s 3ms/step - loss: 0.6916 - val_loss: 0.6915\n",
      "Epoch 13/50\n",
      "235/235 [==============================] - 1s 4ms/step - loss: 0.6914 - val_loss: 0.6913\n",
      "Epoch 14/50\n",
      "235/235 [==============================] - 1s 3ms/step - loss: 0.6912 - val_loss: 0.6912\n",
      "Epoch 15/50\n",
      "235/235 [==============================] - 1s 3ms/step - loss: 0.6911 - val_loss: 0.6910\n",
      "Epoch 16/50\n",
      "235/235 [==============================] - 1s 4ms/step - loss: 0.6909 - val_loss: 0.6908\n",
      "Epoch 17/50\n",
      "235/235 [==============================] - 1s 4ms/step - loss: 0.6907 - val_loss: 0.6907\n",
      "Epoch 18/50\n",
      "235/235 [==============================] - 1s 3ms/step - loss: 0.6906 - val_loss: 0.6905\n",
      "Epoch 19/50\n",
      "235/235 [==============================] - 1s 3ms/step - loss: 0.6904 - val_loss: 0.6903\n",
      "Epoch 20/50\n",
      "235/235 [==============================] - 1s 3ms/step - loss: 0.6902 - val_loss: 0.6901\n",
      "Epoch 21/50\n",
      "235/235 [==============================] - 1s 4ms/step - loss: 0.6901 - val_loss: 0.6900\n",
      "Epoch 22/50\n",
      "235/235 [==============================] - 1s 3ms/step - loss: 0.6899 - val_loss: 0.6898\n",
      "Epoch 23/50\n",
      "235/235 [==============================] - 1s 3ms/step - loss: 0.6897 - val_loss: 0.6896\n",
      "Epoch 24/50\n",
      "235/235 [==============================] - 1s 3ms/step - loss: 0.6895 - val_loss: 0.6894\n",
      "Epoch 25/50\n",
      "235/235 [==============================] - 1s 3ms/step - loss: 0.6893 - val_loss: 0.6892\n",
      "Epoch 26/50\n",
      "235/235 [==============================] - 1s 3ms/step - loss: 0.6892 - val_loss: 0.6890\n",
      "Epoch 27/50\n",
      "235/235 [==============================] - 1s 3ms/step - loss: 0.6890 - val_loss: 0.6888\n",
      "Epoch 28/50\n",
      "235/235 [==============================] - 1s 3ms/step - loss: 0.6888 - val_loss: 0.6886\n",
      "Epoch 29/50\n",
      "235/235 [==============================] - 1s 3ms/step - loss: 0.6886 - val_loss: 0.6884\n",
      "Epoch 30/50\n",
      "235/235 [==============================] - 1s 3ms/step - loss: 0.6884 - val_loss: 0.6882\n",
      "Epoch 31/50\n",
      "235/235 [==============================] - 1s 4ms/step - loss: 0.6882 - val_loss: 0.6880\n",
      "Epoch 32/50\n",
      "235/235 [==============================] - 1s 3ms/step - loss: 0.6880 - val_loss: 0.6878\n",
      "Epoch 33/50\n",
      "235/235 [==============================] - 1s 3ms/step - loss: 0.6878 - val_loss: 0.6876\n",
      "Epoch 34/50\n",
      "235/235 [==============================] - 1s 3ms/step - loss: 0.6875 - val_loss: 0.6874\n",
      "Epoch 35/50\n",
      "235/235 [==============================] - 1s 3ms/step - loss: 0.6873 - val_loss: 0.6872\n",
      "Epoch 36/50\n",
      "235/235 [==============================] - 1s 3ms/step - loss: 0.6871 - val_loss: 0.6869\n",
      "Epoch 37/50\n",
      "235/235 [==============================] - 1s 3ms/step - loss: 0.6869 - val_loss: 0.6867\n",
      "Epoch 38/50\n",
      "235/235 [==============================] - 1s 3ms/step - loss: 0.6866 - val_loss: 0.6865\n",
      "Epoch 39/50\n",
      "235/235 [==============================] - 1s 3ms/step - loss: 0.6864 - val_loss: 0.6862\n",
      "Epoch 40/50\n",
      "235/235 [==============================] - 1s 3ms/step - loss: 0.6861 - val_loss: 0.6860\n",
      "Epoch 41/50\n",
      "235/235 [==============================] - 1s 3ms/step - loss: 0.6859 - val_loss: 0.6857\n",
      "Epoch 42/50\n",
      "235/235 [==============================] - 1s 3ms/step - loss: 0.6856 - val_loss: 0.6854\n",
      "Epoch 43/50\n",
      "235/235 [==============================] - 1s 3ms/step - loss: 0.6854 - val_loss: 0.6852\n",
      "Epoch 44/50\n",
      "235/235 [==============================] - 1s 3ms/step - loss: 0.6851 - val_loss: 0.6849\n",
      "Epoch 45/50\n",
      "235/235 [==============================] - 1s 3ms/step - loss: 0.6848 - val_loss: 0.6846\n",
      "Epoch 46/50\n",
      "235/235 [==============================] - 1s 4ms/step - loss: 0.6846 - val_loss: 0.6843\n",
      "Epoch 47/50\n",
      "235/235 [==============================] - 1s 3ms/step - loss: 0.6843 - val_loss: 0.6840\n",
      "Epoch 48/50\n",
      "235/235 [==============================] - 1s 3ms/step - loss: 0.6840 - val_loss: 0.6837\n",
      "Epoch 49/50\n",
      "235/235 [==============================] - 1s 3ms/step - loss: 0.6837 - val_loss: 0.6834\n",
      "Epoch 50/50\n",
      "235/235 [==============================] - 1s 3ms/step - loss: 0.6833 - val_loss: 0.6831\n"
     ]
    },
    {
     "data": {
      "text/plain": [
       "<tensorflow.python.keras.callbacks.History at 0x7fe10b18a510>"
      ]
     },
     "execution_count": 12,
     "metadata": {},
     "output_type": "execute_result"
    }
   ],
   "source": [
    "# fit (input and output => x_train)\n",
    "autoencoder.fit(\n",
    "    autoencoder_x_train, autoencoder_x_train, \n",
    "    epochs=epochs, \n",
    "    batch_size=batch_size, \n",
    "    shuffle=True, \n",
    "    validation_data=(autoencoder_x_test, autoencoder_x_test)\n",
    ")"
   ]
  },
  {
   "cell_type": "code",
   "execution_count": 13,
   "metadata": {
    "execution": {
     "iopub.execute_input": "2020-12-18T06:38:52.448770Z",
     "iopub.status.busy": "2020-12-18T06:38:52.447590Z",
     "iopub.status.idle": "2020-12-18T06:38:52.466905Z",
     "shell.execute_reply": "2020-12-18T06:38:52.467499Z"
    },
    "papermill": {
     "duration": 0.31961,
     "end_time": "2020-12-18T06:38:52.467650",
     "exception": false,
     "start_time": "2020-12-18T06:38:52.148040",
     "status": "completed"
    },
    "tags": []
   },
   "outputs": [],
   "source": [
    "# extract encoder\n",
    "encoder = Model(inputs=input_img, outputs=encoded)\n",
    "encoded_input = Input(shape=(encoding_dim, ))\n",
    "# extract decoder\n",
    "decoder_layer = autoencoder.layers[-1]\n",
    "\n",
    "decoder = Model(inputs=encoded_input, outputs=decoder_layer(encoded_input))"
   ]
  },
  {
   "cell_type": "code",
   "execution_count": 14,
   "metadata": {
    "execution": {
     "iopub.execute_input": "2020-12-18T06:38:53.051986Z",
     "iopub.status.busy": "2020-12-18T06:38:53.051002Z",
     "iopub.status.idle": "2020-12-18T06:38:53.608579Z",
     "shell.execute_reply": "2020-12-18T06:38:53.606912Z"
    },
    "papermill": {
     "duration": 0.868657,
     "end_time": "2020-12-18T06:38:53.608710",
     "exception": false,
     "start_time": "2020-12-18T06:38:52.740053",
     "status": "completed"
    },
    "tags": []
   },
   "outputs": [],
   "source": [
    "encoded_imgs = encoder.predict(autoencoder_x_test)\n",
    "decoded_imgs = decoder.predict(encoded_imgs)"
   ]
  },
  {
   "cell_type": "code",
   "execution_count": 15,
   "metadata": {
    "execution": {
     "iopub.execute_input": "2020-12-18T06:38:54.171784Z",
     "iopub.status.busy": "2020-12-18T06:38:54.170916Z",
     "iopub.status.idle": "2020-12-18T06:38:55.189970Z",
     "shell.execute_reply": "2020-12-18T06:38:55.189402Z"
    },
    "papermill": {
     "duration": 1.307362,
     "end_time": "2020-12-18T06:38:55.190086",
     "exception": false,
     "start_time": "2020-12-18T06:38:53.882724",
     "status": "completed"
    },
    "tags": []
   },
   "outputs": [
    {
     "data": {
      "image/png": "[encoded data removed]",
      "text/plain": [
       "<Figure size 1440x288 with 20 Axes>"
      ]
     },
     "metadata": {
      "needs_background": "light"
     },
     "output_type": "display_data"
    }
   ],
   "source": [
    "# plot\n",
    "n = 10\n",
    "plt.figure(figsize=(20, 4))\n",
    "for i in range(n):\n",
    "    # show origin images\n",
    "    ax = plt.subplot(2, n, i+1)\n",
    "    plt.imshow(autoencoder_x_test[i].reshape(28, 28))\n",
    "    plt.gray()\n",
    "    ax.get_xaxis().set_visible(False)\n",
    "    ax.get_yaxis().set_visible(False)\n",
    "    \n",
    "    # show autoencoded images\n",
    "    ax = plt.subplot(2, n, i+1+n)\n",
    "    plt.imshow(decoded_imgs[i].reshape(28, 28))\n",
    "    plt.gray()\n",
    "    ax.get_xaxis().set_visible(False)\n",
    "    ax.get_yaxis().set_visible(False)\n",
    "plt.show()"
   ]
  },
  {
   "cell_type": "markdown",
   "metadata": {
    "papermill": {
     "duration": 0.275592,
     "end_time": "2020-12-18T06:38:55.742531",
     "exception": false,
     "start_time": "2020-12-18T06:38:55.466939",
     "status": "completed"
    },
    "tags": []
   },
   "source": [
    "## Model -- Advanced CNN AutoEncoder\n",
    "\n",
    "\n",
    "* import keras dependencies\n",
    "* build auto-encoder model\n",
    "* build saparate model\n",
    "    * extract encoder\n",
    "    * extract decoder\n",
    "    * build decoder model\n",
    "    * compile, summary\n",
    "* combine to validate, predict\n",
    "* plot for check\n"
   ]
  },
  {
   "cell_type": "code",
   "execution_count": 16,
   "metadata": {
    "execution": {
     "iopub.execute_input": "2020-12-18T06:38:56.299707Z",
     "iopub.status.busy": "2020-12-18T06:38:56.298818Z",
     "iopub.status.idle": "2020-12-18T06:38:56.303373Z",
     "shell.execute_reply": "2020-12-18T06:38:56.302871Z"
    },
    "papermill": {
     "duration": 0.286972,
     "end_time": "2020-12-18T06:38:56.303474",
     "exception": false,
     "start_time": "2020-12-18T06:38:56.016502",
     "status": "completed"
    },
    "tags": []
   },
   "outputs": [],
   "source": [
    "# cnn_autoencoder hyper-parameters\n",
    "epochs = 50\n",
    "batch_size = 128"
   ]
  },
  {
   "cell_type": "code",
   "execution_count": 17,
   "metadata": {
    "execution": {
     "iopub.execute_input": "2020-12-18T06:38:56.860411Z",
     "iopub.status.busy": "2020-12-18T06:38:56.858669Z",
     "iopub.status.idle": "2020-12-18T06:38:56.861202Z",
     "shell.execute_reply": "2020-12-18T06:38:56.861669Z"
    },
    "papermill": {
     "duration": 0.28193,
     "end_time": "2020-12-18T06:38:56.861784",
     "exception": false,
     "start_time": "2020-12-18T06:38:56.579854",
     "status": "completed"
    },
    "tags": []
   },
   "outputs": [],
   "source": [
    "from keras.models import Model\n",
    "from keras.layers import Conv2D, MaxPooling2D, UpSampling2D"
   ]
  },
  {
   "cell_type": "code",
   "execution_count": 18,
   "metadata": {
    "execution": {
     "iopub.execute_input": "2020-12-18T06:38:57.433418Z",
     "iopub.status.busy": "2020-12-18T06:38:57.432463Z",
     "iopub.status.idle": "2020-12-18T06:38:57.520853Z",
     "shell.execute_reply": "2020-12-18T06:38:57.520250Z"
    },
    "papermill": {
     "duration": 0.382375,
     "end_time": "2020-12-18T06:38:57.520965",
     "exception": false,
     "start_time": "2020-12-18T06:38:57.138590",
     "status": "completed"
    },
    "tags": []
   },
   "outputs": [],
   "source": [
    "# build model\n",
    "input_img = Input(shape=(28, 28, 1), name='cnn_autoencoder_input')\n",
    "# encoder\n",
    "x = Conv2D(16, (3, 3), activation='relu', padding='same', name='encoder_conv1')(input_img)\n",
    "x = MaxPooling2D((2, 2), padding='same', name='encoder_maxpooling1')(x)\n",
    "x = Conv2D(8, (3, 3), activation='relu', padding='same', name='encoder_conv2')(x)\n",
    "x = MaxPooling2D((2, 2), padding='same', name='encoder_maxpooling2')(x)\n",
    "x = Conv2D(8, (3, 3), activation='relu', padding='same', name='encoder_conv3')(x)\n",
    "cnn_encoded = MaxPooling2D((2, 2), padding='same', name='encoder_output')(x)\n",
    "# decoder\n",
    "x = Conv2D(8, (3, 3), activation='relu', padding='same', name='decoder_conv1')(cnn_encoded)\n",
    "x = UpSampling2D((2, 2), name='decoder_upsampling1')(x)#上采样层\n",
    "x = Conv2D(8, (3, 3), activation='relu', padding='same', name='decoder_conv2')(x)\n",
    "x = UpSampling2D((2, 2), name='decoder_upsampling2')(x)\n",
    "x = Conv2D(16, (3, 3), activation='relu', name='decoder_conv3')(x)\n",
    "x = UpSampling2D((2, 2), name='decoder_upsampling3')(x)\n",
    "cnn_decoded = Conv2D(1, (3, 3), activation='sigmoid', padding='same', name='decoder_output')(x)\n",
    "cnn_autoencoder = Model(input_img, cnn_decoded)"
   ]
  },
  {
   "cell_type": "code",
   "execution_count": 19,
   "metadata": {
    "execution": {
     "iopub.execute_input": "2020-12-18T06:38:58.089076Z",
     "iopub.status.busy": "2020-12-18T06:38:58.088149Z",
     "iopub.status.idle": "2020-12-18T06:38:58.109438Z",
     "shell.execute_reply": "2020-12-18T06:38:58.108482Z"
    },
    "papermill": {
     "duration": 0.31043,
     "end_time": "2020-12-18T06:38:58.109605",
     "exception": false,
     "start_time": "2020-12-18T06:38:57.799175",
     "status": "completed"
    },
    "tags": []
   },
   "outputs": [
    {
     "name": "stdout",
     "output_type": "stream",
     "text": [
      "Model: \"functional_7\"\n",
      "_________________________________________________________________\n",
      "Layer (type)                 Output Shape              Param #   \n",
      "=================================================================\n",
      "cnn_autoencoder_input (Input [(None, 28, 28, 1)]       0         \n",
      "_________________________________________________________________\n",
      "encoder_conv1 (Conv2D)       (None, 28, 28, 16)        160       \n",
      "_________________________________________________________________\n",
      "encoder_maxpooling1 (MaxPool (None, 14, 14, 16)        0         \n",
      "_________________________________________________________________\n",
      "encoder_conv2 (Conv2D)       (None, 14, 14, 8)         1160      \n",
      "_________________________________________________________________\n",
      "encoder_maxpooling2 (MaxPool (None, 7, 7, 8)           0         \n",
      "_________________________________________________________________\n",
      "encoder_conv3 (Conv2D)       (None, 7, 7, 8)           584       \n",
      "_________________________________________________________________\n",
      "encoder_output (MaxPooling2D (None, 4, 4, 8)           0         \n",
      "_________________________________________________________________\n",
      "decoder_conv1 (Conv2D)       (None, 4, 4, 8)           584       \n",
      "_________________________________________________________________\n",
      "decoder_upsampling1 (UpSampl (None, 8, 8, 8)           0         \n",
      "_________________________________________________________________\n",
      "decoder_conv2 (Conv2D)       (None, 8, 8, 8)           584       \n",
      "_________________________________________________________________\n",
      "decoder_upsampling2 (UpSampl (None, 16, 16, 8)         0         \n",
      "_________________________________________________________________\n",
      "decoder_conv3 (Conv2D)       (None, 14, 14, 16)        1168      \n",
      "_________________________________________________________________\n",
      "decoder_upsampling3 (UpSampl (None, 28, 28, 16)        0         \n",
      "_________________________________________________________________\n",
      "decoder_output (Conv2D)      (None, 28, 28, 1)         145       \n",
      "=================================================================\n",
      "Total params: 4,385\n",
      "Trainable params: 4,385\n",
      "Non-trainable params: 0\n",
      "_________________________________________________________________\n"
     ]
    }
   ],
   "source": [
    "# compile and summary\n",
    "cnn_autoencoder.compile(optimizer='adadelta', loss='binary_crossentropy')\n",
    "cnn_autoencoder.summary()"
   ]
  },
  {
   "cell_type": "code",
   "execution_count": 20,
   "metadata": {
    "execution": {
     "iopub.execute_input": "2020-12-18T06:38:58.684233Z",
     "iopub.status.busy": "2020-12-18T06:38:58.683148Z",
     "iopub.status.idle": "2020-12-18T06:41:03.825334Z",
     "shell.execute_reply": "2020-12-18T06:41:03.809820Z"
    },
    "papermill": {
     "duration": 125.43063,
     "end_time": "2020-12-18T06:41:03.825464",
     "exception": false,
     "start_time": "2020-12-18T06:38:58.394834",
     "status": "completed"
    },
    "tags": []
   },
   "outputs": [
    {
     "name": "stdout",
     "output_type": "stream",
     "text": [
      "Epoch 1/50\n",
      "469/469 [==============================] - 3s 6ms/step - loss: 0.6873 - val_loss: 0.6845\n",
      "Epoch 2/50\n",
      "469/469 [==============================] - 2s 5ms/step - loss: 0.6803 - val_loss: 0.6757\n",
      "Epoch 3/50\n",
      "469/469 [==============================] - 2s 5ms/step - loss: 0.6681 - val_loss: 0.6590\n",
      "Epoch 4/50\n",
      "469/469 [==============================] - 2s 5ms/step - loss: 0.6406 - val_loss: 0.6157\n",
      "Epoch 5/50\n",
      "469/469 [==============================] - 2s 5ms/step - loss: 0.5663 - val_loss: 0.5154\n",
      "Epoch 6/50\n",
      "469/469 [==============================] - 2s 5ms/step - loss: 0.4914 - val_loss: 0.4861\n",
      "Epoch 7/50\n",
      "469/469 [==============================] - 3s 6ms/step - loss: 0.4792 - val_loss: 0.4799\n",
      "Epoch 8/50\n",
      "469/469 [==============================] - 3s 6ms/step - loss: 0.4733 - val_loss: 0.4743\n",
      "Epoch 9/50\n",
      "469/469 [==============================] - 2s 5ms/step - loss: 0.4680 - val_loss: 0.4690\n",
      "Epoch 10/50\n",
      "469/469 [==============================] - 2s 5ms/step - loss: 0.4629 - val_loss: 0.4641\n",
      "Epoch 11/50\n",
      "469/469 [==============================] - 3s 5ms/step - loss: 0.4581 - val_loss: 0.4593\n",
      "Epoch 12/50\n",
      "469/469 [==============================] - 2s 5ms/step - loss: 0.4533 - val_loss: 0.4546\n",
      "Epoch 13/50\n",
      "469/469 [==============================] - 3s 6ms/step - loss: 0.4487 - val_loss: 0.4499\n",
      "Epoch 14/50\n",
      "469/469 [==============================] - 3s 6ms/step - loss: 0.4440 - val_loss: 0.4451\n",
      "Epoch 15/50\n",
      "469/469 [==============================] - 2s 5ms/step - loss: 0.4391 - val_loss: 0.4401\n",
      "Epoch 16/50\n",
      "469/469 [==============================] - 2s 5ms/step - loss: 0.4342 - val_loss: 0.4350\n",
      "Epoch 17/50\n",
      "469/469 [==============================] - 3s 6ms/step - loss: 0.4289 - val_loss: 0.4295\n",
      "Epoch 18/50\n",
      "469/469 [==============================] - 2s 5ms/step - loss: 0.4232 - val_loss: 0.4236\n",
      "Epoch 19/50\n",
      "469/469 [==============================] - 2s 5ms/step - loss: 0.4170 - val_loss: 0.4170\n",
      "Epoch 20/50\n",
      "469/469 [==============================] - 2s 5ms/step - loss: 0.4101 - val_loss: 0.4095\n",
      "Epoch 21/50\n",
      "469/469 [==============================] - 2s 5ms/step - loss: 0.4023 - val_loss: 0.4011\n",
      "Epoch 22/50\n",
      "469/469 [==============================] - 2s 5ms/step - loss: 0.3933 - val_loss: 0.3913\n",
      "Epoch 23/50\n",
      "469/469 [==============================] - 2s 5ms/step - loss: 0.3830 - val_loss: 0.3804\n",
      "Epoch 24/50\n",
      "469/469 [==============================] - 3s 5ms/step - loss: 0.3722 - val_loss: 0.3697\n",
      "Epoch 25/50\n",
      "469/469 [==============================] - 2s 5ms/step - loss: 0.3622 - val_loss: 0.3602\n",
      "Epoch 26/50\n",
      "469/469 [==============================] - 2s 5ms/step - loss: 0.3534 - val_loss: 0.3518\n",
      "Epoch 27/50\n",
      "469/469 [==============================] - 3s 6ms/step - loss: 0.3456 - val_loss: 0.3444\n",
      "Epoch 28/50\n",
      "469/469 [==============================] - 2s 5ms/step - loss: 0.3387 - val_loss: 0.3377\n",
      "Epoch 29/50\n",
      "469/469 [==============================] - 2s 5ms/step - loss: 0.3324 - val_loss: 0.3315\n",
      "Epoch 30/50\n",
      "469/469 [==============================] - 2s 5ms/step - loss: 0.3264 - val_loss: 0.3256\n",
      "Epoch 31/50\n",
      "469/469 [==============================] - 3s 5ms/step - loss: 0.3208 - val_loss: 0.3200\n",
      "Epoch 32/50\n",
      "469/469 [==============================] - 3s 6ms/step - loss: 0.3154 - val_loss: 0.3146\n",
      "Epoch 33/50\n",
      "469/469 [==============================] - 2s 5ms/step - loss: 0.3102 - val_loss: 0.3094\n",
      "Epoch 34/50\n",
      "469/469 [==============================] - 3s 5ms/step - loss: 0.3053 - val_loss: 0.3045\n",
      "Epoch 35/50\n",
      "469/469 [==============================] - 3s 5ms/step - loss: 0.3005 - val_loss: 0.2997\n",
      "Epoch 36/50\n",
      "469/469 [==============================] - 2s 5ms/step - loss: 0.2959 - val_loss: 0.2951\n",
      "Epoch 37/50\n",
      "469/469 [==============================] - 3s 6ms/step - loss: 0.2914 - val_loss: 0.2906\n",
      "Epoch 38/50\n",
      "469/469 [==============================] - 2s 5ms/step - loss: 0.2871 - val_loss: 0.2861\n",
      "Epoch 39/50\n",
      "469/469 [==============================] - 2s 5ms/step - loss: 0.2828 - val_loss: 0.2818\n",
      "Epoch 40/50\n",
      "469/469 [==============================] - 3s 5ms/step - loss: 0.2786 - val_loss: 0.2775\n",
      "Epoch 41/50\n",
      "469/469 [==============================] - 3s 6ms/step - loss: 0.2745 - val_loss: 0.2734\n",
      "Epoch 42/50\n",
      "469/469 [==============================] - 2s 5ms/step - loss: 0.2705 - val_loss: 0.2693\n",
      "Epoch 43/50\n",
      "469/469 [==============================] - 2s 5ms/step - loss: 0.2666 - val_loss: 0.2654\n",
      "Epoch 44/50\n",
      "469/469 [==============================] - 2s 5ms/step - loss: 0.2628 - val_loss: 0.2617\n",
      "Epoch 45/50\n",
      "469/469 [==============================] - 2s 5ms/step - loss: 0.2593 - val_loss: 0.2581\n",
      "Epoch 46/50\n",
      "469/469 [==============================] - 2s 5ms/step - loss: 0.2558 - val_loss: 0.2547\n",
      "Epoch 47/50\n",
      "469/469 [==============================] - 2s 5ms/step - loss: 0.2526 - val_loss: 0.2515\n",
      "Epoch 48/50\n",
      "469/469 [==============================] - 2s 5ms/step - loss: 0.2496 - val_loss: 0.2485\n",
      "Epoch 49/50\n",
      "469/469 [==============================] - 2s 5ms/step - loss: 0.2468 - val_loss: 0.2458\n",
      "Epoch 50/50\n",
      "469/469 [==============================] - 3s 5ms/step - loss: 0.2441 - val_loss: 0.2432\n"
     ]
    },
    {
     "data": {
      "text/plain": [
       "<tensorflow.python.keras.callbacks.History at 0x7fe10b1edcd0>"
      ]
     },
     "execution_count": 20,
     "metadata": {},
     "output_type": "execute_result"
    }
   ],
   "source": [
    "# fit\n",
    "cnn_autoencoder.fit(\n",
    "    cnn_autoencoder_x_train, cnn_autoencoder_x_train,\n",
    "    epochs=epochs,\n",
    "    batch_size=batch_size,\n",
    "    shuffle=True,\n",
    "    validation_data=(cnn_autoencoder_x_test, cnn_autoencoder_x_test),\n",
    ")"
   ]
  },
  {
   "cell_type": "code",
   "execution_count": 21,
   "metadata": {
    "execution": {
     "iopub.execute_input": "2020-12-18T06:41:05.902208Z",
     "iopub.status.busy": "2020-12-18T06:41:05.901214Z",
     "iopub.status.idle": "2020-12-18T06:41:06.455971Z",
     "shell.execute_reply": "2020-12-18T06:41:06.454568Z"
    },
    "papermill": {
     "duration": 1.578644,
     "end_time": "2020-12-18T06:41:06.456182",
     "exception": false,
     "start_time": "2020-12-18T06:41:04.877538",
     "status": "completed"
    },
    "tags": []
   },
   "outputs": [],
   "source": [
    "# predict\n",
    "cnn_decoded_imgs = cnn_autoencoder.predict(cnn_autoencoder_x_test)"
   ]
  },
  {
   "cell_type": "code",
   "execution_count": 22,
   "metadata": {
    "execution": {
     "iopub.execute_input": "2020-12-18T06:41:08.509665Z",
     "iopub.status.busy": "2020-12-18T06:41:08.500586Z",
     "iopub.status.idle": "2020-12-18T06:41:09.262693Z",
     "shell.execute_reply": "2020-12-18T06:41:09.263373Z"
    },
    "papermill": {
     "duration": 1.791573,
     "end_time": "2020-12-18T06:41:09.263531",
     "exception": false,
     "start_time": "2020-12-18T06:41:07.471958",
     "status": "completed"
    },
    "tags": []
   },
   "outputs": [
    {
     "data": {
      "image/png": "[encoded data removed]",
      "text/plain": [
       "<Figure size 1440x288 with 20 Axes>"
      ]
     },
     "metadata": {
      "needs_background": "light"
     },
     "output_type": "display_data"
    }
   ],
   "source": [
    "# plot\n",
    "n = 10\n",
    "plt.figure(figsize=(20, 4))\n",
    "for i in range(n):\n",
    "    # show origin images\n",
    "    ax = plt.subplot(2, n, i+1)\n",
    "    plt.imshow(cnn_autoencoder_x_test[i].reshape(28, 28))\n",
    "    plt.gray()\n",
    "    ax.get_xaxis().set_visible(False)\n",
    "    ax.get_yaxis().set_visible(False)\n",
    "    \n",
    "    # show autoencoded images\n",
    "    ax = plt.subplot(2, n, i+1+n)\n",
    "    plt.imshow(cnn_decoded_imgs[i].reshape(28, 28))\n",
    "    plt.gray()\n",
    "    ax.get_xaxis().set_visible(False)\n",
    "    ax.get_yaxis().set_visible(False)\n",
    "plt.show()"
   ]
  },
  {
   "cell_type": "markdown",
   "metadata": {
    "papermill": {
     "duration": 1.032164,
     "end_time": "2020-12-18T06:41:11.407945",
     "exception": false,
     "start_time": "2020-12-18T06:41:10.375781",
     "status": "completed"
    },
    "tags": []
   },
   "source": [
    "## Model - CNN AutoEncoder(With Data Augmentation)\n",
    "\n",
    "\n",
    "* import keras dependencies\n",
    "* build auto-encoder model\n",
    "* build saparate model\n",
    "    * extract encoder\n",
    "    * extract decoder\n",
    "    * build decoder model\n",
    "    * compile, summary\n",
    "* combine to validate, predict\n",
    "* plot for check\n"
   ]
  },
  {
   "cell_type": "code",
   "execution_count": 23,
   "metadata": {
    "execution": {
     "iopub.execute_input": "2020-12-18T06:41:13.840667Z",
     "iopub.status.busy": "2020-12-18T06:41:13.839669Z",
     "iopub.status.idle": "2020-12-18T06:41:13.842132Z",
     "shell.execute_reply": "2020-12-18T06:41:13.841466Z"
    },
    "papermill": {
     "duration": 1.210847,
     "end_time": "2020-12-18T06:41:13.842281",
     "exception": false,
     "start_time": "2020-12-18T06:41:12.631434",
     "status": "completed"
    },
    "tags": []
   },
   "outputs": [],
   "source": [
    "# hyper-parameter\n",
    "epochs = 100\n",
    "batch_size = 128"
   ]
  },
  {
   "cell_type": "code",
   "execution_count": 24,
   "metadata": {
    "execution": {
     "iopub.execute_input": "2020-12-18T06:41:16.053375Z",
     "iopub.status.busy": "2020-12-18T06:41:16.052371Z",
     "iopub.status.idle": "2020-12-18T06:41:16.123169Z",
     "shell.execute_reply": "2020-12-18T06:41:16.122658Z"
    },
    "papermill": {
     "duration": 1.104424,
     "end_time": "2020-12-18T06:41:16.123293",
     "exception": false,
     "start_time": "2020-12-18T06:41:15.018869",
     "status": "completed"
    },
    "tags": []
   },
   "outputs": [],
   "source": [
    "# build model\n",
    "input_img = Input(shape=(28, 28, 1), name='cnn_autoencoder_input') \n",
    "# encoder\n",
    "x = Conv2D(32, (3, 3), activation='relu', padding='same', name='encoder_conv1')(input_img)\n",
    "x = MaxPooling2D((2, 2), padding='same', name='encoder_maxpooling1')(x)\n",
    "x = Conv2D(32, (3, 3), activation='relu', padding='same', name='encoder_conv2')(x)\n",
    "cnn_encoded = MaxPooling2D((2, 2), padding='same', name='encoder_maxpooling2')(x)\n",
    "# decoder\n",
    "x = Conv2D(32, (3, 3), activation='relu', padding='same', name='decoder_conv1')(cnn_encoded)\n",
    "x = UpSampling2D((2, 2), name='decoder_upsampling1')(x)\n",
    "x = Conv2D(32, (3, 3), activation='relu', padding='same', name='decoder_conv2')(x)\n",
    "x = UpSampling2D((2, 2), name='decoder_upsampling2')(x)\n",
    "cnn_decoded = Conv2D(1, (3, 3), activation='sigmoid', padding='same', name='decoder_output')(x)\n",
    "# autoencoder\n",
    "cnn_autoencoder = Model(input_img, cnn_decoded)"
   ]
  },
  {
   "cell_type": "code",
   "execution_count": 25,
   "metadata": {
    "execution": {
     "iopub.execute_input": "2020-12-18T06:41:18.137595Z",
     "iopub.status.busy": "2020-12-18T06:41:18.136685Z",
     "iopub.status.idle": "2020-12-18T06:41:18.154323Z",
     "shell.execute_reply": "2020-12-18T06:41:18.153827Z"
    },
    "papermill": {
     "duration": 1.029319,
     "end_time": "2020-12-18T06:41:18.154427",
     "exception": false,
     "start_time": "2020-12-18T06:41:17.125108",
     "status": "completed"
    },
    "tags": []
   },
   "outputs": [
    {
     "name": "stdout",
     "output_type": "stream",
     "text": [
      "Model: \"functional_9\"\n",
      "_________________________________________________________________\n",
      "Layer (type)                 Output Shape              Param #   \n",
      "=================================================================\n",
      "cnn_autoencoder_input (Input [(None, 28, 28, 1)]       0         \n",
      "_________________________________________________________________\n",
      "encoder_conv1 (Conv2D)       (None, 28, 28, 32)        320       \n",
      "_________________________________________________________________\n",
      "encoder_maxpooling1 (MaxPool (None, 14, 14, 32)        0         \n",
      "_________________________________________________________________\n",
      "encoder_conv2 (Conv2D)       (None, 14, 14, 32)        9248      \n",
      "_________________________________________________________________\n",
      "encoder_maxpooling2 (MaxPool (None, 7, 7, 32)          0         \n",
      "_________________________________________________________________\n",
      "decoder_conv1 (Conv2D)       (None, 7, 7, 32)          9248      \n",
      "_________________________________________________________________\n",
      "decoder_upsampling1 (UpSampl (None, 14, 14, 32)        0         \n",
      "_________________________________________________________________\n",
      "decoder_conv2 (Conv2D)       (None, 14, 14, 32)        9248      \n",
      "_________________________________________________________________\n",
      "decoder_upsampling2 (UpSampl (None, 28, 28, 32)        0         \n",
      "_________________________________________________________________\n",
      "decoder_output (Conv2D)      (None, 28, 28, 1)         289       \n",
      "=================================================================\n",
      "Total params: 28,353\n",
      "Trainable params: 28,353\n",
      "Non-trainable params: 0\n",
      "_________________________________________________________________\n"
     ]
    }
   ],
   "source": [
    "# compile and summary\n",
    "cnn_autoencoder.compile(optimizer='adadelta', loss='binary_crossentropy')\n",
    "cnn_autoencoder.summary()"
   ]
  },
  {
   "cell_type": "code",
   "execution_count": 26,
   "metadata": {
    "execution": {
     "iopub.execute_input": "2020-12-18T06:41:20.532447Z",
     "iopub.status.busy": "2020-12-18T06:41:20.531363Z",
     "iopub.status.idle": "2020-12-18T06:45:46.307274Z",
     "shell.execute_reply": "2020-12-18T06:45:46.289516Z"
    },
    "papermill": {
     "duration": 266.825745,
     "end_time": "2020-12-18T06:45:46.307423",
     "exception": false,
     "start_time": "2020-12-18T06:41:19.481678",
     "status": "completed"
    },
    "tags": []
   },
   "outputs": [
    {
     "name": "stdout",
     "output_type": "stream",
     "text": [
      "Epoch 1/100\n",
      "469/469 [==============================] - 3s 7ms/step - loss: 0.6740 - val_loss: 0.6626\n",
      "Epoch 2/100\n",
      "469/469 [==============================] - 3s 5ms/step - loss: 0.6393 - val_loss: 0.6099\n",
      "Epoch 3/100\n",
      "469/469 [==============================] - 3s 5ms/step - loss: 0.5691 - val_loss: 0.5345\n",
      "Epoch 4/100\n",
      "469/469 [==============================] - 3s 5ms/step - loss: 0.5164 - val_loss: 0.5117\n",
      "Epoch 5/100\n",
      "469/469 [==============================] - 3s 6ms/step - loss: 0.5042 - val_loss: 0.5042\n",
      "Epoch 6/100\n",
      "469/469 [==============================] - 3s 5ms/step - loss: 0.4968 - val_loss: 0.4967\n",
      "Epoch 7/100\n",
      "469/469 [==============================] - 2s 5ms/step - loss: 0.4891 - val_loss: 0.4889\n",
      "Epoch 8/100\n",
      "469/469 [==============================] - 2s 5ms/step - loss: 0.4814 - val_loss: 0.4811\n",
      "Epoch 9/100\n",
      "469/469 [==============================] - 3s 6ms/step - loss: 0.4735 - val_loss: 0.4728\n",
      "Epoch 10/100\n",
      "469/469 [==============================] - 3s 6ms/step - loss: 0.4650 - val_loss: 0.4638\n",
      "Epoch 11/100\n",
      "469/469 [==============================] - 2s 5ms/step - loss: 0.4554 - val_loss: 0.4535\n",
      "Epoch 12/100\n",
      "469/469 [==============================] - 3s 6ms/step - loss: 0.4445 - val_loss: 0.4417\n",
      "Epoch 13/100\n",
      "469/469 [==============================] - 3s 6ms/step - loss: 0.4320 - val_loss: 0.4281\n",
      "Epoch 14/100\n",
      "469/469 [==============================] - 3s 5ms/step - loss: 0.4175 - val_loss: 0.4122\n",
      "Epoch 15/100\n",
      "469/469 [==============================] - 3s 5ms/step - loss: 0.4003 - val_loss: 0.3932\n",
      "Epoch 16/100\n",
      "469/469 [==============================] - 3s 5ms/step - loss: 0.3799 - val_loss: 0.3708\n",
      "Epoch 17/100\n",
      "469/469 [==============================] - 3s 5ms/step - loss: 0.3560 - val_loss: 0.3447\n",
      "Epoch 18/100\n",
      "469/469 [==============================] - 3s 6ms/step - loss: 0.3293 - val_loss: 0.3172\n",
      "Epoch 19/100\n",
      "469/469 [==============================] - 2s 5ms/step - loss: 0.3030 - val_loss: 0.2917\n",
      "Epoch 20/100\n",
      "469/469 [==============================] - 2s 5ms/step - loss: 0.2799 - val_loss: 0.2707\n",
      "Epoch 21/100\n",
      "469/469 [==============================] - 2s 5ms/step - loss: 0.2618 - val_loss: 0.2548\n",
      "Epoch 22/100\n",
      "469/469 [==============================] - 3s 6ms/step - loss: 0.2479 - val_loss: 0.2424\n",
      "Epoch 23/100\n",
      "469/469 [==============================] - 3s 6ms/step - loss: 0.2371 - val_loss: 0.2326\n",
      "Epoch 24/100\n",
      "469/469 [==============================] - 3s 7ms/step - loss: 0.2284 - val_loss: 0.2246\n",
      "Epoch 25/100\n",
      "469/469 [==============================] - 3s 6ms/step - loss: 0.2214 - val_loss: 0.2181\n",
      "Epoch 26/100\n",
      "469/469 [==============================] - 3s 6ms/step - loss: 0.2155 - val_loss: 0.2126\n",
      "Epoch 27/100\n",
      "469/469 [==============================] - 3s 5ms/step - loss: 0.2105 - val_loss: 0.2079\n",
      "Epoch 28/100\n",
      "469/469 [==============================] - 2s 5ms/step - loss: 0.2062 - val_loss: 0.2037\n",
      "Epoch 29/100\n",
      "469/469 [==============================] - 2s 5ms/step - loss: 0.2024 - val_loss: 0.2001\n",
      "Epoch 30/100\n",
      "469/469 [==============================] - 3s 6ms/step - loss: 0.1991 - val_loss: 0.1969\n",
      "Epoch 31/100\n",
      "469/469 [==============================] - 2s 5ms/step - loss: 0.1961 - val_loss: 0.1940\n",
      "Epoch 32/100\n",
      "469/469 [==============================] - 2s 5ms/step - loss: 0.1934 - val_loss: 0.1914\n",
      "Epoch 33/100\n",
      "469/469 [==============================] - 2s 5ms/step - loss: 0.1909 - val_loss: 0.1890\n",
      "Epoch 34/100\n",
      "469/469 [==============================] - 3s 6ms/step - loss: 0.1888 - val_loss: 0.1869\n",
      "Epoch 35/100\n",
      "469/469 [==============================] - 3s 6ms/step - loss: 0.1868 - val_loss: 0.1850\n",
      "Epoch 36/100\n",
      "469/469 [==============================] - 3s 5ms/step - loss: 0.1851 - val_loss: 0.1833\n",
      "Epoch 37/100\n",
      "469/469 [==============================] - 3s 6ms/step - loss: 0.1834 - val_loss: 0.1817\n",
      "Epoch 38/100\n",
      "469/469 [==============================] - 3s 6ms/step - loss: 0.1819 - val_loss: 0.1802\n",
      "Epoch 39/100\n",
      "469/469 [==============================] - 3s 5ms/step - loss: 0.1805 - val_loss: 0.1789\n",
      "Epoch 40/100\n",
      "469/469 [==============================] - 2s 5ms/step - loss: 0.1792 - val_loss: 0.1776\n",
      "Epoch 41/100\n",
      "469/469 [==============================] - 2s 5ms/step - loss: 0.1780 - val_loss: 0.1765\n",
      "Epoch 42/100\n",
      "469/469 [==============================] - 2s 5ms/step - loss: 0.1769 - val_loss: 0.1754\n",
      "Epoch 43/100\n",
      "469/469 [==============================] - 3s 6ms/step - loss: 0.1759 - val_loss: 0.1743\n",
      "Epoch 44/100\n",
      "469/469 [==============================] - 2s 5ms/step - loss: 0.1749 - val_loss: 0.1733\n",
      "Epoch 45/100\n",
      "469/469 [==============================] - 3s 6ms/step - loss: 0.1739 - val_loss: 0.1724\n",
      "Epoch 46/100\n",
      "469/469 [==============================] - 3s 6ms/step - loss: 0.1730 - val_loss: 0.1715\n",
      "Epoch 47/100\n",
      "469/469 [==============================] - 3s 6ms/step - loss: 0.1722 - val_loss: 0.1707\n",
      "Epoch 48/100\n",
      "469/469 [==============================] - 3s 6ms/step - loss: 0.1714 - val_loss: 0.1699\n",
      "Epoch 49/100\n",
      "469/469 [==============================] - 3s 6ms/step - loss: 0.1706 - val_loss: 0.1691\n",
      "Epoch 50/100\n",
      "469/469 [==============================] - 3s 6ms/step - loss: 0.1698 - val_loss: 0.1683\n",
      "Epoch 51/100\n",
      "469/469 [==============================] - 3s 6ms/step - loss: 0.1691 - val_loss: 0.1676\n",
      "Epoch 52/100\n",
      "469/469 [==============================] - 2s 5ms/step - loss: 0.1683 - val_loss: 0.1668\n",
      "Epoch 53/100\n",
      "469/469 [==============================] - 2s 5ms/step - loss: 0.1676 - val_loss: 0.1661\n",
      "Epoch 54/100\n",
      "469/469 [==============================] - 2s 5ms/step - loss: 0.1669 - val_loss: 0.1654\n",
      "Epoch 55/100\n",
      "469/469 [==============================] - 3s 6ms/step - loss: 0.1662 - val_loss: 0.1647\n",
      "Epoch 56/100\n",
      "469/469 [==============================] - 2s 5ms/step - loss: 0.1655 - val_loss: 0.1640\n",
      "Epoch 57/100\n",
      "469/469 [==============================] - 2s 5ms/step - loss: 0.1649 - val_loss: 0.1634\n",
      "Epoch 58/100\n",
      "469/469 [==============================] - 3s 5ms/step - loss: 0.1642 - val_loss: 0.1627\n",
      "Epoch 59/100\n",
      "469/469 [==============================] - 2s 5ms/step - loss: 0.1636 - val_loss: 0.1621\n",
      "Epoch 60/100\n",
      "469/469 [==============================] - 3s 6ms/step - loss: 0.1630 - val_loss: 0.1615\n",
      "Epoch 61/100\n",
      "469/469 [==============================] - 3s 5ms/step - loss: 0.1624 - val_loss: 0.1609\n",
      "Epoch 62/100\n",
      "469/469 [==============================] - 3s 6ms/step - loss: 0.1618 - val_loss: 0.1604\n",
      "Epoch 63/100\n",
      "469/469 [==============================] - 3s 6ms/step - loss: 0.1613 - val_loss: 0.1598\n",
      "Epoch 64/100\n",
      "469/469 [==============================] - 3s 6ms/step - loss: 0.1607 - val_loss: 0.1593\n",
      "Epoch 65/100\n",
      "469/469 [==============================] - 2s 5ms/step - loss: 0.1602 - val_loss: 0.1588\n",
      "Epoch 66/100\n",
      "469/469 [==============================] - 2s 5ms/step - loss: 0.1597 - val_loss: 0.1583\n",
      "Epoch 67/100\n",
      "469/469 [==============================] - 2s 5ms/step - loss: 0.1592 - val_loss: 0.1578\n",
      "Epoch 68/100\n",
      "469/469 [==============================] - 3s 6ms/step - loss: 0.1587 - val_loss: 0.1573\n",
      "Epoch 69/100\n",
      "469/469 [==============================] - 3s 6ms/step - loss: 0.1583 - val_loss: 0.1568\n",
      "Epoch 70/100\n",
      "469/469 [==============================] - 3s 6ms/step - loss: 0.1578 - val_loss: 0.1563\n",
      "Epoch 71/100\n",
      "469/469 [==============================] - 3s 5ms/step - loss: 0.1573 - val_loss: 0.1559\n",
      "Epoch 72/100\n",
      "469/469 [==============================] - 3s 6ms/step - loss: 0.1569 - val_loss: 0.1554\n",
      "Epoch 73/100\n",
      "469/469 [==============================] - 3s 6ms/step - loss: 0.1564 - val_loss: 0.1550\n",
      "Epoch 74/100\n",
      "469/469 [==============================] - 3s 6ms/step - loss: 0.1560 - val_loss: 0.1545\n",
      "Epoch 75/100\n",
      "469/469 [==============================] - 3s 6ms/step - loss: 0.1555 - val_loss: 0.1541\n",
      "Epoch 76/100\n",
      "469/469 [==============================] - 3s 6ms/step - loss: 0.1551 - val_loss: 0.1537\n",
      "Epoch 77/100\n",
      "469/469 [==============================] - 3s 5ms/step - loss: 0.1547 - val_loss: 0.1532\n",
      "Epoch 78/100\n",
      "469/469 [==============================] - 3s 6ms/step - loss: 0.1543 - val_loss: 0.1528\n",
      "Epoch 79/100\n",
      "469/469 [==============================] - 3s 6ms/step - loss: 0.1539 - val_loss: 0.1524\n",
      "Epoch 80/100\n",
      "469/469 [==============================] - 3s 6ms/step - loss: 0.1535 - val_loss: 0.1520\n",
      "Epoch 81/100\n",
      "469/469 [==============================] - 3s 6ms/step - loss: 0.1531 - val_loss: 0.1516\n",
      "Epoch 82/100\n",
      "469/469 [==============================] - 2s 5ms/step - loss: 0.1527 - val_loss: 0.1512\n",
      "Epoch 83/100\n",
      "469/469 [==============================] - 2s 5ms/step - loss: 0.1523 - val_loss: 0.1509\n",
      "Epoch 84/100\n",
      "469/469 [==============================] - 2s 5ms/step - loss: 0.1520 - val_loss: 0.1505\n",
      "Epoch 85/100\n",
      "469/469 [==============================] - 3s 6ms/step - loss: 0.1516 - val_loss: 0.1501\n",
      "Epoch 86/100\n",
      "469/469 [==============================] - 3s 5ms/step - loss: 0.1512 - val_loss: 0.1498\n",
      "Epoch 87/100\n",
      "469/469 [==============================] - 3s 6ms/step - loss: 0.1509 - val_loss: 0.1494\n",
      "Epoch 88/100\n",
      "469/469 [==============================] - 3s 6ms/step - loss: 0.1505 - val_loss: 0.1490\n",
      "Epoch 89/100\n",
      "469/469 [==============================] - 3s 6ms/step - loss: 0.1502 - val_loss: 0.1487\n",
      "Epoch 90/100\n",
      "469/469 [==============================] - 2s 5ms/step - loss: 0.1498 - val_loss: 0.1484\n",
      "Epoch 91/100\n",
      "469/469 [==============================] - 3s 6ms/step - loss: 0.1495 - val_loss: 0.1480\n",
      "Epoch 92/100\n",
      "469/469 [==============================] - 3s 5ms/step - loss: 0.1492 - val_loss: 0.1477\n",
      "Epoch 93/100\n",
      "469/469 [==============================] - 3s 6ms/step - loss: 0.1489 - val_loss: 0.1474\n",
      "Epoch 94/100\n",
      "469/469 [==============================] - 3s 5ms/step - loss: 0.1485 - val_loss: 0.1471\n",
      "Epoch 95/100\n",
      "469/469 [==============================] - 2s 5ms/step - loss: 0.1482 - val_loss: 0.1467\n",
      "Epoch 96/100\n",
      "469/469 [==============================] - 2s 5ms/step - loss: 0.1479 - val_loss: 0.1464\n",
      "Epoch 97/100\n",
      "469/469 [==============================] - 3s 6ms/step - loss: 0.1476 - val_loss: 0.1461\n",
      "Epoch 98/100\n",
      "469/469 [==============================] - 3s 6ms/step - loss: 0.1473 - val_loss: 0.1458\n",
      "Epoch 99/100\n",
      "469/469 [==============================] - 2s 5ms/step - loss: 0.1470 - val_loss: 0.1455\n",
      "Epoch 100/100\n",
      "469/469 [==============================] - 3s 6ms/step - loss: 0.1467 - val_loss: 0.1452\n"
     ]
    },
    {
     "data": {
      "text/plain": [
       "<tensorflow.python.keras.callbacks.History at 0x7fe0e5cea110>"
      ]
     },
     "execution_count": 26,
     "metadata": {},
     "output_type": "execute_result"
    }
   ],
   "source": [
    "# fit\n",
    "cnn_autoencoder.fit(\n",
    "    x_train_noisy, x_train,\n",
    "    epochs=epochs,\n",
    "    batch_size=batch_size,\n",
    "    shuffle=True,\n",
    "    validation_data=(x_test_noisy, x_test),\n",
    ")"
   ]
  },
  {
   "cell_type": "code",
   "execution_count": 27,
   "metadata": {
    "execution": {
     "iopub.execute_input": "2020-12-18T06:45:51.662594Z",
     "iopub.status.busy": "2020-12-18T06:45:51.661606Z",
     "iopub.status.idle": "2020-12-18T06:45:52.124603Z",
     "shell.execute_reply": "2020-12-18T06:45:52.123923Z"
    },
    "papermill": {
     "duration": 3.000292,
     "end_time": "2020-12-18T06:45:52.124749",
     "exception": false,
     "start_time": "2020-12-18T06:45:49.124457",
     "status": "completed"
    },
    "tags": []
   },
   "outputs": [],
   "source": [
    "# predict\n",
    "noisy_decoded_imgs = cnn_autoencoder.predict(x_test)"
   ]
  },
  {
   "cell_type": "code",
   "execution_count": 28,
   "metadata": {
    "execution": {
     "iopub.execute_input": "2020-12-18T06:45:57.264073Z",
     "iopub.status.busy": "2020-12-18T06:45:57.262438Z",
     "iopub.status.idle": "2020-12-18T06:45:58.427242Z",
     "shell.execute_reply": "2020-12-18T06:45:58.426355Z"
    },
    "papermill": {
     "duration": 3.75144,
     "end_time": "2020-12-18T06:45:58.427357",
     "exception": false,
     "start_time": "2020-12-18T06:45:54.675917",
     "status": "completed"
    },
    "tags": []
   },
   "outputs": [
    {
     "data": {
      "image/png": "[encoded data removed]",
      "text/plain": [
       "<Figure size 1440x288 with 20 Axes>"
      ]
     },
     "metadata": {
      "needs_background": "light"
     },
     "output_type": "display_data"
    }
   ],
   "source": [
    "# plot\n",
    "n = 10\n",
    "plt.figure(figsize=(20, 4))\n",
    "for i in range(n):\n",
    "    # show origin images\n",
    "    ax = plt.subplot(2, n, i+1)\n",
    "    plt.imshow(x_test[i].reshape(28, 28))\n",
    "    plt.gray()\n",
    "    ax.get_xaxis().set_visible(False)\n",
    "    ax.get_yaxis().set_visible(False)\n",
    "    \n",
    "    # show autoencoded images\n",
    "    ax = plt.subplot(2, n, i+1+n)\n",
    "    plt.imshow(noisy_decoded_imgs[i].reshape(28, 28))\n",
    "    plt.gray()\n",
    "    ax.get_xaxis().set_visible(False)\n",
    "    ax.get_yaxis().set_visible(False)\n",
    "plt.show()"
   ]
  },
  {
   "cell_type": "code",
   "execution_count": null,
   "metadata": {
    "papermill": {
     "duration": 2.557734,
     "end_time": "2020-12-18T06:46:03.577088",
     "exception": false,
     "start_time": "2020-12-18T06:46:01.019354",
     "status": "completed"
    },
    "tags": []
   },
   "outputs": [],
   "source": []
  }
 ],
 "metadata": {
  "kernelspec": {
   "display_name": "Python 3",
   "language": "python",
   "name": "python3"
  },
  "language_info": {
   "codemirror_mode": {
    "name": "ipython",
    "version": 3
   },
   "file_extension": ".py",
   "mimetype": "text/x-python",
   "name": "python",
   "nbconvert_exporter": "python",
   "pygments_lexer": "ipython3",
   "version": "3.7.6"
  },
  "papermill": {
   "duration": 492.509749,
   "end_time": "2020-12-18T06:46:07.737849",
   "environment_variables": {},
   "exception": null,
   "input_path": "__notebook__.ipynb",
   "output_path": "__notebook__.ipynb",
   "parameters": {},
   "start_time": "2020-12-18T06:37:55.228100",
   "version": "2.1.0"
  }
 },
 "nbformat": 4,
 "nbformat_minor": 4
}
