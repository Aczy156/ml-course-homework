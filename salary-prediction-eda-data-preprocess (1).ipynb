{
 "cells": [
  {
   "cell_type": "markdown",
   "metadata": {
    "papermill": {
     "duration": 0.029235,
     "end_time": "2020-11-05T17:01:09.089098",
     "exception": false,
     "start_time": "2020-11-05T17:01:09.059863",
     "status": "completed"
    },
    "tags": []
   },
   "source": [
    "## prework\n",
    "\n",
    "* load basic dependencies\n",
    "* load data\n",
    "* check data"
   ]
  },
  {
   "cell_type": "code",
   "execution_count": 1,
   "metadata": {
    "_cell_guid": "b1076dfc-b9ad-4769-8c92-a6c4dae69d19",
    "_uuid": "8f2839f25d086af736a60e9eeb907d3b93b6e0e5",
    "execution": {
     "iopub.execute_input": "2020-11-05T17:01:09.153554Z",
     "iopub.status.busy": "2020-11-05T17:01:09.152580Z",
     "iopub.status.idle": "2020-11-05T17:01:09.167484Z",
     "shell.execute_reply": "2020-11-05T17:01:09.166757Z"
    },
    "papermill": {
     "duration": 0.050359,
     "end_time": "2020-11-05T17:01:09.167622",
     "exception": false,
     "start_time": "2020-11-05T17:01:09.117263",
     "status": "completed"
    },
    "tags": []
   },
   "outputs": [
    {
     "name": "stdout",
     "output_type": "stream",
     "text": [
      "/kaggle/input/salary-prediction/train.csv\n",
      "/kaggle/input/salary-prediction/test.csv\n"
     ]
    }
   ],
   "source": [
    "# This Python 3 environment comes with many helpful analytics libraries installed\n",
    "# It is defined by the kaggle/python Docker image: https://github.com/kaggle/docker-python\n",
    "# For example, here's several helpful packages to load\n",
    "\n",
    "import numpy as np # linear algebra\n",
    "import pandas as pd # data processing, CSV file I/O (e.g. pd.read_csv)\n",
    "\n",
    "# Input data files are available in the read-only \"../input/\" directory\n",
    "# For example, running this (by clicking run or pressing Shift+Enter) will list all files under the input directory\n",
    "\n",
    "import os\n",
    "for dirname, _, filenames in os.walk('/kaggle/input'):\n",
    "    for filename in filenames:\n",
    "        print(os.path.join(dirname, filename))\n",
    "\n",
    "# You can write up to 20GB to the current directory (/kaggle/working/) that gets preserved as output when you create a version using \"Save & Run All\" \n",
    "# You can also write temporary files to /kaggle/temp/, but they won't be saved outside of the current session"
   ]
  },
  {
   "cell_type": "code",
   "execution_count": 2,
   "metadata": {
    "_cell_guid": "79c7e3d0-c299-4dcb-8224-4455121ee9b0",
    "_uuid": "d629ff2d2480ee46fbb7e2d37f6b5fab8052498a",
    "execution": {
     "iopub.execute_input": "2020-11-05T17:01:09.235015Z",
     "iopub.status.busy": "2020-11-05T17:01:09.234221Z",
     "iopub.status.idle": "2020-11-05T17:01:10.383418Z",
     "shell.execute_reply": "2020-11-05T17:01:10.382523Z"
    },
    "papermill": {
     "duration": 1.186655,
     "end_time": "2020-11-05T17:01:10.383558",
     "exception": false,
     "start_time": "2020-11-05T17:01:09.196903",
     "status": "completed"
    },
    "tags": []
   },
   "outputs": [],
   "source": [
    "import matplotlib.pyplot as plt\n",
    "%matplotlib inline\n",
    "import seaborn as sns\n",
    "from numpy.linalg import inv, qr"
   ]
  },
  {
   "cell_type": "code",
   "execution_count": 3,
   "metadata": {
    "execution": {
     "iopub.execute_input": "2020-11-05T17:01:10.448556Z",
     "iopub.status.busy": "2020-11-05T17:01:10.447691Z",
     "iopub.status.idle": "2020-11-05T17:01:10.636090Z",
     "shell.execute_reply": "2020-11-05T17:01:10.635316Z"
    },
    "papermill": {
     "duration": 0.223762,
     "end_time": "2020-11-05T17:01:10.636225",
     "exception": false,
     "start_time": "2020-11-05T17:01:10.412463",
     "status": "completed"
    },
    "tags": []
   },
   "outputs": [
    {
     "data": {
      "text/plain": [
       "((32561, 15), (16281, 14))"
      ]
     },
     "execution_count": 3,
     "metadata": {},
     "output_type": "execute_result"
    }
   ],
   "source": [
    "train = pd.read_csv('/kaggle/input/salary-prediction/train.csv')\n",
    "test = pd.read_csv('/kaggle/input/salary-prediction/test.csv')\n",
    "train.shape, test.shape"
   ]
  },
  {
   "cell_type": "code",
   "execution_count": 4,
   "metadata": {
    "execution": {
     "iopub.execute_input": "2020-11-05T17:01:10.707109Z",
     "iopub.status.busy": "2020-11-05T17:01:10.706317Z",
     "iopub.status.idle": "2020-11-05T17:01:10.839252Z",
     "shell.execute_reply": "2020-11-05T17:01:10.838455Z"
    },
    "papermill": {
     "duration": 0.173742,
     "end_time": "2020-11-05T17:01:10.839401",
     "exception": false,
     "start_time": "2020-11-05T17:01:10.665659",
     "status": "completed"
    },
    "tags": []
   },
   "outputs": [
    {
     "name": "stdout",
     "output_type": "stream",
     "text": [
      "data shape is: (32561, 15)   sample number 32561   attribute number 15\n",
      "\n",
      "data columns number 15  \n",
      "all columns: Index(['age', 'workclass', 'fnlwgt', 'education', 'education_num',\n",
      "       'marital_status', 'occupation', 'relationship', 'race', 'sex',\n",
      "       'capital_gain', 'capital_loss', 'hours_per_week', 'native_country',\n",
      "       'income'],\n",
      "      dtype='object')\n",
      "\n",
      "data all attribute count null:\n",
      " age               0\n",
      "workclass         0\n",
      "fnlwgt            0\n",
      "education         0\n",
      "education_num     0\n",
      "marital_status    0\n",
      "occupation        0\n",
      "relationship      0\n",
      "race              0\n",
      "sex               0\n",
      "capital_gain      0\n",
      "capital_loss      0\n",
      "hours_per_week    0\n",
      "native_country    0\n",
      "income            0\n",
      "dtype: int64\n",
      "data value analysis:                  age        fnlwgt  education_num  capital_gain  capital_loss  \\\n",
      "count  32561.000000  3.256100e+04   32561.000000  32561.000000  32561.000000   \n",
      "mean      38.581647  1.897784e+05      10.080679   1077.648844     87.303830   \n",
      "std       13.640433  1.055500e+05       2.572720   7385.292085    402.960219   \n",
      "min       17.000000  1.228500e+04       1.000000      0.000000      0.000000   \n",
      "25%       28.000000  1.178270e+05       9.000000      0.000000      0.000000   \n",
      "50%       37.000000  1.783560e+05      10.000000      0.000000      0.000000   \n",
      "75%       48.000000  2.370510e+05      12.000000      0.000000      0.000000   \n",
      "max       90.000000  1.484705e+06      16.000000  99999.000000   4356.000000   \n",
      "\n",
      "       hours_per_week  \n",
      "count    32561.000000  \n",
      "mean        40.437456  \n",
      "std         12.347429  \n",
      "min          1.000000  \n",
      "25%         40.000000  \n",
      "50%         40.000000  \n",
      "75%         45.000000  \n",
      "max         99.000000  \n",
      "data demo without matrix transpose:     age          workclass  fnlwgt   education  education_num  \\\n",
      "0   39          State-gov   77516   Bachelors             13   \n",
      "1   50   Self-emp-not-inc   83311   Bachelors             13   \n",
      "2   38            Private  215646     HS-grad              9   \n",
      "3   53            Private  234721        11th              7   \n",
      "4   28            Private  338409   Bachelors             13   \n",
      "\n",
      "        marital_status          occupation    relationship    race      sex  \\\n",
      "0        Never-married        Adm-clerical   Not-in-family   White     Male   \n",
      "1   Married-civ-spouse     Exec-managerial         Husband   White     Male   \n",
      "2             Divorced   Handlers-cleaners   Not-in-family   White     Male   \n",
      "3   Married-civ-spouse   Handlers-cleaners         Husband   Black     Male   \n",
      "4   Married-civ-spouse      Prof-specialty            Wife   Black   Female   \n",
      "\n",
      "   capital_gain  capital_loss  hours_per_week  native_country  income  \n",
      "0          2174             0              40   United-States   <=50K  \n",
      "1             0             0              13   United-States   <=50K  \n",
      "2             0             0              40   United-States   <=50K  \n",
      "3             0             0              40   United-States   <=50K  \n",
      "4             0             0              40            Cuba   <=50K  \n",
      "data shape is: (16281, 14)   sample number 16281   attribute number 14\n",
      "\n",
      "data columns number 14  \n",
      "all columns: Index(['age', 'workclass', 'fnlwgt', 'education', 'education_num',\n",
      "       'marital_status', 'occupation', 'relationship', 'race', 'sex',\n",
      "       'capital_gain', 'capital_loss', 'hours_per_week', 'native_country'],\n",
      "      dtype='object')\n",
      "\n",
      "data all attribute count null:\n",
      " age               0\n",
      "workclass         0\n",
      "fnlwgt            0\n",
      "education         0\n",
      "education_num     0\n",
      "marital_status    0\n",
      "occupation        0\n",
      "relationship      0\n",
      "race              0\n",
      "sex               0\n",
      "capital_gain      0\n",
      "capital_loss      0\n",
      "hours_per_week    0\n",
      "native_country    0\n",
      "dtype: int64\n",
      "data value analysis:                  age        fnlwgt  education_num  capital_gain  capital_loss  \\\n",
      "count  16281.000000  1.628100e+04   16281.000000  16281.000000  16281.000000   \n",
      "mean      38.767459  1.894357e+05      10.072907   1081.905104     87.899269   \n",
      "std       13.849187  1.057149e+05       2.567545   7583.935968    403.105286   \n",
      "min       17.000000  1.349200e+04       1.000000      0.000000      0.000000   \n",
      "25%       28.000000  1.167360e+05       9.000000      0.000000      0.000000   \n",
      "50%       37.000000  1.778310e+05      10.000000      0.000000      0.000000   \n",
      "75%       48.000000  2.383840e+05      12.000000      0.000000      0.000000   \n",
      "max       90.000000  1.490400e+06      16.000000  99999.000000   3770.000000   \n",
      "\n",
      "       hours_per_week  \n",
      "count    16281.000000  \n",
      "mean        40.392236  \n",
      "std         12.479332  \n",
      "min          1.000000  \n",
      "25%         40.000000  \n",
      "50%         40.000000  \n",
      "75%         45.000000  \n",
      "max         99.000000  \n",
      "data demo without matrix transpose:     age   workclass  fnlwgt      education  education_num       marital_status  \\\n",
      "0   25     Private  226802           11th              7        Never-married   \n",
      "1   38     Private   89814        HS-grad              9   Married-civ-spouse   \n",
      "2   28   Local-gov  336951     Assoc-acdm             12   Married-civ-spouse   \n",
      "3   44     Private  160323   Some-college             10   Married-civ-spouse   \n",
      "4   18           ?  103497   Some-college             10        Never-married   \n",
      "\n",
      "           occupation relationship    race      sex  capital_gain  \\\n",
      "0   Machine-op-inspct    Own-child   Black     Male             0   \n",
      "1     Farming-fishing      Husband   White     Male             0   \n",
      "2     Protective-serv      Husband   White     Male             0   \n",
      "3   Machine-op-inspct      Husband   Black     Male          7688   \n",
      "4                   ?    Own-child   White   Female             0   \n",
      "\n",
      "   capital_loss  hours_per_week  native_country  \n",
      "0             0              40   United-States  \n",
      "1             0              50   United-States  \n",
      "2             0              40   United-States  \n",
      "3             0              40   United-States  \n",
      "4             0              30   United-States  \n"
     ]
    }
   ],
   "source": [
    "# check data\n",
    "def show_info(data, is_matrix_transpose=False):\n",
    "    # basic shape\n",
    "    print('data shape is: {}   sample number {}   attribute number {}\\n'.format(data.shape, data.shape[0], data.shape[1]))\n",
    "    # attribute(key)\n",
    "    print('data columns number {}  \\nall columns: {}\\n'.format(len(data.columns) ,data.columns))\n",
    "    # value's null\n",
    "    print('data all attribute count null:\\n', data.isna().sum())\n",
    "    # data value analysis and data demo\n",
    "    if is_matrix_transpose:\n",
    "        print('data value analysis: ', data.describe().T)\n",
    "        print('data demo without matrix transpose: ', data.head().T)\n",
    "    else:\n",
    "        print('data value analysis: ', data.describe())\n",
    "        print('data demo without matrix transpose: ', data.head())\n",
    "show_info(train)\n",
    "show_info(test)"
   ]
  },
  {
   "cell_type": "code",
   "execution_count": 5,
   "metadata": {
    "execution": {
     "iopub.execute_input": "2020-11-05T17:01:10.913458Z",
     "iopub.status.busy": "2020-11-05T17:01:10.912202Z",
     "iopub.status.idle": "2020-11-05T17:01:10.927132Z",
     "shell.execute_reply": "2020-11-05T17:01:10.926309Z"
    },
    "papermill": {
     "duration": 0.05775,
     "end_time": "2020-11-05T17:01:10.927264",
     "exception": false,
     "start_time": "2020-11-05T17:01:10.869514",
     "status": "completed"
    },
    "tags": []
   },
   "outputs": [
    {
     "data": {
      "text/html": [
       "<div>\n",
       "<style scoped>\n",
       "    .dataframe tbody tr th:only-of-type {\n",
       "        vertical-align: middle;\n",
       "    }\n",
       "\n",
       "    .dataframe tbody tr th {\n",
       "        vertical-align: top;\n",
       "    }\n",
       "\n",
       "    .dataframe thead th {\n",
       "        text-align: right;\n",
       "    }\n",
       "</style>\n",
       "<table border=\"1\" class=\"dataframe\">\n",
       "  <thead>\n",
       "    <tr style=\"text-align: right;\">\n",
       "      <th></th>\n",
       "      <th>age</th>\n",
       "      <th>workclass</th>\n",
       "      <th>fnlwgt</th>\n",
       "      <th>education</th>\n",
       "      <th>education_num</th>\n",
       "      <th>marital_status</th>\n",
       "      <th>occupation</th>\n",
       "      <th>relationship</th>\n",
       "      <th>race</th>\n",
       "      <th>sex</th>\n",
       "      <th>capital_gain</th>\n",
       "      <th>capital_loss</th>\n",
       "      <th>hours_per_week</th>\n",
       "      <th>native_country</th>\n",
       "      <th>income</th>\n",
       "    </tr>\n",
       "  </thead>\n",
       "  <tbody>\n",
       "    <tr>\n",
       "      <th>0</th>\n",
       "      <td>39</td>\n",
       "      <td>State-gov</td>\n",
       "      <td>77516</td>\n",
       "      <td>Bachelors</td>\n",
       "      <td>13</td>\n",
       "      <td>Never-married</td>\n",
       "      <td>Adm-clerical</td>\n",
       "      <td>Not-in-family</td>\n",
       "      <td>White</td>\n",
       "      <td>Male</td>\n",
       "      <td>2174</td>\n",
       "      <td>0</td>\n",
       "      <td>40</td>\n",
       "      <td>United-States</td>\n",
       "      <td>&lt;=50K</td>\n",
       "    </tr>\n",
       "    <tr>\n",
       "      <th>1</th>\n",
       "      <td>50</td>\n",
       "      <td>Self-emp-not-inc</td>\n",
       "      <td>83311</td>\n",
       "      <td>Bachelors</td>\n",
       "      <td>13</td>\n",
       "      <td>Married-civ-spouse</td>\n",
       "      <td>Exec-managerial</td>\n",
       "      <td>Husband</td>\n",
       "      <td>White</td>\n",
       "      <td>Male</td>\n",
       "      <td>0</td>\n",
       "      <td>0</td>\n",
       "      <td>13</td>\n",
       "      <td>United-States</td>\n",
       "      <td>&lt;=50K</td>\n",
       "    </tr>\n",
       "    <tr>\n",
       "      <th>2</th>\n",
       "      <td>38</td>\n",
       "      <td>Private</td>\n",
       "      <td>215646</td>\n",
       "      <td>HS-grad</td>\n",
       "      <td>9</td>\n",
       "      <td>Divorced</td>\n",
       "      <td>Handlers-cleaners</td>\n",
       "      <td>Not-in-family</td>\n",
       "      <td>White</td>\n",
       "      <td>Male</td>\n",
       "      <td>0</td>\n",
       "      <td>0</td>\n",
       "      <td>40</td>\n",
       "      <td>United-States</td>\n",
       "      <td>&lt;=50K</td>\n",
       "    </tr>\n",
       "    <tr>\n",
       "      <th>3</th>\n",
       "      <td>53</td>\n",
       "      <td>Private</td>\n",
       "      <td>234721</td>\n",
       "      <td>11th</td>\n",
       "      <td>7</td>\n",
       "      <td>Married-civ-spouse</td>\n",
       "      <td>Handlers-cleaners</td>\n",
       "      <td>Husband</td>\n",
       "      <td>Black</td>\n",
       "      <td>Male</td>\n",
       "      <td>0</td>\n",
       "      <td>0</td>\n",
       "      <td>40</td>\n",
       "      <td>United-States</td>\n",
       "      <td>&lt;=50K</td>\n",
       "    </tr>\n",
       "    <tr>\n",
       "      <th>4</th>\n",
       "      <td>28</td>\n",
       "      <td>Private</td>\n",
       "      <td>338409</td>\n",
       "      <td>Bachelors</td>\n",
       "      <td>13</td>\n",
       "      <td>Married-civ-spouse</td>\n",
       "      <td>Prof-specialty</td>\n",
       "      <td>Wife</td>\n",
       "      <td>Black</td>\n",
       "      <td>Female</td>\n",
       "      <td>0</td>\n",
       "      <td>0</td>\n",
       "      <td>40</td>\n",
       "      <td>Cuba</td>\n",
       "      <td>&lt;=50K</td>\n",
       "    </tr>\n",
       "  </tbody>\n",
       "</table>\n",
       "</div>"
      ],
      "text/plain": [
       "   age          workclass  fnlwgt   education  education_num  \\\n",
       "0   39          State-gov   77516   Bachelors             13   \n",
       "1   50   Self-emp-not-inc   83311   Bachelors             13   \n",
       "2   38            Private  215646     HS-grad              9   \n",
       "3   53            Private  234721        11th              7   \n",
       "4   28            Private  338409   Bachelors             13   \n",
       "\n",
       "        marital_status          occupation    relationship    race      sex  \\\n",
       "0        Never-married        Adm-clerical   Not-in-family   White     Male   \n",
       "1   Married-civ-spouse     Exec-managerial         Husband   White     Male   \n",
       "2             Divorced   Handlers-cleaners   Not-in-family   White     Male   \n",
       "3   Married-civ-spouse   Handlers-cleaners         Husband   Black     Male   \n",
       "4   Married-civ-spouse      Prof-specialty            Wife   Black   Female   \n",
       "\n",
       "   capital_gain  capital_loss  hours_per_week  native_country  income  \n",
       "0          2174             0              40   United-States   <=50K  \n",
       "1             0             0              13   United-States   <=50K  \n",
       "2             0             0              40   United-States   <=50K  \n",
       "3             0             0              40   United-States   <=50K  \n",
       "4             0             0              40            Cuba   <=50K  "
      ]
     },
     "execution_count": 5,
     "metadata": {},
     "output_type": "execute_result"
    }
   ],
   "source": [
    "train.head()"
   ]
  },
  {
   "cell_type": "code",
   "execution_count": 6,
   "metadata": {
    "execution": {
     "iopub.execute_input": "2020-11-05T17:01:11.010828Z",
     "iopub.status.busy": "2020-11-05T17:01:11.009673Z",
     "iopub.status.idle": "2020-11-05T17:01:11.014417Z",
     "shell.execute_reply": "2020-11-05T17:01:11.013650Z"
    },
    "papermill": {
     "duration": 0.055513,
     "end_time": "2020-11-05T17:01:11.014558",
     "exception": false,
     "start_time": "2020-11-05T17:01:10.959045",
     "status": "completed"
    },
    "tags": []
   },
   "outputs": [
    {
     "data": {
      "text/html": [
       "<div>\n",
       "<style scoped>\n",
       "    .dataframe tbody tr th:only-of-type {\n",
       "        vertical-align: middle;\n",
       "    }\n",
       "\n",
       "    .dataframe tbody tr th {\n",
       "        vertical-align: top;\n",
       "    }\n",
       "\n",
       "    .dataframe thead th {\n",
       "        text-align: right;\n",
       "    }\n",
       "</style>\n",
       "<table border=\"1\" class=\"dataframe\">\n",
       "  <thead>\n",
       "    <tr style=\"text-align: right;\">\n",
       "      <th></th>\n",
       "      <th>age</th>\n",
       "      <th>workclass</th>\n",
       "      <th>fnlwgt</th>\n",
       "      <th>education</th>\n",
       "      <th>education_num</th>\n",
       "      <th>marital_status</th>\n",
       "      <th>occupation</th>\n",
       "      <th>relationship</th>\n",
       "      <th>race</th>\n",
       "      <th>sex</th>\n",
       "      <th>capital_gain</th>\n",
       "      <th>capital_loss</th>\n",
       "      <th>hours_per_week</th>\n",
       "      <th>native_country</th>\n",
       "    </tr>\n",
       "  </thead>\n",
       "  <tbody>\n",
       "    <tr>\n",
       "      <th>0</th>\n",
       "      <td>25</td>\n",
       "      <td>Private</td>\n",
       "      <td>226802</td>\n",
       "      <td>11th</td>\n",
       "      <td>7</td>\n",
       "      <td>Never-married</td>\n",
       "      <td>Machine-op-inspct</td>\n",
       "      <td>Own-child</td>\n",
       "      <td>Black</td>\n",
       "      <td>Male</td>\n",
       "      <td>0</td>\n",
       "      <td>0</td>\n",
       "      <td>40</td>\n",
       "      <td>United-States</td>\n",
       "    </tr>\n",
       "    <tr>\n",
       "      <th>1</th>\n",
       "      <td>38</td>\n",
       "      <td>Private</td>\n",
       "      <td>89814</td>\n",
       "      <td>HS-grad</td>\n",
       "      <td>9</td>\n",
       "      <td>Married-civ-spouse</td>\n",
       "      <td>Farming-fishing</td>\n",
       "      <td>Husband</td>\n",
       "      <td>White</td>\n",
       "      <td>Male</td>\n",
       "      <td>0</td>\n",
       "      <td>0</td>\n",
       "      <td>50</td>\n",
       "      <td>United-States</td>\n",
       "    </tr>\n",
       "    <tr>\n",
       "      <th>2</th>\n",
       "      <td>28</td>\n",
       "      <td>Local-gov</td>\n",
       "      <td>336951</td>\n",
       "      <td>Assoc-acdm</td>\n",
       "      <td>12</td>\n",
       "      <td>Married-civ-spouse</td>\n",
       "      <td>Protective-serv</td>\n",
       "      <td>Husband</td>\n",
       "      <td>White</td>\n",
       "      <td>Male</td>\n",
       "      <td>0</td>\n",
       "      <td>0</td>\n",
       "      <td>40</td>\n",
       "      <td>United-States</td>\n",
       "    </tr>\n",
       "    <tr>\n",
       "      <th>3</th>\n",
       "      <td>44</td>\n",
       "      <td>Private</td>\n",
       "      <td>160323</td>\n",
       "      <td>Some-college</td>\n",
       "      <td>10</td>\n",
       "      <td>Married-civ-spouse</td>\n",
       "      <td>Machine-op-inspct</td>\n",
       "      <td>Husband</td>\n",
       "      <td>Black</td>\n",
       "      <td>Male</td>\n",
       "      <td>7688</td>\n",
       "      <td>0</td>\n",
       "      <td>40</td>\n",
       "      <td>United-States</td>\n",
       "    </tr>\n",
       "    <tr>\n",
       "      <th>4</th>\n",
       "      <td>18</td>\n",
       "      <td>?</td>\n",
       "      <td>103497</td>\n",
       "      <td>Some-college</td>\n",
       "      <td>10</td>\n",
       "      <td>Never-married</td>\n",
       "      <td>?</td>\n",
       "      <td>Own-child</td>\n",
       "      <td>White</td>\n",
       "      <td>Female</td>\n",
       "      <td>0</td>\n",
       "      <td>0</td>\n",
       "      <td>30</td>\n",
       "      <td>United-States</td>\n",
       "    </tr>\n",
       "  </tbody>\n",
       "</table>\n",
       "</div>"
      ],
      "text/plain": [
       "   age   workclass  fnlwgt      education  education_num       marital_status  \\\n",
       "0   25     Private  226802           11th              7        Never-married   \n",
       "1   38     Private   89814        HS-grad              9   Married-civ-spouse   \n",
       "2   28   Local-gov  336951     Assoc-acdm             12   Married-civ-spouse   \n",
       "3   44     Private  160323   Some-college             10   Married-civ-spouse   \n",
       "4   18           ?  103497   Some-college             10        Never-married   \n",
       "\n",
       "           occupation relationship    race      sex  capital_gain  \\\n",
       "0   Machine-op-inspct    Own-child   Black     Male             0   \n",
       "1     Farming-fishing      Husband   White     Male             0   \n",
       "2     Protective-serv      Husband   White     Male             0   \n",
       "3   Machine-op-inspct      Husband   Black     Male          7688   \n",
       "4                   ?    Own-child   White   Female             0   \n",
       "\n",
       "   capital_loss  hours_per_week  native_country  \n",
       "0             0              40   United-States  \n",
       "1             0              50   United-States  \n",
       "2             0              40   United-States  \n",
       "3             0              40   United-States  \n",
       "4             0              30   United-States  "
      ]
     },
     "execution_count": 6,
     "metadata": {},
     "output_type": "execute_result"
    }
   ],
   "source": [
    "test.head()"
   ]
  },
  {
   "cell_type": "markdown",
   "metadata": {
    "papermill": {
     "duration": 0.034634,
     "end_time": "2020-11-05T17:01:11.088307",
     "exception": false,
     "start_time": "2020-11-05T17:01:11.053673",
     "status": "completed"
    },
    "tags": []
   },
   "source": [
    "## data preprocessing\n",
    "\n",
    "* extract target column\n",
    "* encoding\n",
    "    * concat\n",
    "    * select categorical data and numerical data\n",
    "    * encode columns\n",
    "    * split train and test"
   ]
  },
  {
   "cell_type": "code",
   "execution_count": 7,
   "metadata": {
    "execution": {
     "iopub.execute_input": "2020-11-05T17:01:11.188477Z",
     "iopub.status.busy": "2020-11-05T17:01:11.187648Z",
     "iopub.status.idle": "2020-11-05T17:01:11.201139Z",
     "shell.execute_reply": "2020-11-05T17:01:11.200407Z"
    },
    "papermill": {
     "duration": 0.067639,
     "end_time": "2020-11-05T17:01:11.201302",
     "exception": false,
     "start_time": "2020-11-05T17:01:11.133663",
     "status": "completed"
    },
    "tags": []
   },
   "outputs": [
    {
     "data": {
      "text/html": [
       "<div>\n",
       "<style scoped>\n",
       "    .dataframe tbody tr th:only-of-type {\n",
       "        vertical-align: middle;\n",
       "    }\n",
       "\n",
       "    .dataframe tbody tr th {\n",
       "        vertical-align: top;\n",
       "    }\n",
       "\n",
       "    .dataframe thead th {\n",
       "        text-align: right;\n",
       "    }\n",
       "</style>\n",
       "<table border=\"1\" class=\"dataframe\">\n",
       "  <thead>\n",
       "    <tr style=\"text-align: right;\">\n",
       "      <th></th>\n",
       "      <th>income</th>\n",
       "    </tr>\n",
       "  </thead>\n",
       "  <tbody>\n",
       "    <tr>\n",
       "      <th>0</th>\n",
       "      <td>0</td>\n",
       "    </tr>\n",
       "    <tr>\n",
       "      <th>1</th>\n",
       "      <td>0</td>\n",
       "    </tr>\n",
       "    <tr>\n",
       "      <th>2</th>\n",
       "      <td>0</td>\n",
       "    </tr>\n",
       "    <tr>\n",
       "      <th>3</th>\n",
       "      <td>0</td>\n",
       "    </tr>\n",
       "    <tr>\n",
       "      <th>4</th>\n",
       "      <td>0</td>\n",
       "    </tr>\n",
       "    <tr>\n",
       "      <th>...</th>\n",
       "      <td>...</td>\n",
       "    </tr>\n",
       "    <tr>\n",
       "      <th>32556</th>\n",
       "      <td>0</td>\n",
       "    </tr>\n",
       "    <tr>\n",
       "      <th>32557</th>\n",
       "      <td>1</td>\n",
       "    </tr>\n",
       "    <tr>\n",
       "      <th>32558</th>\n",
       "      <td>0</td>\n",
       "    </tr>\n",
       "    <tr>\n",
       "      <th>32559</th>\n",
       "      <td>0</td>\n",
       "    </tr>\n",
       "    <tr>\n",
       "      <th>32560</th>\n",
       "      <td>1</td>\n",
       "    </tr>\n",
       "  </tbody>\n",
       "</table>\n",
       "<p>32561 rows × 1 columns</p>\n",
       "</div>"
      ],
      "text/plain": [
       "       income\n",
       "0           0\n",
       "1           0\n",
       "2           0\n",
       "3           0\n",
       "4           0\n",
       "...       ...\n",
       "32556       0\n",
       "32557       1\n",
       "32558       0\n",
       "32559       0\n",
       "32560       1\n",
       "\n",
       "[32561 rows x 1 columns]"
      ]
     },
     "execution_count": 7,
     "metadata": {},
     "output_type": "execute_result"
    }
   ],
   "source": [
    "target = pd.DataFrame(train['income'].map({' <=50K': 0, ' >50K': 1}))\n",
    "target"
   ]
  },
  {
   "cell_type": "code",
   "execution_count": 8,
   "metadata": {
    "execution": {
     "iopub.execute_input": "2020-11-05T17:01:11.276576Z",
     "iopub.status.busy": "2020-11-05T17:01:11.275731Z",
     "iopub.status.idle": "2020-11-05T17:01:11.309890Z",
     "shell.execute_reply": "2020-11-05T17:01:11.308780Z"
    },
    "papermill": {
     "duration": 0.075489,
     "end_time": "2020-11-05T17:01:11.310082",
     "exception": false,
     "start_time": "2020-11-05T17:01:11.234593",
     "status": "completed"
    },
    "tags": []
   },
   "outputs": [
    {
     "data": {
      "text/plain": [
       "(48842, 14)"
      ]
     },
     "execution_count": 8,
     "metadata": {},
     "output_type": "execute_result"
    }
   ],
   "source": [
    "# concat train and test\n",
    "train = train.drop(['income'], axis=1)\n",
    "data = pd.concat([train, test], axis=0)\n",
    "data.shape"
   ]
  },
  {
   "cell_type": "code",
   "execution_count": 9,
   "metadata": {
    "execution": {
     "iopub.execute_input": "2020-11-05T17:01:11.385332Z",
     "iopub.status.busy": "2020-11-05T17:01:11.384538Z",
     "iopub.status.idle": "2020-11-05T17:04:59.402002Z",
     "shell.execute_reply": "2020-11-05T17:04:59.402623Z"
    },
    "papermill": {
     "duration": 228.057386,
     "end_time": "2020-11-05T17:04:59.402798",
     "exception": false,
     "start_time": "2020-11-05T17:01:11.345412",
     "status": "completed"
    },
    "tags": []
   },
   "outputs": [
    {
     "name": "stdout",
     "output_type": "stream",
     "text": [
      "CPU times: user 43.6 s, sys: 916 ms, total: 44.5 s\n",
      "Wall time: 44.6 s\n"
     ]
    },
    {
     "data": {
      "image/png": "[encoded data removed]",
      "text/plain": [
       "<Figure size 1728x1296 with 16 Axes>"
      ]
     },
     "metadata": {
      "needs_background": "light"
     },
     "output_type": "display_data"
    }
   ],
   "source": [
    "%%time\n",
    "\n",
    "# EDA\n",
    "f, axes = plt.subplots(4, 4, figsize=(24, 18))\n",
    "for i, col in enumerate(train.columns):\n",
    "    train[col].value_counts().plot.bar(ax=axes[i // 4][i % 4])"
   ]
  },
  {
   "cell_type": "code",
   "execution_count": 10,
   "metadata": {
    "execution": {
     "iopub.execute_input": "2020-11-05T17:04:59.486379Z",
     "iopub.status.busy": "2020-11-05T17:04:59.485218Z",
     "iopub.status.idle": "2020-11-05T17:04:59.489346Z",
     "shell.execute_reply": "2020-11-05T17:04:59.489944Z"
    },
    "papermill": {
     "duration": 0.0489,
     "end_time": "2020-11-05T17:04:59.490101",
     "exception": false,
     "start_time": "2020-11-05T17:04:59.441201",
     "status": "completed"
    },
    "tags": []
   },
   "outputs": [
    {
     "data": {
      "text/plain": [
       "Index(['age', 'workclass', 'fnlwgt', 'education', 'education_num',\n",
       "       'marital_status', 'occupation', 'relationship', 'race', 'sex',\n",
       "       'capital_gain', 'capital_loss', 'hours_per_week', 'native_country'],\n",
       "      dtype='object')"
      ]
     },
     "execution_count": 10,
     "metadata": {},
     "output_type": "execute_result"
    }
   ],
   "source": [
    "train.columns"
   ]
  },
  {
   "cell_type": "markdown",
   "metadata": {
    "papermill": {
     "duration": 0.038045,
     "end_time": "2020-11-05T17:04:59.566617",
     "exception": false,
     "start_time": "2020-11-05T17:04:59.528572",
     "status": "completed"
    },
    "tags": []
   },
   "source": [
    "### encode columns\n",
    "\n",
    "* attribute 'sex' => map to 1 and 0\n",
    "* then select categorical data and numerical data\n",
    "    * categorical data: ['workclass', 'education', 'marital_status', 'occupation', 'relationship', 'race', 'native_country']\n",
    "    * numerical data: ['age', 'fnlwgt', 'education_num', 'capital_gain', 'capital_loss', 'hours_per_week']\n",
    "* process data\n",
    "    * categorical data => one-hot encoding\n",
    "    * numerical data => normalization\n",
    "* some other process\n",
    "    * remove special col ['naive_country_ Holand-Netherlands']"
   ]
  },
  {
   "cell_type": "code",
   "execution_count": 11,
   "metadata": {
    "execution": {
     "iopub.execute_input": "2020-11-05T17:04:59.650096Z",
     "iopub.status.busy": "2020-11-05T17:04:59.649306Z",
     "iopub.status.idle": "2020-11-05T17:04:59.720971Z",
     "shell.execute_reply": "2020-11-05T17:04:59.721595Z"
    },
    "papermill": {
     "duration": 0.1167,
     "end_time": "2020-11-05T17:04:59.721778",
     "exception": false,
     "start_time": "2020-11-05T17:04:59.605078",
     "status": "completed"
    },
    "tags": []
   },
   "outputs": [],
   "source": [
    "from sklearn.preprocessing import OneHotEncoder, LabelEncoder"
   ]
  },
  {
   "cell_type": "code",
   "execution_count": 12,
   "metadata": {
    "execution": {
     "iopub.execute_input": "2020-11-05T17:04:59.804758Z",
     "iopub.status.busy": "2020-11-05T17:04:59.803965Z",
     "iopub.status.idle": "2020-11-05T17:04:59.809406Z",
     "shell.execute_reply": "2020-11-05T17:04:59.809942Z"
    },
    "papermill": {
     "duration": 0.049586,
     "end_time": "2020-11-05T17:04:59.810117",
     "exception": false,
     "start_time": "2020-11-05T17:04:59.760531",
     "status": "completed"
    },
    "tags": []
   },
   "outputs": [
    {
     "data": {
      "text/plain": [
       "array([' Male', ' Male', ' Male', ..., ' Male', ' Male', ' Male'],\n",
       "      dtype=object)"
      ]
     },
     "execution_count": 12,
     "metadata": {},
     "output_type": "execute_result"
    }
   ],
   "source": [
    "data.sex.values"
   ]
  },
  {
   "cell_type": "markdown",
   "metadata": {
    "papermill": {
     "duration": 0.038746,
     "end_time": "2020-11-05T17:04:59.888379",
     "exception": false,
     "start_time": "2020-11-05T17:04:59.849633",
     "status": "completed"
    },
    "tags": []
   },
   "source": [
    "~~可以注意到所有性别里边都是有一个空格的，所以在下边映射的时候要添加空格~~\n",
    "\n",
    "`' Male'`\n",
    "\n",
    "`' Female'`"
   ]
  },
  {
   "cell_type": "code",
   "execution_count": 13,
   "metadata": {
    "execution": {
     "iopub.execute_input": "2020-11-05T17:04:59.980706Z",
     "iopub.status.busy": "2020-11-05T17:04:59.979834Z",
     "iopub.status.idle": "2020-11-05T17:05:00.017915Z",
     "shell.execute_reply": "2020-11-05T17:05:00.018549Z"
    },
    "papermill": {
     "duration": 0.090937,
     "end_time": "2020-11-05T17:05:00.018736",
     "exception": false,
     "start_time": "2020-11-05T17:04:59.927799",
     "status": "completed"
    },
    "tags": []
   },
   "outputs": [
    {
     "data": {
      "text/html": [
       "<div>\n",
       "<style scoped>\n",
       "    .dataframe tbody tr th:only-of-type {\n",
       "        vertical-align: middle;\n",
       "    }\n",
       "\n",
       "    .dataframe tbody tr th {\n",
       "        vertical-align: top;\n",
       "    }\n",
       "\n",
       "    .dataframe thead th {\n",
       "        text-align: right;\n",
       "    }\n",
       "</style>\n",
       "<table border=\"1\" class=\"dataframe\">\n",
       "  <thead>\n",
       "    <tr style=\"text-align: right;\">\n",
       "      <th></th>\n",
       "      <th>age</th>\n",
       "      <th>workclass</th>\n",
       "      <th>fnlwgt</th>\n",
       "      <th>education</th>\n",
       "      <th>education_num</th>\n",
       "      <th>marital_status</th>\n",
       "      <th>occupation</th>\n",
       "      <th>relationship</th>\n",
       "      <th>race</th>\n",
       "      <th>sex</th>\n",
       "      <th>capital_gain</th>\n",
       "      <th>capital_loss</th>\n",
       "      <th>hours_per_week</th>\n",
       "      <th>native_country</th>\n",
       "    </tr>\n",
       "  </thead>\n",
       "  <tbody>\n",
       "    <tr>\n",
       "      <th>0</th>\n",
       "      <td>39</td>\n",
       "      <td>State-gov</td>\n",
       "      <td>77516</td>\n",
       "      <td>Bachelors</td>\n",
       "      <td>13</td>\n",
       "      <td>Never-married</td>\n",
       "      <td>Adm-clerical</td>\n",
       "      <td>Not-in-family</td>\n",
       "      <td>White</td>\n",
       "      <td>1</td>\n",
       "      <td>2174</td>\n",
       "      <td>0</td>\n",
       "      <td>40</td>\n",
       "      <td>United-States</td>\n",
       "    </tr>\n",
       "    <tr>\n",
       "      <th>1</th>\n",
       "      <td>50</td>\n",
       "      <td>Self-emp-not-inc</td>\n",
       "      <td>83311</td>\n",
       "      <td>Bachelors</td>\n",
       "      <td>13</td>\n",
       "      <td>Married-civ-spouse</td>\n",
       "      <td>Exec-managerial</td>\n",
       "      <td>Husband</td>\n",
       "      <td>White</td>\n",
       "      <td>1</td>\n",
       "      <td>0</td>\n",
       "      <td>0</td>\n",
       "      <td>13</td>\n",
       "      <td>United-States</td>\n",
       "    </tr>\n",
       "    <tr>\n",
       "      <th>2</th>\n",
       "      <td>38</td>\n",
       "      <td>Private</td>\n",
       "      <td>215646</td>\n",
       "      <td>HS-grad</td>\n",
       "      <td>9</td>\n",
       "      <td>Divorced</td>\n",
       "      <td>Handlers-cleaners</td>\n",
       "      <td>Not-in-family</td>\n",
       "      <td>White</td>\n",
       "      <td>1</td>\n",
       "      <td>0</td>\n",
       "      <td>0</td>\n",
       "      <td>40</td>\n",
       "      <td>United-States</td>\n",
       "    </tr>\n",
       "    <tr>\n",
       "      <th>3</th>\n",
       "      <td>53</td>\n",
       "      <td>Private</td>\n",
       "      <td>234721</td>\n",
       "      <td>11th</td>\n",
       "      <td>7</td>\n",
       "      <td>Married-civ-spouse</td>\n",
       "      <td>Handlers-cleaners</td>\n",
       "      <td>Husband</td>\n",
       "      <td>Black</td>\n",
       "      <td>1</td>\n",
       "      <td>0</td>\n",
       "      <td>0</td>\n",
       "      <td>40</td>\n",
       "      <td>United-States</td>\n",
       "    </tr>\n",
       "    <tr>\n",
       "      <th>4</th>\n",
       "      <td>28</td>\n",
       "      <td>Private</td>\n",
       "      <td>338409</td>\n",
       "      <td>Bachelors</td>\n",
       "      <td>13</td>\n",
       "      <td>Married-civ-spouse</td>\n",
       "      <td>Prof-specialty</td>\n",
       "      <td>Wife</td>\n",
       "      <td>Black</td>\n",
       "      <td>0</td>\n",
       "      <td>0</td>\n",
       "      <td>0</td>\n",
       "      <td>40</td>\n",
       "      <td>Cuba</td>\n",
       "    </tr>\n",
       "    <tr>\n",
       "      <th>...</th>\n",
       "      <td>...</td>\n",
       "      <td>...</td>\n",
       "      <td>...</td>\n",
       "      <td>...</td>\n",
       "      <td>...</td>\n",
       "      <td>...</td>\n",
       "      <td>...</td>\n",
       "      <td>...</td>\n",
       "      <td>...</td>\n",
       "      <td>...</td>\n",
       "      <td>...</td>\n",
       "      <td>...</td>\n",
       "      <td>...</td>\n",
       "      <td>...</td>\n",
       "    </tr>\n",
       "    <tr>\n",
       "      <th>16276</th>\n",
       "      <td>39</td>\n",
       "      <td>Private</td>\n",
       "      <td>215419</td>\n",
       "      <td>Bachelors</td>\n",
       "      <td>13</td>\n",
       "      <td>Divorced</td>\n",
       "      <td>Prof-specialty</td>\n",
       "      <td>Not-in-family</td>\n",
       "      <td>White</td>\n",
       "      <td>0</td>\n",
       "      <td>0</td>\n",
       "      <td>0</td>\n",
       "      <td>36</td>\n",
       "      <td>United-States</td>\n",
       "    </tr>\n",
       "    <tr>\n",
       "      <th>16277</th>\n",
       "      <td>64</td>\n",
       "      <td>?</td>\n",
       "      <td>321403</td>\n",
       "      <td>HS-grad</td>\n",
       "      <td>9</td>\n",
       "      <td>Widowed</td>\n",
       "      <td>?</td>\n",
       "      <td>Other-relative</td>\n",
       "      <td>Black</td>\n",
       "      <td>1</td>\n",
       "      <td>0</td>\n",
       "      <td>0</td>\n",
       "      <td>40</td>\n",
       "      <td>United-States</td>\n",
       "    </tr>\n",
       "    <tr>\n",
       "      <th>16278</th>\n",
       "      <td>38</td>\n",
       "      <td>Private</td>\n",
       "      <td>374983</td>\n",
       "      <td>Bachelors</td>\n",
       "      <td>13</td>\n",
       "      <td>Married-civ-spouse</td>\n",
       "      <td>Prof-specialty</td>\n",
       "      <td>Husband</td>\n",
       "      <td>White</td>\n",
       "      <td>1</td>\n",
       "      <td>0</td>\n",
       "      <td>0</td>\n",
       "      <td>50</td>\n",
       "      <td>United-States</td>\n",
       "    </tr>\n",
       "    <tr>\n",
       "      <th>16279</th>\n",
       "      <td>44</td>\n",
       "      <td>Private</td>\n",
       "      <td>83891</td>\n",
       "      <td>Bachelors</td>\n",
       "      <td>13</td>\n",
       "      <td>Divorced</td>\n",
       "      <td>Adm-clerical</td>\n",
       "      <td>Own-child</td>\n",
       "      <td>Asian-Pac-Islander</td>\n",
       "      <td>1</td>\n",
       "      <td>5455</td>\n",
       "      <td>0</td>\n",
       "      <td>40</td>\n",
       "      <td>United-States</td>\n",
       "    </tr>\n",
       "    <tr>\n",
       "      <th>16280</th>\n",
       "      <td>35</td>\n",
       "      <td>Self-emp-inc</td>\n",
       "      <td>182148</td>\n",
       "      <td>Bachelors</td>\n",
       "      <td>13</td>\n",
       "      <td>Married-civ-spouse</td>\n",
       "      <td>Exec-managerial</td>\n",
       "      <td>Husband</td>\n",
       "      <td>White</td>\n",
       "      <td>1</td>\n",
       "      <td>0</td>\n",
       "      <td>0</td>\n",
       "      <td>60</td>\n",
       "      <td>United-States</td>\n",
       "    </tr>\n",
       "  </tbody>\n",
       "</table>\n",
       "<p>48842 rows × 14 columns</p>\n",
       "</div>"
      ],
      "text/plain": [
       "       age          workclass  fnlwgt   education  education_num  \\\n",
       "0       39          State-gov   77516   Bachelors             13   \n",
       "1       50   Self-emp-not-inc   83311   Bachelors             13   \n",
       "2       38            Private  215646     HS-grad              9   \n",
       "3       53            Private  234721        11th              7   \n",
       "4       28            Private  338409   Bachelors             13   \n",
       "...    ...                ...     ...         ...            ...   \n",
       "16276   39            Private  215419   Bachelors             13   \n",
       "16277   64                  ?  321403     HS-grad              9   \n",
       "16278   38            Private  374983   Bachelors             13   \n",
       "16279   44            Private   83891   Bachelors             13   \n",
       "16280   35       Self-emp-inc  182148   Bachelors             13   \n",
       "\n",
       "            marital_status          occupation     relationship  \\\n",
       "0            Never-married        Adm-clerical    Not-in-family   \n",
       "1       Married-civ-spouse     Exec-managerial          Husband   \n",
       "2                 Divorced   Handlers-cleaners    Not-in-family   \n",
       "3       Married-civ-spouse   Handlers-cleaners          Husband   \n",
       "4       Married-civ-spouse      Prof-specialty             Wife   \n",
       "...                    ...                 ...              ...   \n",
       "16276             Divorced      Prof-specialty    Not-in-family   \n",
       "16277              Widowed                   ?   Other-relative   \n",
       "16278   Married-civ-spouse      Prof-specialty          Husband   \n",
       "16279             Divorced        Adm-clerical        Own-child   \n",
       "16280   Married-civ-spouse     Exec-managerial          Husband   \n",
       "\n",
       "                      race  sex  capital_gain  capital_loss  hours_per_week  \\\n",
       "0                    White    1          2174             0              40   \n",
       "1                    White    1             0             0              13   \n",
       "2                    White    1             0             0              40   \n",
       "3                    Black    1             0             0              40   \n",
       "4                    Black    0             0             0              40   \n",
       "...                    ...  ...           ...           ...             ...   \n",
       "16276                White    0             0             0              36   \n",
       "16277                Black    1             0             0              40   \n",
       "16278                White    1             0             0              50   \n",
       "16279   Asian-Pac-Islander    1          5455             0              40   \n",
       "16280                White    1             0             0              60   \n",
       "\n",
       "       native_country  \n",
       "0       United-States  \n",
       "1       United-States  \n",
       "2       United-States  \n",
       "3       United-States  \n",
       "4                Cuba  \n",
       "...               ...  \n",
       "16276   United-States  \n",
       "16277   United-States  \n",
       "16278   United-States  \n",
       "16279   United-States  \n",
       "16280   United-States  \n",
       "\n",
       "[48842 rows x 14 columns]"
      ]
     },
     "execution_count": 13,
     "metadata": {},
     "output_type": "execute_result"
    }
   ],
   "source": [
    "# attribute 'sex' labelencode\n",
    "data['sex'] = data['sex'].map({' Male': 1, ' Female': 0})\n",
    "data"
   ]
  },
  {
   "cell_type": "code",
   "execution_count": 14,
   "metadata": {
    "execution": {
     "iopub.execute_input": "2020-11-05T17:05:00.112728Z",
     "iopub.status.busy": "2020-11-05T17:05:00.109873Z",
     "iopub.status.idle": "2020-11-05T17:05:00.309951Z",
     "shell.execute_reply": "2020-11-05T17:05:00.309207Z"
    },
    "papermill": {
     "duration": 0.249962,
     "end_time": "2020-11-05T17:05:00.310086",
     "exception": false,
     "start_time": "2020-11-05T17:05:00.060124",
     "status": "completed"
    },
    "tags": []
   },
   "outputs": [
    {
     "data": {
      "text/plain": [
       "(48842, 107)"
      ]
     },
     "execution_count": 14,
     "metadata": {},
     "output_type": "execute_result"
    }
   ],
   "source": [
    "categorical_cols = ['workclass', 'education', 'marital_status', 'occupation', 'relationship', 'race', 'native_country']\n",
    "numerical_cols = ['age', 'fnlwgt', 'education_num', 'capital_gain', 'capital_loss', 'hours_per_week']\n",
    "\n",
    "# then encode categorical data\n",
    "for col in categorical_cols:\n",
    "    new = pd.get_dummies(data[col], prefix=col)\n",
    "    data = pd.concat([data, new], axis=1)\n",
    "    data = data.drop([col], axis=1)\n",
    "data.shape"
   ]
  },
  {
   "cell_type": "code",
   "execution_count": 15,
   "metadata": {
    "execution": {
     "iopub.execute_input": "2020-11-05T17:05:00.399967Z",
     "iopub.status.busy": "2020-11-05T17:05:00.399133Z",
     "iopub.status.idle": "2020-11-05T17:05:00.477614Z",
     "shell.execute_reply": "2020-11-05T17:05:00.476836Z"
    },
    "papermill": {
     "duration": 0.12588,
     "end_time": "2020-11-05T17:05:00.477764",
     "exception": false,
     "start_time": "2020-11-05T17:05:00.351884",
     "status": "completed"
    },
    "tags": []
   },
   "outputs": [
    {
     "data": {
      "text/html": [
       "<div>\n",
       "<style scoped>\n",
       "    .dataframe tbody tr th:only-of-type {\n",
       "        vertical-align: middle;\n",
       "    }\n",
       "\n",
       "    .dataframe tbody tr th {\n",
       "        vertical-align: top;\n",
       "    }\n",
       "\n",
       "    .dataframe thead th {\n",
       "        text-align: right;\n",
       "    }\n",
       "</style>\n",
       "<table border=\"1\" class=\"dataframe\">\n",
       "  <thead>\n",
       "    <tr style=\"text-align: right;\">\n",
       "      <th></th>\n",
       "      <th>age</th>\n",
       "      <th>fnlwgt</th>\n",
       "      <th>education_num</th>\n",
       "      <th>sex</th>\n",
       "      <th>capital_gain</th>\n",
       "      <th>capital_loss</th>\n",
       "      <th>hours_per_week</th>\n",
       "      <th>workclass_ ?</th>\n",
       "      <th>workclass_ Federal-gov</th>\n",
       "      <th>workclass_ Local-gov</th>\n",
       "      <th>...</th>\n",
       "      <th>native_country_ Portugal</th>\n",
       "      <th>native_country_ Puerto-Rico</th>\n",
       "      <th>native_country_ Scotland</th>\n",
       "      <th>native_country_ South</th>\n",
       "      <th>native_country_ Taiwan</th>\n",
       "      <th>native_country_ Thailand</th>\n",
       "      <th>native_country_ Trinadad&amp;Tobago</th>\n",
       "      <th>native_country_ United-States</th>\n",
       "      <th>native_country_ Vietnam</th>\n",
       "      <th>native_country_ Yugoslavia</th>\n",
       "    </tr>\n",
       "  </thead>\n",
       "  <tbody>\n",
       "    <tr>\n",
       "      <th>0</th>\n",
       "      <td>0.025996</td>\n",
       "      <td>-1.061968</td>\n",
       "      <td>1.136500</td>\n",
       "      <td>1</td>\n",
       "      <td>0.146931</td>\n",
       "      <td>-0.217125</td>\n",
       "      <td>-0.034087</td>\n",
       "      <td>0</td>\n",
       "      <td>0</td>\n",
       "      <td>0</td>\n",
       "      <td>...</td>\n",
       "      <td>0</td>\n",
       "      <td>0</td>\n",
       "      <td>0</td>\n",
       "      <td>0</td>\n",
       "      <td>0</td>\n",
       "      <td>0</td>\n",
       "      <td>0</td>\n",
       "      <td>1</td>\n",
       "      <td>0</td>\n",
       "      <td>0</td>\n",
       "    </tr>\n",
       "    <tr>\n",
       "      <th>1</th>\n",
       "      <td>0.828300</td>\n",
       "      <td>-1.007094</td>\n",
       "      <td>1.136500</td>\n",
       "      <td>1</td>\n",
       "      <td>-0.144802</td>\n",
       "      <td>-0.217125</td>\n",
       "      <td>-2.213009</td>\n",
       "      <td>0</td>\n",
       "      <td>0</td>\n",
       "      <td>0</td>\n",
       "      <td>...</td>\n",
       "      <td>0</td>\n",
       "      <td>0</td>\n",
       "      <td>0</td>\n",
       "      <td>0</td>\n",
       "      <td>0</td>\n",
       "      <td>0</td>\n",
       "      <td>0</td>\n",
       "      <td>1</td>\n",
       "      <td>0</td>\n",
       "      <td>0</td>\n",
       "    </tr>\n",
       "    <tr>\n",
       "      <th>2</th>\n",
       "      <td>-0.046941</td>\n",
       "      <td>0.246031</td>\n",
       "      <td>-0.419331</td>\n",
       "      <td>1</td>\n",
       "      <td>-0.144802</td>\n",
       "      <td>-0.217125</td>\n",
       "      <td>-0.034087</td>\n",
       "      <td>0</td>\n",
       "      <td>0</td>\n",
       "      <td>0</td>\n",
       "      <td>...</td>\n",
       "      <td>0</td>\n",
       "      <td>0</td>\n",
       "      <td>0</td>\n",
       "      <td>0</td>\n",
       "      <td>0</td>\n",
       "      <td>0</td>\n",
       "      <td>0</td>\n",
       "      <td>1</td>\n",
       "      <td>0</td>\n",
       "      <td>0</td>\n",
       "    </tr>\n",
       "    <tr>\n",
       "      <th>3</th>\n",
       "      <td>1.047110</td>\n",
       "      <td>0.426659</td>\n",
       "      <td>-1.197247</td>\n",
       "      <td>1</td>\n",
       "      <td>-0.144802</td>\n",
       "      <td>-0.217125</td>\n",
       "      <td>-0.034087</td>\n",
       "      <td>0</td>\n",
       "      <td>0</td>\n",
       "      <td>0</td>\n",
       "      <td>...</td>\n",
       "      <td>0</td>\n",
       "      <td>0</td>\n",
       "      <td>0</td>\n",
       "      <td>0</td>\n",
       "      <td>0</td>\n",
       "      <td>0</td>\n",
       "      <td>0</td>\n",
       "      <td>1</td>\n",
       "      <td>0</td>\n",
       "      <td>0</td>\n",
       "    </tr>\n",
       "    <tr>\n",
       "      <th>4</th>\n",
       "      <td>-0.776309</td>\n",
       "      <td>1.408515</td>\n",
       "      <td>1.136500</td>\n",
       "      <td>0</td>\n",
       "      <td>-0.144802</td>\n",
       "      <td>-0.217125</td>\n",
       "      <td>-0.034087</td>\n",
       "      <td>0</td>\n",
       "      <td>0</td>\n",
       "      <td>0</td>\n",
       "      <td>...</td>\n",
       "      <td>0</td>\n",
       "      <td>0</td>\n",
       "      <td>0</td>\n",
       "      <td>0</td>\n",
       "      <td>0</td>\n",
       "      <td>0</td>\n",
       "      <td>0</td>\n",
       "      <td>0</td>\n",
       "      <td>0</td>\n",
       "      <td>0</td>\n",
       "    </tr>\n",
       "    <tr>\n",
       "      <th>...</th>\n",
       "      <td>...</td>\n",
       "      <td>...</td>\n",
       "      <td>...</td>\n",
       "      <td>...</td>\n",
       "      <td>...</td>\n",
       "      <td>...</td>\n",
       "      <td>...</td>\n",
       "      <td>...</td>\n",
       "      <td>...</td>\n",
       "      <td>...</td>\n",
       "      <td>...</td>\n",
       "      <td>...</td>\n",
       "      <td>...</td>\n",
       "      <td>...</td>\n",
       "      <td>...</td>\n",
       "      <td>...</td>\n",
       "      <td>...</td>\n",
       "      <td>...</td>\n",
       "      <td>...</td>\n",
       "      <td>...</td>\n",
       "      <td>...</td>\n",
       "    </tr>\n",
       "    <tr>\n",
       "      <th>16276</th>\n",
       "      <td>0.025996</td>\n",
       "      <td>0.243881</td>\n",
       "      <td>1.136500</td>\n",
       "      <td>0</td>\n",
       "      <td>-0.144802</td>\n",
       "      <td>-0.217125</td>\n",
       "      <td>-0.356890</td>\n",
       "      <td>0</td>\n",
       "      <td>0</td>\n",
       "      <td>0</td>\n",
       "      <td>...</td>\n",
       "      <td>0</td>\n",
       "      <td>0</td>\n",
       "      <td>0</td>\n",
       "      <td>0</td>\n",
       "      <td>0</td>\n",
       "      <td>0</td>\n",
       "      <td>0</td>\n",
       "      <td>1</td>\n",
       "      <td>0</td>\n",
       "      <td>0</td>\n",
       "    </tr>\n",
       "    <tr>\n",
       "      <th>16277</th>\n",
       "      <td>1.849414</td>\n",
       "      <td>1.247480</td>\n",
       "      <td>-0.419331</td>\n",
       "      <td>1</td>\n",
       "      <td>-0.144802</td>\n",
       "      <td>-0.217125</td>\n",
       "      <td>-0.034087</td>\n",
       "      <td>1</td>\n",
       "      <td>0</td>\n",
       "      <td>0</td>\n",
       "      <td>...</td>\n",
       "      <td>0</td>\n",
       "      <td>0</td>\n",
       "      <td>0</td>\n",
       "      <td>0</td>\n",
       "      <td>0</td>\n",
       "      <td>0</td>\n",
       "      <td>0</td>\n",
       "      <td>1</td>\n",
       "      <td>0</td>\n",
       "      <td>0</td>\n",
       "    </tr>\n",
       "    <tr>\n",
       "      <th>16278</th>\n",
       "      <td>-0.046941</td>\n",
       "      <td>1.754847</td>\n",
       "      <td>1.136500</td>\n",
       "      <td>1</td>\n",
       "      <td>-0.144802</td>\n",
       "      <td>-0.217125</td>\n",
       "      <td>0.772922</td>\n",
       "      <td>0</td>\n",
       "      <td>0</td>\n",
       "      <td>0</td>\n",
       "      <td>...</td>\n",
       "      <td>0</td>\n",
       "      <td>0</td>\n",
       "      <td>0</td>\n",
       "      <td>0</td>\n",
       "      <td>0</td>\n",
       "      <td>0</td>\n",
       "      <td>0</td>\n",
       "      <td>1</td>\n",
       "      <td>0</td>\n",
       "      <td>0</td>\n",
       "    </tr>\n",
       "    <tr>\n",
       "      <th>16279</th>\n",
       "      <td>0.390679</td>\n",
       "      <td>-1.001601</td>\n",
       "      <td>1.136500</td>\n",
       "      <td>1</td>\n",
       "      <td>0.587214</td>\n",
       "      <td>-0.217125</td>\n",
       "      <td>-0.034087</td>\n",
       "      <td>0</td>\n",
       "      <td>0</td>\n",
       "      <td>0</td>\n",
       "      <td>...</td>\n",
       "      <td>0</td>\n",
       "      <td>0</td>\n",
       "      <td>0</td>\n",
       "      <td>0</td>\n",
       "      <td>0</td>\n",
       "      <td>0</td>\n",
       "      <td>0</td>\n",
       "      <td>1</td>\n",
       "      <td>0</td>\n",
       "      <td>0</td>\n",
       "    </tr>\n",
       "    <tr>\n",
       "      <th>16280</th>\n",
       "      <td>-0.265751</td>\n",
       "      <td>-0.071173</td>\n",
       "      <td>1.136500</td>\n",
       "      <td>1</td>\n",
       "      <td>-0.144802</td>\n",
       "      <td>-0.217125</td>\n",
       "      <td>1.579930</td>\n",
       "      <td>0</td>\n",
       "      <td>0</td>\n",
       "      <td>0</td>\n",
       "      <td>...</td>\n",
       "      <td>0</td>\n",
       "      <td>0</td>\n",
       "      <td>0</td>\n",
       "      <td>0</td>\n",
       "      <td>0</td>\n",
       "      <td>0</td>\n",
       "      <td>0</td>\n",
       "      <td>1</td>\n",
       "      <td>0</td>\n",
       "      <td>0</td>\n",
       "    </tr>\n",
       "  </tbody>\n",
       "</table>\n",
       "<p>48842 rows × 107 columns</p>\n",
       "</div>"
      ],
      "text/plain": [
       "            age    fnlwgt  education_num  sex  capital_gain  capital_loss  \\\n",
       "0      0.025996 -1.061968       1.136500    1      0.146931     -0.217125   \n",
       "1      0.828300 -1.007094       1.136500    1     -0.144802     -0.217125   \n",
       "2     -0.046941  0.246031      -0.419331    1     -0.144802     -0.217125   \n",
       "3      1.047110  0.426659      -1.197247    1     -0.144802     -0.217125   \n",
       "4     -0.776309  1.408515       1.136500    0     -0.144802     -0.217125   \n",
       "...         ...       ...            ...  ...           ...           ...   \n",
       "16276  0.025996  0.243881       1.136500    0     -0.144802     -0.217125   \n",
       "16277  1.849414  1.247480      -0.419331    1     -0.144802     -0.217125   \n",
       "16278 -0.046941  1.754847       1.136500    1     -0.144802     -0.217125   \n",
       "16279  0.390679 -1.001601       1.136500    1      0.587214     -0.217125   \n",
       "16280 -0.265751 -0.071173       1.136500    1     -0.144802     -0.217125   \n",
       "\n",
       "       hours_per_week  workclass_ ?  workclass_ Federal-gov  \\\n",
       "0           -0.034087             0                       0   \n",
       "1           -2.213009             0                       0   \n",
       "2           -0.034087             0                       0   \n",
       "3           -0.034087             0                       0   \n",
       "4           -0.034087             0                       0   \n",
       "...               ...           ...                     ...   \n",
       "16276       -0.356890             0                       0   \n",
       "16277       -0.034087             1                       0   \n",
       "16278        0.772922             0                       0   \n",
       "16279       -0.034087             0                       0   \n",
       "16280        1.579930             0                       0   \n",
       "\n",
       "       workclass_ Local-gov  ...  native_country_ Portugal  \\\n",
       "0                         0  ...                         0   \n",
       "1                         0  ...                         0   \n",
       "2                         0  ...                         0   \n",
       "3                         0  ...                         0   \n",
       "4                         0  ...                         0   \n",
       "...                     ...  ...                       ...   \n",
       "16276                     0  ...                         0   \n",
       "16277                     0  ...                         0   \n",
       "16278                     0  ...                         0   \n",
       "16279                     0  ...                         0   \n",
       "16280                     0  ...                         0   \n",
       "\n",
       "       native_country_ Puerto-Rico  native_country_ Scotland  \\\n",
       "0                                0                         0   \n",
       "1                                0                         0   \n",
       "2                                0                         0   \n",
       "3                                0                         0   \n",
       "4                                0                         0   \n",
       "...                            ...                       ...   \n",
       "16276                            0                         0   \n",
       "16277                            0                         0   \n",
       "16278                            0                         0   \n",
       "16279                            0                         0   \n",
       "16280                            0                         0   \n",
       "\n",
       "       native_country_ South  native_country_ Taiwan  \\\n",
       "0                          0                       0   \n",
       "1                          0                       0   \n",
       "2                          0                       0   \n",
       "3                          0                       0   \n",
       "4                          0                       0   \n",
       "...                      ...                     ...   \n",
       "16276                      0                       0   \n",
       "16277                      0                       0   \n",
       "16278                      0                       0   \n",
       "16279                      0                       0   \n",
       "16280                      0                       0   \n",
       "\n",
       "       native_country_ Thailand  native_country_ Trinadad&Tobago  \\\n",
       "0                             0                                0   \n",
       "1                             0                                0   \n",
       "2                             0                                0   \n",
       "3                             0                                0   \n",
       "4                             0                                0   \n",
       "...                         ...                              ...   \n",
       "16276                         0                                0   \n",
       "16277                         0                                0   \n",
       "16278                         0                                0   \n",
       "16279                         0                                0   \n",
       "16280                         0                                0   \n",
       "\n",
       "       native_country_ United-States  native_country_ Vietnam  \\\n",
       "0                                  1                        0   \n",
       "1                                  1                        0   \n",
       "2                                  1                        0   \n",
       "3                                  1                        0   \n",
       "4                                  0                        0   \n",
       "...                              ...                      ...   \n",
       "16276                              1                        0   \n",
       "16277                              1                        0   \n",
       "16278                              1                        0   \n",
       "16279                              1                        0   \n",
       "16280                              1                        0   \n",
       "\n",
       "       native_country_ Yugoslavia  \n",
       "0                               0  \n",
       "1                               0  \n",
       "2                               0  \n",
       "3                               0  \n",
       "4                               0  \n",
       "...                           ...  \n",
       "16276                           0  \n",
       "16277                           0  \n",
       "16278                           0  \n",
       "16279                           0  \n",
       "16280                           0  \n",
       "\n",
       "[48842 rows x 107 columns]"
      ]
     },
     "execution_count": 15,
     "metadata": {},
     "output_type": "execute_result"
    }
   ],
   "source": [
    "# normalize numerical data\n",
    "for col in numerical_cols:\n",
    "    data[col] = (data[col] - data[col].mean()) / data[col].std()\n",
    "data"
   ]
  },
  {
   "cell_type": "code",
   "execution_count": 16,
   "metadata": {
    "execution": {
     "iopub.execute_input": "2020-11-05T17:05:00.568603Z",
     "iopub.status.busy": "2020-11-05T17:05:00.567798Z",
     "iopub.status.idle": "2020-11-05T17:05:00.580681Z",
     "shell.execute_reply": "2020-11-05T17:05:00.580014Z"
    },
    "papermill": {
     "duration": 0.060997,
     "end_time": "2020-11-05T17:05:00.580811",
     "exception": false,
     "start_time": "2020-11-05T17:05:00.519814",
     "status": "completed"
    },
    "tags": []
   },
   "outputs": [
    {
     "data": {
      "text/plain": [
       "(48842, 106)"
      ]
     },
     "execution_count": 16,
     "metadata": {},
     "output_type": "execute_result"
    }
   ],
   "source": [
    "# remove special\n",
    "data = data.drop(['native_country_ Holand-Netherlands'], axis=1)\n",
    "data.shape"
   ]
  },
  {
   "cell_type": "markdown",
   "metadata": {
    "papermill": {
     "duration": 0.042168,
     "end_time": "2020-11-05T17:05:00.665697",
     "exception": false,
     "start_time": "2020-11-05T17:05:00.623529",
     "status": "completed"
    },
    "tags": []
   },
   "source": [
    "107->106"
   ]
  },
  {
   "cell_type": "code",
   "execution_count": 17,
   "metadata": {
    "execution": {
     "iopub.execute_input": "2020-11-05T17:05:00.760391Z",
     "iopub.status.busy": "2020-11-05T17:05:00.759368Z",
     "iopub.status.idle": "2020-11-05T17:05:00.764528Z",
     "shell.execute_reply": "2020-11-05T17:05:00.763765Z"
    },
    "papermill": {
     "duration": 0.055992,
     "end_time": "2020-11-05T17:05:00.764659",
     "exception": false,
     "start_time": "2020-11-05T17:05:00.708667",
     "status": "completed"
    },
    "tags": []
   },
   "outputs": [
    {
     "data": {
      "text/plain": [
       "((32561, 106), (16281, 106))"
      ]
     },
     "execution_count": 17,
     "metadata": {},
     "output_type": "execute_result"
    }
   ],
   "source": [
    "# split train and test data\n",
    "train = data.iloc[:len(train), :]\n",
    "test = data.iloc[len(train):, :]\n",
    "train.shape, test.shape"
   ]
  },
  {
   "cell_type": "code",
   "execution_count": 18,
   "metadata": {
    "execution": {
     "iopub.execute_input": "2020-11-05T17:05:00.858555Z",
     "iopub.status.busy": "2020-11-05T17:05:00.857363Z",
     "iopub.status.idle": "2020-11-05T17:05:00.862399Z",
     "shell.execute_reply": "2020-11-05T17:05:00.861640Z"
    },
    "papermill": {
     "duration": 0.05385,
     "end_time": "2020-11-05T17:05:00.862540",
     "exception": false,
     "start_time": "2020-11-05T17:05:00.808690",
     "status": "completed"
    },
    "tags": []
   },
   "outputs": [
    {
     "data": {
      "text/plain": [
       "(32561, 1)"
      ]
     },
     "execution_count": 18,
     "metadata": {},
     "output_type": "execute_result"
    }
   ],
   "source": [
    "target.shape"
   ]
  },
  {
   "cell_type": "code",
   "execution_count": 19,
   "metadata": {
    "execution": {
     "iopub.execute_input": "2020-11-05T17:05:00.960172Z",
     "iopub.status.busy": "2020-11-05T17:05:00.959373Z",
     "iopub.status.idle": "2020-11-05T17:05:00.980512Z",
     "shell.execute_reply": "2020-11-05T17:05:00.979622Z"
    },
    "papermill": {
     "duration": 0.07402,
     "end_time": "2020-11-05T17:05:00.980654",
     "exception": false,
     "start_time": "2020-11-05T17:05:00.906634",
     "status": "completed"
    },
    "tags": []
   },
   "outputs": [
    {
     "data": {
      "text/plain": [
       "((24720, 106), (7841, 106))"
      ]
     },
     "execution_count": 19,
     "metadata": {},
     "output_type": "execute_result"
    }
   ],
   "source": [
    "# extract class_0 and class_1 data\n",
    "class_0 = train.iloc[target[target.income==0].index, :]\n",
    "class_1 = train.iloc[target[target.income==1].index, :]\n",
    "class_0.shape, class_1.shape"
   ]
  },
  {
   "cell_type": "markdown",
   "metadata": {
    "papermill": {
     "duration": 0.044726,
     "end_time": "2020-11-05T17:05:01.073634",
     "exception": false,
     "start_time": "2020-11-05T17:05:01.028908",
     "status": "completed"
    },
    "tags": []
   },
   "source": [
    "## Model\n",
    "\n",
    "Probabilistic generative model\n",
    "\n",
    "* train_test_split 30000 => 0.2\n",
    "    * method_1: artificial (sequential extraction)\n",
    "    * method_2: by using sklearn\n",
    "* Gaussian Distribution parameters\n"
   ]
  },
  {
   "cell_type": "code",
   "execution_count": 20,
   "metadata": {
    "execution": {
     "iopub.execute_input": "2020-11-05T17:05:01.169018Z",
     "iopub.status.busy": "2020-11-05T17:05:01.168103Z",
     "iopub.status.idle": "2020-11-05T17:05:01.231921Z",
     "shell.execute_reply": "2020-11-05T17:05:01.231223Z"
    },
    "papermill": {
     "duration": 0.113871,
     "end_time": "2020-11-05T17:05:01.232067",
     "exception": false,
     "start_time": "2020-11-05T17:05:01.118196",
     "status": "completed"
    },
    "tags": []
   },
   "outputs": [],
   "source": [
    "from sklearn.model_selection import train_test_split"
   ]
  },
  {
   "cell_type": "code",
   "execution_count": 21,
   "metadata": {
    "execution": {
     "iopub.execute_input": "2020-11-05T17:05:01.333927Z",
     "iopub.status.busy": "2020-11-05T17:05:01.331797Z",
     "iopub.status.idle": "2020-11-05T17:05:01.339490Z",
     "shell.execute_reply": "2020-11-05T17:05:01.338723Z"
    },
    "papermill": {
     "duration": 0.062456,
     "end_time": "2020-11-05T17:05:01.339626",
     "exception": false,
     "start_time": "2020-11-05T17:05:01.277170",
     "status": "completed"
    },
    "tags": []
   },
   "outputs": [
    {
     "data": {
      "text/plain": [
       "((26048, 106), (26048, 1), (6513, 106), (6513, 1))"
      ]
     },
     "execution_count": 21,
     "metadata": {},
     "output_type": "execute_result"
    }
   ],
   "source": [
    "# train_test_split\n",
    "\n",
    "# artificial\n",
    "def split_valid_set(X, y, valid_set_percentage):\n",
    "    num = int(len(X)*(1-valid_set_percentage))\n",
    "    return X.iloc[:num, :], y.iloc[:num, :], X.iloc[num:, :], y.iloc[num:, :]\n",
    "\n",
    "X_train, y_train, X_val, y_val = split_valid_set(train, target, 0.2)\n",
    "X_train.shape, y_train.shape, X_val.shape, y_val.shape"
   ]
  },
  {
   "cell_type": "code",
   "execution_count": 22,
   "metadata": {
    "execution": {
     "iopub.execute_input": "2020-11-05T17:05:01.438526Z",
     "iopub.status.busy": "2020-11-05T17:05:01.437667Z",
     "iopub.status.idle": "2020-11-05T17:05:01.457427Z",
     "shell.execute_reply": "2020-11-05T17:05:01.458025Z"
    },
    "papermill": {
     "duration": 0.072916,
     "end_time": "2020-11-05T17:05:01.458207",
     "exception": false,
     "start_time": "2020-11-05T17:05:01.385291",
     "status": "completed"
    },
    "tags": []
   },
   "outputs": [
    {
     "data": {
      "text/plain": [
       "((26048, 106), (6513, 106), (26048, 1), (6513, 1))"
      ]
     },
     "execution_count": 22,
     "metadata": {},
     "output_type": "execute_result"
    }
   ],
   "source": [
    "# use train_test_split\n",
    "X_train, X_val, y_train, y_val = train_test_split(train, target, test_size=0.2)\n",
    "X_train.shape, X_val.shape, y_train.shape, y_val.shape"
   ]
  },
  {
   "cell_type": "code",
   "execution_count": 23,
   "metadata": {
    "execution": {
     "iopub.execute_input": "2020-11-05T17:05:01.564641Z",
     "iopub.status.busy": "2020-11-05T17:05:01.559369Z",
     "iopub.status.idle": "2020-11-05T17:05:01.571600Z",
     "shell.execute_reply": "2020-11-05T17:05:01.570739Z"
    },
    "papermill": {
     "duration": 0.067051,
     "end_time": "2020-11-05T17:05:01.571750",
     "exception": false,
     "start_time": "2020-11-05T17:05:01.504699",
     "status": "completed"
    },
    "tags": []
   },
   "outputs": [],
   "source": [
    "# Encapsulate the train function\n",
    "def train(X_train, y_train):\n",
    "    '''\n",
    "    init params\n",
    "    '''\n",
    "    cnt1 = 0\n",
    "    cnt2 = 0\n",
    "    mu1 = np.zeros((106, ))\n",
    "    mu2 = np.zeros((106, ))\n",
    "    train_data_size = X_train.shape[0]\n",
    "    \n",
    "    '''\n",
    "    Gaussian distribution \n",
    "    '''\n",
    "    for i in range(train_data_size):\n",
    "        if y_train[i] == 1:\n",
    "            mu1 += X_train[i]\n",
    "            cnt1 += 1\n",
    "        else:\n",
    "            mu2 += X_train[i]\n",
    "            cnt2 += 1\n",
    "    mu1 /= cnt1\n",
    "    mu2 /= cnt2\n",
    "    \n",
    "    '''\n",
    "    init params\n",
    "    '''\n",
    "    sigma1 = np.zeros((106, 106))\n",
    "    sigma2 = np.zeros((106, 106))\n",
    "    '''\n",
    "    compute\n",
    "    '''\n",
    "    for i in range(train_data_size):\n",
    "        if y_train[i] == 1:\n",
    "            sigma1 += np.dot(np.transpose([X_train[i] - mu1]), [X_train[i] - mu1])\n",
    "        else:\n",
    "            sigma2 += np.dot(np.transpose([X_train[i] - mu2]), [X_train[i] - mu2])\n",
    "    sigma1 /= cnt1\n",
    "    sigma2 /= cnt2\n",
    "    shared_sigma = (float(cnt1) / train_data_size) * sigma1 + (float(cnt2) / train_data_size) * sigma2\n",
    "    \n",
    "    N1 = cnt1\n",
    "    N2 = cnt2\n",
    "    \n",
    "    return mu1, mu2, shared_sigma, N1, N2"
   ]
  },
  {
   "cell_type": "code",
   "execution_count": 24,
   "metadata": {
    "execution": {
     "iopub.execute_input": "2020-11-05T17:05:01.672513Z",
     "iopub.status.busy": "2020-11-05T17:05:01.671665Z",
     "iopub.status.idle": "2020-11-05T17:05:01.726767Z",
     "shell.execute_reply": "2020-11-05T17:05:01.726001Z"
    },
    "papermill": {
     "duration": 0.109338,
     "end_time": "2020-11-05T17:05:01.726917",
     "exception": false,
     "start_time": "2020-11-05T17:05:01.617579",
     "status": "completed"
    },
    "tags": []
   },
   "outputs": [],
   "source": [
    "mean_0 = np.mean(class_0, axis=0)\n",
    "mean_1 = np.mean(class_1, axis=0)\n",
    "\n",
    "n = class_0.shape[1]\n",
    "cov_0 = np.zeros((n, n))\n",
    "cov_1 = np.zeros((n, n))\n",
    "\n",
    "class_0 = class_0.to_numpy()\n",
    "class_1 = class_1.to_numpy()"
   ]
  },
  {
   "cell_type": "code",
   "execution_count": 25,
   "metadata": {
    "execution": {
     "iopub.execute_input": "2020-11-05T17:05:01.831957Z",
     "iopub.status.busy": "2020-11-05T17:05:01.830694Z",
     "iopub.status.idle": "2020-11-05T17:05:23.423458Z",
     "shell.execute_reply": "2020-11-05T17:05:23.422736Z"
    },
    "papermill": {
     "duration": 21.650471,
     "end_time": "2020-11-05T17:05:23.423624",
     "exception": false,
     "start_time": "2020-11-05T17:05:01.773153",
     "status": "completed"
    },
    "tags": []
   },
   "outputs": [],
   "source": [
    "for i in range(class_0.shape[0]):\n",
    "    cov_0 += np.dot(np.transpose([class_0[i] - mean_0]), [(class_0[i] - mean_0)]) / class_0.shape[0]\n",
    "for i in range(class_1.shape[0]):\n",
    "    cov_1 += np.dot(np.transpose([class_1[i] - mean_1]), [(class_1[i] - mean_1)]) / class_1.shape[0]\n",
    "cov = (cov_0*class_0.shape[0] + cov_1*class_1.shape[0]) / (class_0.shape[0] + class_1.shape[0])"
   ]
  },
  {
   "cell_type": "code",
   "execution_count": 26,
   "metadata": {
    "execution": {
     "iopub.execute_input": "2020-11-05T17:05:23.525429Z",
     "iopub.status.busy": "2020-11-05T17:05:23.524458Z",
     "iopub.status.idle": "2020-11-05T17:05:23.564250Z",
     "shell.execute_reply": "2020-11-05T17:05:23.563303Z"
    },
    "papermill": {
     "duration": 0.094256,
     "end_time": "2020-11-05T17:05:23.564428",
     "exception": false,
     "start_time": "2020-11-05T17:05:23.470172",
     "status": "completed"
    },
    "tags": []
   },
   "outputs": [
    {
     "name": "stdout",
     "output_type": "stream",
     "text": [
      "[-0.29747837 -0.06665299 -0.37012635 -0.50778098 -0.50404036 -0.32183847\n",
      " -0.30971165  0.11566764 -1.03613855 -0.16016427 -0.25238999 -0.41587411\n",
      " -0.93368696  0.14294189 -0.03138123  0.95264026  0.03830007 -0.02407662\n",
      " -0.06941131 -0.11649718 -0.04519932  0.37985893  0.19320101  0.04748232\n",
      " -0.11209174 -0.63633107 -1.94910839  0.17549984 -1.24895546 -0.33436123\n",
      " -1.63581924 -0.08897033  0.37997781 -1.17471979 -0.60712891  0.15063203\n",
      "  0.45643867  0.27117341  0.21043125  0.03116556  0.17922304  1.34056991\n",
      "  0.31419221 -0.93222296  1.08098153  0.67395304  0.60098309  0.3944139\n",
      "  0.09926254 -0.39923892 -0.44777627 -0.16635973 -0.43505356  0.54362822\n",
      " -2.71320892 -1.32061879 -1.57926381 -1.54258435 -1.43984808 -3.70276047\n",
      "  0.64414045  0.31684511  0.40440773  0.59332289  0.26833204 -1.09856329\n",
      " -2.69261783 -1.6696324  -0.66393018 -0.57960675 -1.457983   -1.0095229\n",
      " -1.22259495 -1.4398576  -1.78541564 -2.10002495 -1.80587917 -0.56737583\n",
      " -1.66136966 -1.25823916 -1.19348481 -1.18357257 -1.17712032 -0.99886249\n",
      " -1.49760499 -1.9098489  -2.05707642 -1.41645697 -1.94035105 -0.67480421\n",
      " -1.05965957 -0.80450366 -0.09503345 -0.93491629 -1.71222151 -1.15770937\n",
      " -1.05720207 -1.18624986 -1.22713142 -0.63465279 -1.03826906 -0.96116077\n",
      " -1.04664745 -1.55519758 -0.74944046 -1.96298759]\n",
      "6.173636880340705\n"
     ]
    }
   ],
   "source": [
    "w = np.transpose((mean_0 - mean_1)).dot(inv(cov))\n",
    "b = (-0.5)*mean_0.dot(inv(cov)).dot(mean_0) + 0.5*mean_1.dot(inv(cov)).dot(mean_1)\\\n",
    "    + np.log(float(class_0.shape[0]) / class_1.shape[0])\n",
    "print(w)\n",
    "print(b)"
   ]
  },
  {
   "cell_type": "code",
   "execution_count": 27,
   "metadata": {
    "execution": {
     "iopub.execute_input": "2020-11-05T17:05:23.687849Z",
     "iopub.status.busy": "2020-11-05T17:05:23.686534Z",
     "iopub.status.idle": "2020-11-05T17:05:23.996894Z",
     "shell.execute_reply": "2020-11-05T17:05:23.996240Z"
    },
    "papermill": {
     "duration": 0.375584,
     "end_time": "2020-11-05T17:05:23.997028",
     "exception": false,
     "start_time": "2020-11-05T17:05:23.621444",
     "status": "completed"
    },
    "tags": []
   },
   "outputs": [],
   "source": [
    "def predict(x, w, b):\n",
    "    '''\n",
    "    matrix calc\n",
    "    1 w * x + b\n",
    "    2 use sigmoid to [0, 1]\n",
    "    '''\n",
    "    arr = np.empty([x.shape[0], 1], dtype=float)\n",
    "    for i in range(x.shape[0]):\n",
    "        z = x[i, :].dot(w) + b\n",
    "        z *= (-1)\n",
    "        arr[i][0] = 1 / (1 + np.exp(z))\n",
    "    chips = np.clip(arr, 1e-8, 1-(1e-8))\n",
    "\n",
    "    '''\n",
    "    set threshold to classify\n",
    "    '''\n",
    "    ans = np.ones([chips.shape[0], 1], dtype=int)\n",
    "    for i in range(x.shape[0]):\n",
    "        # print(chips[i])\n",
    "        if chips[i] > 0.5:\n",
    "            # print( '+' * 5 )\n",
    "            ans[i] = 0\n",
    "        else:\n",
    "            # print( '-' * 5 )\n",
    "            ans[i] = 1\n",
    "    return ans\n",
    "\n",
    "\n",
    "preds = predict(X_train.to_numpy(), w, b)"
   ]
  },
  {
   "cell_type": "code",
   "execution_count": 28,
   "metadata": {
    "execution": {
     "iopub.execute_input": "2020-11-05T17:05:24.098238Z",
     "iopub.status.busy": "2020-11-05T17:05:24.097327Z",
     "iopub.status.idle": "2020-11-05T17:05:24.102628Z",
     "shell.execute_reply": "2020-11-05T17:05:24.101717Z"
    },
    "papermill": {
     "duration": 0.058213,
     "end_time": "2020-11-05T17:05:24.102763",
     "exception": false,
     "start_time": "2020-11-05T17:05:24.044550",
     "status": "completed"
    },
    "tags": []
   },
   "outputs": [
    {
     "data": {
      "text/plain": [
       "array([[0],\n",
       "       [0],\n",
       "       [1],\n",
       "       ...,\n",
       "       [0],\n",
       "       [0],\n",
       "       [0]])"
      ]
     },
     "execution_count": 28,
     "metadata": {},
     "output_type": "execute_result"
    }
   ],
   "source": [
    "preds"
   ]
  },
  {
   "cell_type": "code",
   "execution_count": 29,
   "metadata": {
    "execution": {
     "iopub.execute_input": "2020-11-05T17:05:24.206827Z",
     "iopub.status.busy": "2020-11-05T17:05:24.205666Z",
     "iopub.status.idle": "2020-11-05T17:05:24.356372Z",
     "shell.execute_reply": "2020-11-05T17:05:24.356924Z"
    },
    "papermill": {
     "duration": 0.205446,
     "end_time": "2020-11-05T17:05:24.357094",
     "exception": false,
     "start_time": "2020-11-05T17:05:24.151648",
     "status": "completed"
    },
    "tags": []
   },
   "outputs": [
    {
     "data": {
      "text/plain": [
       "<matplotlib.axes._subplots.AxesSubplot at 0x7fc14ebb8a90>"
      ]
     },
     "execution_count": 29,
     "metadata": {},
     "output_type": "execute_result"
    },
    {
     "data": {
      "image/png": "[encoded data removed]",
      "text/plain": [
       "<Figure size 432x288 with 1 Axes>"
      ]
     },
     "metadata": {
      "needs_background": "light"
     },
     "output_type": "display_data"
    }
   ],
   "source": [
    "pd.DataFrame(preds).value_counts().plot.bar()"
   ]
  },
  {
   "cell_type": "code",
   "execution_count": 30,
   "metadata": {
    "execution": {
     "iopub.execute_input": "2020-11-05T17:05:24.464706Z",
     "iopub.status.busy": "2020-11-05T17:05:24.463883Z",
     "iopub.status.idle": "2020-11-05T17:05:24.786249Z",
     "shell.execute_reply": "2020-11-05T17:05:24.786833Z"
    },
    "papermill": {
     "duration": 0.380043,
     "end_time": "2020-11-05T17:05:24.787003",
     "exception": false,
     "start_time": "2020-11-05T17:05:24.406960",
     "status": "completed"
    },
    "tags": []
   },
   "outputs": [
    {
     "data": {
      "text/plain": [
       "<matplotlib.axes._subplots.AxesSubplot at 0x7fc14eaff490>"
      ]
     },
     "execution_count": 30,
     "metadata": {},
     "output_type": "execute_result"
    },
    {
     "data": {
      "image/png": "[encoded data removed]",
      "text/plain": [
       "<Figure size 432x288 with 1 Axes>"
      ]
     },
     "metadata": {
      "needs_background": "light"
     },
     "output_type": "display_data"
    }
   ],
   "source": [
    "test_preds = predict(test.to_numpy(), w, b)\n",
    "pd.DataFrame(test_preds).value_counts().plot.bar()"
   ]
  },
  {
   "cell_type": "code",
   "execution_count": null,
   "metadata": {
    "papermill": {
     "duration": 0.058772,
     "end_time": "2020-11-05T17:05:24.906594",
     "exception": false,
     "start_time": "2020-11-05T17:05:24.847822",
     "status": "completed"
    },
    "tags": []
   },
   "outputs": [],
   "source": []
  },
  {
   "cell_type": "code",
   "execution_count": null,
   "metadata": {
    "papermill": {
     "duration": 0.052448,
     "end_time": "2020-11-05T17:05:25.025785",
     "exception": false,
     "start_time": "2020-11-05T17:05:24.973337",
     "status": "completed"
    },
    "tags": []
   },
   "outputs": [],
   "source": []
  }
 ],
 "metadata": {
  "kernelspec": {
   "display_name": "Python 3",
   "language": "python",
   "name": "python3"
  },
  "language_info": {
   "codemirror_mode": {
    "name": "ipython",
    "version": 3
   },
   "file_extension": ".py",
   "mimetype": "text/x-python",
   "name": "python",
   "nbconvert_exporter": "python",
   "pygments_lexer": "ipython3",
   "version": "3.7.6"
  },
  "papermill": {
   "duration": 261.50408,
   "end_time": "2020-11-05T17:05:25.185723",
   "environment_variables": {},
   "exception": null,
   "input_path": "__notebook__.ipynb",
   "output_path": "__notebook__.ipynb",
   "parameters": {},
   "start_time": "2020-11-05T17:01:03.681643",
   "version": "2.1.0"
  }
 },
 "nbformat": 4,
 "nbformat_minor": 4
}
