{
 "cells": [
  {
   "cell_type": "markdown",
   "metadata": {
    "papermill": {
     "duration": 0.026736,
     "end_time": "2020-11-15T14:15:49.451102",
     "exception": false,
     "start_time": "2020-11-15T14:15:49.424366",
     "status": "completed"
    },
    "tags": []
   },
   "source": [
    "## Prework\n",
    "\n",
    "* import basic dependencies\n",
    "* load data\n",
    "* check data"
   ]
  },
  {
   "cell_type": "code",
   "execution_count": 1,
   "metadata": {
    "_cell_guid": "b1076dfc-b9ad-4769-8c92-a6c4dae69d19",
    "_uuid": "8f2839f25d086af736a60e9eeb907d3b93b6e0e5",
    "execution": {
     "iopub.execute_input": "2020-11-15T14:15:49.510849Z",
     "iopub.status.busy": "2020-11-15T14:15:49.510116Z",
     "iopub.status.idle": "2020-11-15T14:15:49.516625Z",
     "shell.execute_reply": "2020-11-15T14:15:49.517541Z"
    },
    "papermill": {
     "duration": 0.040605,
     "end_time": "2020-11-15T14:15:49.517778",
     "exception": false,
     "start_time": "2020-11-15T14:15:49.477173",
     "status": "completed"
    },
    "tags": []
   },
   "outputs": [
    {
     "name": "stdout",
     "output_type": "stream",
     "text": [
      "/kaggle/input/salary-prediction/train.csv\n",
      "/kaggle/input/salary-prediction/test.csv\n"
     ]
    }
   ],
   "source": [
    "# This Python 3 environment comes with many helpful analytics libraries installed\n",
    "# It is defined by the kaggle/python Docker image: https://github.com/kaggle/docker-python\n",
    "# For example, here's several helpful packages to load\n",
    "\n",
    "import numpy as np # linear algebra\n",
    "import pandas as pd # data processing, CSV file I/O (e.g. pd.read_csv)\n",
    "\n",
    "# Input data files are available in the read-only \"../input/\" directory\n",
    "# For example, running this (by clicking run or pressing Shift+Enter) will list all files under the input directory\n",
    "\n",
    "import os\n",
    "for dirname, _, filenames in os.walk('/kaggle/input'):\n",
    "    for filename in filenames:\n",
    "        print(os.path.join(dirname, filename))\n",
    "\n",
    "# You can write up to 20GB to the current directory (/kaggle/working/) that gets preserved as output when you create a version using \"Save & Run All\" \n",
    "# You can also write temporary files to /kaggle/temp/, but they won't be saved outside of the current session"
   ]
  },
  {
   "cell_type": "code",
   "execution_count": 2,
   "metadata": {
    "_cell_guid": "79c7e3d0-c299-4dcb-8224-4455121ee9b0",
    "_uuid": "d629ff2d2480ee46fbb7e2d37f6b5fab8052498a",
    "execution": {
     "iopub.execute_input": "2020-11-15T14:15:49.579754Z",
     "iopub.status.busy": "2020-11-15T14:15:49.578643Z",
     "iopub.status.idle": "2020-11-15T14:15:50.603406Z",
     "shell.execute_reply": "2020-11-15T14:15:50.602594Z"
    },
    "papermill": {
     "duration": 1.057928,
     "end_time": "2020-11-15T14:15:50.603532",
     "exception": false,
     "start_time": "2020-11-15T14:15:49.545604",
     "status": "completed"
    },
    "tags": []
   },
   "outputs": [],
   "source": [
    "import matplotlib.pyplot as plt\n",
    "%matplotlib inline\n",
    "import seaborn as sns"
   ]
  },
  {
   "cell_type": "code",
   "execution_count": 3,
   "metadata": {
    "execution": {
     "iopub.execute_input": "2020-11-15T14:15:50.666746Z",
     "iopub.status.busy": "2020-11-15T14:15:50.665559Z",
     "iopub.status.idle": "2020-11-15T14:15:50.841569Z",
     "shell.execute_reply": "2020-11-15T14:15:50.840939Z"
    },
    "papermill": {
     "duration": 0.211308,
     "end_time": "2020-11-15T14:15:50.841707",
     "exception": false,
     "start_time": "2020-11-15T14:15:50.630399",
     "status": "completed"
    },
    "tags": []
   },
   "outputs": [
    {
     "data": {
      "text/plain": [
       "((32561, 15), (16281, 14))"
      ]
     },
     "execution_count": 3,
     "metadata": {},
     "output_type": "execute_result"
    }
   ],
   "source": [
    "train = pd.read_csv('/kaggle/input/salary-prediction/train.csv')\n",
    "test = pd.read_csv('/kaggle/input/salary-prediction/test.csv')\n",
    "train.shape, test.shape"
   ]
  },
  {
   "cell_type": "code",
   "execution_count": 4,
   "metadata": {
    "execution": {
     "iopub.execute_input": "2020-11-15T14:15:50.906697Z",
     "iopub.status.busy": "2020-11-15T14:15:50.904477Z",
     "iopub.status.idle": "2020-11-15T14:15:51.042973Z",
     "shell.execute_reply": "2020-11-15T14:15:51.041913Z"
    },
    "papermill": {
     "duration": 0.17466,
     "end_time": "2020-11-15T14:15:51.043179",
     "exception": false,
     "start_time": "2020-11-15T14:15:50.868519",
     "status": "completed"
    },
    "tags": []
   },
   "outputs": [
    {
     "name": "stdout",
     "output_type": "stream",
     "text": [
      "data shape is: (32561, 15)   sample number 32561   attribute number 15\n",
      "\n",
      "data columns number 15  \n",
      "all columns: Index(['age', 'workclass', 'fnlwgt', 'education', 'education_num',\n",
      "       'marital_status', 'occupation', 'relationship', 'race', 'sex',\n",
      "       'capital_gain', 'capital_loss', 'hours_per_week', 'native_country',\n",
      "       'income'],\n",
      "      dtype='object')\n",
      "\n",
      "data all attribute count null:\n",
      " age               0\n",
      "workclass         0\n",
      "fnlwgt            0\n",
      "education         0\n",
      "education_num     0\n",
      "marital_status    0\n",
      "occupation        0\n",
      "relationship      0\n",
      "race              0\n",
      "sex               0\n",
      "capital_gain      0\n",
      "capital_loss      0\n",
      "hours_per_week    0\n",
      "native_country    0\n",
      "income            0\n",
      "dtype: int64\n",
      "data value analysis:                  age        fnlwgt  education_num  capital_gain  capital_loss  \\\n",
      "count  32561.000000  3.256100e+04   32561.000000  32561.000000  32561.000000   \n",
      "mean      38.581647  1.897784e+05      10.080679   1077.648844     87.303830   \n",
      "std       13.640433  1.055500e+05       2.572720   7385.292085    402.960219   \n",
      "min       17.000000  1.228500e+04       1.000000      0.000000      0.000000   \n",
      "25%       28.000000  1.178270e+05       9.000000      0.000000      0.000000   \n",
      "50%       37.000000  1.783560e+05      10.000000      0.000000      0.000000   \n",
      "75%       48.000000  2.370510e+05      12.000000      0.000000      0.000000   \n",
      "max       90.000000  1.484705e+06      16.000000  99999.000000   4356.000000   \n",
      "\n",
      "       hours_per_week  \n",
      "count    32561.000000  \n",
      "mean        40.437456  \n",
      "std         12.347429  \n",
      "min          1.000000  \n",
      "25%         40.000000  \n",
      "50%         40.000000  \n",
      "75%         45.000000  \n",
      "max         99.000000  \n",
      "data demo without matrix transpose:     age          workclass  fnlwgt   education  education_num  \\\n",
      "0   39          State-gov   77516   Bachelors             13   \n",
      "1   50   Self-emp-not-inc   83311   Bachelors             13   \n",
      "2   38            Private  215646     HS-grad              9   \n",
      "3   53            Private  234721        11th              7   \n",
      "4   28            Private  338409   Bachelors             13   \n",
      "\n",
      "        marital_status          occupation    relationship    race      sex  \\\n",
      "0        Never-married        Adm-clerical   Not-in-family   White     Male   \n",
      "1   Married-civ-spouse     Exec-managerial         Husband   White     Male   \n",
      "2             Divorced   Handlers-cleaners   Not-in-family   White     Male   \n",
      "3   Married-civ-spouse   Handlers-cleaners         Husband   Black     Male   \n",
      "4   Married-civ-spouse      Prof-specialty            Wife   Black   Female   \n",
      "\n",
      "   capital_gain  capital_loss  hours_per_week  native_country  income  \n",
      "0          2174             0              40   United-States   <=50K  \n",
      "1             0             0              13   United-States   <=50K  \n",
      "2             0             0              40   United-States   <=50K  \n",
      "3             0             0              40   United-States   <=50K  \n",
      "4             0             0              40            Cuba   <=50K  \n",
      "data shape is: (16281, 14)   sample number 16281   attribute number 14\n",
      "\n",
      "data columns number 14  \n",
      "all columns: Index(['age', 'workclass', 'fnlwgt', 'education', 'education_num',\n",
      "       'marital_status', 'occupation', 'relationship', 'race', 'sex',\n",
      "       'capital_gain', 'capital_loss', 'hours_per_week', 'native_country'],\n",
      "      dtype='object')\n",
      "\n",
      "data all attribute count null:\n",
      " age               0\n",
      "workclass         0\n",
      "fnlwgt            0\n",
      "education         0\n",
      "education_num     0\n",
      "marital_status    0\n",
      "occupation        0\n",
      "relationship      0\n",
      "race              0\n",
      "sex               0\n",
      "capital_gain      0\n",
      "capital_loss      0\n",
      "hours_per_week    0\n",
      "native_country    0\n",
      "dtype: int64\n",
      "data value analysis:                  age        fnlwgt  education_num  capital_gain  capital_loss  \\\n",
      "count  16281.000000  1.628100e+04   16281.000000  16281.000000  16281.000000   \n",
      "mean      38.767459  1.894357e+05      10.072907   1081.905104     87.899269   \n",
      "std       13.849187  1.057149e+05       2.567545   7583.935968    403.105286   \n",
      "min       17.000000  1.349200e+04       1.000000      0.000000      0.000000   \n",
      "25%       28.000000  1.167360e+05       9.000000      0.000000      0.000000   \n",
      "50%       37.000000  1.778310e+05      10.000000      0.000000      0.000000   \n",
      "75%       48.000000  2.383840e+05      12.000000      0.000000      0.000000   \n",
      "max       90.000000  1.490400e+06      16.000000  99999.000000   3770.000000   \n",
      "\n",
      "       hours_per_week  \n",
      "count    16281.000000  \n",
      "mean        40.392236  \n",
      "std         12.479332  \n",
      "min          1.000000  \n",
      "25%         40.000000  \n",
      "50%         40.000000  \n",
      "75%         45.000000  \n",
      "max         99.000000  \n",
      "data demo without matrix transpose:     age   workclass  fnlwgt      education  education_num       marital_status  \\\n",
      "0   25     Private  226802           11th              7        Never-married   \n",
      "1   38     Private   89814        HS-grad              9   Married-civ-spouse   \n",
      "2   28   Local-gov  336951     Assoc-acdm             12   Married-civ-spouse   \n",
      "3   44     Private  160323   Some-college             10   Married-civ-spouse   \n",
      "4   18           ?  103497   Some-college             10        Never-married   \n",
      "\n",
      "           occupation relationship    race      sex  capital_gain  \\\n",
      "0   Machine-op-inspct    Own-child   Black     Male             0   \n",
      "1     Farming-fishing      Husband   White     Male             0   \n",
      "2     Protective-serv      Husband   White     Male             0   \n",
      "3   Machine-op-inspct      Husband   Black     Male          7688   \n",
      "4                   ?    Own-child   White   Female             0   \n",
      "\n",
      "   capital_loss  hours_per_week  native_country  \n",
      "0             0              40   United-States  \n",
      "1             0              50   United-States  \n",
      "2             0              40   United-States  \n",
      "3             0              40   United-States  \n",
      "4             0              30   United-States  \n"
     ]
    }
   ],
   "source": [
    "# check data\n",
    "def show_info(data, is_matrix_transpose=False):\n",
    "    # basic shape\n",
    "    print('data shape is: {}   sample number {}   attribute number {}\\n'.format(data.shape, data.shape[0], data.shape[1]))\n",
    "    # attribute(key)\n",
    "    print('data columns number {}  \\nall columns: {}\\n'.format(len(data.columns) ,data.columns))\n",
    "    # value's null\n",
    "    print('data all attribute count null:\\n', data.isna().sum())\n",
    "    # data value analysis and data demo\n",
    "    if is_matrix_transpose:\n",
    "        print('data value analysis: ', data.describe().T)\n",
    "        print('data demo without matrix transpose: ', data.head().T)\n",
    "    else:\n",
    "        print('data value analysis: ', data.describe())\n",
    "        print('data demo without matrix transpose: ', data.head())\n",
    "show_info(train)\n",
    "show_info(test)"
   ]
  },
  {
   "cell_type": "markdown",
   "metadata": {
    "papermill": {
     "duration": 0.028083,
     "end_time": "2020-11-15T14:15:51.099792",
     "exception": false,
     "start_time": "2020-11-15T14:15:51.071709",
     "status": "completed"
    },
    "tags": []
   },
   "source": [
    "## data preprocessing\n"
   ]
  },
  {
   "cell_type": "code",
   "execution_count": 5,
   "metadata": {
    "execution": {
     "iopub.execute_input": "2020-11-15T14:15:51.161127Z",
     "iopub.status.busy": "2020-11-15T14:15:51.160372Z",
     "iopub.status.idle": "2020-11-15T14:15:51.225219Z",
     "shell.execute_reply": "2020-11-15T14:15:51.224403Z"
    },
    "papermill": {
     "duration": 0.097566,
     "end_time": "2020-11-15T14:15:51.225349",
     "exception": false,
     "start_time": "2020-11-15T14:15:51.127783",
     "status": "completed"
    },
    "tags": []
   },
   "outputs": [],
   "source": [
    "from sklearn.preprocessing import OneHotEncoder, LabelEncoder"
   ]
  },
  {
   "cell_type": "code",
   "execution_count": 6,
   "metadata": {
    "execution": {
     "iopub.execute_input": "2020-11-15T14:15:51.298176Z",
     "iopub.status.busy": "2020-11-15T14:15:51.292995Z",
     "iopub.status.idle": "2020-11-15T14:15:51.306634Z",
     "shell.execute_reply": "2020-11-15T14:15:51.305880Z"
    },
    "papermill": {
     "duration": 0.052333,
     "end_time": "2020-11-15T14:15:51.306766",
     "exception": false,
     "start_time": "2020-11-15T14:15:51.254433",
     "status": "completed"
    },
    "tags": []
   },
   "outputs": [
    {
     "data": {
      "text/html": [
       "<div>\n",
       "<style scoped>\n",
       "    .dataframe tbody tr th:only-of-type {\n",
       "        vertical-align: middle;\n",
       "    }\n",
       "\n",
       "    .dataframe tbody tr th {\n",
       "        vertical-align: top;\n",
       "    }\n",
       "\n",
       "    .dataframe thead th {\n",
       "        text-align: right;\n",
       "    }\n",
       "</style>\n",
       "<table border=\"1\" class=\"dataframe\">\n",
       "  <thead>\n",
       "    <tr style=\"text-align: right;\">\n",
       "      <th></th>\n",
       "      <th>income</th>\n",
       "    </tr>\n",
       "  </thead>\n",
       "  <tbody>\n",
       "    <tr>\n",
       "      <th>0</th>\n",
       "      <td>0</td>\n",
       "    </tr>\n",
       "    <tr>\n",
       "      <th>1</th>\n",
       "      <td>0</td>\n",
       "    </tr>\n",
       "    <tr>\n",
       "      <th>2</th>\n",
       "      <td>0</td>\n",
       "    </tr>\n",
       "    <tr>\n",
       "      <th>3</th>\n",
       "      <td>0</td>\n",
       "    </tr>\n",
       "    <tr>\n",
       "      <th>4</th>\n",
       "      <td>0</td>\n",
       "    </tr>\n",
       "    <tr>\n",
       "      <th>...</th>\n",
       "      <td>...</td>\n",
       "    </tr>\n",
       "    <tr>\n",
       "      <th>32556</th>\n",
       "      <td>0</td>\n",
       "    </tr>\n",
       "    <tr>\n",
       "      <th>32557</th>\n",
       "      <td>1</td>\n",
       "    </tr>\n",
       "    <tr>\n",
       "      <th>32558</th>\n",
       "      <td>0</td>\n",
       "    </tr>\n",
       "    <tr>\n",
       "      <th>32559</th>\n",
       "      <td>0</td>\n",
       "    </tr>\n",
       "    <tr>\n",
       "      <th>32560</th>\n",
       "      <td>1</td>\n",
       "    </tr>\n",
       "  </tbody>\n",
       "</table>\n",
       "<p>32561 rows × 1 columns</p>\n",
       "</div>"
      ],
      "text/plain": [
       "       income\n",
       "0           0\n",
       "1           0\n",
       "2           0\n",
       "3           0\n",
       "4           0\n",
       "...       ...\n",
       "32556       0\n",
       "32557       1\n",
       "32558       0\n",
       "32559       0\n",
       "32560       1\n",
       "\n",
       "[32561 rows x 1 columns]"
      ]
     },
     "execution_count": 6,
     "metadata": {},
     "output_type": "execute_result"
    }
   ],
   "source": [
    "target = pd.DataFrame(train['income'].map({' <=50K': 0, ' >50K': 1}))\n",
    "target"
   ]
  },
  {
   "cell_type": "code",
   "execution_count": 7,
   "metadata": {
    "execution": {
     "iopub.execute_input": "2020-11-15T14:15:51.379534Z",
     "iopub.status.busy": "2020-11-15T14:15:51.378667Z",
     "iopub.status.idle": "2020-11-15T14:15:51.405723Z",
     "shell.execute_reply": "2020-11-15T14:15:51.404971Z"
    },
    "papermill": {
     "duration": 0.070331,
     "end_time": "2020-11-15T14:15:51.405848",
     "exception": false,
     "start_time": "2020-11-15T14:15:51.335517",
     "status": "completed"
    },
    "tags": []
   },
   "outputs": [
    {
     "data": {
      "text/plain": [
       "(48842, 14)"
      ]
     },
     "execution_count": 7,
     "metadata": {},
     "output_type": "execute_result"
    }
   ],
   "source": [
    "# concat train and test\n",
    "train = train.drop(['income'], axis=1)\n",
    "data = pd.concat([train, test], axis=0)\n",
    "data.shape"
   ]
  },
  {
   "cell_type": "code",
   "execution_count": 8,
   "metadata": {
    "execution": {
     "iopub.execute_input": "2020-11-15T14:15:51.479581Z",
     "iopub.status.busy": "2020-11-15T14:15:51.478489Z",
     "iopub.status.idle": "2020-11-15T14:15:51.515431Z",
     "shell.execute_reply": "2020-11-15T14:15:51.514798Z"
    },
    "papermill": {
     "duration": 0.079551,
     "end_time": "2020-11-15T14:15:51.515553",
     "exception": false,
     "start_time": "2020-11-15T14:15:51.436002",
     "status": "completed"
    },
    "tags": []
   },
   "outputs": [
    {
     "data": {
      "text/html": [
       "<div>\n",
       "<style scoped>\n",
       "    .dataframe tbody tr th:only-of-type {\n",
       "        vertical-align: middle;\n",
       "    }\n",
       "\n",
       "    .dataframe tbody tr th {\n",
       "        vertical-align: top;\n",
       "    }\n",
       "\n",
       "    .dataframe thead th {\n",
       "        text-align: right;\n",
       "    }\n",
       "</style>\n",
       "<table border=\"1\" class=\"dataframe\">\n",
       "  <thead>\n",
       "    <tr style=\"text-align: right;\">\n",
       "      <th></th>\n",
       "      <th>age</th>\n",
       "      <th>workclass</th>\n",
       "      <th>fnlwgt</th>\n",
       "      <th>education</th>\n",
       "      <th>education_num</th>\n",
       "      <th>marital_status</th>\n",
       "      <th>occupation</th>\n",
       "      <th>relationship</th>\n",
       "      <th>race</th>\n",
       "      <th>sex</th>\n",
       "      <th>capital_gain</th>\n",
       "      <th>capital_loss</th>\n",
       "      <th>hours_per_week</th>\n",
       "      <th>native_country</th>\n",
       "    </tr>\n",
       "  </thead>\n",
       "  <tbody>\n",
       "    <tr>\n",
       "      <th>0</th>\n",
       "      <td>39</td>\n",
       "      <td>State-gov</td>\n",
       "      <td>77516</td>\n",
       "      <td>Bachelors</td>\n",
       "      <td>13</td>\n",
       "      <td>Never-married</td>\n",
       "      <td>Adm-clerical</td>\n",
       "      <td>Not-in-family</td>\n",
       "      <td>White</td>\n",
       "      <td>1</td>\n",
       "      <td>2174</td>\n",
       "      <td>0</td>\n",
       "      <td>40</td>\n",
       "      <td>United-States</td>\n",
       "    </tr>\n",
       "    <tr>\n",
       "      <th>1</th>\n",
       "      <td>50</td>\n",
       "      <td>Self-emp-not-inc</td>\n",
       "      <td>83311</td>\n",
       "      <td>Bachelors</td>\n",
       "      <td>13</td>\n",
       "      <td>Married-civ-spouse</td>\n",
       "      <td>Exec-managerial</td>\n",
       "      <td>Husband</td>\n",
       "      <td>White</td>\n",
       "      <td>1</td>\n",
       "      <td>0</td>\n",
       "      <td>0</td>\n",
       "      <td>13</td>\n",
       "      <td>United-States</td>\n",
       "    </tr>\n",
       "    <tr>\n",
       "      <th>2</th>\n",
       "      <td>38</td>\n",
       "      <td>Private</td>\n",
       "      <td>215646</td>\n",
       "      <td>HS-grad</td>\n",
       "      <td>9</td>\n",
       "      <td>Divorced</td>\n",
       "      <td>Handlers-cleaners</td>\n",
       "      <td>Not-in-family</td>\n",
       "      <td>White</td>\n",
       "      <td>1</td>\n",
       "      <td>0</td>\n",
       "      <td>0</td>\n",
       "      <td>40</td>\n",
       "      <td>United-States</td>\n",
       "    </tr>\n",
       "    <tr>\n",
       "      <th>3</th>\n",
       "      <td>53</td>\n",
       "      <td>Private</td>\n",
       "      <td>234721</td>\n",
       "      <td>11th</td>\n",
       "      <td>7</td>\n",
       "      <td>Married-civ-spouse</td>\n",
       "      <td>Handlers-cleaners</td>\n",
       "      <td>Husband</td>\n",
       "      <td>Black</td>\n",
       "      <td>1</td>\n",
       "      <td>0</td>\n",
       "      <td>0</td>\n",
       "      <td>40</td>\n",
       "      <td>United-States</td>\n",
       "    </tr>\n",
       "    <tr>\n",
       "      <th>4</th>\n",
       "      <td>28</td>\n",
       "      <td>Private</td>\n",
       "      <td>338409</td>\n",
       "      <td>Bachelors</td>\n",
       "      <td>13</td>\n",
       "      <td>Married-civ-spouse</td>\n",
       "      <td>Prof-specialty</td>\n",
       "      <td>Wife</td>\n",
       "      <td>Black</td>\n",
       "      <td>0</td>\n",
       "      <td>0</td>\n",
       "      <td>0</td>\n",
       "      <td>40</td>\n",
       "      <td>Cuba</td>\n",
       "    </tr>\n",
       "    <tr>\n",
       "      <th>...</th>\n",
       "      <td>...</td>\n",
       "      <td>...</td>\n",
       "      <td>...</td>\n",
       "      <td>...</td>\n",
       "      <td>...</td>\n",
       "      <td>...</td>\n",
       "      <td>...</td>\n",
       "      <td>...</td>\n",
       "      <td>...</td>\n",
       "      <td>...</td>\n",
       "      <td>...</td>\n",
       "      <td>...</td>\n",
       "      <td>...</td>\n",
       "      <td>...</td>\n",
       "    </tr>\n",
       "    <tr>\n",
       "      <th>16276</th>\n",
       "      <td>39</td>\n",
       "      <td>Private</td>\n",
       "      <td>215419</td>\n",
       "      <td>Bachelors</td>\n",
       "      <td>13</td>\n",
       "      <td>Divorced</td>\n",
       "      <td>Prof-specialty</td>\n",
       "      <td>Not-in-family</td>\n",
       "      <td>White</td>\n",
       "      <td>0</td>\n",
       "      <td>0</td>\n",
       "      <td>0</td>\n",
       "      <td>36</td>\n",
       "      <td>United-States</td>\n",
       "    </tr>\n",
       "    <tr>\n",
       "      <th>16277</th>\n",
       "      <td>64</td>\n",
       "      <td>?</td>\n",
       "      <td>321403</td>\n",
       "      <td>HS-grad</td>\n",
       "      <td>9</td>\n",
       "      <td>Widowed</td>\n",
       "      <td>?</td>\n",
       "      <td>Other-relative</td>\n",
       "      <td>Black</td>\n",
       "      <td>1</td>\n",
       "      <td>0</td>\n",
       "      <td>0</td>\n",
       "      <td>40</td>\n",
       "      <td>United-States</td>\n",
       "    </tr>\n",
       "    <tr>\n",
       "      <th>16278</th>\n",
       "      <td>38</td>\n",
       "      <td>Private</td>\n",
       "      <td>374983</td>\n",
       "      <td>Bachelors</td>\n",
       "      <td>13</td>\n",
       "      <td>Married-civ-spouse</td>\n",
       "      <td>Prof-specialty</td>\n",
       "      <td>Husband</td>\n",
       "      <td>White</td>\n",
       "      <td>1</td>\n",
       "      <td>0</td>\n",
       "      <td>0</td>\n",
       "      <td>50</td>\n",
       "      <td>United-States</td>\n",
       "    </tr>\n",
       "    <tr>\n",
       "      <th>16279</th>\n",
       "      <td>44</td>\n",
       "      <td>Private</td>\n",
       "      <td>83891</td>\n",
       "      <td>Bachelors</td>\n",
       "      <td>13</td>\n",
       "      <td>Divorced</td>\n",
       "      <td>Adm-clerical</td>\n",
       "      <td>Own-child</td>\n",
       "      <td>Asian-Pac-Islander</td>\n",
       "      <td>1</td>\n",
       "      <td>5455</td>\n",
       "      <td>0</td>\n",
       "      <td>40</td>\n",
       "      <td>United-States</td>\n",
       "    </tr>\n",
       "    <tr>\n",
       "      <th>16280</th>\n",
       "      <td>35</td>\n",
       "      <td>Self-emp-inc</td>\n",
       "      <td>182148</td>\n",
       "      <td>Bachelors</td>\n",
       "      <td>13</td>\n",
       "      <td>Married-civ-spouse</td>\n",
       "      <td>Exec-managerial</td>\n",
       "      <td>Husband</td>\n",
       "      <td>White</td>\n",
       "      <td>1</td>\n",
       "      <td>0</td>\n",
       "      <td>0</td>\n",
       "      <td>60</td>\n",
       "      <td>United-States</td>\n",
       "    </tr>\n",
       "  </tbody>\n",
       "</table>\n",
       "<p>48842 rows × 14 columns</p>\n",
       "</div>"
      ],
      "text/plain": [
       "       age          workclass  fnlwgt   education  education_num  \\\n",
       "0       39          State-gov   77516   Bachelors             13   \n",
       "1       50   Self-emp-not-inc   83311   Bachelors             13   \n",
       "2       38            Private  215646     HS-grad              9   \n",
       "3       53            Private  234721        11th              7   \n",
       "4       28            Private  338409   Bachelors             13   \n",
       "...    ...                ...     ...         ...            ...   \n",
       "16276   39            Private  215419   Bachelors             13   \n",
       "16277   64                  ?  321403     HS-grad              9   \n",
       "16278   38            Private  374983   Bachelors             13   \n",
       "16279   44            Private   83891   Bachelors             13   \n",
       "16280   35       Self-emp-inc  182148   Bachelors             13   \n",
       "\n",
       "            marital_status          occupation     relationship  \\\n",
       "0            Never-married        Adm-clerical    Not-in-family   \n",
       "1       Married-civ-spouse     Exec-managerial          Husband   \n",
       "2                 Divorced   Handlers-cleaners    Not-in-family   \n",
       "3       Married-civ-spouse   Handlers-cleaners          Husband   \n",
       "4       Married-civ-spouse      Prof-specialty             Wife   \n",
       "...                    ...                 ...              ...   \n",
       "16276             Divorced      Prof-specialty    Not-in-family   \n",
       "16277              Widowed                   ?   Other-relative   \n",
       "16278   Married-civ-spouse      Prof-specialty          Husband   \n",
       "16279             Divorced        Adm-clerical        Own-child   \n",
       "16280   Married-civ-spouse     Exec-managerial          Husband   \n",
       "\n",
       "                      race  sex  capital_gain  capital_loss  hours_per_week  \\\n",
       "0                    White    1          2174             0              40   \n",
       "1                    White    1             0             0              13   \n",
       "2                    White    1             0             0              40   \n",
       "3                    Black    1             0             0              40   \n",
       "4                    Black    0             0             0              40   \n",
       "...                    ...  ...           ...           ...             ...   \n",
       "16276                White    0             0             0              36   \n",
       "16277                Black    1             0             0              40   \n",
       "16278                White    1             0             0              50   \n",
       "16279   Asian-Pac-Islander    1          5455             0              40   \n",
       "16280                White    1             0             0              60   \n",
       "\n",
       "       native_country  \n",
       "0       United-States  \n",
       "1       United-States  \n",
       "2       United-States  \n",
       "3       United-States  \n",
       "4                Cuba  \n",
       "...               ...  \n",
       "16276   United-States  \n",
       "16277   United-States  \n",
       "16278   United-States  \n",
       "16279   United-States  \n",
       "16280   United-States  \n",
       "\n",
       "[48842 rows x 14 columns]"
      ]
     },
     "execution_count": 8,
     "metadata": {},
     "output_type": "execute_result"
    }
   ],
   "source": [
    "# attribute 'sex' labelencode\n",
    "data['sex'] = data['sex'].map({' Male': 1, ' Female': 0})\n",
    "data"
   ]
  },
  {
   "cell_type": "code",
   "execution_count": 9,
   "metadata": {
    "execution": {
     "iopub.execute_input": "2020-11-15T14:15:51.588740Z",
     "iopub.status.busy": "2020-11-15T14:15:51.585704Z",
     "iopub.status.idle": "2020-11-15T14:15:51.799748Z",
     "shell.execute_reply": "2020-11-15T14:15:51.799115Z"
    },
    "papermill": {
     "duration": 0.253775,
     "end_time": "2020-11-15T14:15:51.799881",
     "exception": false,
     "start_time": "2020-11-15T14:15:51.546106",
     "status": "completed"
    },
    "tags": []
   },
   "outputs": [
    {
     "data": {
      "text/plain": [
       "(48842, 107)"
      ]
     },
     "execution_count": 9,
     "metadata": {},
     "output_type": "execute_result"
    }
   ],
   "source": [
    "categorical_cols = ['workclass', 'education', 'marital_status', 'occupation', 'relationship', 'race', 'native_country']\n",
    "numerical_cols = ['age', 'fnlwgt', 'education_num', 'capital_gain', 'capital_loss', 'hours_per_week']\n",
    "\n",
    "# then encode categorical data\n",
    "for col in categorical_cols:\n",
    "    new = pd.get_dummies(data[col], prefix=col)\n",
    "    data = pd.concat([data, new], axis=1)\n",
    "    data = data.drop([col], axis=1)\n",
    "data.shape"
   ]
  },
  {
   "cell_type": "markdown",
   "metadata": {
    "papermill": {
     "duration": 0.030609,
     "end_time": "2020-11-15T14:15:51.861513",
     "exception": false,
     "start_time": "2020-11-15T14:15:51.830904",
     "status": "completed"
    },
    "tags": []
   },
   "source": [
    "### Normalization -- Standard Normalization\n",
    "\n",
    "* formula：`x' = (x - mean(x))/std(x)` \n",
    "* geometry: 样本集中分布于原点之间\n",
    "</br>\n",
    "* 实现方法：\n",
    "    * 通过利用手写封装函数\n",
    "    * 利用`sklearn.preprocessing.StandardScaler`直接进行StandardScaler"
   ]
  },
  {
   "cell_type": "code",
   "execution_count": 10,
   "metadata": {
    "execution": {
     "iopub.execute_input": "2020-11-15T14:15:51.929473Z",
     "iopub.status.busy": "2020-11-15T14:15:51.928701Z",
     "iopub.status.idle": "2020-11-15T14:15:51.931915Z",
     "shell.execute_reply": "2020-11-15T14:15:51.931203Z"
    },
    "papermill": {
     "duration": 0.039051,
     "end_time": "2020-11-15T14:15:51.932078",
     "exception": false,
     "start_time": "2020-11-15T14:15:51.893027",
     "status": "completed"
    },
    "tags": []
   },
   "outputs": [],
   "source": [
    "from sklearn.preprocessing import StandardScaler"
   ]
  },
  {
   "cell_type": "code",
   "execution_count": 11,
   "metadata": {
    "execution": {
     "iopub.execute_input": "2020-11-15T14:15:52.005004Z",
     "iopub.status.busy": "2020-11-15T14:15:52.004241Z",
     "iopub.status.idle": "2020-11-15T14:15:52.007288Z",
     "shell.execute_reply": "2020-11-15T14:15:52.006531Z"
    },
    "papermill": {
     "duration": 0.044354,
     "end_time": "2020-11-15T14:15:52.007411",
     "exception": false,
     "start_time": "2020-11-15T14:15:51.963057",
     "status": "completed"
    },
    "tags": []
   },
   "outputs": [],
   "source": [
    "# normalize numerical data\n",
    "def _normalize_column_normal(X, train=True, specified_column=None, X_mean=None, X_std=None):\n",
    "    if train:\n",
    "        if specified_column == None:\n",
    "            specified_column = np.arange(X.shape[1])\n",
    "        length = len(specified_column)\n",
    "        X_mean = np.reshape(np.mean(X[:, specified_column], 0), (1, length))\n",
    "        X_std = np.reshape(np.std(X[:, specified_column], 0), (1, length))\n",
    "    X[:, specified_column] = np.divide(np.subtract(X[:, specified_column], X_mean), X_std)\n",
    "    \n",
    "    return X, X_mean, X_std"
   ]
  },
  {
   "cell_type": "code",
   "execution_count": 12,
   "metadata": {
    "execution": {
     "iopub.execute_input": "2020-11-15T14:15:52.077781Z",
     "iopub.status.busy": "2020-11-15T14:15:52.076999Z",
     "iopub.status.idle": "2020-11-15T14:15:52.152263Z",
     "shell.execute_reply": "2020-11-15T14:15:52.151527Z"
    },
    "papermill": {
     "duration": 0.113052,
     "end_time": "2020-11-15T14:15:52.152385",
     "exception": false,
     "start_time": "2020-11-15T14:15:52.039333",
     "status": "completed"
    },
    "tags": []
   },
   "outputs": [
    {
     "data": {
      "text/html": [
       "<div>\n",
       "<style scoped>\n",
       "    .dataframe tbody tr th:only-of-type {\n",
       "        vertical-align: middle;\n",
       "    }\n",
       "\n",
       "    .dataframe tbody tr th {\n",
       "        vertical-align: top;\n",
       "    }\n",
       "\n",
       "    .dataframe thead th {\n",
       "        text-align: right;\n",
       "    }\n",
       "</style>\n",
       "<table border=\"1\" class=\"dataframe\">\n",
       "  <thead>\n",
       "    <tr style=\"text-align: right;\">\n",
       "      <th></th>\n",
       "      <th>age</th>\n",
       "      <th>fnlwgt</th>\n",
       "      <th>education_num</th>\n",
       "      <th>sex</th>\n",
       "      <th>capital_gain</th>\n",
       "      <th>capital_loss</th>\n",
       "      <th>hours_per_week</th>\n",
       "      <th>workclass_ ?</th>\n",
       "      <th>workclass_ Federal-gov</th>\n",
       "      <th>workclass_ Local-gov</th>\n",
       "      <th>...</th>\n",
       "      <th>native_country_ Portugal</th>\n",
       "      <th>native_country_ Puerto-Rico</th>\n",
       "      <th>native_country_ Scotland</th>\n",
       "      <th>native_country_ South</th>\n",
       "      <th>native_country_ Taiwan</th>\n",
       "      <th>native_country_ Thailand</th>\n",
       "      <th>native_country_ Trinadad&amp;Tobago</th>\n",
       "      <th>native_country_ United-States</th>\n",
       "      <th>native_country_ Vietnam</th>\n",
       "      <th>native_country_ Yugoslavia</th>\n",
       "    </tr>\n",
       "  </thead>\n",
       "  <tbody>\n",
       "    <tr>\n",
       "      <th>0</th>\n",
       "      <td>0.025996</td>\n",
       "      <td>-1.061968</td>\n",
       "      <td>1.136500</td>\n",
       "      <td>1</td>\n",
       "      <td>0.146931</td>\n",
       "      <td>-0.217125</td>\n",
       "      <td>-0.034087</td>\n",
       "      <td>0</td>\n",
       "      <td>0</td>\n",
       "      <td>0</td>\n",
       "      <td>...</td>\n",
       "      <td>0</td>\n",
       "      <td>0</td>\n",
       "      <td>0</td>\n",
       "      <td>0</td>\n",
       "      <td>0</td>\n",
       "      <td>0</td>\n",
       "      <td>0</td>\n",
       "      <td>1</td>\n",
       "      <td>0</td>\n",
       "      <td>0</td>\n",
       "    </tr>\n",
       "    <tr>\n",
       "      <th>1</th>\n",
       "      <td>0.828300</td>\n",
       "      <td>-1.007094</td>\n",
       "      <td>1.136500</td>\n",
       "      <td>1</td>\n",
       "      <td>-0.144802</td>\n",
       "      <td>-0.217125</td>\n",
       "      <td>-2.213009</td>\n",
       "      <td>0</td>\n",
       "      <td>0</td>\n",
       "      <td>0</td>\n",
       "      <td>...</td>\n",
       "      <td>0</td>\n",
       "      <td>0</td>\n",
       "      <td>0</td>\n",
       "      <td>0</td>\n",
       "      <td>0</td>\n",
       "      <td>0</td>\n",
       "      <td>0</td>\n",
       "      <td>1</td>\n",
       "      <td>0</td>\n",
       "      <td>0</td>\n",
       "    </tr>\n",
       "    <tr>\n",
       "      <th>2</th>\n",
       "      <td>-0.046941</td>\n",
       "      <td>0.246031</td>\n",
       "      <td>-0.419331</td>\n",
       "      <td>1</td>\n",
       "      <td>-0.144802</td>\n",
       "      <td>-0.217125</td>\n",
       "      <td>-0.034087</td>\n",
       "      <td>0</td>\n",
       "      <td>0</td>\n",
       "      <td>0</td>\n",
       "      <td>...</td>\n",
       "      <td>0</td>\n",
       "      <td>0</td>\n",
       "      <td>0</td>\n",
       "      <td>0</td>\n",
       "      <td>0</td>\n",
       "      <td>0</td>\n",
       "      <td>0</td>\n",
       "      <td>1</td>\n",
       "      <td>0</td>\n",
       "      <td>0</td>\n",
       "    </tr>\n",
       "    <tr>\n",
       "      <th>3</th>\n",
       "      <td>1.047110</td>\n",
       "      <td>0.426659</td>\n",
       "      <td>-1.197247</td>\n",
       "      <td>1</td>\n",
       "      <td>-0.144802</td>\n",
       "      <td>-0.217125</td>\n",
       "      <td>-0.034087</td>\n",
       "      <td>0</td>\n",
       "      <td>0</td>\n",
       "      <td>0</td>\n",
       "      <td>...</td>\n",
       "      <td>0</td>\n",
       "      <td>0</td>\n",
       "      <td>0</td>\n",
       "      <td>0</td>\n",
       "      <td>0</td>\n",
       "      <td>0</td>\n",
       "      <td>0</td>\n",
       "      <td>1</td>\n",
       "      <td>0</td>\n",
       "      <td>0</td>\n",
       "    </tr>\n",
       "    <tr>\n",
       "      <th>4</th>\n",
       "      <td>-0.776309</td>\n",
       "      <td>1.408515</td>\n",
       "      <td>1.136500</td>\n",
       "      <td>0</td>\n",
       "      <td>-0.144802</td>\n",
       "      <td>-0.217125</td>\n",
       "      <td>-0.034087</td>\n",
       "      <td>0</td>\n",
       "      <td>0</td>\n",
       "      <td>0</td>\n",
       "      <td>...</td>\n",
       "      <td>0</td>\n",
       "      <td>0</td>\n",
       "      <td>0</td>\n",
       "      <td>0</td>\n",
       "      <td>0</td>\n",
       "      <td>0</td>\n",
       "      <td>0</td>\n",
       "      <td>0</td>\n",
       "      <td>0</td>\n",
       "      <td>0</td>\n",
       "    </tr>\n",
       "    <tr>\n",
       "      <th>...</th>\n",
       "      <td>...</td>\n",
       "      <td>...</td>\n",
       "      <td>...</td>\n",
       "      <td>...</td>\n",
       "      <td>...</td>\n",
       "      <td>...</td>\n",
       "      <td>...</td>\n",
       "      <td>...</td>\n",
       "      <td>...</td>\n",
       "      <td>...</td>\n",
       "      <td>...</td>\n",
       "      <td>...</td>\n",
       "      <td>...</td>\n",
       "      <td>...</td>\n",
       "      <td>...</td>\n",
       "      <td>...</td>\n",
       "      <td>...</td>\n",
       "      <td>...</td>\n",
       "      <td>...</td>\n",
       "      <td>...</td>\n",
       "      <td>...</td>\n",
       "    </tr>\n",
       "    <tr>\n",
       "      <th>16276</th>\n",
       "      <td>0.025996</td>\n",
       "      <td>0.243881</td>\n",
       "      <td>1.136500</td>\n",
       "      <td>0</td>\n",
       "      <td>-0.144802</td>\n",
       "      <td>-0.217125</td>\n",
       "      <td>-0.356890</td>\n",
       "      <td>0</td>\n",
       "      <td>0</td>\n",
       "      <td>0</td>\n",
       "      <td>...</td>\n",
       "      <td>0</td>\n",
       "      <td>0</td>\n",
       "      <td>0</td>\n",
       "      <td>0</td>\n",
       "      <td>0</td>\n",
       "      <td>0</td>\n",
       "      <td>0</td>\n",
       "      <td>1</td>\n",
       "      <td>0</td>\n",
       "      <td>0</td>\n",
       "    </tr>\n",
       "    <tr>\n",
       "      <th>16277</th>\n",
       "      <td>1.849414</td>\n",
       "      <td>1.247480</td>\n",
       "      <td>-0.419331</td>\n",
       "      <td>1</td>\n",
       "      <td>-0.144802</td>\n",
       "      <td>-0.217125</td>\n",
       "      <td>-0.034087</td>\n",
       "      <td>1</td>\n",
       "      <td>0</td>\n",
       "      <td>0</td>\n",
       "      <td>...</td>\n",
       "      <td>0</td>\n",
       "      <td>0</td>\n",
       "      <td>0</td>\n",
       "      <td>0</td>\n",
       "      <td>0</td>\n",
       "      <td>0</td>\n",
       "      <td>0</td>\n",
       "      <td>1</td>\n",
       "      <td>0</td>\n",
       "      <td>0</td>\n",
       "    </tr>\n",
       "    <tr>\n",
       "      <th>16278</th>\n",
       "      <td>-0.046941</td>\n",
       "      <td>1.754847</td>\n",
       "      <td>1.136500</td>\n",
       "      <td>1</td>\n",
       "      <td>-0.144802</td>\n",
       "      <td>-0.217125</td>\n",
       "      <td>0.772922</td>\n",
       "      <td>0</td>\n",
       "      <td>0</td>\n",
       "      <td>0</td>\n",
       "      <td>...</td>\n",
       "      <td>0</td>\n",
       "      <td>0</td>\n",
       "      <td>0</td>\n",
       "      <td>0</td>\n",
       "      <td>0</td>\n",
       "      <td>0</td>\n",
       "      <td>0</td>\n",
       "      <td>1</td>\n",
       "      <td>0</td>\n",
       "      <td>0</td>\n",
       "    </tr>\n",
       "    <tr>\n",
       "      <th>16279</th>\n",
       "      <td>0.390679</td>\n",
       "      <td>-1.001601</td>\n",
       "      <td>1.136500</td>\n",
       "      <td>1</td>\n",
       "      <td>0.587214</td>\n",
       "      <td>-0.217125</td>\n",
       "      <td>-0.034087</td>\n",
       "      <td>0</td>\n",
       "      <td>0</td>\n",
       "      <td>0</td>\n",
       "      <td>...</td>\n",
       "      <td>0</td>\n",
       "      <td>0</td>\n",
       "      <td>0</td>\n",
       "      <td>0</td>\n",
       "      <td>0</td>\n",
       "      <td>0</td>\n",
       "      <td>0</td>\n",
       "      <td>1</td>\n",
       "      <td>0</td>\n",
       "      <td>0</td>\n",
       "    </tr>\n",
       "    <tr>\n",
       "      <th>16280</th>\n",
       "      <td>-0.265751</td>\n",
       "      <td>-0.071173</td>\n",
       "      <td>1.136500</td>\n",
       "      <td>1</td>\n",
       "      <td>-0.144802</td>\n",
       "      <td>-0.217125</td>\n",
       "      <td>1.579930</td>\n",
       "      <td>0</td>\n",
       "      <td>0</td>\n",
       "      <td>0</td>\n",
       "      <td>...</td>\n",
       "      <td>0</td>\n",
       "      <td>0</td>\n",
       "      <td>0</td>\n",
       "      <td>0</td>\n",
       "      <td>0</td>\n",
       "      <td>0</td>\n",
       "      <td>0</td>\n",
       "      <td>1</td>\n",
       "      <td>0</td>\n",
       "      <td>0</td>\n",
       "    </tr>\n",
       "  </tbody>\n",
       "</table>\n",
       "<p>48842 rows × 107 columns</p>\n",
       "</div>"
      ],
      "text/plain": [
       "            age    fnlwgt  education_num  sex  capital_gain  capital_loss  \\\n",
       "0      0.025996 -1.061968       1.136500    1      0.146931     -0.217125   \n",
       "1      0.828300 -1.007094       1.136500    1     -0.144802     -0.217125   \n",
       "2     -0.046941  0.246031      -0.419331    1     -0.144802     -0.217125   \n",
       "3      1.047110  0.426659      -1.197247    1     -0.144802     -0.217125   \n",
       "4     -0.776309  1.408515       1.136500    0     -0.144802     -0.217125   \n",
       "...         ...       ...            ...  ...           ...           ...   \n",
       "16276  0.025996  0.243881       1.136500    0     -0.144802     -0.217125   \n",
       "16277  1.849414  1.247480      -0.419331    1     -0.144802     -0.217125   \n",
       "16278 -0.046941  1.754847       1.136500    1     -0.144802     -0.217125   \n",
       "16279  0.390679 -1.001601       1.136500    1      0.587214     -0.217125   \n",
       "16280 -0.265751 -0.071173       1.136500    1     -0.144802     -0.217125   \n",
       "\n",
       "       hours_per_week  workclass_ ?  workclass_ Federal-gov  \\\n",
       "0           -0.034087             0                       0   \n",
       "1           -2.213009             0                       0   \n",
       "2           -0.034087             0                       0   \n",
       "3           -0.034087             0                       0   \n",
       "4           -0.034087             0                       0   \n",
       "...               ...           ...                     ...   \n",
       "16276       -0.356890             0                       0   \n",
       "16277       -0.034087             1                       0   \n",
       "16278        0.772922             0                       0   \n",
       "16279       -0.034087             0                       0   \n",
       "16280        1.579930             0                       0   \n",
       "\n",
       "       workclass_ Local-gov  ...  native_country_ Portugal  \\\n",
       "0                         0  ...                         0   \n",
       "1                         0  ...                         0   \n",
       "2                         0  ...                         0   \n",
       "3                         0  ...                         0   \n",
       "4                         0  ...                         0   \n",
       "...                     ...  ...                       ...   \n",
       "16276                     0  ...                         0   \n",
       "16277                     0  ...                         0   \n",
       "16278                     0  ...                         0   \n",
       "16279                     0  ...                         0   \n",
       "16280                     0  ...                         0   \n",
       "\n",
       "       native_country_ Puerto-Rico  native_country_ Scotland  \\\n",
       "0                                0                         0   \n",
       "1                                0                         0   \n",
       "2                                0                         0   \n",
       "3                                0                         0   \n",
       "4                                0                         0   \n",
       "...                            ...                       ...   \n",
       "16276                            0                         0   \n",
       "16277                            0                         0   \n",
       "16278                            0                         0   \n",
       "16279                            0                         0   \n",
       "16280                            0                         0   \n",
       "\n",
       "       native_country_ South  native_country_ Taiwan  \\\n",
       "0                          0                       0   \n",
       "1                          0                       0   \n",
       "2                          0                       0   \n",
       "3                          0                       0   \n",
       "4                          0                       0   \n",
       "...                      ...                     ...   \n",
       "16276                      0                       0   \n",
       "16277                      0                       0   \n",
       "16278                      0                       0   \n",
       "16279                      0                       0   \n",
       "16280                      0                       0   \n",
       "\n",
       "       native_country_ Thailand  native_country_ Trinadad&Tobago  \\\n",
       "0                             0                                0   \n",
       "1                             0                                0   \n",
       "2                             0                                0   \n",
       "3                             0                                0   \n",
       "4                             0                                0   \n",
       "...                         ...                              ...   \n",
       "16276                         0                                0   \n",
       "16277                         0                                0   \n",
       "16278                         0                                0   \n",
       "16279                         0                                0   \n",
       "16280                         0                                0   \n",
       "\n",
       "       native_country_ United-States  native_country_ Vietnam  \\\n",
       "0                                  1                        0   \n",
       "1                                  1                        0   \n",
       "2                                  1                        0   \n",
       "3                                  1                        0   \n",
       "4                                  0                        0   \n",
       "...                              ...                      ...   \n",
       "16276                              1                        0   \n",
       "16277                              1                        0   \n",
       "16278                              1                        0   \n",
       "16279                              1                        0   \n",
       "16280                              1                        0   \n",
       "\n",
       "       native_country_ Yugoslavia  \n",
       "0                               0  \n",
       "1                               0  \n",
       "2                               0  \n",
       "3                               0  \n",
       "4                               0  \n",
       "...                           ...  \n",
       "16276                           0  \n",
       "16277                           0  \n",
       "16278                           0  \n",
       "16279                           0  \n",
       "16280                           0  \n",
       "\n",
       "[48842 rows x 107 columns]"
      ]
     },
     "execution_count": 12,
     "metadata": {},
     "output_type": "execute_result"
    }
   ],
   "source": [
    "for col in numerical_cols:\n",
    "    data[col] = (data[col] - data[col].mean()) / data[col].std()\n",
    "data"
   ]
  },
  {
   "cell_type": "markdown",
   "metadata": {
    "papermill": {
     "duration": 0.032073,
     "end_time": "2020-11-15T14:15:52.217013",
     "exception": false,
     "start_time": "2020-11-15T14:15:52.184940",
     "status": "completed"
    },
    "tags": []
   },
   "source": [
    "use `sklearn.preprocessing.StandardScaler`"
   ]
  },
  {
   "cell_type": "code",
   "execution_count": 13,
   "metadata": {
    "execution": {
     "iopub.execute_input": "2020-11-15T14:15:52.289426Z",
     "iopub.status.busy": "2020-11-15T14:15:52.288611Z",
     "iopub.status.idle": "2020-11-15T14:15:52.398554Z",
     "shell.execute_reply": "2020-11-15T14:15:52.397893Z"
    },
    "papermill": {
     "duration": 0.14899,
     "end_time": "2020-11-15T14:15:52.398692",
     "exception": false,
     "start_time": "2020-11-15T14:15:52.249702",
     "status": "completed"
    },
    "tags": []
   },
   "outputs": [],
   "source": [
    "# get data copy\n",
    "scaled_features = data.copy()\n",
    "# extract specified column\n",
    "features = scaled_features[numerical_cols]\n",
    "scaler = StandardScaler().fit(features.values)\n",
    "features = scaler.transform(features.values)\n",
    "# fill normalized values\n",
    "scaled_features[numerical_cols] = features\n",
    "# numpy -> DataFrame\n",
    "data = pd.DataFrame(scaled_features)"
   ]
  },
  {
   "cell_type": "code",
   "execution_count": 14,
   "metadata": {
    "execution": {
     "iopub.execute_input": "2020-11-15T14:15:52.473828Z",
     "iopub.status.busy": "2020-11-15T14:15:52.472460Z",
     "iopub.status.idle": "2020-11-15T14:15:52.485497Z",
     "shell.execute_reply": "2020-11-15T14:15:52.484718Z"
    },
    "papermill": {
     "duration": 0.053302,
     "end_time": "2020-11-15T14:15:52.485622",
     "exception": false,
     "start_time": "2020-11-15T14:15:52.432320",
     "status": "completed"
    },
    "tags": []
   },
   "outputs": [
    {
     "data": {
      "text/plain": [
       "(48842, 106)"
      ]
     },
     "execution_count": 14,
     "metadata": {},
     "output_type": "execute_result"
    }
   ],
   "source": [
    "# remove special\n",
    "data = data.drop(['native_country_ Holand-Netherlands'], axis=1)\n",
    "data.shape"
   ]
  },
  {
   "cell_type": "code",
   "execution_count": 15,
   "metadata": {
    "execution": {
     "iopub.execute_input": "2020-11-15T14:15:52.563859Z",
     "iopub.status.busy": "2020-11-15T14:15:52.562911Z",
     "iopub.status.idle": "2020-11-15T14:15:52.567253Z",
     "shell.execute_reply": "2020-11-15T14:15:52.567852Z"
    },
    "papermill": {
     "duration": 0.047893,
     "end_time": "2020-11-15T14:15:52.568030",
     "exception": false,
     "start_time": "2020-11-15T14:15:52.520137",
     "status": "completed"
    },
    "tags": []
   },
   "outputs": [
    {
     "data": {
      "text/plain": [
       "((32561, 106), (16281, 106))"
      ]
     },
     "execution_count": 15,
     "metadata": {},
     "output_type": "execute_result"
    }
   ],
   "source": [
    "# split train and test data\n",
    "train = data.iloc[:len(train), :]\n",
    "test = data.iloc[len(train):, :]\n",
    "train.shape, test.shape"
   ]
  },
  {
   "cell_type": "code",
   "execution_count": 16,
   "metadata": {
    "execution": {
     "iopub.execute_input": "2020-11-15T14:15:52.645708Z",
     "iopub.status.busy": "2020-11-15T14:15:52.644450Z",
     "iopub.status.idle": "2020-11-15T14:15:52.649295Z",
     "shell.execute_reply": "2020-11-15T14:15:52.648495Z"
    },
    "papermill": {
     "duration": 0.045539,
     "end_time": "2020-11-15T14:15:52.649421",
     "exception": false,
     "start_time": "2020-11-15T14:15:52.603882",
     "status": "completed"
    },
    "tags": []
   },
   "outputs": [
    {
     "data": {
      "text/plain": [
       "(32561, 1)"
      ]
     },
     "execution_count": 16,
     "metadata": {},
     "output_type": "execute_result"
    }
   ],
   "source": [
    "target.shape"
   ]
  },
  {
   "cell_type": "markdown",
   "metadata": {
    "papermill": {
     "duration": 0.038534,
     "end_time": "2020-11-15T14:15:52.730201",
     "exception": false,
     "start_time": "2020-11-15T14:15:52.691667",
     "status": "completed"
    },
    "tags": []
   },
   "source": [
    "## Model\n",
    "\n",
    "* prepare some methods\n",
    "* prepare all dataset [train_set, validation_set, test_set]\n",
    "* initial some data\n",
    "    * weight matrix => zero\n",
    "    * bias matrix => zero\n",
    "    * some hyperparams\n",
    "        * is_regularize/regulariization\n",
    "        * lamda\n",
    "    * list for training process"
   ]
  },
  {
   "cell_type": "code",
   "execution_count": 17,
   "metadata": {
    "execution": {
     "iopub.execute_input": "2020-11-15T14:15:52.819874Z",
     "iopub.status.busy": "2020-11-15T14:15:52.819051Z",
     "iopub.status.idle": "2020-11-15T14:15:52.877419Z",
     "shell.execute_reply": "2020-11-15T14:15:52.876552Z"
    },
    "papermill": {
     "duration": 0.104373,
     "end_time": "2020-11-15T14:15:52.877550",
     "exception": false,
     "start_time": "2020-11-15T14:15:52.773177",
     "status": "completed"
    },
    "tags": []
   },
   "outputs": [],
   "source": [
    "from sklearn.model_selection import train_test_split"
   ]
  },
  {
   "cell_type": "code",
   "execution_count": 18,
   "metadata": {
    "execution": {
     "iopub.execute_input": "2020-11-15T14:15:52.961224Z",
     "iopub.status.busy": "2020-11-15T14:15:52.960377Z",
     "iopub.status.idle": "2020-11-15T14:15:52.963516Z",
     "shell.execute_reply": "2020-11-15T14:15:52.962869Z"
    },
    "papermill": {
     "duration": 0.051027,
     "end_time": "2020-11-15T14:15:52.963643",
     "exception": false,
     "start_time": "2020-11-15T14:15:52.912616",
     "status": "completed"
    },
    "tags": []
   },
   "outputs": [],
   "source": [
    "# cross_entropy\n",
    "def _cross_entropy_loss(y_pred, Y_label):\n",
    "    '''\n",
    "    y_pred [float]: output prediction(based on probabilistic) \n",
    "    Y_label [bool]: label\n",
    "    '''\n",
    "    cross_entropy = -np.dot(Y_label, np.log(y_pred)) - np.dot((1 - Y_label), np.log(1 - y_pred))\n",
    "    return cross_entropy\n",
    "\n",
    "# sigmoid\n",
    "def _sigmoid(z):\n",
    "    '''\n",
    "    calculate probability\n",
    "    '''\n",
    "    return np.clip(1 / (1.0 + np.exp(-z)), 1e-8, 1 - (1e-8))\n",
    "\n",
    "# get probabilistiic\n",
    "def get_prob(X, w, b):\n",
    "    '''\n",
    "    X: input data, shape = [batch_size, data_dimension]\n",
    "    w: weight vector, shape = [data_dimension, ]\n",
    "    b: bias, scalar\n",
    "    '''\n",
    "    \n",
    "    return _sigmoid(np.matmul(X, w) + b)\n",
    "\n",
    "# get prediction\n",
    "def infer(X, w, b):\n",
    "    '''\n",
    "    get prediction and transform data type\n",
    "    '''\n",
    "    return np.round(get_prob(X, w, b)).astype(np.int)\n",
    "\n",
    "# loss: call cross_entropy_loss\n",
    "def _loss(y_pred, Y_label, lambd, w):\n",
    "    return _cross_entropy_loss(y_pred, Y_label) + lamda*np.sum(np.square(w))"
   ]
  },
  {
   "cell_type": "code",
   "execution_count": 19,
   "metadata": {
    "execution": {
     "iopub.execute_input": "2020-11-15T14:15:53.046171Z",
     "iopub.status.busy": "2020-11-15T14:15:53.045009Z",
     "iopub.status.idle": "2020-11-15T14:15:53.048534Z",
     "shell.execute_reply": "2020-11-15T14:15:53.047772Z"
    },
    "papermill": {
     "duration": 0.050191,
     "end_time": "2020-11-15T14:15:53.048659",
     "exception": false,
     "start_time": "2020-11-15T14:15:52.998468",
     "status": "completed"
    },
    "tags": []
   },
   "outputs": [],
   "source": [
    "# gradient descent\n",
    "def _gradient_regularization(X, Y_label, w, b):\n",
    "    '''\n",
    "    use cross_entropy to update weight and bias matrix\n",
    "    add a lambda penalty term to avoid overfitting\n",
    "    '''\n",
    "    y_pred = get_prob(X, w, b)\n",
    "    pred_error = Y_label - y_pred\n",
    "    \n",
    "    w_grad = -np.sum(pred_error * X.T, 1) + lamda*w\n",
    "    b_grad = -np.sum(pred_error)\n",
    "    return w_grad, b_grad\n",
    "\n",
    "def _gradient(X, Y_label, w, b):\n",
    "    '''\n",
    "    use cross_entropy to update weight and bias matrix\n",
    "    without a lambda penalty term\n",
    "    '''\n",
    "    y_pred = get_prob(X, w, b)\n",
    "    pred_error = Y_label - y_pred\n",
    "    pred_error = np.pad(pred_error, ((0, 98), (0, 0)), 'constant', constant_values=(0, 0))\n",
    "    w_grad = -np.sum(pred_error * X.T, 1)\n",
    "    b_grad = -np.sum(pred_error)\n",
    "    return w_grad, b_grad"
   ]
  },
  {
   "cell_type": "markdown",
   "metadata": {
    "papermill": {
     "duration": 0.034878,
     "end_time": "2020-11-15T14:15:53.119356",
     "exception": false,
     "start_time": "2020-11-15T14:15:53.084478",
     "status": "completed"
    },
    "tags": []
   },
   "source": [
    "### prepare dataset\n",
    "\n",
    "* 实现方法：\n",
    "    * 通过利用手写封装函数\n",
    "    * 利用`sklearn.model_selection.train_test_split`直接进行StandardScaler"
   ]
  },
  {
   "cell_type": "code",
   "execution_count": 20,
   "metadata": {
    "execution": {
     "iopub.execute_input": "2020-11-15T14:15:53.199856Z",
     "iopub.status.busy": "2020-11-15T14:15:53.198355Z",
     "iopub.status.idle": "2020-11-15T14:15:53.204903Z",
     "shell.execute_reply": "2020-11-15T14:15:53.204262Z"
    },
    "papermill": {
     "duration": 0.050675,
     "end_time": "2020-11-15T14:15:53.205035",
     "exception": false,
     "start_time": "2020-11-15T14:15:53.154360",
     "status": "completed"
    },
    "tags": []
   },
   "outputs": [
    {
     "data": {
      "text/plain": [
       "((24420, 106), (24420, 1), (8141, 106), (8141, 1))"
      ]
     },
     "execution_count": 20,
     "metadata": {},
     "output_type": "execute_result"
    }
   ],
   "source": [
    "# train_test_split\n",
    "\n",
    "# artificial\n",
    "def train_dev_split(X, Y, dev_ratio = 0.25):\n",
    "    '''\n",
    "    artificial split dataset into train_set and val_set\n",
    "    '''\n",
    "    train_size = int(len(X) * (1 - dev_ratio))\n",
    "    return X[:train_size], Y[:train_size], X[train_size:], Y[train_size:]\n",
    "\n",
    "X_train, y_train, X_val, y_val = train_dev_split(train, target)\n",
    "X_train.shape, y_train.shape, X_val.shape, y_val.shape"
   ]
  },
  {
   "cell_type": "code",
   "execution_count": 21,
   "metadata": {
    "execution": {
     "iopub.execute_input": "2020-11-15T14:15:53.282244Z",
     "iopub.status.busy": "2020-11-15T14:15:53.281277Z",
     "iopub.status.idle": "2020-11-15T14:15:53.284556Z",
     "shell.execute_reply": "2020-11-15T14:15:53.283817Z"
    },
    "papermill": {
     "duration": 0.04327,
     "end_time": "2020-11-15T14:15:53.284676",
     "exception": false,
     "start_time": "2020-11-15T14:15:53.241406",
     "status": "completed"
    },
    "tags": []
   },
   "outputs": [],
   "source": [
    "# # use sklearn.model_selection.train_test_split to get dataset\n",
    "# X_train, X_val, y_train, y_val = train_test_split(train, target, test_size=0.25)\n",
    "# X_train.shape, X_val.shape, y_train.shape, y_val.shape"
   ]
  },
  {
   "cell_type": "code",
   "execution_count": 22,
   "metadata": {
    "execution": {
     "iopub.execute_input": "2020-11-15T14:15:53.365914Z",
     "iopub.status.busy": "2020-11-15T14:15:53.364841Z",
     "iopub.status.idle": "2020-11-15T14:15:53.368830Z",
     "shell.execute_reply": "2020-11-15T14:15:53.368148Z"
    },
    "papermill": {
     "duration": 0.048199,
     "end_time": "2020-11-15T14:15:53.368959",
     "exception": false,
     "start_time": "2020-11-15T14:15:53.320760",
     "status": "completed"
    },
    "tags": []
   },
   "outputs": [],
   "source": [
    "def _shuffle(X, Y):\n",
    "    '''\n",
    "    mess up order\n",
    "    '''\n",
    "    randomize = np.arange(len(X))\n",
    "    np.random.shuffle(randomize)\n",
    "    return (X[randomize], Y[randomize])\n",
    "\n",
    "def _accuracy(Y_pred, Y_label):\n",
    "    '''\n",
    "    get accuracy of prediction\n",
    "    '''\n",
    "    # This function calculates prediction accuracy\n",
    "    acc = 1 - np.mean(np.abs(Y_pred - Y_label))\n",
    "    return acc"
   ]
  },
  {
   "cell_type": "code",
   "execution_count": 23,
   "metadata": {
    "execution": {
     "iopub.execute_input": "2020-11-15T14:15:53.452760Z",
     "iopub.status.busy": "2020-11-15T14:15:53.451696Z",
     "iopub.status.idle": "2020-11-15T14:15:53.455174Z",
     "shell.execute_reply": "2020-11-15T14:15:53.454406Z"
    },
    "papermill": {
     "duration": 0.050137,
     "end_time": "2020-11-15T14:15:53.455301",
     "exception": false,
     "start_time": "2020-11-15T14:15:53.405164",
     "status": "completed"
    },
    "tags": []
   },
   "outputs": [],
   "source": [
    "# some prework\n",
    "\n",
    "# init weight and bias with zero\n",
    "w = np.zeros((X_train.shape[1], ))\n",
    "b = np.zeros((1, ))\n",
    "\n",
    "# hyperparam \n",
    "max_iter = 100\n",
    "batch_size = 8\n",
    "learning_rate = 0.2\n",
    "# regulariization\n",
    "regularize = True\n",
    "if regularize:\n",
    "    lamda = 0.001\n",
    "else:\n",
    "    lamda = 0\n",
    "\n",
    "loss_train = []\n",
    "loss_validation = []\n",
    "train_acc = []\n",
    "dev_acc = []\n",
    "\n",
    "step = 1\n",
    "train_size = X_train.shape[0]\n",
    "val_size = X_val.shape[0]\n",
    "test_size = test.shape[0]\n",
    "data_dim = X_train.shape[1]"
   ]
  },
  {
   "cell_type": "code",
   "execution_count": 24,
   "metadata": {
    "execution": {
     "iopub.execute_input": "2020-11-15T14:15:53.534390Z",
     "iopub.status.busy": "2020-11-15T14:15:53.533588Z",
     "iopub.status.idle": "2020-11-15T14:15:53.537188Z",
     "shell.execute_reply": "2020-11-15T14:15:53.536476Z"
    },
    "papermill": {
     "duration": 0.045712,
     "end_time": "2020-11-15T14:15:53.537308",
     "exception": false,
     "start_time": "2020-11-15T14:15:53.491596",
     "status": "completed"
    },
    "tags": []
   },
   "outputs": [
    {
     "data": {
      "text/plain": [
       "(3451466, 8141, 16281, 106)"
      ]
     },
     "execution_count": 24,
     "metadata": {},
     "output_type": "execute_result"
    }
   ],
   "source": [
    "train.size, val_size, test_size, data_dim"
   ]
  },
  {
   "cell_type": "code",
   "execution_count": 25,
   "metadata": {
    "execution": {
     "iopub.execute_input": "2020-11-15T14:15:53.622692Z",
     "iopub.status.busy": "2020-11-15T14:15:53.621527Z",
     "iopub.status.idle": "2020-11-15T14:15:54.254568Z",
     "shell.execute_reply": "2020-11-15T14:15:54.253859Z"
    },
    "papermill": {
     "duration": 0.680415,
     "end_time": "2020-11-15T14:15:54.254715",
     "exception": false,
     "start_time": "2020-11-15T14:15:53.574300",
     "status": "completed"
    },
    "tags": []
   },
   "outputs": [],
   "source": [
    "X_train, Y_train = _shuffle(X_train.values, y_train.values)\n",
    "        \n",
    "for idx in range(int(np.floor(len(Y_train) / batch_size))):\n",
    "    X = X_train[idx*batch_size:(idx+1)*batch_size]\n",
    "    Y = Y_train[idx*batch_size:(idx+1)*batch_size]\n",
    "\n",
    "    w_grad, b_grad = _gradient(X, Y, w, b)\n",
    "            \n",
    "    w = w - learning_rate/np.sqrt(step) * w_grad\n",
    "    b = b - learning_rate/np.sqrt(step) * b_grad\n",
    "    \n",
    "    step = step + 1"
   ]
  },
  {
   "cell_type": "code",
   "execution_count": 26,
   "metadata": {
    "execution": {
     "iopub.execute_input": "2020-11-15T14:15:54.335313Z",
     "iopub.status.busy": "2020-11-15T14:15:54.334503Z",
     "iopub.status.idle": "2020-11-15T14:15:54.345303Z",
     "shell.execute_reply": "2020-11-15T14:15:54.344512Z"
    },
    "papermill": {
     "duration": 0.053434,
     "end_time": "2020-11-15T14:15:54.345430",
     "exception": false,
     "start_time": "2020-11-15T14:15:54.291996",
     "status": "completed"
    },
    "tags": []
   },
   "outputs": [],
   "source": [
    "col = [0, 1, 3, 4, 5, 7, 10, 12, 25, 26, 27, 28]\n",
    "\n",
    "X_train, X_mean, X_std = _normalize_column_normal(X_train, specified_column=col)"
   ]
  },
  {
   "cell_type": "markdown",
   "metadata": {
    "papermill": {
     "duration": 0.036715,
     "end_time": "2020-11-15T14:15:54.419702",
     "exception": false,
     "start_time": "2020-11-15T14:15:54.382987",
     "status": "completed"
    },
    "tags": []
   },
   "source": [
    "### predict\n"
   ]
  },
  {
   "cell_type": "code",
   "execution_count": 27,
   "metadata": {
    "execution": {
     "iopub.execute_input": "2020-11-15T14:15:54.502142Z",
     "iopub.status.busy": "2020-11-15T14:15:54.501085Z",
     "iopub.status.idle": "2020-11-15T14:15:54.504478Z",
     "shell.execute_reply": "2020-11-15T14:15:54.503733Z"
    },
    "papermill": {
     "duration": 0.046771,
     "end_time": "2020-11-15T14:15:54.504608",
     "exception": false,
     "start_time": "2020-11-15T14:15:54.457837",
     "status": "completed"
    },
    "tags": []
   },
   "outputs": [],
   "source": [
    "test = test.iloc[:, 1]\n",
    "w = np.pad(w,(0, 16281-106),'constant', constant_values=(0,0)) "
   ]
  },
  {
   "cell_type": "code",
   "execution_count": 28,
   "metadata": {
    "execution": {
     "iopub.execute_input": "2020-11-15T14:15:54.606897Z",
     "iopub.status.busy": "2020-11-15T14:15:54.605967Z",
     "iopub.status.idle": "2020-11-15T14:15:54.609182Z",
     "shell.execute_reply": "2020-11-15T14:15:54.608355Z"
    },
    "papermill": {
     "duration": 0.06717,
     "end_time": "2020-11-15T14:15:54.609333",
     "exception": false,
     "start_time": "2020-11-15T14:15:54.542163",
     "status": "completed"
    },
    "tags": []
   },
   "outputs": [],
   "source": [
    "preds = infer(test.values, w, b)"
   ]
  }
 ],
 "metadata": {
  "kernelspec": {
   "display_name": "Python 3",
   "language": "python",
   "name": "python3"
  },
  "language_info": {
   "codemirror_mode": {
    "name": "ipython",
    "version": 3
   },
   "file_extension": ".py",
   "mimetype": "text/x-python",
   "name": "python",
   "nbconvert_exporter": "python",
   "pygments_lexer": "ipython3",
   "version": "3.7.6"
  },
  "papermill": {
   "duration": 10.20624,
   "end_time": "2020-11-15T14:15:54.758241",
   "environment_variables": {},
   "exception": null,
   "input_path": "__notebook__.ipynb",
   "output_path": "__notebook__.ipynb",
   "parameters": {},
   "start_time": "2020-11-15T14:15:44.552001",
   "version": "2.1.0"
  }
 },
 "nbformat": 4,
 "nbformat_minor": 4
}
